{
 "cells": [
  {
   "cell_type": "code",
   "execution_count": 300,
   "id": "346881b1",
   "metadata": {
    "cellId": "82pml9baa14gscvur9gu9h"
   },
   "outputs": [
    {
     "name": "stderr",
     "output_type": "stream",
     "text": [
      "/usr/local/lib/python3.8/dist-packages/dask/dataframe/utils.py:14: FutureWarning: pandas.util.testing is deprecated. Use the functions in the public API at pandas.testing instead.\n",
      "  import pandas.util.testing as tm\n",
      "/usr/local/lib/python3.8/dist-packages/dask/dataframe/utils.py:362: FutureWarning: pandas.Int64Index is deprecated and will be removed from pandas in a future version. Use pandas.Index with the appropriate dtype instead.\n",
      "  _numeric_index_types = (pd.Int64Index, pd.Float64Index, pd.UInt64Index)\n",
      "/usr/local/lib/python3.8/dist-packages/dask/dataframe/utils.py:362: FutureWarning: pandas.Float64Index is deprecated and will be removed from pandas in a future version. Use pandas.Index with the appropriate dtype instead.\n",
      "  _numeric_index_types = (pd.Int64Index, pd.Float64Index, pd.UInt64Index)\n",
      "/usr/local/lib/python3.8/dist-packages/dask/dataframe/utils.py:362: FutureWarning: pandas.UInt64Index is deprecated and will be removed from pandas in a future version. Use pandas.Index with the appropriate dtype instead.\n",
      "  _numeric_index_types = (pd.Int64Index, pd.Float64Index, pd.UInt64Index)\n"
     ]
    }
   ],
   "source": [
    "%load_ext autoreload\n",
    "%autoreload 2\n",
    "    \n",
    "import sys\n",
    "\n",
    "sys.path.append(\"../lib/\")\n",
    "\n",
    "# from etna.experimental.classification.feature_extraction import TSFreshFeatureExtractor\n",
    "from tsfresh import extract_features\n",
    "import matplotlib.pyplot as plt\n",
    "import seaborn as sns\n",
    "from tqdm.auto import tqdm\n",
    "import pandas as pd\n",
    "from sklearn.model_selection import TimeSeriesSplit\n",
    "from catboost import CatBoostClassifier, Pool\n",
    "import numpy as np\n",
    "from sklearn.metrics import classification_report\n",
    "\n",
    "tqdm.pandas()\n",
    "\n",
    "import prepare_dataset"
   ]
  },
  {
   "cell_type": "code",
   "execution_count": 169,
   "id": "7708c45c",
   "metadata": {
    "cellId": "i5xpxloqdxc3budnol9uun"
   },
   "outputs": [],
   "source": [
    "weather_train_path = \"../data/weather_train.csv\""
   ]
  },
  {
   "cell_type": "code",
   "execution_count": 170,
   "id": "991b8601",
   "metadata": {
    "cellId": "pbq2jpgc4yh1npq2s2ic7"
   },
   "outputs": [
    {
     "name": "stderr",
     "output_type": "stream",
     "text": [
      "<ipython-input-3-3a06d231aa5a>:1: DtypeWarning: Columns (22) have mixed types. Specify dtype option on import or set low_memory=False.\n",
      "  weather_train = pd.read_csv(weather_train_path, sep=\";\", index_col=0)\n"
     ]
    }
   ],
   "source": [
    "weather_train = pd.read_csv(weather_train_path, sep=\";\", index_col=0)"
   ]
  },
  {
   "cell_type": "code",
   "execution_count": null,
   "id": "c032ed96",
   "metadata": {
    "cellId": "xmqx4b5d3nm0m7q53cswlng"
   },
   "outputs": [],
   "source": [
    "weather_train_x, weather_train_y = prepare_dataset.prepare_dataset(weather_train)"
   ]
  },
  {
   "cell_type": "code",
   "execution_count": 184,
   "id": "638dc4d6",
   "metadata": {
    "cellId": "a5vb51efs0c0gcwcmuxlq9c"
   },
   "outputs": [],
   "source": [
    "one_station_x = weather_train_x[weather_train.station_id == 34123]\n",
    "one_station_y = weather_train_y[weather_train.station_id == 34123]"
   ]
  },
  {
   "cell_type": "code",
   "execution_count": 185,
   "id": "ce915cb3",
   "metadata": {
    "cellId": "5eh2izqxyojdmzg4bxxz1"
   },
   "outputs": [
    {
     "name": "stderr",
     "output_type": "stream",
     "text": [
      "<ipython-input-18-4b7d8955b09c>:1: SettingWithCopyWarning: \n",
      "A value is trying to be set on a copy of a slice from a DataFrame\n",
      "\n",
      "See the caveats in the documentation: https://pandas.pydata.org/pandas-docs/stable/user_guide/indexing.html#returning-a-view-versus-a-copy\n",
      "  one_station_x.sort_values(\"local_time\", inplace=True)\n"
     ]
    }
   ],
   "source": [
    "one_station_x.sort_values(\"local_time\", inplace=True)\n",
    "one_station_y = one_station_y.loc[one_station_x.index]\n",
    "one_station_x.reset_index(drop=True, inplace=True)\n",
    "one_station_y.reset_index(drop=True, inplace=True)"
   ]
  },
  {
   "cell_type": "code",
   "execution_count": 180,
   "id": "573aebf5",
   "metadata": {
    "cellId": "670a9vuyxtiydvcg348a49"
   },
   "outputs": [
    {
     "data": {
      "text/plain": [
       "Index(['local_time', 'T', 'Po', 'P', 'Pa', 'U', 'DD', 'Ff', 'ff10', 'ff3', 'N',\n",
       "       'WW', 'W1', 'W2', 'Tn', 'Tx', 'Cl', 'Nh', 'H', 'Cm', 'Ch', 'VV', 'Td',\n",
       "       'RRR', 'tR', 'E', 'Tg', 'E'', 'sss', 'station_id'],\n",
       "      dtype='object')"
      ]
     },
     "execution_count": 180,
     "metadata": {},
     "output_type": "execute_result"
    }
   ],
   "source": [
    "one_station.columns"
   ]
  },
  {
   "cell_type": "code",
   "execution_count": 305,
   "id": "e0bd0ea7",
   "metadata": {
    "cellId": "s9ujlfw3injx71sogap9kc"
   },
   "outputs": [],
   "source": [
    "cat_features = ['DD', 'N', 'Cl', 'Nh', 'H', 'Cm', 'Ch', 'VV', 'RRR', 'E', \"E'\"]\n",
    "num_features = set(one_station.columns) - set(cat_features) - {\"local_time\", \"station_id\", \"WW\", \"W1\", \"W2\", \"sss\"}"
   ]
  },
  {
   "cell_type": "code",
   "execution_count": 191,
   "id": "9de87ae5",
   "metadata": {
    "cellId": "7dl7q1ag9j6kbm2r9utjk"
   },
   "outputs": [],
   "source": [
    "labels = one_station_y.columns"
   ]
  },
  {
   "cell_type": "code",
   "execution_count": 202,
   "id": "f35910f9",
   "metadata": {
    "cellId": "9u55ik7sswa8spsrsj1i"
   },
   "outputs": [],
   "source": [
    "united = pd.concat([one_station_x, one_station_y], axis=1)\n",
    "for label in \n",
    "united.rename({label: \"feat_\" + label for label in labels}, axis=1, inplace=True)\n"
   ]
  },
  {
   "cell_type": "code",
   "execution_count": 277,
   "id": "cbd0cac5",
   "metadata": {
    "cellId": "l13z7mm6n2yu4tjebqpcq"
   },
   "outputs": [],
   "source": [
    "y = one_station_y.iloc[1:].reset_index(drop=True)\n",
    "x = united.iloc[:-1].reset_index(drop=True)"
   ]
  },
  {
   "cell_type": "code",
   "execution_count": 303,
   "id": "97729728",
   "metadata": {
    "cellId": "h9jpsyjzkfcapqm2gkgdxs"
   },
   "outputs": [],
   "source": [
    "X_train = x.iloc[:45000]\n",
    "y_train = y.iloc[:45000]\n",
    "\n",
    "X_test = x.iloc[45000:]\n",
    "y_test = y.iloc[45000:]"
   ]
  },
  {
   "cell_type": "code",
   "execution_count": 279,
   "id": "4b02bf2e",
   "metadata": {
    "cellId": "lplj1hzptkm2wdbz0x91ho"
   },
   "outputs": [
    {
     "data": {
      "text/plain": [
       "array([nan, '35.0', '34.0', '33.0', '32.0', '31.0', '30.0', '29.0',\n",
       "       '28.0', '27.0', '25.0', '26.0', '36.0', '37.0', '39.0', '24.0',\n",
       "       '23.0', '19.0', '16.0', '12.0', '9.0', '6.0', '0.0', '4.0', '5.0',\n",
       "       '7.0', '8.0', '1.0', '3.0', '2.0', '21.0', '46.0', '47.0', '49.0',\n",
       "       '52.0', '53.0', '54.0', '58.0', '59.0', '60.0', '55.0', '62.0',\n",
       "       '64.0', '66.0', '65.0', '67.0', '70.0', '69.0', '68.0', '63.0',\n",
       "       '61.0', '57.0', '56.0', '48.0', '40.0', '15.0', '18.0', '14.0',\n",
       "       '10.0', '11.0', '17.0', '13.0', '20.0', '22.0', '45.0', '43.0',\n",
       "       '38.0', '44.0', '42.0', 'Снежный покров не постоянный.',\n",
       "       'Менее 0.5', '41.0', '51.0', '50.0'], dtype=object)"
      ]
     },
     "execution_count": 279,
     "metadata": {},
     "output_type": "execute_result"
    }
   ],
   "source": [
    "X_train[\"sss\"].unique()"
   ]
  },
  {
   "cell_type": "code",
   "execution_count": 313,
   "id": "87dcd81d",
   "metadata": {
    "cellId": "c4m7h1usn1i0tixoojat1ii"
   },
   "outputs": [],
   "source": [
    "y_train = y_train.drop(columns=['SHKVAL'])"
   ]
  },
  {
   "cell_type": "code",
   "execution_count": 314,
   "id": "e17067d2",
   "metadata": {
    "cellId": "pkxuauk8r3cvvodbp38duj"
   },
   "outputs": [
    {
     "data": {
      "text/html": [
       "<div>\n",
       "<style scoped>\n",
       "    .dataframe tbody tr th:only-of-type {\n",
       "        vertical-align: middle;\n",
       "    }\n",
       "\n",
       "    .dataframe tbody tr th {\n",
       "        vertical-align: top;\n",
       "    }\n",
       "\n",
       "    .dataframe thead th {\n",
       "        text-align: right;\n",
       "    }\n",
       "</style>\n",
       "<table border=\"1\" class=\"dataframe\">\n",
       "  <thead>\n",
       "    <tr style=\"text-align: right;\">\n",
       "      <th></th>\n",
       "      <th>VETER</th>\n",
       "      <th>METEL</th>\n",
       "      <th>DOZD</th>\n",
       "      <th>SNEG</th>\n",
       "      <th>GRAD</th>\n",
       "      <th>TUMAN</th>\n",
       "      <th>GOLOLED</th>\n",
       "    </tr>\n",
       "  </thead>\n",
       "  <tbody>\n",
       "    <tr>\n",
       "      <th>0</th>\n",
       "      <td>0</td>\n",
       "      <td>0</td>\n",
       "      <td>0</td>\n",
       "      <td>0</td>\n",
       "      <td>0</td>\n",
       "      <td>0</td>\n",
       "      <td>1</td>\n",
       "    </tr>\n",
       "    <tr>\n",
       "      <th>1</th>\n",
       "      <td>0</td>\n",
       "      <td>0</td>\n",
       "      <td>0</td>\n",
       "      <td>0</td>\n",
       "      <td>0</td>\n",
       "      <td>0</td>\n",
       "      <td>1</td>\n",
       "    </tr>\n",
       "    <tr>\n",
       "      <th>2</th>\n",
       "      <td>0</td>\n",
       "      <td>0</td>\n",
       "      <td>0</td>\n",
       "      <td>0</td>\n",
       "      <td>0</td>\n",
       "      <td>1</td>\n",
       "      <td>1</td>\n",
       "    </tr>\n",
       "    <tr>\n",
       "      <th>3</th>\n",
       "      <td>0</td>\n",
       "      <td>0</td>\n",
       "      <td>0</td>\n",
       "      <td>0</td>\n",
       "      <td>0</td>\n",
       "      <td>1</td>\n",
       "      <td>1</td>\n",
       "    </tr>\n",
       "    <tr>\n",
       "      <th>4</th>\n",
       "      <td>0</td>\n",
       "      <td>0</td>\n",
       "      <td>0</td>\n",
       "      <td>0</td>\n",
       "      <td>0</td>\n",
       "      <td>1</td>\n",
       "      <td>1</td>\n",
       "    </tr>\n",
       "    <tr>\n",
       "      <th>...</th>\n",
       "      <td>...</td>\n",
       "      <td>...</td>\n",
       "      <td>...</td>\n",
       "      <td>...</td>\n",
       "      <td>...</td>\n",
       "      <td>...</td>\n",
       "      <td>...</td>\n",
       "    </tr>\n",
       "    <tr>\n",
       "      <th>44995</th>\n",
       "      <td>0</td>\n",
       "      <td>0</td>\n",
       "      <td>0</td>\n",
       "      <td>0</td>\n",
       "      <td>0</td>\n",
       "      <td>0</td>\n",
       "      <td>0</td>\n",
       "    </tr>\n",
       "    <tr>\n",
       "      <th>44996</th>\n",
       "      <td>0</td>\n",
       "      <td>0</td>\n",
       "      <td>0</td>\n",
       "      <td>0</td>\n",
       "      <td>0</td>\n",
       "      <td>0</td>\n",
       "      <td>0</td>\n",
       "    </tr>\n",
       "    <tr>\n",
       "      <th>44997</th>\n",
       "      <td>0</td>\n",
       "      <td>0</td>\n",
       "      <td>0</td>\n",
       "      <td>0</td>\n",
       "      <td>0</td>\n",
       "      <td>0</td>\n",
       "      <td>0</td>\n",
       "    </tr>\n",
       "    <tr>\n",
       "      <th>44998</th>\n",
       "      <td>0</td>\n",
       "      <td>0</td>\n",
       "      <td>0</td>\n",
       "      <td>0</td>\n",
       "      <td>0</td>\n",
       "      <td>0</td>\n",
       "      <td>0</td>\n",
       "    </tr>\n",
       "    <tr>\n",
       "      <th>44999</th>\n",
       "      <td>0</td>\n",
       "      <td>0</td>\n",
       "      <td>0</td>\n",
       "      <td>0</td>\n",
       "      <td>0</td>\n",
       "      <td>0</td>\n",
       "      <td>0</td>\n",
       "    </tr>\n",
       "  </tbody>\n",
       "</table>\n",
       "<p>45000 rows × 7 columns</p>\n",
       "</div>"
      ],
      "text/plain": [
       "       VETER  METEL  DOZD  SNEG  GRAD  TUMAN  GOLOLED\n",
       "0          0      0     0     0     0      0        1\n",
       "1          0      0     0     0     0      0        1\n",
       "2          0      0     0     0     0      1        1\n",
       "3          0      0     0     0     0      1        1\n",
       "4          0      0     0     0     0      1        1\n",
       "...      ...    ...   ...   ...   ...    ...      ...\n",
       "44995      0      0     0     0     0      0        0\n",
       "44996      0      0     0     0     0      0        0\n",
       "44997      0      0     0     0     0      0        0\n",
       "44998      0      0     0     0     0      0        0\n",
       "44999      0      0     0     0     0      0        0\n",
       "\n",
       "[45000 rows x 7 columns]"
      ]
     },
     "execution_count": 314,
     "metadata": {},
     "output_type": "execute_result"
    }
   ],
   "source": [
    "y_train.astype(int)"
   ]
  },
  {
   "cell_type": "code",
   "execution_count": 315,
   "id": "ed1e15bf",
   "metadata": {
    "cellId": "edf7brd2t2cbkcw7dzrd6m"
   },
   "outputs": [
    {
     "name": "stderr",
     "output_type": "stream",
     "text": [
      "<ipython-input-16-2cf6a2976a4a>:1: FutureWarning: Passing a set as an indexer is deprecated and will raise in a future version. Use a list instead.\n",
      "  train_pool = Pool(X_train[num_features], y_train.astype(int))\n"
     ]
    }
   ],
   "source": [
    "train_pool = Pool(X_train[num_features], y_train.astype(int))"
   ]
  },
  {
   "cell_type": "code",
   "execution_count": 316,
   "id": "835a560a",
   "metadata": {
    "cellId": "et2igu2hsfecmxad3fpe4"
   },
   "outputs": [
    {
     "data": {
      "text/plain": [
       "<catboost.core.CatBoostClassifier at 0x7fe93dc709a0>"
      ]
     },
     "execution_count": 316,
     "metadata": {},
     "output_type": "execute_result"
    }
   ],
   "source": [
    "model = CatBoostClassifier(loss_function='MultiLogloss')\n",
    "model.fit(train_pool, verbose=0)"
   ]
  },
  {
   "cell_type": "code",
   "execution_count": 350,
   "id": "c673bb7c",
   "metadata": {
    "cellId": "215fso5iq0tl2ykdq2tzt"
   },
   "outputs": [
    {
     "name": "stderr",
     "output_type": "stream",
     "text": [
      "<ipython-input-51-7fa66211aa6e>:1: FutureWarning: Passing a set as an indexer is deprecated and will raise in a future version. Use a list instead.\n",
      "  y_pred = model.predict(X_test[num_features])\n"
     ]
    }
   ],
   "source": [
    "y_pred = model.predict(X_test[num_features])"
   ]
  },
  {
   "cell_type": "code",
   "execution_count": 341,
   "id": "7784343a",
   "metadata": {
    "cellId": "ui9ehk9hcph6dmwvb8m6cp"
   },
   "outputs": [],
   "source": [
    "y_test_check = y_test.drop(columns=['SHKVAL']).astype(int).values\n",
    "\n",
    "acc = [np.array_equal(y_test_check[i], y_pred[i]) for i in range(len(y_pred))]"
   ]
  },
  {
   "cell_type": "code",
   "execution_count": 344,
   "id": "c5a03169",
   "metadata": {
    "cellId": "kx784chykrfgp3521xcz3j"
   },
   "outputs": [
    {
     "data": {
      "text/plain": [
       "0.7206089128299294"
      ]
     },
     "execution_count": 344,
     "metadata": {},
     "output_type": "execute_result"
    }
   ],
   "source": [
    "np.mean(acc)"
   ]
  },
  {
   "cell_type": "code",
   "execution_count": 349,
   "id": "81890bf3",
   "metadata": {
    "cellId": "xmorxvb18dip80ub7q3hl"
   },
   "outputs": [
    {
     "data": {
      "text/plain": [
       "array([[0, 0, 0, ..., 0, 0, 0],\n",
       "       [0, 0, 0, ..., 0, 0, 0],\n",
       "       [0, 0, 0, ..., 0, 0, 0],\n",
       "       ...,\n",
       "       [0, 0, 0, ..., 0, 0, 0],\n",
       "       [0, 0, 0, ..., 0, 0, 0],\n",
       "       [0, 0, 0, ..., 0, 0, 0]])"
      ]
     },
     "execution_count": 349,
     "metadata": {},
     "output_type": "execute_result"
    }
   ],
   "source": [
    "y_pred"
   ]
  },
  {
   "cell_type": "code",
   "execution_count": 353,
   "id": "8b95b470",
   "metadata": {
    "cellId": "lkr69ssrw8l1gw8c9477d"
   },
   "outputs": [
    {
     "name": "stderr",
     "output_type": "stream",
     "text": [
      "/home/jupyter/.local/lib/python3.8/site-packages/numpy/core/fromnumeric.py:3417: FutureWarning: In a future version, DataFrame.mean(axis=None) will return a scalar mean over the entire DataFrame. To retain the old behavior, use 'frame.mean(axis=0)' or just 'frame.mean()'\n",
      "  return mean(axis=axis, dtype=dtype, out=out, **kwargs)\n"
     ]
    },
    {
     "data": {
      "text/plain": [
       "VETER      0.999965\n",
       "METEL      0.994363\n",
       "DOZD       0.824103\n",
       "SNEG       0.888558\n",
       "GRAD       0.996607\n",
       "TUMAN      0.969086\n",
       "GOLOLED    0.995811\n",
       "dtype: float64"
      ]
     },
     "execution_count": 353,
     "metadata": {},
     "output_type": "execute_result"
    }
   ],
   "source": [
    "np.mean(y_pred == y_test.drop(columns=['SHKVAL']).astype(int))"
   ]
  },
  {
   "cell_type": "code",
   "execution_count": 317,
   "id": "baa34644",
   "metadata": {
    "cellId": "9xt636ky6p5a1gqpmcf44i"
   },
   "outputs": [
    {
     "name": "stderr",
     "output_type": "stream",
     "text": [
      "<ipython-input-18-68024bed65c7>:1: FutureWarning: Passing a set as an indexer is deprecated and will raise in a future version. Use a list instead.\n",
      "  y_pred = [x == \"True\" for x in model.predict(X_test[num_features].fillna(0), verbose=0)]\n",
      "<ipython-input-18-68024bed65c7>:1: FutureWarning: elementwise comparison failed; returning scalar instead, but in the future will perform elementwise comparison\n",
      "  y_pred = [x == \"True\" for x in model.predict(X_test[num_features].fillna(0), verbose=0)]\n"
     ]
    }
   ],
   "source": [
    "y_pred = [x == \"True\" for x in model.predict(X_test[num_features].fillna(0), verbose=0)]"
   ]
  },
  {
   "cell_type": "code",
   "execution_count": null,
   "id": "4985e038",
   "metadata": {
    "cellId": "zjar9kd8daha8bwdkah6ft"
   },
   "outputs": [],
   "source": [
    "np.mean(y_test == y_pred)"
   ]
  },
  {
   "cell_type": "code",
   "execution_count": 359,
   "id": "22d8e1df",
   "metadata": {
    "cellId": "kohhz3hsq4odn38apl0bh"
   },
   "outputs": [
    {
     "name": "stdout",
     "output_type": "stream",
     "text": [
      "Report for VETER\n"
     ]
    },
    {
     "name": "stderr",
     "output_type": "stream",
     "text": [
      "/home/jupyter/.local/lib/python3.8/site-packages/sklearn/metrics/_classification.py:1344: UndefinedMetricWarning: Precision and F-score are ill-defined and being set to 0.0 in labels with no predicted samples. Use `zero_division` parameter to control this behavior.\n",
      "  _warn_prf(average, modifier, msg_start, len(result))\n",
      "/home/jupyter/.local/lib/python3.8/site-packages/sklearn/metrics/_classification.py:1344: UndefinedMetricWarning: Precision and F-score are ill-defined and being set to 0.0 in labels with no predicted samples. Use `zero_division` parameter to control this behavior.\n",
      "  _warn_prf(average, modifier, msg_start, len(result))\n"
     ]
    },
    {
     "name": "stdout",
     "output_type": "stream",
     "text": [
      "              precision    recall  f1-score   support\n",
      "\n",
      "           0       1.00      1.00      1.00    311495\n",
      "           1       0.00      0.00      0.00        11\n",
      "\n",
      "    accuracy                           1.00    311506\n",
      "   macro avg       0.50      0.50      0.50    311506\n",
      "weighted avg       1.00      1.00      1.00    311506\n",
      "\n",
      "Report for METEL\n"
     ]
    },
    {
     "name": "stderr",
     "output_type": "stream",
     "text": [
      "/home/jupyter/.local/lib/python3.8/site-packages/sklearn/metrics/_classification.py:1344: UndefinedMetricWarning: Precision and F-score are ill-defined and being set to 0.0 in labels with no predicted samples. Use `zero_division` parameter to control this behavior.\n",
      "  _warn_prf(average, modifier, msg_start, len(result))\n"
     ]
    },
    {
     "name": "stdout",
     "output_type": "stream",
     "text": [
      "              precision    recall  f1-score   support\n",
      "\n",
      "           0       0.99      1.00      1.00    309757\n",
      "           1       0.32      0.00      0.01      1749\n",
      "\n",
      "    accuracy                           0.99    311506\n",
      "   macro avg       0.66      0.50      0.50    311506\n",
      "weighted avg       0.99      0.99      0.99    311506\n",
      "\n",
      "Report for DOZD\n",
      "              precision    recall  f1-score   support\n",
      "\n",
      "           0       0.85      0.94      0.89    245274\n",
      "           1       0.64      0.39      0.49     66232\n",
      "\n",
      "    accuracy                           0.82    311506\n",
      "   macro avg       0.75      0.67      0.69    311506\n",
      "weighted avg       0.81      0.82      0.81    311506\n",
      "\n",
      "Report for SNEG\n",
      "              precision    recall  f1-score   support\n",
      "\n",
      "           0       0.94      0.94      0.94    273924\n",
      "           1       0.54      0.55      0.54     37582\n",
      "\n",
      "    accuracy                           0.89    311506\n",
      "   macro avg       0.74      0.74      0.74    311506\n",
      "weighted avg       0.89      0.89      0.89    311506\n",
      "\n",
      "Report for GRAD\n",
      "              precision    recall  f1-score   support\n",
      "\n",
      "           0       1.00      1.00      1.00    310466\n",
      "           1       0.29      0.01      0.02      1040\n",
      "\n",
      "    accuracy                           1.00    311506\n",
      "   macro avg       0.64      0.51      0.51    311506\n",
      "weighted avg       0.99      1.00      1.00    311506\n",
      "\n",
      "Report for TUMAN\n",
      "              precision    recall  f1-score   support\n",
      "\n",
      "           0       0.98      0.99      0.98    302271\n",
      "           1       0.45      0.19      0.27      9235\n",
      "\n",
      "    accuracy                           0.97    311506\n",
      "   macro avg       0.71      0.59      0.63    311506\n",
      "weighted avg       0.96      0.97      0.96    311506\n",
      "\n",
      "Report for GOLOLED\n",
      "              precision    recall  f1-score   support\n",
      "\n",
      "           0       1.00      1.00      1.00    310465\n",
      "           1       0.13      0.04      0.06      1041\n",
      "\n",
      "    accuracy                           1.00    311506\n",
      "   macro avg       0.56      0.52      0.53    311506\n",
      "weighted avg       0.99      1.00      0.99    311506\n",
      "\n"
     ]
    }
   ],
   "source": [
    "for idx, lbl in enumerate(y_test.drop(\"SHKVAL\", axis=1).columns):\n",
    "    print(\"Report for\", lbl)\n",
    "    print(classification_report(y_test.loc[:, lbl].astype(int), y_pred[:, idx]))"
   ]
  },
  {
   "cell_type": "code",
   "execution_count": null,
   "id": "b0020521",
   "metadata": {
    "cellId": "poy0veklvjie25izpvx3b"
   },
   "outputs": [],
   "source": []
  }
 ],
 "metadata": {
  "language_info": {
   "codemirror_mode": {
    "name": "ipython",
    "version": 3
   },
   "file_extension": ".py",
   "mimetype": "text/x-python",
   "name": "python",
   "nbconvert_exporter": "python",
   "pygments_lexer": "ipython3",
   "version": "3.7.7"
  },
  "notebookId": "65cbe5e9-7b37-415a-9f46-adecb7c54eb4",
  "notebookPath": "ForecastingExtremeWeather/notebooks/Untitled.ipynb"
 },
 "nbformat": 4,
 "nbformat_minor": 5
}
