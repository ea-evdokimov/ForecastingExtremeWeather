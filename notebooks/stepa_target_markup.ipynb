{
 "cells": [
  {
   "cell_type": "code",
   "execution_count": 7,
   "metadata": {
    "collapsed": true
   },
   "outputs": [
    {
     "name": "stdout",
     "output_type": "stream",
     "text": [
      "The autoreload extension is already loaded. To reload it, use:\n",
      "  %reload_ext autoreload\n"
     ]
    }
   ],
   "source": [
    "import pandas as pd\n",
    "import sys\n",
    "import os\n",
    "from tqdm.auto import tqdm\n",
    "tqdm.pandas()\n",
    "sys.path.append('/home/platinsky/Documents/hack/ForecastingExtremeWeather/lib/')\n",
    "import target_markup\n",
    "import prepare_dataset\n",
    "import numpy as np\n",
    "%load_ext autoreload\n",
    "%autoreload 2"
   ]
  },
  {
   "cell_type": "code",
   "execution_count": 2,
   "outputs": [
    {
     "name": "stderr",
     "output_type": "stream",
     "text": [
      "/tmp/ipykernel_127964/109065263.py:1: DtypeWarning: Columns (22,29) have mixed types. Specify dtype option on import or set low_memory=False.\n",
      "  weather_data = pd.read_csv('../data/weather_dataset.csv', sep=';')\n"
     ]
    },
    {
     "data": {
      "text/plain": "   Unnamed: 0           local_time    T     Po      P   Pa     U  \\\n0           0  2022-12-09 21:00:00 -7.5  765.6  766.3  1.2  91.0   \n1           1  2022-12-09 18:00:00 -7.8  764.4  765.2  0.8  90.0   \n2           2  2022-12-09 15:00:00 -8.1  763.6  764.5  0.7  89.0   \n3           3  2022-12-09 12:00:00 -8.3  762.9  763.7  0.8  90.0   \n4           4  2022-12-09 09:00:00 -8.8  762.1  762.8  0.7  90.0   \n\n                                    DD   Ff  ff10  ...  \\\n0              Ветер, дующий с востока  1.0   NaN  ...   \n1  Ветер, дующий с востоко-юго-востока  2.0   NaN  ...   \n2              Ветер, дующий с востока  2.0   NaN  ...   \n3  Ветер, дующий с востоко-юго-востока  2.0   NaN  ...   \n4  Ветер, дующий с востоко-юго-востока  2.0   NaN  ...   \n\n                                                  Ch    VV    Td  RRR    tR  \\\n0                                                NaN   8.0  -8.8  NaN   NaN   \n1  Перистых, перисто-кучевых или перисто-слоистых...   8.0  -9.2  0.6  12.0   \n2  Перистых, перисто-кучевых или перисто-слоистых...   4.0  -9.6  NaN   NaN   \n3  Перистых, перисто-кучевых или перисто-слоистых...   4.0  -9.7  NaN   NaN   \n4                                                NaN  17.0 -10.2  NaN   NaN   \n\n     E  Tg   E'  sss station_id  \n0  NaN NaN  NaN  NaN      22550  \n1  NaN NaN  NaN  NaN      22550  \n2  NaN NaN  NaN  NaN      22550  \n3  NaN NaN  NaN  NaN      22550  \n4  NaN NaN  NaN  NaN      22550  \n\n[5 rows x 31 columns]",
      "text/html": "<div>\n<style scoped>\n    .dataframe tbody tr th:only-of-type {\n        vertical-align: middle;\n    }\n\n    .dataframe tbody tr th {\n        vertical-align: top;\n    }\n\n    .dataframe thead th {\n        text-align: right;\n    }\n</style>\n<table border=\"1\" class=\"dataframe\">\n  <thead>\n    <tr style=\"text-align: right;\">\n      <th></th>\n      <th>Unnamed: 0</th>\n      <th>local_time</th>\n      <th>T</th>\n      <th>Po</th>\n      <th>P</th>\n      <th>Pa</th>\n      <th>U</th>\n      <th>DD</th>\n      <th>Ff</th>\n      <th>ff10</th>\n      <th>...</th>\n      <th>Ch</th>\n      <th>VV</th>\n      <th>Td</th>\n      <th>RRR</th>\n      <th>tR</th>\n      <th>E</th>\n      <th>Tg</th>\n      <th>E'</th>\n      <th>sss</th>\n      <th>station_id</th>\n    </tr>\n  </thead>\n  <tbody>\n    <tr>\n      <th>0</th>\n      <td>0</td>\n      <td>2022-12-09 21:00:00</td>\n      <td>-7.5</td>\n      <td>765.6</td>\n      <td>766.3</td>\n      <td>1.2</td>\n      <td>91.0</td>\n      <td>Ветер, дующий с востока</td>\n      <td>1.0</td>\n      <td>NaN</td>\n      <td>...</td>\n      <td>NaN</td>\n      <td>8.0</td>\n      <td>-8.8</td>\n      <td>NaN</td>\n      <td>NaN</td>\n      <td>NaN</td>\n      <td>NaN</td>\n      <td>NaN</td>\n      <td>NaN</td>\n      <td>22550</td>\n    </tr>\n    <tr>\n      <th>1</th>\n      <td>1</td>\n      <td>2022-12-09 18:00:00</td>\n      <td>-7.8</td>\n      <td>764.4</td>\n      <td>765.2</td>\n      <td>0.8</td>\n      <td>90.0</td>\n      <td>Ветер, дующий с востоко-юго-востока</td>\n      <td>2.0</td>\n      <td>NaN</td>\n      <td>...</td>\n      <td>Перистых, перисто-кучевых или перисто-слоистых...</td>\n      <td>8.0</td>\n      <td>-9.2</td>\n      <td>0.6</td>\n      <td>12.0</td>\n      <td>NaN</td>\n      <td>NaN</td>\n      <td>NaN</td>\n      <td>NaN</td>\n      <td>22550</td>\n    </tr>\n    <tr>\n      <th>2</th>\n      <td>2</td>\n      <td>2022-12-09 15:00:00</td>\n      <td>-8.1</td>\n      <td>763.6</td>\n      <td>764.5</td>\n      <td>0.7</td>\n      <td>89.0</td>\n      <td>Ветер, дующий с востока</td>\n      <td>2.0</td>\n      <td>NaN</td>\n      <td>...</td>\n      <td>Перистых, перисто-кучевых или перисто-слоистых...</td>\n      <td>4.0</td>\n      <td>-9.6</td>\n      <td>NaN</td>\n      <td>NaN</td>\n      <td>NaN</td>\n      <td>NaN</td>\n      <td>NaN</td>\n      <td>NaN</td>\n      <td>22550</td>\n    </tr>\n    <tr>\n      <th>3</th>\n      <td>3</td>\n      <td>2022-12-09 12:00:00</td>\n      <td>-8.3</td>\n      <td>762.9</td>\n      <td>763.7</td>\n      <td>0.8</td>\n      <td>90.0</td>\n      <td>Ветер, дующий с востоко-юго-востока</td>\n      <td>2.0</td>\n      <td>NaN</td>\n      <td>...</td>\n      <td>Перистых, перисто-кучевых или перисто-слоистых...</td>\n      <td>4.0</td>\n      <td>-9.7</td>\n      <td>NaN</td>\n      <td>NaN</td>\n      <td>NaN</td>\n      <td>NaN</td>\n      <td>NaN</td>\n      <td>NaN</td>\n      <td>22550</td>\n    </tr>\n    <tr>\n      <th>4</th>\n      <td>4</td>\n      <td>2022-12-09 09:00:00</td>\n      <td>-8.8</td>\n      <td>762.1</td>\n      <td>762.8</td>\n      <td>0.7</td>\n      <td>90.0</td>\n      <td>Ветер, дующий с востоко-юго-востока</td>\n      <td>2.0</td>\n      <td>NaN</td>\n      <td>...</td>\n      <td>NaN</td>\n      <td>17.0</td>\n      <td>-10.2</td>\n      <td>NaN</td>\n      <td>NaN</td>\n      <td>NaN</td>\n      <td>NaN</td>\n      <td>NaN</td>\n      <td>NaN</td>\n      <td>22550</td>\n    </tr>\n  </tbody>\n</table>\n<p>5 rows × 31 columns</p>\n</div>"
     },
     "execution_count": 2,
     "metadata": {},
     "output_type": "execute_result"
    }
   ],
   "source": [
    "weather_data = pd.read_csv('../data/weather_dataset.csv', sep=';')\n",
    "weather_data.head()"
   ],
   "metadata": {
    "collapsed": false
   }
  },
  {
   "cell_type": "code",
   "execution_count": 3,
   "outputs": [
    {
     "data": {
      "text/plain": "  0%|          | 0/365169 [00:00<?, ?it/s]",
      "application/vnd.jupyter.widget-view+json": {
       "version_major": 2,
       "version_minor": 0,
       "model_id": "e07fdf129bc6449f976c133257499716"
      }
     },
     "metadata": {},
     "output_type": "display_data"
    },
    {
     "data": {
      "text/plain": "        VETER  SHKVAL  METEL   DOZD   SNEG   GRAD  TUMAN  GOLOLED\n0       False   False  False   True   True  False  False    False\n1       False   False  False   True   True  False  False    False\n2       False   False  False   True   True  False  False    False\n3       False   False  False   True   True  False  False    False\n4       False   False  False  False   True  False  False    False\n...       ...     ...    ...    ...    ...    ...    ...      ...\n365164  False   False  False   True  False  False  False    False\n365165  False   False  False   True   True  False  False    False\n365166  False   False  False   True   True  False  False    False\n365167  False   False  False   True   True  False  False    False\n365168  False   False  False   True   True  False  False    False\n\n[365169 rows x 8 columns]",
      "text/html": "<div>\n<style scoped>\n    .dataframe tbody tr th:only-of-type {\n        vertical-align: middle;\n    }\n\n    .dataframe tbody tr th {\n        vertical-align: top;\n    }\n\n    .dataframe thead th {\n        text-align: right;\n    }\n</style>\n<table border=\"1\" class=\"dataframe\">\n  <thead>\n    <tr style=\"text-align: right;\">\n      <th></th>\n      <th>VETER</th>\n      <th>SHKVAL</th>\n      <th>METEL</th>\n      <th>DOZD</th>\n      <th>SNEG</th>\n      <th>GRAD</th>\n      <th>TUMAN</th>\n      <th>GOLOLED</th>\n    </tr>\n  </thead>\n  <tbody>\n    <tr>\n      <th>0</th>\n      <td>False</td>\n      <td>False</td>\n      <td>False</td>\n      <td>True</td>\n      <td>True</td>\n      <td>False</td>\n      <td>False</td>\n      <td>False</td>\n    </tr>\n    <tr>\n      <th>1</th>\n      <td>False</td>\n      <td>False</td>\n      <td>False</td>\n      <td>True</td>\n      <td>True</td>\n      <td>False</td>\n      <td>False</td>\n      <td>False</td>\n    </tr>\n    <tr>\n      <th>2</th>\n      <td>False</td>\n      <td>False</td>\n      <td>False</td>\n      <td>True</td>\n      <td>True</td>\n      <td>False</td>\n      <td>False</td>\n      <td>False</td>\n    </tr>\n    <tr>\n      <th>3</th>\n      <td>False</td>\n      <td>False</td>\n      <td>False</td>\n      <td>True</td>\n      <td>True</td>\n      <td>False</td>\n      <td>False</td>\n      <td>False</td>\n    </tr>\n    <tr>\n      <th>4</th>\n      <td>False</td>\n      <td>False</td>\n      <td>False</td>\n      <td>False</td>\n      <td>True</td>\n      <td>False</td>\n      <td>False</td>\n      <td>False</td>\n    </tr>\n    <tr>\n      <th>...</th>\n      <td>...</td>\n      <td>...</td>\n      <td>...</td>\n      <td>...</td>\n      <td>...</td>\n      <td>...</td>\n      <td>...</td>\n      <td>...</td>\n    </tr>\n    <tr>\n      <th>365164</th>\n      <td>False</td>\n      <td>False</td>\n      <td>False</td>\n      <td>True</td>\n      <td>False</td>\n      <td>False</td>\n      <td>False</td>\n      <td>False</td>\n    </tr>\n    <tr>\n      <th>365165</th>\n      <td>False</td>\n      <td>False</td>\n      <td>False</td>\n      <td>True</td>\n      <td>True</td>\n      <td>False</td>\n      <td>False</td>\n      <td>False</td>\n    </tr>\n    <tr>\n      <th>365166</th>\n      <td>False</td>\n      <td>False</td>\n      <td>False</td>\n      <td>True</td>\n      <td>True</td>\n      <td>False</td>\n      <td>False</td>\n      <td>False</td>\n    </tr>\n    <tr>\n      <th>365167</th>\n      <td>False</td>\n      <td>False</td>\n      <td>False</td>\n      <td>True</td>\n      <td>True</td>\n      <td>False</td>\n      <td>False</td>\n      <td>False</td>\n    </tr>\n    <tr>\n      <th>365168</th>\n      <td>False</td>\n      <td>False</td>\n      <td>False</td>\n      <td>True</td>\n      <td>True</td>\n      <td>False</td>\n      <td>False</td>\n      <td>False</td>\n    </tr>\n  </tbody>\n</table>\n<p>365169 rows × 8 columns</p>\n</div>"
     },
     "execution_count": 3,
     "metadata": {},
     "output_type": "execute_result"
    }
   ],
   "source": [
    "target = pd.json_normalize(weather_data.progress_apply(target_markup.classify_based_on_text, axis=1))\n",
    "target"
   ],
   "metadata": {
    "collapsed": false
   }
  },
  {
   "cell_type": "code",
   "execution_count": 4,
   "outputs": [
    {
     "name": "stderr",
     "output_type": "stream",
     "text": [
      "2022-12-11 18:16:03.974 | INFO     | prepare_dataset:prepare_dataset:84 - Current mode of preparation is processed.\n"
     ]
    },
    {
     "data": {
      "text/plain": "  0%|          | 0/365169 [00:00<?, ?it/s]",
      "application/vnd.jupyter.widget-view+json": {
       "version_major": 2,
       "version_minor": 0,
       "model_id": "036b9dd529ef4f78a10f0159302015f6"
      }
     },
     "metadata": {},
     "output_type": "display_data"
    },
    {
     "data": {
      "text/plain": "  0%|          | 0/7 [00:00<?, ?it/s]",
      "application/vnd.jupyter.widget-view+json": {
       "version_major": 2,
       "version_minor": 0,
       "model_id": "8e2118f755f14b0e8e67d0a617a7848c"
      }
     },
     "metadata": {},
     "output_type": "display_data"
    },
    {
     "name": "stderr",
     "output_type": "stream",
     "text": [
      "2022-12-11 18:16:41.779 | INFO     | prepare_dataset:prepare_dataset:99 - Step: local_time_pipeline\n",
      "2022-12-11 18:16:41.920 | INFO     | prepare_dataset:prepare_dataset:99 - Step: dd_pipeline\n"
     ]
    },
    {
     "data": {
      "text/plain": "  0%|          | 0/365169 [00:00<?, ?it/s]",
      "application/vnd.jupyter.widget-view+json": {
       "version_major": 2,
       "version_minor": 0,
       "model_id": "e4dfc79c75e04324a686de87dac0ee06"
      }
     },
     "metadata": {},
     "output_type": "display_data"
    },
    {
     "name": "stderr",
     "output_type": "stream",
     "text": [
      "2022-12-11 18:16:52.135 | INFO     | prepare_dataset:prepare_dataset:99 - Step: ch_pipeline\n"
     ]
    },
    {
     "data": {
      "text/plain": "  0%|          | 0/365169 [00:00<?, ?it/s]",
      "application/vnd.jupyter.widget-view+json": {
       "version_major": 2,
       "version_minor": 0,
       "model_id": "668a46f3da484d438bb8cfee1fcff6de"
      }
     },
     "metadata": {},
     "output_type": "display_data"
    },
    {
     "name": "stderr",
     "output_type": "stream",
     "text": [
      "2022-12-11 18:16:52.538 | INFO     | prepare_dataset:prepare_dataset:99 - Step: cm_pipeline\n"
     ]
    },
    {
     "data": {
      "text/plain": "  0%|          | 0/365169 [00:00<?, ?it/s]",
      "application/vnd.jupyter.widget-view+json": {
       "version_major": 2,
       "version_minor": 0,
       "model_id": "86c8157979fb45fba029d3bf7692858b"
      }
     },
     "metadata": {},
     "output_type": "display_data"
    },
    {
     "name": "stderr",
     "output_type": "stream",
     "text": [
      "2022-12-11 18:16:52.943 | INFO     | prepare_dataset:prepare_dataset:99 - Step: cl_pipeline\n"
     ]
    },
    {
     "data": {
      "text/plain": "  0%|          | 0/365169 [00:00<?, ?it/s]",
      "application/vnd.jupyter.widget-view+json": {
       "version_major": 2,
       "version_minor": 0,
       "model_id": "853db7a4bff7411ea533c67cb596d964"
      }
     },
     "metadata": {},
     "output_type": "display_data"
    },
    {
     "name": "stderr",
     "output_type": "stream",
     "text": [
      "2022-12-11 18:16:53.334 | INFO     | prepare_dataset:prepare_dataset:99 - Step: h_pipeline\n"
     ]
    },
    {
     "data": {
      "text/plain": "  0%|          | 0/365169 [00:00<?, ?it/s]",
      "application/vnd.jupyter.widget-view+json": {
       "version_major": 2,
       "version_minor": 0,
       "model_id": "588fd78bc1814f37bc8640647807d984"
      }
     },
     "metadata": {},
     "output_type": "display_data"
    },
    {
     "name": "stderr",
     "output_type": "stream",
     "text": [
      "2022-12-11 18:16:54.066 | INFO     | prepare_dataset:prepare_dataset:99 - Step: n_pipeline\n"
     ]
    },
    {
     "data": {
      "text/plain": "  0%|          | 0/365169 [00:00<?, ?it/s]",
      "application/vnd.jupyter.widget-view+json": {
       "version_major": 2,
       "version_minor": 0,
       "model_id": "4d77229e1312410facd2b99f93fa06ea"
      }
     },
     "metadata": {},
     "output_type": "display_data"
    },
    {
     "name": "stderr",
     "output_type": "stream",
     "text": [
      "2022-12-11 18:16:54.961 | INFO     | prepare_dataset:prepare_dataset:102 - Filling nans!\n",
      "2022-12-11 18:17:14.406 | INFO     | prepare_dataset:prepare_dataset:105 - Done (processed)!\n"
     ]
    }
   ],
   "source": [
    "X, Y = prepare_dataset.prepare_dataset(weather_data)"
   ],
   "metadata": {
    "collapsed": false
   }
  },
  {
   "cell_type": "code",
   "execution_count": 5,
   "outputs": [
    {
     "data": {
      "text/plain": "VETER          6\nSHKVAL         2\nMETEL       1691\nDOZD       79155\nSNEG       57246\nGRAD        1213\nTUMAN       8536\nGOLOLED     1193\ndtype: int64"
     },
     "execution_count": 5,
     "metadata": {},
     "output_type": "execute_result"
    }
   ],
   "source": [
    "target.sum()"
   ],
   "metadata": {
    "collapsed": false
   }
  },
  {
   "cell_type": "code",
   "execution_count": 72,
   "outputs": [],
   "source": [
    "from sklearn.linear_model import Ridge,Lasso, LogisticRegression, LinearRegression\n",
    "from sklearn.ensemble import GradientBoostingClassifier"
   ],
   "metadata": {
    "collapsed": false
   }
  },
  {
   "cell_type": "code",
   "execution_count": null,
   "outputs": [
    {
     "name": "stdout",
     "output_type": "stream",
     "text": [
      "[0. 0. 0. ... 1. 1. 1.]\n",
      "VETER [(0.2763595034100177, 'Po'), (0.20292207792207784, 'station_id'), (0.18696718146237654, 'Tn_val'), (0.13865074851699252, 'P'), (0.09874710425190925, 'Td'), (0.09635338443662621, 'Pa'), (0.0, 'tR'), (0.0, 'ff3'), (0.0, 'ff10'), (0.0, 'dd_y_rad'), (0.0, 'dd_x_rad'), (0.0, 'dd_isnan'), (0.0, 'dd_changed'), (0.0, 'U'), (0.0, 'Tx_val'), (0.0, 'Tx_isnan'), (0.0, 'Tn_isnan'), (0.0, 'Tg'), (0.0, 'T'), (0.0, 'N'), (0.0, 'H'), (0.0, 'Ff')]\n",
      "[0. 0. 0. ... 0. 0. 0.]\n",
      "SHKVAL [(0.6614966542735731, 'T'), (0.11031503134097813, 'P'), (0.08133641194222847, 'U'), (0.06660516780501878, 'station_id'), (0.05330540669132547, 'tR'), (0.024725052440818514, 'Pa'), (0.0021491209563154084, 'Po'), (6.71545497421656e-05, 'Tx_val'), (0.0, 'ff3'), (0.0, 'ff10'), (0.0, 'dd_y_rad'), (0.0, 'dd_x_rad'), (0.0, 'dd_isnan'), (0.0, 'dd_changed'), (0.0, 'Tx_isnan'), (0.0, 'Tn_val'), (0.0, 'Tn_isnan'), (0.0, 'Tg'), (0.0, 'Td'), (0.0, 'N'), (0.0, 'H'), (0.0, 'Ff')]\n"
     ]
    }
   ],
   "source": [
    "for target_column in target.columns:\n",
    "    y_feat = target[target_column]\n",
    "\n",
    "    n_true_feat = np.sum(y_feat)\n",
    "    rand_inds = np.random.randint(0, X.shape[0], size=(n_true_feat * 4))\n",
    "    true_inds = np.argwhere(y_feat.to_numpy()).flatten()\n",
    "\n",
    "    all_inds = np.concatenate((rand_inds, true_inds))\n",
    "    np.random.shuffle(all_inds)\n",
    "\n",
    "    X_tar = X.iloc[all_inds, :]\n",
    "    y_tar = y_feat.iloc[all_inds]\n",
    "\n",
    "    rr = GradientBoostingClassifier()\n",
    "    X_tar = X_tar.loc[:,X_tar.dtypes[X_tar.dtypes != 'O'].index]\n",
    "    X_tar = X_tar.drop(columns=['local_time', 'Unnamed: 0'])\n",
    "    X_tar = X_tar.fillna(0, axis=1)\n",
    "    rr.fit(X_tar, y_tar)\n",
    "    X_tested = X.loc[:,X.dtypes[X.dtypes != 'O'].index]\n",
    "    X_tested = X_tested.drop(columns=['local_time', 'Unnamed: 0'])\n",
    "    X_tested = X_tested.fillna(0, axis=1)\n",
    "    print(np.sum(rr.predict(X_tested)))\n",
    "    print(target_column, sorted(list(zip(np.abs(list(rr.feature_importances_)), X_tar.columns)), reverse=True))"
   ],
   "metadata": {
    "collapsed": false,
    "pycharm": {
     "is_executing": true
    }
   }
  },
  {
   "cell_type": "code",
   "execution_count": null,
   "outputs": [],
   "source": [],
   "metadata": {
    "collapsed": false
   }
  }
 ],
 "metadata": {
  "kernelspec": {
   "display_name": "Python 3",
   "language": "python",
   "name": "python3"
  },
  "language_info": {
   "codemirror_mode": {
    "name": "ipython",
    "version": 2
   },
   "file_extension": ".py",
   "mimetype": "text/x-python",
   "name": "python",
   "nbconvert_exporter": "python",
   "pygments_lexer": "ipython2",
   "version": "2.7.6"
  }
 },
 "nbformat": 4,
 "nbformat_minor": 0
}
