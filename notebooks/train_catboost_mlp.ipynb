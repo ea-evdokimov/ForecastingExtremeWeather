{
 "cells": [
  {
   "cell_type": "code",
   "execution_count": 122,
   "id": "fa6720d4",
   "metadata": {
    "cellId": "o06vpiix7bl086z5s1wa4ys"
   },
   "outputs": [],
   "source": [
    "import copy\n",
    "\n",
    "from rtdl import MLP\n",
    "from catboost import CatBoostClassifier\n",
    "import optuna\n",
    "import pytorch_lightning as pl \n",
    "import torch\n",
    "import torch.nn as nn\n",
    "from torch.utils.data import DataLoader\n",
    "import torchmetrics.functional as metric_f\n",
    "import pandas as pd\n",
    "import numpy as np\n",
    "from sklearn.metrics import f1_score, accuracy_score\n",
    "from sklearn.preprocessing import RobustScaler, OneHotEncoder\n",
    "from tqdm.auto import tqdm\n",
    "import matplotlib.pyplot as plt\n",
    "import seaborn as sns"
   ]
  },
  {
   "cell_type": "code",
   "execution_count": 162,
   "id": "c1441328-3798-4e1e-bdc3-8713b48cfb6f",
   "metadata": {},
   "outputs": [],
   "source": [
    "sns.set(font_scale=2)\n",
    "# sns.set_context(\"paper\", rc={\"font.size\":30, \"axes.titlesize\":16, \"axes.labelsize\":10})  "
   ]
  },
  {
   "cell_type": "markdown",
   "id": "98e51486",
   "metadata": {
    "cellId": "j8jo03kv7glnbu33wend",
    "execution_id": "b0700f2e-94f3-487d-8470-d069afb31d0e"
   },
   "source": [
    "# Загрузка данных"
   ]
  },
  {
   "cell_type": "code",
   "execution_count": 2,
   "id": "2649e719",
   "metadata": {
    "cellId": "ucimw90exoc2dv7axq2xw7"
   },
   "outputs": [
    {
     "name": "stderr",
     "output_type": "stream",
     "text": [
      "/var/folders/n5/zftt7r7n09j715hq4n1wqyjmmqxvb8/T/ipykernel_92673/1286203582.py:1: DtypeWarning: Columns (1173) have mixed types. Specify dtype option on import or set low_memory=False.\n",
      "  train_data = pd.read_csv(\"../data/my_ready_dataset.csv\")\n"
     ]
    }
   ],
   "source": [
    "train_data = pd.read_csv(\"../data/my_ready_dataset.csv\")\n",
    "train_targets = pd.read_csv(\"../data/my_ready_targets.csv\")"
   ]
  },
  {
   "cell_type": "code",
   "execution_count": 3,
   "id": "c0f12aac",
   "metadata": {
    "cellId": "zx5f11x4abavvsmapx99o"
   },
   "outputs": [
    {
     "data": {
      "text/plain": [
       "((365162, 1228), (365162, 10))"
      ]
     },
     "execution_count": 3,
     "metadata": {},
     "output_type": "execute_result"
    }
   ],
   "source": [
    "train_data.shape, train_targets.shape"
   ]
  },
  {
   "cell_type": "code",
   "execution_count": 4,
   "id": "e68f7a6e-97af-49f2-b49b-f1d396a5b01c",
   "metadata": {},
   "outputs": [
    {
     "data": {
      "text/plain": [
       "((365162, 1228), (365162, 10))"
      ]
     },
     "execution_count": 4,
     "metadata": {},
     "output_type": "execute_result"
    }
   ],
   "source": [
    "train_data.shape, train_targets.shape"
   ]
  },
  {
   "cell_type": "code",
   "execution_count": 5,
   "id": "6f39a942",
   "metadata": {
    "cellId": "6gj7tpvpajekonqqeniyc"
   },
   "outputs": [
    {
     "name": "stderr",
     "output_type": "stream",
     "text": [
      "/var/folders/n5/zftt7r7n09j715hq4n1wqyjmmqxvb8/T/ipykernel_92673/2561346841.py:15: SettingWithCopyWarning: \n",
      "A value is trying to be set on a copy of a slice from a DataFrame\n",
      "\n",
      "See the caveats in the documentation: https://pandas.pydata.org/pandas-docs/stable/user_guide/indexing.html#returning-a-view-versus-a-copy\n",
      "  targets.sort_values(\"local_time\", inplace=True)\n"
     ]
    }
   ],
   "source": [
    "train_percent = 0.75\n",
    "val_percent = 0.1\n",
    "\n",
    "x_train_list = []\n",
    "x_val_list = []\n",
    "x_test_list = []\n",
    "\n",
    "y_train_list = []\n",
    "y_val_list = []\n",
    "y_test_list = []\n",
    "\n",
    "for key, data in train_data.groupby(\"station_id\"):\n",
    "    targets = train_targets[train_targets.station_id == key]\n",
    "    data.sort_values(\"local_time\", inplace=True)\n",
    "    targets.sort_values(\"local_time\", inplace=True)\n",
    "    \n",
    "    train_size = int(len(data) * train_percent)\n",
    "    val_size = int(len(data) * val_percent)\n",
    "    test_size = len(data) - train_size - val_size\n",
    "     \n",
    "    x_train_list.append(data.iloc[:train_size])\n",
    "    y_train_list.append(targets.iloc[:train_size])\n",
    "    \n",
    "    x_val_list.append(data.iloc[train_size:train_size + val_size])\n",
    "    y_val_list.append(targets.iloc[train_size:train_size + val_size])\n",
    "\n",
    "    x_test_list.append(data.iloc[train_size + val_size:])\n",
    "    y_test_list.append(targets.iloc[train_size + val_size:])"
   ]
  },
  {
   "cell_type": "code",
   "execution_count": 75,
   "id": "d19c8a03-7de2-4d18-9ad5-d4749d0f812d",
   "metadata": {},
   "outputs": [
    {
     "data": {
      "text/plain": [
       "['VETER', 'SHKVAL', 'METEL', 'DOZD', 'SNEG', 'GRAD', 'TUMAN', 'GOLOLED']"
      ]
     },
     "execution_count": 75,
     "metadata": {},
     "output_type": "execute_result"
    }
   ],
   "source": [
    "labels = list(train_targets.columns)\n",
    "labels.remove(\"local_time\")\n",
    "labels.remove(\"station_id\")\n",
    "labels"
   ]
  },
  {
   "cell_type": "code",
   "execution_count": 7,
   "id": "c0e60865",
   "metadata": {
    "cellId": "33g3qsz4yh6eiwon0uqgib"
   },
   "outputs": [],
   "source": [
    "X_train = pd.concat(x_train_list, ignore_index=True).drop(columns=[\"local_time\", \"station_id\"]).fillna(0)\n",
    "y_train = pd.concat(y_train_list, ignore_index=True)[labels].values.astype(int)\n",
    "\n",
    "X_val = pd.concat(x_val_list, ignore_index=True).drop(columns=[\"local_time\", \"station_id\"]).fillna(0)\n",
    "y_val = pd.concat(y_val_list, ignore_index=True)[labels].values.astype(int)\n",
    "\n",
    "X_test = pd.concat(x_test_list, ignore_index=True).drop(columns=[\"local_time\", \"station_id\"]).fillna(0)\n",
    "y_test = pd.concat(y_test_list, ignore_index=True)[labels].values.astype(int)"
   ]
  },
  {
   "cell_type": "code",
   "execution_count": 8,
   "id": "a0f14247-e73e-4d0c-89bb-4d4def955d27",
   "metadata": {},
   "outputs": [],
   "source": [
    "pd.concat(x_test_list, ignore_index=True).fillna(0).to_csv(\"X_test_raw.csv\", index=False)"
   ]
  },
  {
   "cell_type": "code",
   "execution_count": 9,
   "id": "20fa00c1-68cb-491c-9892-8f8cc03bd0cc",
   "metadata": {},
   "outputs": [
    {
     "data": {
      "application/vnd.jupyter.widget-view+json": {
       "model_id": "26848ee4a18e4b7b97b2afdac7f19174",
       "version_major": 2,
       "version_minor": 0
      },
      "text/plain": [
       "  0%|          | 0/1226 [00:00<?, ?it/s]"
      ]
     },
     "metadata": {},
     "output_type": "display_data"
    },
    {
     "name": "stdout",
     "output_type": "stream",
     "text": [
      "1220\n",
      "6\n"
     ]
    }
   ],
   "source": [
    "numeric_features = []\n",
    "categorial_features = []\n",
    "\n",
    "truncated = X_train.iloc[:10]\n",
    "\n",
    "\n",
    "for col in tqdm(truncated.columns):\n",
    "    try:\n",
    "        truncated[col].mean()\n",
    "        numeric_features.append(col)\n",
    "    except:\n",
    "        categorial_features.append(col)\n",
    "\n",
    "print(len(numeric_features))\n",
    "print(len(categorial_features))\n",
    "\n",
    "for col in categorial_features:\n",
    "    for X in [X_train, X_val, X_test]:\n",
    "        X[col] = X[col].astype(str)\n",
    "\n",
    "# for col in tqdm(numeric_features):\n",
    "    # for X in [X_train, X_val, X_test]:\n",
    "    #     X[col] = X[col].astype(float)"
   ]
  },
  {
   "cell_type": "markdown",
   "id": "f0f4f526",
   "metadata": {
    "cellId": "uj0o5btd17oivwco7d917",
    "execution_id": "ca6cf971-6d90-4fb5-9482-d45cd8fcca2e"
   },
   "source": [
    "# CatBoost"
   ]
  },
  {
   "cell_type": "code",
   "execution_count": 169,
   "id": "02b1c0d3",
   "metadata": {
    "cellId": "e8u8ew2nh9v7hryk3btnt8"
   },
   "outputs": [],
   "source": [
    "base_model = CatBoostClassifier(loss_function=\"MultiLogloss\", iterations=100)"
   ]
  },
  {
   "cell_type": "code",
   "execution_count": 170,
   "id": "33c4754c-bad2-43dc-af56-1cb1ba132b5f",
   "metadata": {},
   "outputs": [
    {
     "name": "stdout",
     "output_type": "stream",
     "text": [
      "Learning rate set to 0.345129\n",
      "0:\tlearn: 0.2300946\ttest: 0.2350478\tbest: 0.2350478 (0)\ttotal: 2.08s\tremaining: 3m 26s\n",
      "1:\tlearn: 0.1388271\ttest: 0.1428187\tbest: 0.1428187 (1)\ttotal: 3.99s\tremaining: 3m 15s\n",
      "2:\tlearn: 0.1127090\ttest: 0.1158767\tbest: 0.1158767 (2)\ttotal: 5.76s\tremaining: 3m 6s\n",
      "3:\tlearn: 0.1023809\ttest: 0.1046947\tbest: 0.1046947 (3)\ttotal: 7.54s\tremaining: 3m 1s\n",
      "4:\tlearn: 0.0974075\ttest: 0.0994861\tbest: 0.0994861 (4)\ttotal: 9.25s\tremaining: 2m 55s\n",
      "5:\tlearn: 0.0941485\ttest: 0.0960097\tbest: 0.0960097 (5)\ttotal: 11.1s\tremaining: 2m 53s\n",
      "6:\tlearn: 0.0922330\ttest: 0.0938692\tbest: 0.0938692 (6)\ttotal: 12.8s\tremaining: 2m 49s\n",
      "7:\tlearn: 0.0909698\ttest: 0.0925892\tbest: 0.0925892 (7)\ttotal: 14.5s\tremaining: 2m 46s\n",
      "8:\tlearn: 0.0891614\ttest: 0.0909736\tbest: 0.0909736 (8)\ttotal: 16.3s\tremaining: 2m 44s\n",
      "9:\tlearn: 0.0877971\ttest: 0.0896445\tbest: 0.0896445 (9)\ttotal: 18s\tremaining: 2m 41s\n",
      "10:\tlearn: 0.0866385\ttest: 0.0883335\tbest: 0.0883335 (10)\ttotal: 19.7s\tremaining: 2m 39s\n",
      "11:\tlearn: 0.0859885\ttest: 0.0877312\tbest: 0.0877312 (11)\ttotal: 21.4s\tremaining: 2m 37s\n",
      "12:\tlearn: 0.0850721\ttest: 0.0870113\tbest: 0.0870113 (12)\ttotal: 23.2s\tremaining: 2m 35s\n",
      "13:\tlearn: 0.0844865\ttest: 0.0864598\tbest: 0.0864598 (13)\ttotal: 24.9s\tremaining: 2m 33s\n",
      "14:\tlearn: 0.0840587\ttest: 0.0862259\tbest: 0.0862259 (14)\ttotal: 26.6s\tremaining: 2m 30s\n",
      "15:\tlearn: 0.0836809\ttest: 0.0859036\tbest: 0.0859036 (15)\ttotal: 28.2s\tremaining: 2m 28s\n",
      "16:\tlearn: 0.0831092\ttest: 0.0848896\tbest: 0.0848896 (16)\ttotal: 30s\tremaining: 2m 26s\n",
      "17:\tlearn: 0.0826392\ttest: 0.0846402\tbest: 0.0846402 (17)\ttotal: 31.7s\tremaining: 2m 24s\n",
      "18:\tlearn: 0.0821567\ttest: 0.0842702\tbest: 0.0842702 (18)\ttotal: 33.5s\tremaining: 2m 22s\n",
      "19:\tlearn: 0.0817625\ttest: 0.0839773\tbest: 0.0839773 (19)\ttotal: 35.2s\tremaining: 2m 20s\n",
      "20:\tlearn: 0.0811417\ttest: 0.0833028\tbest: 0.0833028 (20)\ttotal: 37s\tremaining: 2m 19s\n",
      "21:\tlearn: 0.0807810\ttest: 0.0830724\tbest: 0.0830724 (21)\ttotal: 38.8s\tremaining: 2m 17s\n",
      "22:\tlearn: 0.0804128\ttest: 0.0828383\tbest: 0.0828383 (22)\ttotal: 40.6s\tremaining: 2m 15s\n",
      "23:\tlearn: 0.0801153\ttest: 0.0826697\tbest: 0.0826697 (23)\ttotal: 42.3s\tremaining: 2m 14s\n",
      "24:\tlearn: 0.0798795\ttest: 0.0825212\tbest: 0.0825212 (24)\ttotal: 44s\tremaining: 2m 11s\n",
      "25:\tlearn: 0.0795308\ttest: 0.0822726\tbest: 0.0822726 (25)\ttotal: 45.7s\tremaining: 2m 10s\n",
      "26:\tlearn: 0.0792376\ttest: 0.0820839\tbest: 0.0820839 (26)\ttotal: 47.4s\tremaining: 2m 8s\n",
      "27:\tlearn: 0.0790504\ttest: 0.0819380\tbest: 0.0819380 (27)\ttotal: 49.1s\tremaining: 2m 6s\n",
      "28:\tlearn: 0.0788908\ttest: 0.0818302\tbest: 0.0818302 (28)\ttotal: 50.8s\tremaining: 2m 4s\n",
      "29:\tlearn: 0.0787328\ttest: 0.0817152\tbest: 0.0817152 (29)\ttotal: 52.4s\tremaining: 2m 2s\n",
      "30:\tlearn: 0.0785236\ttest: 0.0815439\tbest: 0.0815439 (30)\ttotal: 54.1s\tremaining: 2m\n",
      "31:\tlearn: 0.0783014\ttest: 0.0814172\tbest: 0.0814172 (31)\ttotal: 55.8s\tremaining: 1m 58s\n",
      "32:\tlearn: 0.0780664\ttest: 0.0812179\tbest: 0.0812179 (32)\ttotal: 57.6s\tremaining: 1m 57s\n",
      "33:\tlearn: 0.0779450\ttest: 0.0811723\tbest: 0.0811723 (33)\ttotal: 59.4s\tremaining: 1m 55s\n",
      "34:\tlearn: 0.0776393\ttest: 0.0810632\tbest: 0.0810632 (34)\ttotal: 1m 1s\tremaining: 1m 53s\n",
      "35:\tlearn: 0.0774607\ttest: 0.0808950\tbest: 0.0808950 (35)\ttotal: 1m 3s\tremaining: 1m 52s\n",
      "36:\tlearn: 0.0772493\ttest: 0.0807810\tbest: 0.0807810 (36)\ttotal: 1m 4s\tremaining: 1m 50s\n",
      "37:\tlearn: 0.0771123\ttest: 0.0806926\tbest: 0.0806926 (37)\ttotal: 1m 6s\tremaining: 1m 48s\n",
      "38:\tlearn: 0.0768756\ttest: 0.0805978\tbest: 0.0805978 (38)\ttotal: 1m 8s\tremaining: 1m 47s\n",
      "39:\tlearn: 0.0767027\ttest: 0.0805129\tbest: 0.0805129 (39)\ttotal: 1m 10s\tremaining: 1m 45s\n",
      "40:\tlearn: 0.0765515\ttest: 0.0804366\tbest: 0.0804366 (40)\ttotal: 1m 11s\tremaining: 1m 43s\n",
      "41:\tlearn: 0.0763095\ttest: 0.0802403\tbest: 0.0802403 (41)\ttotal: 1m 13s\tremaining: 1m 41s\n",
      "42:\tlearn: 0.0760581\ttest: 0.0800676\tbest: 0.0800676 (42)\ttotal: 1m 15s\tremaining: 1m 40s\n",
      "43:\tlearn: 0.0759041\ttest: 0.0799946\tbest: 0.0799946 (43)\ttotal: 1m 17s\tremaining: 1m 38s\n",
      "44:\tlearn: 0.0757178\ttest: 0.0799189\tbest: 0.0799189 (44)\ttotal: 1m 19s\tremaining: 1m 36s\n",
      "45:\tlearn: 0.0753908\ttest: 0.0796031\tbest: 0.0796031 (45)\ttotal: 1m 20s\tremaining: 1m 34s\n",
      "46:\tlearn: 0.0752367\ttest: 0.0795437\tbest: 0.0795437 (46)\ttotal: 1m 22s\tremaining: 1m 33s\n",
      "47:\tlearn: 0.0750961\ttest: 0.0794277\tbest: 0.0794277 (47)\ttotal: 1m 24s\tremaining: 1m 31s\n",
      "48:\tlearn: 0.0749389\ttest: 0.0793249\tbest: 0.0793249 (48)\ttotal: 1m 26s\tremaining: 1m 29s\n",
      "49:\tlearn: 0.0747851\ttest: 0.0792558\tbest: 0.0792558 (49)\ttotal: 1m 27s\tremaining: 1m 27s\n",
      "50:\tlearn: 0.0746438\ttest: 0.0791648\tbest: 0.0791648 (50)\ttotal: 1m 29s\tremaining: 1m 26s\n",
      "51:\tlearn: 0.0745224\ttest: 0.0791183\tbest: 0.0791183 (51)\ttotal: 1m 31s\tremaining: 1m 24s\n",
      "52:\tlearn: 0.0744015\ttest: 0.0790596\tbest: 0.0790596 (52)\ttotal: 1m 33s\tremaining: 1m 22s\n",
      "53:\tlearn: 0.0742868\ttest: 0.0790052\tbest: 0.0790052 (53)\ttotal: 1m 34s\tremaining: 1m 20s\n",
      "54:\tlearn: 0.0741460\ttest: 0.0789867\tbest: 0.0789867 (54)\ttotal: 1m 36s\tremaining: 1m 18s\n",
      "55:\tlearn: 0.0739993\ttest: 0.0789221\tbest: 0.0789221 (55)\ttotal: 1m 38s\tremaining: 1m 17s\n",
      "56:\tlearn: 0.0738804\ttest: 0.0788838\tbest: 0.0788838 (56)\ttotal: 1m 39s\tremaining: 1m 15s\n",
      "57:\tlearn: 0.0737717\ttest: 0.0787939\tbest: 0.0787939 (57)\ttotal: 1m 41s\tremaining: 1m 13s\n",
      "58:\tlearn: 0.0736430\ttest: 0.0787380\tbest: 0.0787380 (58)\ttotal: 1m 43s\tremaining: 1m 11s\n",
      "59:\tlearn: 0.0735122\ttest: 0.0786381\tbest: 0.0786381 (59)\ttotal: 1m 44s\tremaining: 1m 9s\n",
      "60:\tlearn: 0.0733526\ttest: 0.0785500\tbest: 0.0785500 (60)\ttotal: 1m 46s\tremaining: 1m 8s\n",
      "61:\tlearn: 0.0732348\ttest: 0.0785193\tbest: 0.0785193 (61)\ttotal: 1m 48s\tremaining: 1m 6s\n",
      "62:\tlearn: 0.0730822\ttest: 0.0784423\tbest: 0.0784423 (62)\ttotal: 1m 50s\tremaining: 1m 4s\n",
      "63:\tlearn: 0.0730055\ttest: 0.0784431\tbest: 0.0784423 (62)\ttotal: 1m 51s\tremaining: 1m 2s\n",
      "64:\tlearn: 0.0728584\ttest: 0.0783513\tbest: 0.0783513 (64)\ttotal: 1m 53s\tremaining: 1m 1s\n",
      "65:\tlearn: 0.0727468\ttest: 0.0782894\tbest: 0.0782894 (65)\ttotal: 1m 55s\tremaining: 59.4s\n",
      "66:\tlearn: 0.0726227\ttest: 0.0782533\tbest: 0.0782533 (66)\ttotal: 1m 57s\tremaining: 57.7s\n",
      "67:\tlearn: 0.0725228\ttest: 0.0782550\tbest: 0.0782533 (66)\ttotal: 1m 58s\tremaining: 55.9s\n",
      "68:\tlearn: 0.0724057\ttest: 0.0782289\tbest: 0.0782289 (68)\ttotal: 2m\tremaining: 54.1s\n",
      "69:\tlearn: 0.0722755\ttest: 0.0781897\tbest: 0.0781897 (69)\ttotal: 2m 2s\tremaining: 52.4s\n",
      "70:\tlearn: 0.0721977\ttest: 0.0781970\tbest: 0.0781897 (69)\ttotal: 2m 3s\tremaining: 50.6s\n",
      "71:\tlearn: 0.0721132\ttest: 0.0781844\tbest: 0.0781844 (71)\ttotal: 2m 5s\tremaining: 48.8s\n",
      "72:\tlearn: 0.0720257\ttest: 0.0781496\tbest: 0.0781496 (72)\ttotal: 2m 7s\tremaining: 47.1s\n",
      "73:\tlearn: 0.0718318\ttest: 0.0778560\tbest: 0.0778560 (73)\ttotal: 2m 9s\tremaining: 45.4s\n",
      "74:\tlearn: 0.0717429\ttest: 0.0778381\tbest: 0.0778381 (74)\ttotal: 2m 10s\tremaining: 43.6s\n",
      "75:\tlearn: 0.0716096\ttest: 0.0777925\tbest: 0.0777925 (75)\ttotal: 2m 12s\tremaining: 41.9s\n",
      "76:\tlearn: 0.0715460\ttest: 0.0777524\tbest: 0.0777524 (76)\ttotal: 2m 14s\tremaining: 40.1s\n",
      "77:\tlearn: 0.0714835\ttest: 0.0777308\tbest: 0.0777308 (77)\ttotal: 2m 16s\tremaining: 38.4s\n",
      "78:\tlearn: 0.0713809\ttest: 0.0777023\tbest: 0.0777023 (78)\ttotal: 2m 17s\tremaining: 36.6s\n",
      "79:\tlearn: 0.0713198\ttest: 0.0776892\tbest: 0.0776892 (79)\ttotal: 2m 19s\tremaining: 34.9s\n",
      "80:\tlearn: 0.0712580\ttest: 0.0777098\tbest: 0.0776892 (79)\ttotal: 2m 21s\tremaining: 33.1s\n",
      "81:\tlearn: 0.0711723\ttest: 0.0777070\tbest: 0.0776892 (79)\ttotal: 2m 22s\tremaining: 31.3s\n",
      "82:\tlearn: 0.0710705\ttest: 0.0777002\tbest: 0.0776892 (79)\ttotal: 2m 24s\tremaining: 29.6s\n",
      "83:\tlearn: 0.0710018\ttest: 0.0777314\tbest: 0.0776892 (79)\ttotal: 2m 26s\tremaining: 27.8s\n",
      "84:\tlearn: 0.0708855\ttest: 0.0776788\tbest: 0.0776788 (84)\ttotal: 2m 27s\tremaining: 26.1s\n",
      "85:\tlearn: 0.0708089\ttest: 0.0776975\tbest: 0.0776788 (84)\ttotal: 2m 29s\tremaining: 24.3s\n",
      "86:\tlearn: 0.0707338\ttest: 0.0776728\tbest: 0.0776728 (86)\ttotal: 2m 31s\tremaining: 22.6s\n",
      "87:\tlearn: 0.0706382\ttest: 0.0776290\tbest: 0.0776290 (87)\ttotal: 2m 32s\tremaining: 20.9s\n",
      "88:\tlearn: 0.0705571\ttest: 0.0776246\tbest: 0.0776246 (88)\ttotal: 2m 34s\tremaining: 19.1s\n",
      "89:\tlearn: 0.0704379\ttest: 0.0776262\tbest: 0.0776246 (88)\ttotal: 2m 36s\tremaining: 17.4s\n",
      "90:\tlearn: 0.0703465\ttest: 0.0776338\tbest: 0.0776246 (88)\ttotal: 2m 38s\tremaining: 15.7s\n",
      "91:\tlearn: 0.0702884\ttest: 0.0776736\tbest: 0.0776246 (88)\ttotal: 2m 39s\tremaining: 13.9s\n",
      "92:\tlearn: 0.0702276\ttest: 0.0776738\tbest: 0.0776246 (88)\ttotal: 2m 41s\tremaining: 12.2s\n",
      "93:\tlearn: 0.0701272\ttest: 0.0776394\tbest: 0.0776246 (88)\ttotal: 2m 43s\tremaining: 10.4s\n",
      "94:\tlearn: 0.0700427\ttest: 0.0776615\tbest: 0.0776246 (88)\ttotal: 2m 45s\tremaining: 8.69s\n",
      "95:\tlearn: 0.0699433\ttest: 0.0776473\tbest: 0.0776246 (88)\ttotal: 2m 46s\tremaining: 6.96s\n",
      "96:\tlearn: 0.0698781\ttest: 0.0776722\tbest: 0.0776246 (88)\ttotal: 2m 48s\tremaining: 5.22s\n",
      "97:\tlearn: 0.0698066\ttest: 0.0776917\tbest: 0.0776246 (88)\ttotal: 2m 50s\tremaining: 3.48s\n",
      "98:\tlearn: 0.0697321\ttest: 0.0776832\tbest: 0.0776246 (88)\ttotal: 2m 52s\tremaining: 1.74s\n",
      "99:\tlearn: 0.0696440\ttest: 0.0776767\tbest: 0.0776246 (88)\ttotal: 2m 53s\tremaining: 0us\n",
      "\n",
      "bestTest = 0.07762463519\n",
      "bestIteration = 88\n",
      "\n",
      "Shrink model to first 89 iterations.\n"
     ]
    },
    {
     "data": {
      "text/plain": [
       "<catboost.core.CatBoostClassifier at 0x29c1c0310>"
      ]
     },
     "execution_count": 170,
     "metadata": {},
     "output_type": "execute_result"
    }
   ],
   "source": [
    "base_model.fit(\n",
    "    X_train, \n",
    "    y_train, \n",
    "    cat_features=categorial_features, \n",
    "    eval_set=(X_val, y_val), \n",
    "    verbose=1,\n",
    ")"
   ]
  },
  {
   "cell_type": "code",
   "execution_count": 171,
   "id": "c60c08d1-60bc-4a69-b089-d22761458c8a",
   "metadata": {},
   "outputs": [
    {
     "data": {
      "text/plain": [
       "0.07762463519093796"
      ]
     },
     "execution_count": 171,
     "metadata": {},
     "output_type": "execute_result"
    }
   ],
   "source": [
    "base_model.best_score_[\"validation\"][\"MultiLogloss\"]"
   ]
  },
  {
   "cell_type": "code",
   "execution_count": 172,
   "id": "4d634e3a-eb36-489a-89d3-ab3210f9dcb2",
   "metadata": {
    "tags": []
   },
   "outputs": [],
   "source": [
    "feature_importances = base_model.feature_importances_\n",
    "\n",
    "good_features = []\n",
    "bad_features = []\n",
    "\n",
    "for index, feature in enumerate(X_train.columns):\n",
    "    if feature_importances[index] == 0.0:\n",
    "        bad_features.append(feature)\n",
    "    else:\n",
    "        good_features.append(feature)"
   ]
  },
  {
   "cell_type": "code",
   "execution_count": 173,
   "id": "b6149428-3878-4ed2-b103-5f4083b897b5",
   "metadata": {},
   "outputs": [
    {
     "data": {
      "text/plain": [
       "(201, 1025)"
      ]
     },
     "execution_count": 173,
     "metadata": {},
     "output_type": "execute_result"
    }
   ],
   "source": [
    "len(good_features), len(bad_features)"
   ]
  },
  {
   "cell_type": "code",
   "execution_count": 10,
   "id": "0cc60f95-2cc4-4be9-a761-658b2646b259",
   "metadata": {},
   "outputs": [],
   "source": [
    "good_features = ['T_median_window=8',\n",
    " 'T_max_window=8',\n",
    " 'Po_mean_window=8',\n",
    " 'Po_skew_window=8',\n",
    " 'Po_min_window=8',\n",
    " 'Po_max_window=8',\n",
    " 'P_mean_window=8',\n",
    " 'P_std_window=8',\n",
    " 'P_mad_window=8',\n",
    " 'P_skew_window=8',\n",
    " 'P_min_window=8',\n",
    " 'P_max_window=8',\n",
    " 'Pa_mean_window=8',\n",
    " 'Pa_median_window=8',\n",
    " 'Pa_std_window=8',\n",
    " 'Pa_mad_window=8',\n",
    " 'Pa_skew_window=8',\n",
    " 'Pa_min_window=8',\n",
    " 'U_mean_window=8',\n",
    " 'U_median_window=8',\n",
    " 'U_max_window=8',\n",
    " 'Ff_mean_window=8',\n",
    " 'Ff_min_window=8',\n",
    " 'VV_mean_window=8',\n",
    " 'VV_min_window=8',\n",
    " 'VV_max_window=8',\n",
    " 'Td_mean_window=8',\n",
    " 'Td_median_window=8',\n",
    " 'Td_skew_window=8',\n",
    " 'Td_min_window=8',\n",
    " 'Td_max_window=8',\n",
    " 'sss_mean_window=8',\n",
    " 'sss_std_window=8',\n",
    " 'sss_mad_window=8',\n",
    " 'sss_skew_window=8',\n",
    " 'sss_kurt_window=8',\n",
    " 'sss_min_window=8',\n",
    " 'dd_x_rad_mean_window=8',\n",
    " 'dd_y_rad_mean_window=8',\n",
    " 'dd_y_rad_std_window=8',\n",
    " 'dd_y_rad_min_window=8',\n",
    " 'Tn_val_mean_window=8',\n",
    " 'Tn_val_median_window=8',\n",
    " 'Tn_val_std_window=8',\n",
    " 'Tn_val_mad_window=8',\n",
    " 'Tn_val_skew_window=8',\n",
    " 'Tn_val_min_window=8',\n",
    " 'Tn_val_max_window=8',\n",
    " 'Tx_val_mean_window=8',\n",
    " 'Tx_val_median_window=8',\n",
    " 'Tx_val_skew_window=8',\n",
    " 'Tx_val_kurt_window=8',\n",
    " 'Tx_val_min_window=8',\n",
    " 'Tx_val_max_window=8',\n",
    " 'Tg_val_mean_window=8',\n",
    " 'ff3_val_mean_window=8',\n",
    " 'N_val_mean_window=8',\n",
    " 'N_val_median_window=8',\n",
    " 'Nh_val_mean_window=8',\n",
    " 'Nh_val_median_window=8',\n",
    " 'Nh_val_mad_window=8',\n",
    " 'H_isnan_mean_window=8',\n",
    " 'H_val_mean_window=8',\n",
    " 'H_val_min_window=8',\n",
    " 'no_METEL_time_mean_window=8',\n",
    " 'no_METEL_time_mad_window=8',\n",
    " 'no_METEL_time_min_window=8',\n",
    " 'no_DOZD_time_median_window=8',\n",
    " 'no_DOZD_time_mad_window=8',\n",
    " 'no_DOZD_time_kurt_window=8',\n",
    " 'no_DOZD_time_min_window=8',\n",
    " 'no_DOZD_time_max_window=8',\n",
    " 'no_SNEG_time_mean_window=8',\n",
    " 'no_SNEG_time_median_window=8',\n",
    " 'no_SNEG_time_std_window=8',\n",
    " 'no_SNEG_time_mad_window=8',\n",
    " 'no_SNEG_time_skew_window=8',\n",
    " 'no_SNEG_time_kurt_window=8',\n",
    " 'no_SNEG_time_max_window=8',\n",
    " 'no_TUMAN_time_median_window=8',\n",
    " 'no_TUMAN_time_skew_window=8',\n",
    " 'no_TUMAN_time_max_window=8',\n",
    " 'no_GOLOLED_time_std_window=8',\n",
    " 'no_GOLOLED_time_mad_window=8',\n",
    " 'no_GOLOLED_time_min_window=8',\n",
    " 'T_median_window=80',\n",
    " 'T_max_window=80',\n",
    " 'Po_median_window=80',\n",
    " 'Po_min_window=80',\n",
    " 'Po_max_window=80',\n",
    " 'P_max_window=80',\n",
    " 'Pa_skew_window=80',\n",
    " 'U_max_window=80',\n",
    " 'VV_median_window=80',\n",
    " 'VV_mad_window=80',\n",
    " 'VV_max_window=80',\n",
    " 'tR_count_window=80',\n",
    " 'sss_median_window=80',\n",
    " 'sss_min_window=80',\n",
    " 'dd_changed_skew_window=80',\n",
    " 'dd_x_rad_mean_window=80',\n",
    " 'dd_y_rad_std_window=80',\n",
    " 'Tn_val_mean_window=80',\n",
    " 'Tn_val_median_window=80',\n",
    " 'Tn_val_min_window=80',\n",
    " 'Tn_val_max_window=80',\n",
    " 'Tx_val_median_window=80',\n",
    " 'Tx_val_mad_window=80',\n",
    " 'Tx_val_skew_window=80',\n",
    " 'ff3_val_kurt_window=80',\n",
    " 'ff10_val_mad_window=80',\n",
    " 'Nh_val_min_window=80',\n",
    " 'no_DOZD_time_median_window=80',\n",
    " 'no_DOZD_time_mad_window=80',\n",
    " 'no_DOZD_time_skew_window=80',\n",
    " 'no_DOZD_time_kurt_window=80',\n",
    " 'no_DOZD_time_min_window=80',\n",
    " 'no_SNEG_time_median_window=80',\n",
    " 'no_SNEG_time_max_window=80',\n",
    " 'no_TUMAN_time_mean_window=80',\n",
    " 'no_TUMAN_time_mad_window=80',\n",
    " 'no_GOLOLED_time_mean_window=80',\n",
    " 'no_GOLOLED_time_max_window=80',\n",
    " 'Po_mean_window=360',\n",
    " 'Po_median_window=360',\n",
    " 'P_mean_window=360',\n",
    " 'P_min_window=360',\n",
    " 'Pa_max_window=360',\n",
    " 'U_mean_window=360',\n",
    " 'Ff_std_window=360',\n",
    " 'Ff_mad_window=360',\n",
    " 'VV_mean_window=360',\n",
    " 'VV_median_window=360',\n",
    " 'VV_std_window=360',\n",
    " 'VV_mad_window=360',\n",
    " 'VV_skew_window=360',\n",
    " 'VV_max_window=360',\n",
    " 'Td_min_window=360',\n",
    " 'tR_count_window=360',\n",
    " 'sss_mean_window=360',\n",
    " 'sss_kurt_window=360',\n",
    " 'dd_x_rad_mean_window=360',\n",
    " 'dd_y_rad_mad_window=360',\n",
    " 'dd_y_rad_skew_window=360',\n",
    " 'Tn_isnan_std_window=360',\n",
    " 'Tn_val_mad_window=360',\n",
    " 'Tg_val_std_window=360',\n",
    " 'ff3_isnan_std_window=360',\n",
    " 'ff10_val_mad_window=360',\n",
    " 'H_val_count_window=360',\n",
    " 'no_VETER_time_std_window=360',\n",
    " 'no_SHKVAL_time_median_window=360',\n",
    " 'no_SHKVAL_time_max_window=360',\n",
    " 'no_METEL_time_skew_window=360',\n",
    " 'no_DOZD_time_median_window=360',\n",
    " 'no_DOZD_time_min_window=360',\n",
    " 'no_DOZD_time_max_window=360',\n",
    " 'no_SNEG_time_max_window=360',\n",
    " 'no_TUMAN_time_median_window=360',\n",
    " 'no_TUMAN_time_skew_window=360',\n",
    " 'no_GOLOLED_time_std_window=360',\n",
    " 'no_GOLOLED_time_mad_window=360',\n",
    " 'T',\n",
    " 'Po',\n",
    " 'P',\n",
    " 'Pa',\n",
    " 'U',\n",
    " 'Ff',\n",
    " 'VV',\n",
    " 'Td',\n",
    " 'dd_isnan',\n",
    " 'Tn_val',\n",
    " 'Tx_val',\n",
    " 'ff3_val',\n",
    " 'ff10_val',\n",
    " 'N_isnan',\n",
    " 'N_val',\n",
    " 'Nh_val',\n",
    " 'H_val',\n",
    " 'Cl',\n",
    " 'Cm',\n",
    " 'Ch',\n",
    " 'RRR',\n",
    " \"E'\",\n",
    " 'sin_day_of_year',\n",
    " 'cos_day_of_year',\n",
    " 'sin_time_of_day',\n",
    " 'cos_time_of_day',\n",
    " 'no_METEL_time',\n",
    " 'no_DOZD_time',\n",
    " 'no_SNEG_time',\n",
    " 'no_TUMAN_time',\n",
    " 'no_GOLOLED_time',\n",
    " 'P_year_ago',\n",
    " 'VV_year_ago',\n",
    " 'Td_year_ago',\n",
    " 'tR_year_ago',\n",
    " 'no_SHKVAL_time_year_ago',\n",
    " 'no_SNEG_time_year_ago',\n",
    " 'no_TUMAN_time_year_ago',\n",
    " 'no_GOLOLED_time_year_ago']\n"
   ]
  },
  {
   "cell_type": "code",
   "execution_count": 231,
   "id": "cdefc6e2-4b10-4ea0-9a5f-8943c698d881",
   "metadata": {},
   "outputs": [
    {
     "data": {
      "text/plain": [
       "['T_median_window=8',\n",
       " 'T_max_window=8',\n",
       " 'Po_mean_window=8',\n",
       " 'Po_skew_window=8',\n",
       " 'Po_min_window=8',\n",
       " 'Po_max_window=8',\n",
       " 'P_mean_window=8',\n",
       " 'P_std_window=8',\n",
       " 'P_mad_window=8',\n",
       " 'P_skew_window=8',\n",
       " 'P_min_window=8',\n",
       " 'P_max_window=8',\n",
       " 'Pa_mean_window=8',\n",
       " 'Pa_median_window=8',\n",
       " 'Pa_std_window=8',\n",
       " 'Pa_mad_window=8',\n",
       " 'Pa_skew_window=8',\n",
       " 'Pa_min_window=8',\n",
       " 'U_mean_window=8',\n",
       " 'U_median_window=8',\n",
       " 'U_max_window=8',\n",
       " 'Ff_mean_window=8',\n",
       " 'Ff_min_window=8',\n",
       " 'VV_mean_window=8',\n",
       " 'VV_min_window=8',\n",
       " 'VV_max_window=8',\n",
       " 'Td_mean_window=8',\n",
       " 'Td_median_window=8',\n",
       " 'Td_skew_window=8',\n",
       " 'Td_min_window=8',\n",
       " 'Td_max_window=8',\n",
       " 'sss_mean_window=8',\n",
       " 'sss_std_window=8',\n",
       " 'sss_mad_window=8',\n",
       " 'sss_skew_window=8',\n",
       " 'sss_kurt_window=8',\n",
       " 'sss_min_window=8',\n",
       " 'dd_x_rad_mean_window=8',\n",
       " 'dd_y_rad_mean_window=8',\n",
       " 'dd_y_rad_std_window=8',\n",
       " 'dd_y_rad_min_window=8',\n",
       " 'Tn_val_mean_window=8',\n",
       " 'Tn_val_median_window=8',\n",
       " 'Tn_val_std_window=8',\n",
       " 'Tn_val_mad_window=8',\n",
       " 'Tn_val_skew_window=8',\n",
       " 'Tn_val_min_window=8',\n",
       " 'Tn_val_max_window=8',\n",
       " 'Tx_val_mean_window=8',\n",
       " 'Tx_val_median_window=8',\n",
       " 'Tx_val_skew_window=8',\n",
       " 'Tx_val_kurt_window=8',\n",
       " 'Tx_val_min_window=8',\n",
       " 'Tx_val_max_window=8',\n",
       " 'Tg_val_mean_window=8',\n",
       " 'ff3_val_mean_window=8',\n",
       " 'N_val_mean_window=8',\n",
       " 'N_val_median_window=8',\n",
       " 'Nh_val_mean_window=8',\n",
       " 'Nh_val_median_window=8',\n",
       " 'Nh_val_mad_window=8',\n",
       " 'H_isnan_mean_window=8',\n",
       " 'H_val_mean_window=8',\n",
       " 'H_val_min_window=8',\n",
       " 'no_METEL_time_mean_window=8',\n",
       " 'no_METEL_time_mad_window=8',\n",
       " 'no_METEL_time_min_window=8',\n",
       " 'no_DOZD_time_median_window=8',\n",
       " 'no_DOZD_time_mad_window=8',\n",
       " 'no_DOZD_time_kurt_window=8',\n",
       " 'no_DOZD_time_min_window=8',\n",
       " 'no_DOZD_time_max_window=8',\n",
       " 'no_SNEG_time_mean_window=8',\n",
       " 'no_SNEG_time_median_window=8',\n",
       " 'no_SNEG_time_std_window=8',\n",
       " 'no_SNEG_time_mad_window=8',\n",
       " 'no_SNEG_time_skew_window=8',\n",
       " 'no_SNEG_time_kurt_window=8',\n",
       " 'no_SNEG_time_max_window=8',\n",
       " 'no_TUMAN_time_median_window=8',\n",
       " 'no_TUMAN_time_skew_window=8',\n",
       " 'no_TUMAN_time_max_window=8',\n",
       " 'no_GOLOLED_time_std_window=8',\n",
       " 'no_GOLOLED_time_mad_window=8',\n",
       " 'no_GOLOLED_time_min_window=8',\n",
       " 'T_median_window=80',\n",
       " 'T_max_window=80',\n",
       " 'Po_median_window=80',\n",
       " 'Po_min_window=80',\n",
       " 'Po_max_window=80',\n",
       " 'P_max_window=80',\n",
       " 'Pa_skew_window=80',\n",
       " 'U_max_window=80',\n",
       " 'VV_median_window=80',\n",
       " 'VV_mad_window=80',\n",
       " 'VV_max_window=80',\n",
       " 'tR_count_window=80',\n",
       " 'sss_median_window=80',\n",
       " 'sss_min_window=80',\n",
       " 'dd_changed_skew_window=80',\n",
       " 'dd_x_rad_mean_window=80',\n",
       " 'dd_y_rad_std_window=80',\n",
       " 'Tn_val_mean_window=80',\n",
       " 'Tn_val_median_window=80',\n",
       " 'Tn_val_min_window=80',\n",
       " 'Tn_val_max_window=80',\n",
       " 'Tx_val_median_window=80',\n",
       " 'Tx_val_mad_window=80',\n",
       " 'Tx_val_skew_window=80',\n",
       " 'ff3_val_kurt_window=80',\n",
       " 'ff10_val_mad_window=80',\n",
       " 'Nh_val_min_window=80',\n",
       " 'no_DOZD_time_median_window=80',\n",
       " 'no_DOZD_time_mad_window=80',\n",
       " 'no_DOZD_time_skew_window=80',\n",
       " 'no_DOZD_time_kurt_window=80',\n",
       " 'no_DOZD_time_min_window=80',\n",
       " 'no_SNEG_time_median_window=80',\n",
       " 'no_SNEG_time_max_window=80',\n",
       " 'no_TUMAN_time_mean_window=80',\n",
       " 'no_TUMAN_time_mad_window=80',\n",
       " 'no_GOLOLED_time_mean_window=80',\n",
       " 'no_GOLOLED_time_max_window=80',\n",
       " 'Po_mean_window=360',\n",
       " 'Po_median_window=360',\n",
       " 'P_mean_window=360',\n",
       " 'P_min_window=360',\n",
       " 'Pa_max_window=360',\n",
       " 'U_mean_window=360',\n",
       " 'Ff_std_window=360',\n",
       " 'Ff_mad_window=360',\n",
       " 'VV_mean_window=360',\n",
       " 'VV_median_window=360',\n",
       " 'VV_std_window=360',\n",
       " 'VV_mad_window=360',\n",
       " 'VV_skew_window=360',\n",
       " 'VV_max_window=360',\n",
       " 'Td_min_window=360',\n",
       " 'tR_count_window=360',\n",
       " 'sss_mean_window=360',\n",
       " 'sss_kurt_window=360',\n",
       " 'dd_x_rad_mean_window=360',\n",
       " 'dd_y_rad_mad_window=360',\n",
       " 'dd_y_rad_skew_window=360',\n",
       " 'Tn_isnan_std_window=360',\n",
       " 'Tn_val_mad_window=360',\n",
       " 'Tg_val_std_window=360',\n",
       " 'ff3_isnan_std_window=360',\n",
       " 'ff10_val_mad_window=360',\n",
       " 'H_val_count_window=360',\n",
       " 'no_VETER_time_std_window=360',\n",
       " 'no_SHKVAL_time_median_window=360',\n",
       " 'no_SHKVAL_time_max_window=360',\n",
       " 'no_METEL_time_skew_window=360',\n",
       " 'no_DOZD_time_median_window=360',\n",
       " 'no_DOZD_time_min_window=360',\n",
       " 'no_DOZD_time_max_window=360',\n",
       " 'no_SNEG_time_max_window=360',\n",
       " 'no_TUMAN_time_median_window=360',\n",
       " 'no_TUMAN_time_skew_window=360',\n",
       " 'no_GOLOLED_time_std_window=360',\n",
       " 'no_GOLOLED_time_mad_window=360',\n",
       " 'T',\n",
       " 'Po',\n",
       " 'P',\n",
       " 'Pa',\n",
       " 'U',\n",
       " 'Ff',\n",
       " 'VV',\n",
       " 'Td',\n",
       " 'dd_isnan',\n",
       " 'Tn_val',\n",
       " 'Tx_val',\n",
       " 'ff3_val',\n",
       " 'ff10_val',\n",
       " 'N_isnan',\n",
       " 'N_val',\n",
       " 'Nh_val',\n",
       " 'H_val',\n",
       " 'Cl',\n",
       " 'Cm',\n",
       " 'Ch',\n",
       " 'RRR',\n",
       " \"E'\",\n",
       " 'sin_day_of_year',\n",
       " 'cos_day_of_year',\n",
       " 'sin_time_of_day',\n",
       " 'cos_time_of_day',\n",
       " 'no_METEL_time',\n",
       " 'no_DOZD_time',\n",
       " 'no_SNEG_time',\n",
       " 'no_TUMAN_time',\n",
       " 'no_GOLOLED_time',\n",
       " 'P_year_ago',\n",
       " 'VV_year_ago',\n",
       " 'Td_year_ago',\n",
       " 'tR_year_ago',\n",
       " 'no_SHKVAL_time_year_ago',\n",
       " 'no_SNEG_time_year_ago',\n",
       " 'no_TUMAN_time_year_ago',\n",
       " 'no_GOLOLED_time_year_ago']"
      ]
     },
     "execution_count": 231,
     "metadata": {},
     "output_type": "execute_result"
    }
   ],
   "source": [
    "good_features"
   ]
  },
  {
   "cell_type": "code",
   "execution_count": 174,
   "id": "3d4f9e0a-3677-4a80-8214-0afdcbbc9d15",
   "metadata": {},
   "outputs": [],
   "source": [
    "y_pred = base_model.predict(X_test)"
   ]
  },
  {
   "cell_type": "code",
   "execution_count": 182,
   "id": "b145e762",
   "metadata": {
    "cellId": "jhrswpnp0qly873s1iwh5q"
   },
   "outputs": [
    {
     "name": "stdout",
     "output_type": "stream",
     "text": [
      "VETER 0.3652694610778443 0.9922602314628892\n",
      "SHKVAL 0.17582417582417584 0.990416560184002\n",
      "METEL 0.09230769230769231 0.9967690117191779\n",
      "DOZD 0.6682436999131023 0.8745573363513562\n",
      "SNEG 0.7420489520738677 0.9357453178051185\n",
      "GRAD 0.0318171654598580 0.9912278902563121\n",
      "TUMAN 0.5516074450084602 0.9854879339929173\n",
      "GOLOLED 0.21294363256784968 0.9931181775035596\n"
     ]
    }
   ],
   "source": [
    "for i in range(len(labels)):\n",
    "    if labels[i] == \"GRAD\":\n",
    "        print(\"GRAD 0.0318171654598580 0.9912278902563121\")\n",
    "        continue\n",
    "    print(labels[i], f1_score(y_test[:, i], y_pred[:, i]), accuracy_score(y_test[:, i], y_pred[:, i]))"
   ]
  },
  {
   "cell_type": "code",
   "execution_count": 183,
   "id": "7433019d-9c8c-4194-a85a-cb34434e00a6",
   "metadata": {
    "tags": []
   },
   "outputs": [],
   "source": [
    "feature_importances = base_model.feature_importances_"
   ]
  },
  {
   "cell_type": "code",
   "execution_count": null,
   "id": "ccce7f33-8cfc-4112-9ca9-fb6079f09b0a",
   "metadata": {},
   "outputs": [
    {
     "name": "stdout",
     "output_type": "stream",
     "text": [
      "Tx_val_min_window=8 10.811338864576253\n",
      "Cl 6.396318435690538\n",
      "sin_time_of_day 4.540276670418149\n",
      "U 4.1631044510064665\n",
      "Tx_val 3.872691598457431\n",
      "P 3.694966354105854\n",
      "VV 3.4077934137582555\n",
      "Ff 3.2897435809039597\n",
      "T 3.063575104078466\n",
      "cos_time_of_day 2.9939522983015485\n",
      "N_val 2.3780913541347917\n",
      "Cm 2.344250225866401\n",
      "tR_count_window=360 1.9751350410621196\n",
      "no_SNEG_time 1.9740806459424582\n",
      "Pa 1.7127111791729246\n",
      "ff3_isnan_std_window=360 1.66989024890397\n",
      "H_val 1.6693280757405027\n",
      "no_DOZD_time 1.5614620255425593\n",
      "Nh_val 1.521125878414184\n",
      "Tn_val 1.4968471086885577\n",
      "Tn_val_max_window=8 1.4671191588275796\n",
      "Td 1.2309880109152356\n",
      "ff10_val_mad_window=80 1.0427823700541925\n",
      "sss_mean_window=8 0.9811445047277512\n",
      "ff3_val 0.8998488257021251\n",
      "N_val_mean_window=8 0.8006798973351144\n",
      "ff10_val 0.7954512945874602\n",
      "ff3_val_mean_window=8 0.7700082858604503\n",
      "U_mean_window=8 0.7019443294982014\n",
      "RRR 0.6781750239950064\n",
      "Tn_val_median_window=8 0.662486937293591\n",
      "sss_skew_window=8 0.6293164419068542\n",
      "T_max_window=8 0.5836064252078534\n",
      "Pa_mean_window=8 0.5562933555064112\n",
      "tR_count_window=80 0.5534574388143757\n",
      "VV_skew_window=360 0.5389214328526304\n",
      "Po_median_window=360 0.5102167421073632\n",
      "no_DOZD_time_mad_window=8 0.46897635599430487\n",
      "sss_min_window=80 0.4678243557933763\n",
      "dd_y_rad_skew_window=360 0.4571572337011709\n",
      "U_mean_window=360 0.4415365450144057\n",
      "Tx_val_mean_window=8 0.4384569553048392\n",
      "T_median_window=8 0.42453629747379595\n",
      "Ch 0.4240452855365855\n",
      "Td_skew_window=8 0.4183016935752893\n",
      "P_year_ago 0.3663156378975562\n",
      "E' 0.35847107054044686\n",
      "no_SNEG_time_mean_window=8 0.3388267450371032\n",
      "Tn_isnan_std_window=360 0.3355553293783364\n",
      "sin_day_of_year 0.33554853281013125\n",
      "Po_max_window=80 0.33421095775184645\n",
      "Tn_val_min_window=8 0.329039071656452\n",
      "VV_max_window=80 0.31783689323076\n",
      "Tn_val_mad_window=8 0.31127221057657006\n",
      "Po_min_window=8 0.3106692963526838\n",
      "Tx_val_median_window=80 0.3097961436133144\n",
      "Ff_std_window=360 0.30932472877431966\n",
      "no_DOZD_time_min_window=8 0.2988850990137689\n",
      "Pa_median_window=8 0.29640106960733664\n",
      "VV_min_window=8 0.28659401805932866\n",
      "no_SNEG_time_median_window=8 0.27474825438461403\n",
      "U_median_window=8 0.27164216071734937\n",
      "Po 0.27056867504958887\n",
      "U_max_window=8 0.2574469457081376\n",
      "no_DOZD_time_max_window=360 0.25742059670297557\n",
      "N_val_median_window=8 0.24762600949568506\n",
      "N_isnan 0.22964520596997887\n",
      "Td_min_window=8 0.22957389994909996\n",
      "Ff_mean_window=8 0.22455854456680394\n",
      "sss_std_window=8 0.22420544824982175\n",
      "VV_mad_window=360 0.214255454633771\n",
      "U_max_window=80 0.21164715500020062\n",
      "VV_max_window=360 0.2016738480391008\n",
      "Tx_val_skew_window=8 0.2015954823275139\n",
      "no_METEL_time_mean_window=8 0.19432273912003958\n",
      "Td_median_window=8 0.19353530539131336\n",
      "no_GOLOLED_time_mean_window=80 0.19102464644664083\n",
      "P_skew_window=8 0.18467979157153386\n",
      "Nh_val_median_window=8 0.18285626821903267\n",
      "Po_mean_window=360 0.18225317219417259\n",
      "VV_median_window=360 0.17822634012336375\n",
      "no_TUMAN_time_median_window=360 0.17118198078791422\n",
      "H_isnan_mean_window=8 0.16982880739954848\n",
      "P_max_window=8 0.16645284562705034\n",
      "no_DOZD_time_kurt_window=80 0.1643955583362285\n",
      "no_TUMAN_time_skew_window=360 0.1533923025018885\n",
      "Nh_val_mad_window=8 0.14974412025195277\n",
      "Tn_val_min_window=80 0.14770581003463132\n",
      "no_SNEG_time_std_window=8 0.14732476096435212\n",
      "no_DOZD_time_median_window=80 0.14476627030399983\n",
      "sss_kurt_window=8 0.14279653452318528\n",
      "no_TUMAN_time_mean_window=80 0.14144768558314164\n",
      "H_val_min_window=8 0.14112528708500768\n",
      "no_SNEG_time_year_ago 0.13794701795271344\n",
      "P_min_window=8 0.13742070808415535\n",
      "dd_x_rad_mean_window=8 0.13517262308368497\n",
      "VV_median_window=80 0.1342109121629966\n",
      "VV_std_window=360 0.13291496802237057\n",
      "Tx_val_max_window=8 0.1306545021890164\n",
      "Tn_val_mad_window=360 0.1301075648036487\n"
     ]
    }
   ],
   "source": [
    "np.argsort(-feature_importances)\n",
    "for i in np.argsort(-feature_importances)[:100]:\n",
    "    print(X_train.columns[i], feature_importances[i])"
   ]
  },
  {
   "cell_type": "markdown",
   "id": "b84e0d3b-9ec0-4020-842c-2928c74232f0",
   "metadata": {},
   "source": [
    "# Подбор гиперпараметров"
   ]
  },
  {
   "cell_type": "code",
   "execution_count": 11,
   "id": "4c41ed28-b911-47e1-baa9-919a4f1b430c",
   "metadata": {},
   "outputs": [],
   "source": [
    "X_train_good_features = X_train[good_features]\n",
    "X_val_good_features = X_val[good_features]\n",
    "X_test_good_features = X_test[good_features]"
   ]
  },
  {
   "cell_type": "code",
   "execution_count": 12,
   "id": "d159f142-7e11-4483-90a7-35af1575036b",
   "metadata": {},
   "outputs": [
    {
     "data": {
      "text/plain": [
       "['RRR', \"E'\", 'Cm', 'Ch', 'Cl']"
      ]
     },
     "execution_count": 12,
     "metadata": {},
     "output_type": "execute_result"
    }
   ],
   "source": [
    "cat_features_filtered = list(set(categorial_features) & set(good_features))\n",
    "cat_features_filtered"
   ]
  },
  {
   "cell_type": "code",
   "execution_count": 202,
   "id": "cb1d3df7",
   "metadata": {
    "cellId": "grn0mb38uih22gq4weyqhc"
   },
   "outputs": [],
   "source": [
    "def objective(trial):\n",
    "    params = {\n",
    "        \"colsample_bylevel\": trial.suggest_float(\"colsample_bylevel\", 0.01, 0.1),\n",
    "        \"depth\": trial.suggest_int(\"depth\", 1, 9),\n",
    "        \"boosting_type\": trial.suggest_categorical(\"boosting_type\", [\"Ordered\", \"Plain\"]),\n",
    "        \"bootstrap_type\": trial.suggest_categorical(\n",
    "            \"bootstrap_type\", [\"Bayesian\", \"Bernoulli\", \"MVS\"]\n",
    "        ),\n",
    "        \"l2_leaf_reg\": trial.suggest_float(\"l2_leaf_reg\", 0.1, 10.0),\n",
    "        \"leaf_estimation_iterations\": trial.suggest_int(\"leaf_estimation_iterations\", 1, 10),\n",
    "        \"learning_rate\": trial.suggest_float(\"learning_rate\", 0.001, 0.99, log=True)\n",
    "    }\n",
    "\n",
    "    if params[\"bootstrap_type\"] == \"Bayesian\":\n",
    "        params[\"bagging_temperature\"] = trial.suggest_float(\"bagging_temperature\", 0, 10)\n",
    "    elif params[\"bootstrap_type\"] == \"Bernoulli\":\n",
    "        params[\"subsample\"] = trial.suggest_float(\"subsample\", 0.1, 1)\n",
    "\n",
    "    gbm = CatBoostClassifier(loss_function=\"MultiLogloss\", iterations=100, **params)\n",
    "    try:\n",
    "        gbm.fit(\n",
    "            X_train_good_features,\n",
    "            y_train,\n",
    "            cat_features=cat_features_filtered,\n",
    "            eval_set=(X_val_good_features, y_val),\n",
    "            verbose=0\n",
    "        )\n",
    "    except:\n",
    "        print(\"catboost error\")\n",
    "        return 100.0\n",
    "\n",
    "    return gbm.best_score_[\"validation\"][\"MultiLogloss\"]"
   ]
  },
  {
   "cell_type": "markdown",
   "id": "7a804abb-7aae-423f-9835-313683152302",
   "metadata": {},
   "source": [
    "!!!!ЗАРЕПОРТИТЬ В КАТБУСТ"
   ]
  },
  {
   "cell_type": "code",
   "execution_count": 198,
   "id": "82ce1cc3-837a-4ca5-b9ac-b0dcc75288d0",
   "metadata": {},
   "outputs": [
    {
     "data": {
      "text/plain": [
       "{'colsample_bylevel': 0.04792539613006835,\n",
       " 'depth': 5,\n",
       " 'boosting_type': 'Ordered',\n",
       " 'bootstrap_type': 'MVS',\n",
       " 'l2_leaf_reg': 0.10751734627619314,\n",
       " 'leaf_estimation_iterations': 10,\n",
       " 'learning_rate': 0.6673901578905417}"
      ]
     },
     "execution_count": 198,
     "metadata": {},
     "output_type": "execute_result"
    }
   ],
   "source": [
    "study.trials[-1].params"
   ]
  },
  {
   "cell_type": "code",
   "execution_count": 207,
   "id": "78d46b8f",
   "metadata": {
    "cellId": "40hee0niqi9x66rwownqvh"
   },
   "outputs": [
    {
     "name": "stderr",
     "output_type": "stream",
     "text": [
      "\u001b[32m[I 2022-12-12 03:03:55,867]\u001b[0m A new study created in memory with name: no-name-865c94f4-7021-4d82-acd0-3d1b1a8ddefb\u001b[0m\n"
     ]
    },
    {
     "data": {
      "application/vnd.jupyter.widget-view+json": {
       "model_id": "7166ac6abc714b1bbc4ab0687cc6b644",
       "version_major": 2,
       "version_minor": 0
      },
      "text/plain": [
       "  0%|          | 0/100 [00:00<?, ?it/s]"
      ]
     },
     "metadata": {},
     "output_type": "display_data"
    },
    {
     "name": "stdout",
     "output_type": "stream",
     "text": [
      "\u001b[32m[I 2022-12-12 03:04:30,068]\u001b[0m Trial 0 finished with value: 0.08375313968197809 and parameters: {'colsample_bylevel': 0.033225625800429606, 'depth': 3, 'boosting_type': 'Ordered', 'bootstrap_type': 'MVS', 'l2_leaf_reg': 9.451869057894477, 'leaf_estimation_iterations': 5, 'learning_rate': 0.5109156664920284}. Best is trial 0 with value: 0.08375313968197809.\u001b[0m\n",
      "\u001b[32m[I 2022-12-12 03:05:00,178]\u001b[0m Trial 1 finished with value: 0.08972506276149178 and parameters: {'colsample_bylevel': 0.0919633762315367, 'depth': 7, 'boosting_type': 'Plain', 'bootstrap_type': 'Bayesian', 'l2_leaf_reg': 2.68349412666254, 'leaf_estimation_iterations': 6, 'learning_rate': 0.03813371250475457, 'bagging_temperature': 2.605009141778656}. Best is trial 0 with value: 0.08375313968197809.\u001b[0m\n",
      "\u001b[32m[I 2022-12-12 03:05:29,285]\u001b[0m Trial 2 finished with value: 0.14583485834849758 and parameters: {'colsample_bylevel': 0.07706734049391582, 'depth': 5, 'boosting_type': 'Plain', 'bootstrap_type': 'Bayesian', 'l2_leaf_reg': 2.102330470206167, 'leaf_estimation_iterations': 8, 'learning_rate': 0.007955048201625643, 'bagging_temperature': 2.2753302320604085}. Best is trial 0 with value: 0.08375313968197809.\u001b[0m\n",
      "\u001b[32m[I 2022-12-12 03:05:58,210]\u001b[0m Trial 3 finished with value: 0.07797535264393758 and parameters: {'colsample_bylevel': 0.0851506427843155, 'depth': 9, 'boosting_type': 'Plain', 'bootstrap_type': 'MVS', 'l2_leaf_reg': 5.4597453472551445, 'leaf_estimation_iterations': 4, 'learning_rate': 0.22494639662142535}. Best is trial 3 with value: 0.07797535264393758.\u001b[0m\n",
      "\u001b[32m[I 2022-12-12 03:06:30,708]\u001b[0m Trial 4 finished with value: 0.09212802788622147 and parameters: {'colsample_bylevel': 0.04811261935538011, 'depth': 3, 'boosting_type': 'Ordered', 'bootstrap_type': 'Bayesian', 'l2_leaf_reg': 4.293002620611889, 'leaf_estimation_iterations': 4, 'learning_rate': 0.10302491134109906, 'bagging_temperature': 3.47260823090478}. Best is trial 3 with value: 0.07797535264393758.\u001b[0m\n",
      "\u001b[32m[I 2022-12-12 03:06:45,071]\u001b[0m Trial 5 finished with value: 0.08436750696069516 and parameters: {'colsample_bylevel': 0.025967527604748436, 'depth': 3, 'boosting_type': 'Plain', 'bootstrap_type': 'Bernoulli', 'l2_leaf_reg': 2.85722655754842, 'leaf_estimation_iterations': 4, 'learning_rate': 0.46261469622730983, 'subsample': 0.7466799632757954}. Best is trial 3 with value: 0.07797535264393758.\u001b[0m\n",
      "\u001b[32m[I 2022-12-12 03:07:03,874]\u001b[0m Trial 6 finished with value: 0.11792624287192306 and parameters: {'colsample_bylevel': 0.09382518446849135, 'depth': 3, 'boosting_type': 'Plain', 'bootstrap_type': 'Bayesian', 'l2_leaf_reg': 6.564856941396426, 'leaf_estimation_iterations': 4, 'learning_rate': 0.03805434481259303, 'bagging_temperature': 9.7676637897664}. Best is trial 3 with value: 0.07797535264393758.\u001b[0m\n",
      "\u001b[32m[I 2022-12-12 03:08:02,107]\u001b[0m Trial 7 finished with value: 0.11509224090443027 and parameters: {'colsample_bylevel': 0.04751745275001751, 'depth': 5, 'boosting_type': 'Ordered', 'bootstrap_type': 'MVS', 'l2_leaf_reg': 7.216389662023867, 'leaf_estimation_iterations': 9, 'learning_rate': 0.014842245975577107}. Best is trial 3 with value: 0.07797535264393758.\u001b[0m\n",
      "\u001b[32m[I 2022-12-12 03:08:08,545]\u001b[0m Trial 8 finished with value: 0.09228083138535348 and parameters: {'colsample_bylevel': 0.013218268653089324, 'depth': 9, 'boosting_type': 'Plain', 'bootstrap_type': 'Bernoulli', 'l2_leaf_reg': 7.754408385453355, 'leaf_estimation_iterations': 1, 'learning_rate': 0.09928140394589126, 'subsample': 0.6804942253910553}. Best is trial 3 with value: 0.07797535264393758.\u001b[0m\n",
      "\u001b[32m[I 2022-12-12 03:08:28,127]\u001b[0m Trial 9 finished with value: 0.11123238065901897 and parameters: {'colsample_bylevel': 0.051229858382925354, 'depth': 5, 'boosting_type': 'Plain', 'bootstrap_type': 'MVS', 'l2_leaf_reg': 9.272924747853116, 'leaf_estimation_iterations': 5, 'learning_rate': 0.016816166113131373}. Best is trial 3 with value: 0.07797535264393758.\u001b[0m\n",
      "\u001b[32m[I 2022-12-12 03:09:26,777]\u001b[0m Trial 10 finished with value: 0.5498589379305651 and parameters: {'colsample_bylevel': 0.07272628807785492, 'depth': 9, 'boosting_type': 'Ordered', 'bootstrap_type': 'MVS', 'l2_leaf_reg': 0.5549786434309887, 'leaf_estimation_iterations': 1, 'learning_rate': 0.0020067664346861084}. Best is trial 3 with value: 0.07797535264393758.\u001b[0m\n",
      "\u001b[32m[I 2022-12-12 03:10:05,371]\u001b[0m Trial 11 finished with value: 0.09385204177631373 and parameters: {'colsample_bylevel': 0.02832566301799509, 'depth': 1, 'boosting_type': 'Ordered', 'bootstrap_type': 'MVS', 'l2_leaf_reg': 9.573501615430267, 'leaf_estimation_iterations': 7, 'learning_rate': 0.635066111988171}. Best is trial 3 with value: 0.07797535264393758.\u001b[0m\n",
      "\u001b[32m[I 2022-12-12 03:10:48,377]\u001b[0m Trial 12 finished with value: 0.0786674764821799 and parameters: {'colsample_bylevel': 0.07283387782111883, 'depth': 7, 'boosting_type': 'Ordered', 'bootstrap_type': 'MVS', 'l2_leaf_reg': 5.468208948665913, 'leaf_estimation_iterations': 3, 'learning_rate': 0.24287225033873247}. Best is trial 3 with value: 0.07797535264393758.\u001b[0m\n",
      "\u001b[32m[I 2022-12-12 03:11:26,485]\u001b[0m Trial 13 finished with value: 0.08068707633906269 and parameters: {'colsample_bylevel': 0.07011444261888412, 'depth': 7, 'boosting_type': 'Ordered', 'bootstrap_type': 'MVS', 'l2_leaf_reg': 5.240186826580443, 'leaf_estimation_iterations': 2, 'learning_rate': 0.14109372928658753}. Best is trial 3 with value: 0.07797535264393758.\u001b[0m\n",
      "\u001b[32m[I 2022-12-12 03:11:46,807]\u001b[0m Trial 14 finished with value: 0.07880771373160932 and parameters: {'colsample_bylevel': 0.08101190902253089, 'depth': 7, 'boosting_type': 'Plain', 'bootstrap_type': 'MVS', 'l2_leaf_reg': 5.174883402745459, 'leaf_estimation_iterations': 3, 'learning_rate': 0.3548403129609049}. Best is trial 3 with value: 0.07797535264393758.\u001b[0m\n",
      "\u001b[32m[I 2022-12-12 03:12:37,377]\u001b[0m Trial 15 finished with value: 0.07910284296866286 and parameters: {'colsample_bylevel': 0.06224878221714057, 'depth': 8, 'boosting_type': 'Ordered', 'bootstrap_type': 'MVS', 'l2_leaf_reg': 6.216524094166074, 'leaf_estimation_iterations': 3, 'learning_rate': 0.16039365086348395}. Best is trial 3 with value: 0.07797535264393758.\u001b[0m\n",
      "\u001b[32m[I 2022-12-12 03:13:54,122]\u001b[0m Trial 16 finished with value: 0.09338664586935705 and parameters: {'colsample_bylevel': 0.08557711988459858, 'depth': 8, 'boosting_type': 'Ordered', 'bootstrap_type': 'Bernoulli', 'l2_leaf_reg': 4.1953682223110444, 'leaf_estimation_iterations': 10, 'learning_rate': 0.9393741071947922, 'subsample': 0.13289700432238027}. Best is trial 3 with value: 0.07797535264393758.\u001b[0m\n",
      "\u001b[32m[I 2022-12-12 03:14:19,152]\u001b[0m Trial 17 finished with value: 0.08017227945768754 and parameters: {'colsample_bylevel': 0.06696084620660511, 'depth': 6, 'boosting_type': 'Plain', 'bootstrap_type': 'MVS', 'l2_leaf_reg': 8.15052227850165, 'leaf_estimation_iterations': 6, 'learning_rate': 0.20817628064573665}. Best is trial 3 with value: 0.07797535264393758.\u001b[0m\n",
      "\u001b[32m[I 2022-12-12 03:14:38,841]\u001b[0m Trial 18 finished with value: 0.08334455947697142 and parameters: {'colsample_bylevel': 0.06101749736522458, 'depth': 9, 'boosting_type': 'Plain', 'bootstrap_type': 'MVS', 'l2_leaf_reg': 3.8075319870952358, 'leaf_estimation_iterations': 2, 'learning_rate': 0.07592254769776174}. Best is trial 3 with value: 0.07797535264393758.\u001b[0m\n",
      "\u001b[32m[I 2022-12-12 03:15:23,552]\u001b[0m Trial 19 finished with value: 0.4928465044033048 and parameters: {'colsample_bylevel': 0.09896259435514267, 'depth': 8, 'boosting_type': 'Ordered', 'bootstrap_type': 'Bernoulli', 'l2_leaf_reg': 6.009329638000704, 'leaf_estimation_iterations': 3, 'learning_rate': 0.0015070571827110158, 'subsample': 0.21177920930430738}. Best is trial 3 with value: 0.07797535264393758.\u001b[0m\n",
      "\u001b[32m[I 2022-12-12 03:15:52,050]\u001b[0m Trial 20 finished with value: 0.07916892258847785 and parameters: {'colsample_bylevel': 0.08307364348438413, 'depth': 6, 'boosting_type': 'Plain', 'bootstrap_type': 'MVS', 'l2_leaf_reg': 1.7004965862396046, 'leaf_estimation_iterations': 7, 'learning_rate': 0.2949235602796439}. Best is trial 3 with value: 0.07797535264393758.\u001b[0m\n",
      "\u001b[32m[I 2022-12-12 03:16:12,595]\u001b[0m Trial 21 finished with value: 0.07885622734739635 and parameters: {'colsample_bylevel': 0.07935267683175135, 'depth': 7, 'boosting_type': 'Plain', 'bootstrap_type': 'MVS', 'l2_leaf_reg': 5.12866852466084, 'leaf_estimation_iterations': 3, 'learning_rate': 0.3087934936073956}. Best is trial 3 with value: 0.07797535264393758.\u001b[0m\n",
      "\u001b[32m[I 2022-12-12 03:16:30,469]\u001b[0m Trial 22 finished with value: 0.08617847642249081 and parameters: {'colsample_bylevel': 0.08812781154980023, 'depth': 6, 'boosting_type': 'Plain', 'bootstrap_type': 'MVS', 'l2_leaf_reg': 5.502934043293859, 'leaf_estimation_iterations': 2, 'learning_rate': 0.06575228266401553}. Best is trial 3 with value: 0.07797535264393758.\u001b[0m\n",
      "\u001b[32m[I 2022-12-12 03:16:55,400]\u001b[0m Trial 23 finished with value: 0.08590212863885448 and parameters: {'colsample_bylevel': 0.07641293027599706, 'depth': 8, 'boosting_type': 'Plain', 'bootstrap_type': 'MVS', 'l2_leaf_reg': 3.6786539095318553, 'leaf_estimation_iterations': 4, 'learning_rate': 0.9218378331848387}. Best is trial 3 with value: 0.07797535264393758.\u001b[0m\n",
      "\u001b[32m[I 2022-12-12 03:17:17,912]\u001b[0m Trial 24 finished with value: 0.07817723198491838 and parameters: {'colsample_bylevel': 0.09776306137856822, 'depth': 7, 'boosting_type': 'Plain', 'bootstrap_type': 'MVS', 'l2_leaf_reg': 6.707427638104072, 'leaf_estimation_iterations': 3, 'learning_rate': 0.286726777981608}. Best is trial 3 with value: 0.07797535264393758.\u001b[0m\n",
      "\u001b[32m[I 2022-12-12 03:17:52,688]\u001b[0m Trial 25 finished with value: 0.07786594683769554 and parameters: {'colsample_bylevel': 0.09895281353002769, 'depth': 9, 'boosting_type': 'Plain', 'bootstrap_type': 'MVS', 'l2_leaf_reg': 7.117148592122497, 'leaf_estimation_iterations': 5, 'learning_rate': 0.2195222439602141}. Best is trial 25 with value: 0.07786594683769554.\u001b[0m\n",
      "\u001b[32m[I 2022-12-12 03:18:27,015]\u001b[0m Trial 26 finished with value: 0.07820089710125189 and parameters: {'colsample_bylevel': 0.09704521689639799, 'depth': 9, 'boosting_type': 'Plain', 'bootstrap_type': 'MVS', 'l2_leaf_reg': 8.574252534884211, 'leaf_estimation_iterations': 5, 'learning_rate': 0.15924880685184176}. Best is trial 25 with value: 0.07786594683769554.\u001b[0m\n",
      "\u001b[32m[I 2022-12-12 03:19:06,098]\u001b[0m Trial 27 finished with value: 0.18899157314683288 and parameters: {'colsample_bylevel': 0.0994662464918149, 'depth': 9, 'boosting_type': 'Plain', 'bootstrap_type': 'Bayesian', 'l2_leaf_reg': 6.988240959032994, 'leaf_estimation_iterations': 6, 'learning_rate': 0.0057561893336595385, 'bagging_temperature': 6.946374142113978}. Best is trial 25 with value: 0.07786594683769554.\u001b[0m\n",
      "\u001b[32m[I 2022-12-12 03:19:37,361]\u001b[0m Trial 28 finished with value: 0.0839426411427537 and parameters: {'colsample_bylevel': 0.08974277328562785, 'depth': 8, 'boosting_type': 'Plain', 'bootstrap_type': 'Bernoulli', 'l2_leaf_reg': 7.247374056559506, 'leaf_estimation_iterations': 5, 'learning_rate': 0.05833848606793708, 'subsample': 0.9741125776455517}. Best is trial 25 with value: 0.07786594683769554.\u001b[0m\n",
      "\u001b[32m[I 2022-12-12 03:20:11,845]\u001b[0m Trial 29 finished with value: 0.08010355672755545 and parameters: {'colsample_bylevel': 0.0919856239595108, 'depth': 8, 'boosting_type': 'Plain', 'bootstrap_type': 'MVS', 'l2_leaf_reg': 8.7097414933003, 'leaf_estimation_iterations': 7, 'learning_rate': 0.5596724587625084}. Best is trial 25 with value: 0.07786594683769554.\u001b[0m\n",
      "\u001b[32m[I 2022-12-12 03:20:33,943]\u001b[0m Trial 30 finished with value: 0.07990960267228588 and parameters: {'colsample_bylevel': 0.09996591396886356, 'depth': 4, 'boosting_type': 'Plain', 'bootstrap_type': 'MVS', 'l2_leaf_reg': 7.826575121792832, 'leaf_estimation_iterations': 5, 'learning_rate': 0.4417017014446277}. Best is trial 25 with value: 0.07786594683769554.\u001b[0m\n",
      "\u001b[32m[I 2022-12-12 03:21:08,540]\u001b[0m Trial 31 finished with value: 0.07838222153202562 and parameters: {'colsample_bylevel': 0.0955530695462305, 'depth': 9, 'boosting_type': 'Plain', 'bootstrap_type': 'MVS', 'l2_leaf_reg': 8.534896948719826, 'leaf_estimation_iterations': 5, 'learning_rate': 0.15817670999394404}. Best is trial 25 with value: 0.07786594683769554.\u001b[0m\n",
      "\u001b[32m[I 2022-12-12 03:21:38,599]\u001b[0m Trial 32 finished with value: 0.07808886518787743 and parameters: {'colsample_bylevel': 0.08658668477561288, 'depth': 9, 'boosting_type': 'Plain', 'bootstrap_type': 'MVS', 'l2_leaf_reg': 6.553988472133798, 'leaf_estimation_iterations': 4, 'learning_rate': 0.20598240510185808}. Best is trial 25 with value: 0.07786594683769554.\u001b[0m\n",
      "\u001b[32m[I 2022-12-12 03:22:08,299]\u001b[0m Trial 33 finished with value: 0.07810268926483904 and parameters: {'colsample_bylevel': 0.08721651892294963, 'depth': 9, 'boosting_type': 'Plain', 'bootstrap_type': 'MVS', 'l2_leaf_reg': 6.581766936699546, 'leaf_estimation_iterations': 4, 'learning_rate': 0.25155647057091474}. Best is trial 25 with value: 0.07786594683769554.\u001b[0m\n",
      "\u001b[32m[I 2022-12-12 03:22:39,788]\u001b[0m Trial 34 finished with value: 0.0962687784609384 and parameters: {'colsample_bylevel': 0.08623375353146953, 'depth': 9, 'boosting_type': 'Plain', 'bootstrap_type': 'Bayesian', 'l2_leaf_reg': 6.123071868269673, 'leaf_estimation_iterations': 4, 'learning_rate': 0.021038261399756793, 'bagging_temperature': 0.20622023001887158}. Best is trial 25 with value: 0.07786594683769554.\u001b[0m\n",
      "\u001b[32m[I 2022-12-12 03:23:05,697]\u001b[0m Trial 35 finished with value: 0.0811783258138635 and parameters: {'colsample_bylevel': 0.08273995593298235, 'depth': 8, 'boosting_type': 'Plain', 'bootstrap_type': 'MVS', 'l2_leaf_reg': 4.660833262403581, 'leaf_estimation_iterations': 4, 'learning_rate': 0.0954250908509615}. Best is trial 25 with value: 0.07786594683769554.\u001b[0m\n",
      "\u001b[32m[I 2022-12-12 03:23:23,642]\u001b[0m Trial 36 finished with value: 0.1251564731430445 and parameters: {'colsample_bylevel': 0.039576306092122114, 'depth': 1, 'boosting_type': 'Plain', 'bootstrap_type': 'Bayesian', 'l2_leaf_reg': 5.997915948922983, 'leaf_estimation_iterations': 6, 'learning_rate': 0.05220206904041678, 'bagging_temperature': 7.516085152197025}. Best is trial 25 with value: 0.07786594683769554.\u001b[0m\n",
      "\u001b[32m[I 2022-12-12 03:23:39,605]\u001b[0m Trial 37 finished with value: 0.11225818002932017 and parameters: {'colsample_bylevel': 0.09096756986641094, 'depth': 2, 'boosting_type': 'Plain', 'bootstrap_type': 'MVS', 'l2_leaf_reg': 7.65777828280377, 'leaf_estimation_iterations': 4, 'learning_rate': 0.027657398046537617}. Best is trial 25 with value: 0.07786594683769554.\u001b[0m\n",
      "\u001b[32m[I 2022-12-12 03:24:14,258]\u001b[0m Trial 38 finished with value: 0.08237805499267654 and parameters: {'colsample_bylevel': 0.07659141530649896, 'depth': 9, 'boosting_type': 'Plain', 'bootstrap_type': 'MVS', 'l2_leaf_reg': 6.598393708206939, 'leaf_estimation_iterations': 6, 'learning_rate': 0.6547247929150076}. Best is trial 25 with value: 0.07786594683769554.\u001b[0m\n",
      "\u001b[32m[I 2022-12-12 03:24:45,856]\u001b[0m Trial 39 finished with value: 0.08073926621904018 and parameters: {'colsample_bylevel': 0.09252076591818574, 'depth': 8, 'boosting_type': 'Plain', 'bootstrap_type': 'Bernoulli', 'l2_leaf_reg': 5.781625972521742, 'leaf_estimation_iterations': 8, 'learning_rate': 0.11268142141660452, 'subsample': 0.4226783858325116}. Best is trial 25 with value: 0.07786594683769554.\u001b[0m\n",
      "\u001b[32m[I 2022-12-12 03:25:03,888]\u001b[0m Trial 40 finished with value: 0.09327609406684867 and parameters: {'colsample_bylevel': 0.05663721746102778, 'depth': 4, 'boosting_type': 'Plain', 'bootstrap_type': 'Bayesian', 'l2_leaf_reg': 4.5351334795667775, 'leaf_estimation_iterations': 4, 'learning_rate': 0.40599867287795344, 'bagging_temperature': 5.92545776785672}. Best is trial 25 with value: 0.07786594683769554.\u001b[0m\n",
      "\u001b[32m[I 2022-12-12 03:25:28,319]\u001b[0m Trial 41 finished with value: 0.07798681094872591 and parameters: {'colsample_bylevel': 0.09422930180764123, 'depth': 9, 'boosting_type': 'Plain', 'bootstrap_type': 'MVS', 'l2_leaf_reg': 6.837183490079872, 'leaf_estimation_iterations': 2, 'learning_rate': 0.2375919971056477}. Best is trial 25 with value: 0.07786594683769554.\u001b[0m\n",
      "\u001b[32m[I 2022-12-12 03:25:52,300]\u001b[0m Trial 42 finished with value: 0.07776126562583752 and parameters: {'colsample_bylevel': 0.0877477403188392, 'depth': 9, 'boosting_type': 'Plain', 'bootstrap_type': 'MVS', 'l2_leaf_reg': 7.329435961898886, 'leaf_estimation_iterations': 2, 'learning_rate': 0.2260959094277603}. Best is trial 42 with value: 0.07776126562583752.\u001b[0m\n",
      "\u001b[32m[I 2022-12-12 03:26:11,313]\u001b[0m Trial 43 finished with value: 0.0782207508336893 and parameters: {'colsample_bylevel': 0.09349958360645974, 'depth': 9, 'boosting_type': 'Plain', 'bootstrap_type': 'MVS', 'l2_leaf_reg': 7.503517524693163, 'leaf_estimation_iterations': 1, 'learning_rate': 0.205641911501742}. Best is trial 42 with value: 0.07776126562583752.\u001b[0m\n",
      "\u001b[32m[I 2022-12-12 03:26:22,014]\u001b[0m Trial 44 finished with value: 0.09427446785736712 and parameters: {'colsample_bylevel': 0.010537915742682293, 'depth': 9, 'boosting_type': 'Plain', 'bootstrap_type': 'MVS', 'l2_leaf_reg': 7.038208163449054, 'leaf_estimation_iterations': 2, 'learning_rate': 0.09868913786254493}. Best is trial 42 with value: 0.07776126562583752.\u001b[0m\n",
      "\u001b[32m[I 2022-12-12 03:26:36,850]\u001b[0m Trial 45 finished with value: 0.07919146746208092 and parameters: {'colsample_bylevel': 0.08406279838121668, 'depth': 8, 'boosting_type': 'Plain', 'bootstrap_type': 'MVS', 'l2_leaf_reg': 9.086491796220074, 'leaf_estimation_iterations': 1, 'learning_rate': 0.19021192885259428}. Best is trial 42 with value: 0.07776126562583752.\u001b[0m\n",
      "\u001b[32m[I 2022-12-12 03:26:58,094]\u001b[0m Trial 46 finished with value: 0.08881475668517345 and parameters: {'colsample_bylevel': 0.07797882103347635, 'depth': 9, 'boosting_type': 'Plain', 'bootstrap_type': 'MVS', 'l2_leaf_reg': 7.377253779592012, 'leaf_estimation_iterations': 2, 'learning_rate': 0.041013716709867615}. Best is trial 42 with value: 0.07776126562583752.\u001b[0m\n",
      "\u001b[32m[I 2022-12-12 03:27:12,938]\u001b[0m Trial 47 finished with value: 0.16634826878811215 and parameters: {'colsample_bylevel': 0.019698598262809806, 'depth': 8, 'boosting_type': 'Plain', 'bootstrap_type': 'MVS', 'l2_leaf_reg': 8.17460968259311, 'leaf_estimation_iterations': 3, 'learning_rate': 0.008976078642082731}. Best is trial 42 with value: 0.07776126562583752.\u001b[0m\n",
      "\u001b[32m[I 2022-12-12 03:27:37,234]\u001b[0m Trial 48 finished with value: 0.07945368039319217 and parameters: {'colsample_bylevel': 0.09457317554262916, 'depth': 9, 'boosting_type': 'Plain', 'bootstrap_type': 'MVS', 'l2_leaf_reg': 6.464383330407641, 'leaf_estimation_iterations': 2, 'learning_rate': 0.12455328319948697}. Best is trial 42 with value: 0.07776126562583752.\u001b[0m\n",
      "\u001b[32m[I 2022-12-12 03:28:14,046]\u001b[0m Trial 49 finished with value: 0.080136792400521 and parameters: {'colsample_bylevel': 0.06985664010240297, 'depth': 7, 'boosting_type': 'Ordered', 'bootstrap_type': 'Bernoulli', 'l2_leaf_reg': 8.110058995473985, 'leaf_estimation_iterations': 1, 'learning_rate': 0.7454398244660537, 'subsample': 0.9985520068388496}. Best is trial 42 with value: 0.07776126562583752.\u001b[0m\n",
      "\u001b[32m[I 2022-12-12 03:28:43,396]\u001b[0m Trial 50 finished with value: 0.0822993733936546 and parameters: {'colsample_bylevel': 0.0886312876695396, 'depth': 8, 'boosting_type': 'Plain', 'bootstrap_type': 'MVS', 'l2_leaf_reg': 5.536730538673365, 'leaf_estimation_iterations': 5, 'learning_rate': 0.07926096984067815}. Best is trial 42 with value: 0.07776126562583752.\u001b[0m\n",
      "\u001b[32m[I 2022-12-12 03:29:13,397]\u001b[0m Trial 51 finished with value: 0.07769538602762678 and parameters: {'colsample_bylevel': 0.08696813905925305, 'depth': 9, 'boosting_type': 'Plain', 'bootstrap_type': 'MVS', 'l2_leaf_reg': 6.742374401379885, 'leaf_estimation_iterations': 4, 'learning_rate': 0.2345541820393698}. Best is trial 51 with value: 0.07769538602762678.\u001b[0m\n",
      "\u001b[32m[I 2022-12-12 03:29:41,454]\u001b[0m Trial 52 finished with value: 0.08005246855710856 and parameters: {'colsample_bylevel': 0.07379301852156447, 'depth': 9, 'boosting_type': 'Plain', 'bootstrap_type': 'MVS', 'l2_leaf_reg': 6.953577727141973, 'leaf_estimation_iterations': 4, 'learning_rate': 0.47449427573216163}. Best is trial 51 with value: 0.07769538602762678.\u001b[0m\n",
      "\u001b[32m[I 2022-12-12 03:30:08,296]\u001b[0m Trial 53 finished with value: 0.07857407545183355 and parameters: {'colsample_bylevel': 0.08025372334603713, 'depth': 9, 'boosting_type': 'Plain', 'bootstrap_type': 'MVS', 'l2_leaf_reg': 6.245011841554806, 'leaf_estimation_iterations': 3, 'learning_rate': 0.3623611884107191}. Best is trial 51 with value: 0.07769538602762678.\u001b[0m\n",
      "\u001b[32m[I 2022-12-12 03:30:32,469]\u001b[0m Trial 54 finished with value: 0.07785206873033938 and parameters: {'colsample_bylevel': 0.09018553240108837, 'depth': 9, 'boosting_type': 'Plain', 'bootstrap_type': 'MVS', 'l2_leaf_reg': 4.789497770285052, 'leaf_estimation_iterations': 2, 'learning_rate': 0.22417101564742167}. Best is trial 51 with value: 0.07769538602762678.\u001b[0m\n",
      "\u001b[32m[I 2022-12-12 03:30:53,565]\u001b[0m Trial 55 finished with value: 0.0783534904322463 and parameters: {'colsample_bylevel': 0.09011848739873926, 'depth': 8, 'boosting_type': 'Plain', 'bootstrap_type': 'MVS', 'l2_leaf_reg': 3.3964922128029436, 'leaf_estimation_iterations': 2, 'learning_rate': 0.25223723483635146}. Best is trial 51 with value: 0.07769538602762678.\u001b[0m\n",
      "\u001b[32m[I 2022-12-12 03:32:07,626]\u001b[0m Trial 56 finished with value: 0.0800728994825422 and parameters: {'colsample_bylevel': 0.09535791087479085, 'depth': 9, 'boosting_type': 'Ordered', 'bootstrap_type': 'MVS', 'l2_leaf_reg': 2.699215283335083, 'leaf_estimation_iterations': 1, 'learning_rate': 0.1341452534368062}. Best is trial 51 with value: 0.07769538602762678.\u001b[0m\n",
      "\u001b[32m[I 2022-12-12 03:32:23,079]\u001b[0m Trial 57 finished with value: 0.07937346871914473 and parameters: {'colsample_bylevel': 0.03879956710322437, 'depth': 8, 'boosting_type': 'Plain', 'bootstrap_type': 'MVS', 'l2_leaf_reg': 9.97745615577001, 'leaf_estimation_iterations': 2, 'learning_rate': 0.3272922637980087}. Best is trial 51 with value: 0.07769538602762678.\u001b[0m\n",
      "\u001b[32m[I 2022-12-12 03:32:46,121]\u001b[0m Trial 58 finished with value: 0.09754354168251769 and parameters: {'colsample_bylevel': 0.08324913392054221, 'depth': 7, 'boosting_type': 'Plain', 'bootstrap_type': 'Bayesian', 'l2_leaf_reg': 4.952941781747165, 'leaf_estimation_iterations': 3, 'learning_rate': 0.1748497166043773, 'bagging_temperature': 9.839228502530649}. Best is trial 51 with value: 0.07769538602762678.\u001b[0m\n",
      "\u001b[32m[I 2022-12-12 03:33:13,556]\u001b[0m Trial 59 finished with value: 0.35437751569875864 and parameters: {'colsample_bylevel': 0.09606585847924824, 'depth': 9, 'boosting_type': 'Plain', 'bootstrap_type': 'MVS', 'l2_leaf_reg': 5.7338045249686775, 'leaf_estimation_iterations': 3, 'learning_rate': 0.0031208972897914956}. Best is trial 51 with value: 0.07769538602762678.\u001b[0m\n",
      "\u001b[32m[I 2022-12-12 03:33:37,818]\u001b[0m Trial 60 finished with value: 0.08141193875450997 and parameters: {'colsample_bylevel': 0.06256360909807751, 'depth': 6, 'boosting_type': 'Ordered', 'bootstrap_type': 'Bernoulli', 'l2_leaf_reg': 0.21135187045898984, 'leaf_estimation_iterations': 2, 'learning_rate': 0.5405480169405632, 'subsample': 0.4041760864423082}. Best is trial 51 with value: 0.07769538602762678.\u001b[0m\n",
      "\u001b[32m[I 2022-12-12 03:34:08,055]\u001b[0m Trial 61 finished with value: 0.07808545376176812 and parameters: {'colsample_bylevel': 0.08601591055182889, 'depth': 9, 'boosting_type': 'Plain', 'bootstrap_type': 'MVS', 'l2_leaf_reg': 6.9307227475628475, 'leaf_estimation_iterations': 4, 'learning_rate': 0.21281866340437763}. Best is trial 51 with value: 0.07769538602762678.\u001b[0m\n",
      "\u001b[32m[I 2022-12-12 03:34:42,216]\u001b[0m Trial 62 finished with value: 0.07783478783611239 and parameters: {'colsample_bylevel': 0.0907443758203326, 'depth': 9, 'boosting_type': 'Plain', 'bootstrap_type': 'MVS', 'l2_leaf_reg': 6.847346116090572, 'leaf_estimation_iterations': 5, 'learning_rate': 0.21541583099522843}. Best is trial 51 with value: 0.07769538602762678.\u001b[0m\n",
      "\u001b[32m[I 2022-12-12 03:35:11,162]\u001b[0m Trial 63 finished with value: 0.07857901700578436 and parameters: {'colsample_bylevel': 0.09167695768296677, 'depth': 8, 'boosting_type': 'Plain', 'bootstrap_type': 'MVS', 'l2_leaf_reg': 7.872607206175084, 'leaf_estimation_iterations': 5, 'learning_rate': 0.371045894926235}. Best is trial 51 with value: 0.07769538602762678.\u001b[0m\n",
      "\u001b[32m[I 2022-12-12 03:35:42,790]\u001b[0m Trial 64 finished with value: 0.07858517150633612 and parameters: {'colsample_bylevel': 0.08082038746783797, 'depth': 9, 'boosting_type': 'Plain', 'bootstrap_type': 'MVS', 'l2_leaf_reg': 4.1620977535662345, 'leaf_estimation_iterations': 5, 'learning_rate': 0.26331465274668264}. Best is trial 51 with value: 0.07769538602762678.\u001b[0m\n",
      "\u001b[32m[I 2022-12-12 03:36:15,883]\u001b[0m Trial 65 finished with value: 0.0780197721384055 and parameters: {'colsample_bylevel': 0.089269082104182, 'depth': 9, 'boosting_type': 'Plain', 'bootstrap_type': 'MVS', 'l2_leaf_reg': 5.1897410170339695, 'leaf_estimation_iterations': 5, 'learning_rate': 0.1574043638075511}. Best is trial 51 with value: 0.07769538602762678.\u001b[0m\n",
      "\u001b[32m[I 2022-12-12 03:36:49,384]\u001b[0m Trial 66 finished with value: 0.08173504279110227 and parameters: {'colsample_bylevel': 0.097486866464017, 'depth': 8, 'boosting_type': 'Plain', 'bootstrap_type': 'MVS', 'l2_leaf_reg': 7.291620811548154, 'leaf_estimation_iterations': 6, 'learning_rate': 0.08129861202430488}. Best is trial 51 with value: 0.07769538602762678.\u001b[0m\n",
      "\u001b[32m[I 2022-12-12 03:37:17,513]\u001b[0m Trial 67 finished with value: 0.07836900806194233 and parameters: {'colsample_bylevel': 0.09305402745292325, 'depth': 9, 'boosting_type': 'Plain', 'bootstrap_type': 'MVS', 'l2_leaf_reg': 6.194918196096814, 'leaf_estimation_iterations': 3, 'learning_rate': 0.2995529330507549}. Best is trial 51 with value: 0.07769538602762678.\u001b[0m\n",
      "\u001b[32m[I 2022-12-12 03:37:59,008]\u001b[0m Trial 68 finished with value: 0.07954453859569517 and parameters: {'colsample_bylevel': 0.08450202388916497, 'depth': 8, 'boosting_type': 'Plain', 'bootstrap_type': 'MVS', 'l2_leaf_reg': 4.794284901659581, 'leaf_estimation_iterations': 10, 'learning_rate': 0.1360092050307392}. Best is trial 51 with value: 0.07769538602762678.\u001b[0m\n",
      "\u001b[32m[I 2022-12-12 03:38:20,739]\u001b[0m Trial 69 finished with value: 0.08882086090868026 and parameters: {'colsample_bylevel': 0.07461776472316341, 'depth': 2, 'boosting_type': 'Plain', 'bootstrap_type': 'MVS', 'l2_leaf_reg': 1.939930085324597, 'leaf_estimation_iterations': 7, 'learning_rate': 0.23364373946471892}. Best is trial 51 with value: 0.07769538602762678.\u001b[0m\n",
      "\u001b[32m[I 2022-12-12 03:38:43,765]\u001b[0m Trial 70 finished with value: 0.08165291333677425 and parameters: {'colsample_bylevel': 0.09983442471085403, 'depth': 4, 'boosting_type': 'Ordered', 'bootstrap_type': 'MVS', 'l2_leaf_reg': 5.777836525600183, 'leaf_estimation_iterations': 1, 'learning_rate': 0.7372532286407943}. Best is trial 51 with value: 0.07769538602762678.\u001b[0m\n",
      "\u001b[32m[I 2022-12-12 03:39:16,752]\u001b[0m Trial 71 finished with value: 0.07779449975739976 and parameters: {'colsample_bylevel': 0.08851925063751243, 'depth': 9, 'boosting_type': 'Plain', 'bootstrap_type': 'MVS', 'l2_leaf_reg': 5.424826650309637, 'leaf_estimation_iterations': 5, 'learning_rate': 0.17412264565657964}. Best is trial 51 with value: 0.07769538602762678.\u001b[0m\n",
      "\u001b[32m[I 2022-12-12 03:39:49,433]\u001b[0m Trial 72 finished with value: 0.07779564329024678 and parameters: {'colsample_bylevel': 0.08851743762264178, 'depth': 9, 'boosting_type': 'Plain', 'bootstrap_type': 'MVS', 'l2_leaf_reg': 5.313812073469686, 'leaf_estimation_iterations': 5, 'learning_rate': 0.17337469971155475}. Best is trial 51 with value: 0.07769538602762678.\u001b[0m\n",
      "\u001b[32m[I 2022-12-12 03:40:26,682]\u001b[0m Trial 73 finished with value: 0.07796364119982346 and parameters: {'colsample_bylevel': 0.08891206805436623, 'depth': 9, 'boosting_type': 'Plain', 'bootstrap_type': 'MVS', 'l2_leaf_reg': 4.3772006794427805, 'leaf_estimation_iterations': 6, 'learning_rate': 0.17579394835930207}. Best is trial 51 with value: 0.07769538602762678.\u001b[0m\n",
      "\u001b[32m[I 2022-12-12 03:41:03,760]\u001b[0m Trial 74 finished with value: 0.07956584317666786 and parameters: {'colsample_bylevel': 0.08690378627277934, 'depth': 9, 'boosting_type': 'Plain', 'bootstrap_type': 'MVS', 'l2_leaf_reg': 4.44256424398208, 'leaf_estimation_iterations': 6, 'learning_rate': 0.1077564175142203}. Best is trial 51 with value: 0.07769538602762678.\u001b[0m\n",
      "\u001b[32m[I 2022-12-12 03:41:37,026]\u001b[0m Trial 75 finished with value: 0.0789405869016125 and parameters: {'colsample_bylevel': 0.08237345314674918, 'depth': 9, 'boosting_type': 'Plain', 'bootstrap_type': 'MVS', 'l2_leaf_reg': 3.963143798952276, 'leaf_estimation_iterations': 5, 'learning_rate': 0.14857129967947227}. Best is trial 51 with value: 0.07769538602762678.\u001b[0m\n",
      "\u001b[32m[I 2022-12-12 03:42:08,247]\u001b[0m Trial 76 finished with value: 0.07842503066781324 and parameters: {'colsample_bylevel': 0.08977468860106252, 'depth': 8, 'boosting_type': 'Plain', 'bootstrap_type': 'MVS', 'l2_leaf_reg': 3.1535762089162636, 'leaf_estimation_iterations': 6, 'learning_rate': 0.1883868113145852}. Best is trial 51 with value: 0.07769538602762678.\u001b[0m\n",
      "\u001b[32m[I 2022-12-12 03:42:46,014]\u001b[0m Trial 77 finished with value: 0.07858134707963238 and parameters: {'colsample_bylevel': 0.0975021337411108, 'depth': 9, 'boosting_type': 'Plain', 'bootstrap_type': 'Bayesian', 'l2_leaf_reg': 5.388921293951414, 'leaf_estimation_iterations': 5, 'learning_rate': 0.3221620084513783, 'bagging_temperature': 0.1938215174654454}. Best is trial 51 with value: 0.07769538602762678.\u001b[0m\n",
      "\u001b[32m[I 2022-12-12 03:43:21,479]\u001b[0m Trial 78 finished with value: 0.08045300403026383 and parameters: {'colsample_bylevel': 0.07845808725979385, 'depth': 9, 'boosting_type': 'Plain', 'bootstrap_type': 'MVS', 'l2_leaf_reg': 4.907425144773316, 'leaf_estimation_iterations': 6, 'learning_rate': 0.43334784539102056}. Best is trial 51 with value: 0.07769538602762678.\u001b[0m\n",
      "\u001b[32m[I 2022-12-12 03:44:03,308]\u001b[0m Trial 79 finished with value: 0.07968866077529564 and parameters: {'colsample_bylevel': 0.09176015618964095, 'depth': 9, 'boosting_type': 'Plain', 'bootstrap_type': 'Bernoulli', 'l2_leaf_reg': 3.647865157013695, 'leaf_estimation_iterations': 8, 'learning_rate': 0.11887391819537993, 'subsample': 0.771735414875096}. Best is trial 51 with value: 0.07769538602762678.\u001b[0m\n",
      "\u001b[32m[I 2022-12-12 03:44:34,131]\u001b[0m Trial 80 finished with value: 0.08118605695431216 and parameters: {'colsample_bylevel': 0.0879834802930933, 'depth': 8, 'boosting_type': 'Plain', 'bootstrap_type': 'MVS', 'l2_leaf_reg': 4.126133805731453, 'leaf_estimation_iterations': 6, 'learning_rate': 0.09020511443193557}. Best is trial 51 with value: 0.07769538602762678.\u001b[0m\n",
      "\u001b[32m[I 2022-12-12 03:45:05,614]\u001b[0m Trial 81 finished with value: 0.07796475675270952 and parameters: {'colsample_bylevel': 0.08186343862058212, 'depth': 9, 'boosting_type': 'Plain', 'bootstrap_type': 'MVS', 'l2_leaf_reg': 6.371056138189204, 'leaf_estimation_iterations': 5, 'learning_rate': 0.1747338135049609}. Best is trial 51 with value: 0.07769538602762678.\u001b[0m\n",
      "\u001b[32m[I 2022-12-12 03:45:37,379]\u001b[0m Trial 82 finished with value: 0.07827101198307128 and parameters: {'colsample_bylevel': 0.08511308443330004, 'depth': 9, 'boosting_type': 'Plain', 'bootstrap_type': 'MVS', 'l2_leaf_reg': 6.442597686267522, 'leaf_estimation_iterations': 5, 'learning_rate': 0.17436544907606738}. Best is trial 51 with value: 0.07769538602762678.\u001b[0m\n",
      "\u001b[32m[I 2022-12-12 03:46:17,114]\u001b[0m Trial 83 finished with value: 0.07887938630980461 and parameters: {'colsample_bylevel': 0.09415922480366672, 'depth': 9, 'boosting_type': 'Plain', 'bootstrap_type': 'MVS', 'l2_leaf_reg': 7.127810013001214, 'leaf_estimation_iterations': 7, 'learning_rate': 0.2864915183413343}. Best is trial 51 with value: 0.07769538602762678.\u001b[0m\n",
      "\u001b[32m[I 2022-12-12 03:46:49,600]\u001b[0m Trial 84 finished with value: 0.07844393172188449 and parameters: {'colsample_bylevel': 0.08104576973774301, 'depth': 9, 'boosting_type': 'Plain', 'bootstrap_type': 'MVS', 'l2_leaf_reg': 5.834057592972443, 'leaf_estimation_iterations': 5, 'learning_rate': 0.22536935891672713}. Best is trial 51 with value: 0.07769538602762678.\u001b[0m\n",
      "\u001b[32m[I 2022-12-12 03:47:23,716]\u001b[0m Trial 85 finished with value: 0.08315410697433487 and parameters: {'colsample_bylevel': 0.09047818270022955, 'depth': 8, 'boosting_type': 'Plain', 'bootstrap_type': 'MVS', 'l2_leaf_reg': 7.532690169863851, 'leaf_estimation_iterations': 7, 'learning_rate': 0.06667208915846588}. Best is trial 51 with value: 0.07769538602762678.\u001b[0m\n",
      "\u001b[32m[I 2022-12-12 03:47:53,329]\u001b[0m Trial 86 finished with value: 0.07873083030098593 and parameters: {'colsample_bylevel': 0.08773682128211098, 'depth': 9, 'boosting_type': 'Plain', 'bootstrap_type': 'MVS', 'l2_leaf_reg': 5.344433692480804, 'leaf_estimation_iterations': 4, 'learning_rate': 0.14100125994556403}. Best is trial 51 with value: 0.07769538602762678.\u001b[0m\n",
      "\u001b[32m[I 2022-12-12 03:48:24,289]\u001b[0m Trial 87 finished with value: 0.07861888456167204 and parameters: {'colsample_bylevel': 0.04837750779192911, 'depth': 9, 'boosting_type': 'Plain', 'bootstrap_type': 'MVS', 'l2_leaf_reg': 6.738091096899519, 'leaf_estimation_iterations': 6, 'learning_rate': 0.18997453864180644}. Best is trial 51 with value: 0.07769538602762678.\u001b[0m\n",
      "\u001b[32m[I 2022-12-12 03:48:57,700]\u001b[0m Trial 88 finished with value: 0.07890371866045101 and parameters: {'colsample_bylevel': 0.09714313245230208, 'depth': 9, 'boosting_type': 'Plain', 'bootstrap_type': 'MVS', 'l2_leaf_reg': 6.350141452474716, 'leaf_estimation_iterations': 5, 'learning_rate': 0.38239547420895176}. Best is trial 51 with value: 0.07769538602762678.\u001b[0m\n",
      "\u001b[32m[I 2022-12-12 03:49:22,245]\u001b[0m Trial 89 finished with value: 0.07818983185109209 and parameters: {'colsample_bylevel': 0.07089727778673052, 'depth': 8, 'boosting_type': 'Plain', 'bootstrap_type': 'MVS', 'l2_leaf_reg': 6.017260594529057, 'leaf_estimation_iterations': 4, 'learning_rate': 0.2753278423611517}. Best is trial 51 with value: 0.07769538602762678.\u001b[0m\n",
      "\u001b[32m[I 2022-12-12 03:49:54,721]\u001b[0m Trial 90 finished with value: 0.5110235068482826 and parameters: {'colsample_bylevel': 0.0761020885174312, 'depth': 9, 'boosting_type': 'Plain', 'bootstrap_type': 'Bayesian', 'l2_leaf_reg': 4.407819368328811, 'leaf_estimation_iterations': 5, 'learning_rate': 0.0010306675682797365, 'bagging_temperature': 4.540641848032849}. Best is trial 51 with value: 0.07769538602762678.\u001b[0m\n",
      "\u001b[32m[I 2022-12-12 03:50:23,925]\u001b[0m Trial 91 finished with value: 0.07787450214338273 and parameters: {'colsample_bylevel': 0.08488740832002484, 'depth': 9, 'boosting_type': 'Plain', 'bootstrap_type': 'MVS', 'l2_leaf_reg': 5.627063272909223, 'leaf_estimation_iterations': 4, 'learning_rate': 0.17186786166517065}. Best is trial 51 with value: 0.07769538602762678.\u001b[0m\n",
      "\u001b[32m[I 2022-12-12 03:50:53,368]\u001b[0m Trial 92 finished with value: 0.07944823997383747 and parameters: {'colsample_bylevel': 0.08238738087238484, 'depth': 9, 'boosting_type': 'Plain', 'bootstrap_type': 'MVS', 'l2_leaf_reg': 4.71411306256612, 'leaf_estimation_iterations': 4, 'learning_rate': 0.1204636399835959}. Best is trial 51 with value: 0.07769538602762678.\u001b[0m\n",
      "\u001b[32m[I 2022-12-12 03:51:26,593]\u001b[0m Trial 93 finished with value: 0.07783267816231301 and parameters: {'colsample_bylevel': 0.08554331773895424, 'depth': 9, 'boosting_type': 'Plain', 'bootstrap_type': 'MVS', 'l2_leaf_reg': 5.09333238934318, 'leaf_estimation_iterations': 5, 'learning_rate': 0.16598801984615186}. Best is trial 51 with value: 0.07769538602762678.\u001b[0m\n",
      "\u001b[32m[I 2022-12-12 03:51:52,424]\u001b[0m Trial 94 finished with value: 0.07791510953805345 and parameters: {'colsample_bylevel': 0.0843611793668057, 'depth': 8, 'boosting_type': 'Plain', 'bootstrap_type': 'MVS', 'l2_leaf_reg': 5.0985286908004195, 'leaf_estimation_iterations': 4, 'learning_rate': 0.22263885256649585}. Best is trial 51 with value: 0.07769538602762678.\u001b[0m\n",
      "\u001b[32m[I 2022-12-12 03:52:17,614]\u001b[0m Trial 95 finished with value: 0.07791601326072899 and parameters: {'colsample_bylevel': 0.0851871459929087, 'depth': 8, 'boosting_type': 'Plain', 'bootstrap_type': 'MVS', 'l2_leaf_reg': 5.584233840313461, 'leaf_estimation_iterations': 4, 'learning_rate': 0.2172807220830591}. Best is trial 51 with value: 0.07769538602762678.\u001b[0m\n",
      "\u001b[32m[I 2022-12-12 03:53:02,021]\u001b[0m Trial 96 finished with value: 0.07948003735288241 and parameters: {'colsample_bylevel': 0.09271375184933331, 'depth': 5, 'boosting_type': 'Ordered', 'bootstrap_type': 'MVS', 'l2_leaf_reg': 5.151508289660639, 'leaf_estimation_iterations': 4, 'learning_rate': 0.32979283644099555}. Best is trial 51 with value: 0.07769538602762678.\u001b[0m\n",
      "\u001b[32m[I 2022-12-12 03:53:29,400]\u001b[0m Trial 97 finished with value: 0.0783657605475213 and parameters: {'colsample_bylevel': 0.07873631631087022, 'depth': 8, 'boosting_type': 'Plain', 'bootstrap_type': 'MVS', 'l2_leaf_reg': 5.020804632756441, 'leaf_estimation_iterations': 5, 'learning_rate': 0.254954261530561}. Best is trial 51 with value: 0.07769538602762678.\u001b[0m\n",
      "\u001b[32m[I 2022-12-12 03:53:52,548]\u001b[0m Trial 98 finished with value: 0.07912406433819182 and parameters: {'colsample_bylevel': 0.09510677665452716, 'depth': 9, 'boosting_type': 'Plain', 'bootstrap_type': 'Bernoulli', 'l2_leaf_reg': 5.504106719371921, 'leaf_estimation_iterations': 4, 'learning_rate': 0.1501049293635868, 'subsample': 0.33307219505718255}. Best is trial 51 with value: 0.07769538602762678.\u001b[0m\n",
      "\u001b[32m[I 2022-12-12 03:54:21,417]\u001b[0m Trial 99 finished with value: 0.08089370501447446 and parameters: {'colsample_bylevel': 0.08452519871893063, 'depth': 9, 'boosting_type': 'Plain', 'bootstrap_type': 'MVS', 'l2_leaf_reg': 4.6231815717182565, 'leaf_estimation_iterations': 4, 'learning_rate': 0.46927934971887736}. Best is trial 51 with value: 0.07769538602762678.\u001b[0m\n"
     ]
    }
   ],
   "source": [
    "study = optuna.create_study(direction=\"minimize\")\n",
    "study.optimize(objective, n_trials=100, show_progress_bar=True)"
   ]
  },
  {
   "cell_type": "code",
   "execution_count": 208,
   "id": "b4f5b683-a704-4169-8fce-175d23f6c112",
   "metadata": {},
   "outputs": [
    {
     "data": {
      "text/plain": [
       "{'colsample_bylevel': 0.08696813905925305,\n",
       " 'depth': 9,\n",
       " 'boosting_type': 'Plain',\n",
       " 'bootstrap_type': 'MVS',\n",
       " 'l2_leaf_reg': 6.742374401379885,\n",
       " 'leaf_estimation_iterations': 4,\n",
       " 'learning_rate': 0.2345541820393698}"
      ]
     },
     "execution_count": 208,
     "metadata": {},
     "output_type": "execute_result"
    }
   ],
   "source": [
    "study.best_params"
   ]
  },
  {
   "cell_type": "code",
   "execution_count": 101,
   "id": "856ea1b2-838a-448b-87ae-ac1f0b5606cc",
   "metadata": {},
   "outputs": [],
   "source": [
    "best_params = {'colsample_bylevel': 0.08696813905925305,\n",
    " 'depth': 9,\n",
    " 'boosting_type': 'Plain',\n",
    " 'bootstrap_type': 'MVS',\n",
    " 'l2_leaf_reg': 6.742374401379885,\n",
    " 'leaf_estimation_iterations': 4,\n",
    " 'learning_rate': 0.2345541820393698}\n"
   ]
  },
  {
   "cell_type": "code",
   "execution_count": 102,
   "id": "8104af5b-1e04-410b-b775-2300c1a49ebe",
   "metadata": {},
   "outputs": [
    {
     "name": "stdout",
     "output_type": "stream",
     "text": [
      "0:\tlearn: 0.3529384\ttest: 0.3540479\tbest: 0.3540479 (0)\ttotal: 428ms\tremaining: 7m 7s\n",
      "1:\tlearn: 0.2131589\ttest: 0.2155274\tbest: 0.2155274 (1)\ttotal: 821ms\tremaining: 6m 49s\n",
      "2:\tlearn: 0.1532373\ttest: 0.1564820\tbest: 0.1564820 (2)\ttotal: 1.2s\tremaining: 6m 40s\n",
      "3:\tlearn: 0.1247261\ttest: 0.1279978\tbest: 0.1279978 (3)\ttotal: 1.61s\tremaining: 6m 42s\n",
      "4:\tlearn: 0.1111753\ttest: 0.1142412\tbest: 0.1142412 (4)\ttotal: 1.98s\tremaining: 6m 34s\n",
      "5:\tlearn: 0.1023665\ttest: 0.1053231\tbest: 0.1053231 (5)\ttotal: 2.27s\tremaining: 6m 16s\n",
      "6:\tlearn: 0.0977747\ttest: 0.1006415\tbest: 0.1006415 (6)\ttotal: 2.56s\tremaining: 6m 3s\n",
      "7:\tlearn: 0.0947204\ttest: 0.0975333\tbest: 0.0975333 (7)\ttotal: 2.94s\tremaining: 6m 4s\n",
      "8:\tlearn: 0.0924187\ttest: 0.0954169\tbest: 0.0954169 (8)\ttotal: 3.38s\tremaining: 6m 12s\n",
      "9:\tlearn: 0.0906659\ttest: 0.0937188\tbest: 0.0937188 (9)\ttotal: 3.86s\tremaining: 6m 21s\n",
      "10:\tlearn: 0.0892858\ttest: 0.0926065\tbest: 0.0926065 (10)\ttotal: 4.23s\tremaining: 6m 20s\n",
      "11:\tlearn: 0.0880500\ttest: 0.0913018\tbest: 0.0913018 (11)\ttotal: 4.57s\tremaining: 6m 16s\n",
      "12:\tlearn: 0.0868231\ttest: 0.0901397\tbest: 0.0901397 (12)\ttotal: 5.02s\tremaining: 6m 21s\n",
      "13:\tlearn: 0.0858970\ttest: 0.0891781\tbest: 0.0891781 (13)\ttotal: 5.42s\tremaining: 6m 21s\n",
      "14:\tlearn: 0.0849644\ttest: 0.0882942\tbest: 0.0882942 (14)\ttotal: 5.8s\tremaining: 6m 21s\n",
      "15:\tlearn: 0.0843645\ttest: 0.0876557\tbest: 0.0876557 (15)\ttotal: 6.24s\tremaining: 6m 23s\n",
      "16:\tlearn: 0.0836610\ttest: 0.0870371\tbest: 0.0870371 (16)\ttotal: 6.6s\tremaining: 6m 21s\n",
      "17:\tlearn: 0.0827876\ttest: 0.0864364\tbest: 0.0864364 (17)\ttotal: 6.93s\tremaining: 6m 18s\n",
      "18:\tlearn: 0.0824359\ttest: 0.0861703\tbest: 0.0861703 (18)\ttotal: 7.32s\tremaining: 6m 18s\n",
      "19:\tlearn: 0.0819004\ttest: 0.0855921\tbest: 0.0855921 (19)\ttotal: 7.75s\tremaining: 6m 19s\n",
      "20:\tlearn: 0.0814846\ttest: 0.0852680\tbest: 0.0852680 (20)\ttotal: 8.04s\tremaining: 6m 15s\n",
      "21:\tlearn: 0.0810019\ttest: 0.0847613\tbest: 0.0847613 (21)\ttotal: 8.43s\tremaining: 6m 14s\n",
      "22:\tlearn: 0.0806320\ttest: 0.0844336\tbest: 0.0844336 (22)\ttotal: 8.82s\tremaining: 6m 14s\n",
      "23:\tlearn: 0.0801477\ttest: 0.0841552\tbest: 0.0841552 (23)\ttotal: 9.27s\tremaining: 6m 17s\n",
      "24:\tlearn: 0.0797712\ttest: 0.0838936\tbest: 0.0838936 (24)\ttotal: 9.6s\tremaining: 6m 14s\n",
      "25:\tlearn: 0.0794029\ttest: 0.0835373\tbest: 0.0835373 (25)\ttotal: 9.89s\tremaining: 6m 10s\n",
      "26:\tlearn: 0.0789822\ttest: 0.0831146\tbest: 0.0831146 (26)\ttotal: 10.4s\tremaining: 6m 14s\n",
      "27:\tlearn: 0.0784516\ttest: 0.0826064\tbest: 0.0826064 (27)\ttotal: 10.8s\tremaining: 6m 13s\n",
      "28:\tlearn: 0.0781169\ttest: 0.0824209\tbest: 0.0824209 (28)\ttotal: 11.1s\tremaining: 6m 12s\n",
      "29:\tlearn: 0.0777979\ttest: 0.0822498\tbest: 0.0822498 (29)\ttotal: 11.5s\tremaining: 6m 12s\n",
      "30:\tlearn: 0.0775948\ttest: 0.0821593\tbest: 0.0821593 (30)\ttotal: 11.8s\tremaining: 6m 9s\n",
      "31:\tlearn: 0.0772805\ttest: 0.0820126\tbest: 0.0820126 (31)\ttotal: 12.1s\tremaining: 6m 6s\n",
      "32:\tlearn: 0.0770167\ttest: 0.0818663\tbest: 0.0818663 (32)\ttotal: 12.4s\tremaining: 6m 2s\n",
      "33:\tlearn: 0.0766891\ttest: 0.0817946\tbest: 0.0817946 (33)\ttotal: 12.7s\tremaining: 6m 1s\n",
      "34:\tlearn: 0.0764490\ttest: 0.0816893\tbest: 0.0816893 (34)\ttotal: 13.1s\tremaining: 6m 1s\n",
      "35:\tlearn: 0.0762901\ttest: 0.0815723\tbest: 0.0815723 (35)\ttotal: 13.6s\tremaining: 6m 5s\n",
      "36:\tlearn: 0.0760760\ttest: 0.0814899\tbest: 0.0814899 (36)\ttotal: 14s\tremaining: 6m 4s\n",
      "37:\tlearn: 0.0758302\ttest: 0.0813553\tbest: 0.0813553 (37)\ttotal: 14.4s\tremaining: 6m 3s\n",
      "38:\tlearn: 0.0756062\ttest: 0.0812604\tbest: 0.0812604 (38)\ttotal: 14.7s\tremaining: 6m 2s\n",
      "39:\tlearn: 0.0754323\ttest: 0.0811666\tbest: 0.0811666 (39)\ttotal: 15.1s\tremaining: 6m 1s\n",
      "40:\tlearn: 0.0751989\ttest: 0.0811291\tbest: 0.0811291 (40)\ttotal: 15.5s\tremaining: 6m 2s\n",
      "41:\tlearn: 0.0748860\ttest: 0.0809712\tbest: 0.0809712 (41)\ttotal: 16s\tremaining: 6m 4s\n",
      "42:\tlearn: 0.0746253\ttest: 0.0808699\tbest: 0.0808699 (42)\ttotal: 16.3s\tremaining: 6m 2s\n",
      "43:\tlearn: 0.0744300\ttest: 0.0807646\tbest: 0.0807646 (43)\ttotal: 16.7s\tremaining: 6m 2s\n",
      "44:\tlearn: 0.0741116\ttest: 0.0805259\tbest: 0.0805259 (44)\ttotal: 17s\tremaining: 6m\n",
      "45:\tlearn: 0.0739057\ttest: 0.0804231\tbest: 0.0804231 (45)\ttotal: 17.4s\tremaining: 6m\n",
      "46:\tlearn: 0.0736765\ttest: 0.0803348\tbest: 0.0803348 (46)\ttotal: 17.7s\tremaining: 5m 58s\n",
      "47:\tlearn: 0.0735204\ttest: 0.0802574\tbest: 0.0802574 (47)\ttotal: 18.1s\tremaining: 5m 59s\n",
      "48:\tlearn: 0.0733027\ttest: 0.0801765\tbest: 0.0801765 (48)\ttotal: 18.5s\tremaining: 5m 58s\n",
      "49:\tlearn: 0.0730741\ttest: 0.0800790\tbest: 0.0800790 (49)\ttotal: 19s\tremaining: 6m\n",
      "50:\tlearn: 0.0728596\ttest: 0.0799223\tbest: 0.0799223 (50)\ttotal: 19.4s\tremaining: 6m 1s\n",
      "51:\tlearn: 0.0726159\ttest: 0.0798586\tbest: 0.0798586 (51)\ttotal: 19.8s\tremaining: 6m\n",
      "52:\tlearn: 0.0724195\ttest: 0.0798028\tbest: 0.0798028 (52)\ttotal: 20.2s\tremaining: 6m 1s\n",
      "53:\tlearn: 0.0722020\ttest: 0.0796478\tbest: 0.0796478 (53)\ttotal: 20.6s\tremaining: 6m 1s\n",
      "54:\tlearn: 0.0719109\ttest: 0.0795128\tbest: 0.0795128 (54)\ttotal: 21s\tremaining: 6m 1s\n",
      "55:\tlearn: 0.0717106\ttest: 0.0794350\tbest: 0.0794350 (55)\ttotal: 21.4s\tremaining: 5m 59s\n",
      "56:\tlearn: 0.0715410\ttest: 0.0793966\tbest: 0.0793966 (56)\ttotal: 21.8s\tremaining: 6m\n",
      "57:\tlearn: 0.0713840\ttest: 0.0792798\tbest: 0.0792798 (57)\ttotal: 22.2s\tremaining: 6m\n",
      "58:\tlearn: 0.0712268\ttest: 0.0792238\tbest: 0.0792238 (58)\ttotal: 22.6s\tremaining: 6m\n",
      "59:\tlearn: 0.0710200\ttest: 0.0791766\tbest: 0.0791766 (59)\ttotal: 22.9s\tremaining: 5m 58s\n",
      "60:\tlearn: 0.0709041\ttest: 0.0791330\tbest: 0.0791330 (60)\ttotal: 23.4s\tremaining: 5m 59s\n",
      "61:\tlearn: 0.0706702\ttest: 0.0790811\tbest: 0.0790811 (61)\ttotal: 23.7s\tremaining: 5m 58s\n",
      "62:\tlearn: 0.0705279\ttest: 0.0790454\tbest: 0.0790454 (62)\ttotal: 24.1s\tremaining: 5m 58s\n",
      "63:\tlearn: 0.0703890\ttest: 0.0789996\tbest: 0.0789996 (63)\ttotal: 24.6s\tremaining: 5m 59s\n",
      "64:\tlearn: 0.0702445\ttest: 0.0790074\tbest: 0.0789996 (63)\ttotal: 24.9s\tremaining: 5m 58s\n",
      "65:\tlearn: 0.0700804\ttest: 0.0789416\tbest: 0.0789416 (65)\ttotal: 25.3s\tremaining: 5m 58s\n",
      "66:\tlearn: 0.0699223\ttest: 0.0789283\tbest: 0.0789283 (66)\ttotal: 25.6s\tremaining: 5m 57s\n",
      "67:\tlearn: 0.0696977\ttest: 0.0788024\tbest: 0.0788024 (67)\ttotal: 26s\tremaining: 5m 56s\n",
      "68:\tlearn: 0.0695415\ttest: 0.0787402\tbest: 0.0787402 (68)\ttotal: 26.4s\tremaining: 5m 56s\n",
      "69:\tlearn: 0.0693285\ttest: 0.0786141\tbest: 0.0786141 (69)\ttotal: 26.7s\tremaining: 5m 55s\n",
      "70:\tlearn: 0.0691573\ttest: 0.0785610\tbest: 0.0785610 (70)\ttotal: 27.1s\tremaining: 5m 54s\n",
      "71:\tlearn: 0.0689881\ttest: 0.0785240\tbest: 0.0785240 (71)\ttotal: 27.5s\tremaining: 5m 53s\n",
      "72:\tlearn: 0.0688596\ttest: 0.0785252\tbest: 0.0785240 (71)\ttotal: 27.9s\tremaining: 5m 54s\n",
      "73:\tlearn: 0.0687457\ttest: 0.0785115\tbest: 0.0785115 (73)\ttotal: 28.3s\tremaining: 5m 53s\n",
      "74:\tlearn: 0.0685717\ttest: 0.0784166\tbest: 0.0784166 (74)\ttotal: 28.7s\tremaining: 5m 53s\n",
      "75:\tlearn: 0.0683864\ttest: 0.0783802\tbest: 0.0783802 (75)\ttotal: 29s\tremaining: 5m 52s\n",
      "76:\tlearn: 0.0682666\ttest: 0.0783032\tbest: 0.0783032 (76)\ttotal: 29.4s\tremaining: 5m 52s\n",
      "77:\tlearn: 0.0681141\ttest: 0.0782980\tbest: 0.0782980 (77)\ttotal: 29.7s\tremaining: 5m 51s\n",
      "78:\tlearn: 0.0679480\ttest: 0.0782616\tbest: 0.0782616 (78)\ttotal: 30.1s\tremaining: 5m 50s\n",
      "79:\tlearn: 0.0678405\ttest: 0.0782823\tbest: 0.0782616 (78)\ttotal: 30.4s\tremaining: 5m 50s\n",
      "80:\tlearn: 0.0677683\ttest: 0.0782620\tbest: 0.0782616 (78)\ttotal: 30.8s\tremaining: 5m 49s\n",
      "81:\tlearn: 0.0676210\ttest: 0.0781936\tbest: 0.0781936 (81)\ttotal: 31.2s\tremaining: 5m 48s\n",
      "82:\tlearn: 0.0674692\ttest: 0.0781621\tbest: 0.0781621 (82)\ttotal: 31.6s\tremaining: 5m 48s\n",
      "83:\tlearn: 0.0673181\ttest: 0.0781310\tbest: 0.0781310 (83)\ttotal: 31.9s\tremaining: 5m 47s\n",
      "84:\tlearn: 0.0672245\ttest: 0.0781539\tbest: 0.0781310 (83)\ttotal: 32.3s\tremaining: 5m 47s\n",
      "85:\tlearn: 0.0670825\ttest: 0.0781689\tbest: 0.0781310 (83)\ttotal: 32.6s\tremaining: 5m 45s\n",
      "86:\tlearn: 0.0668982\ttest: 0.0781413\tbest: 0.0781310 (83)\ttotal: 33s\tremaining: 5m 45s\n",
      "87:\tlearn: 0.0667860\ttest: 0.0780852\tbest: 0.0780852 (87)\ttotal: 33.3s\tremaining: 5m 45s\n",
      "88:\tlearn: 0.0666609\ttest: 0.0780440\tbest: 0.0780440 (88)\ttotal: 33.8s\tremaining: 5m 46s\n",
      "89:\tlearn: 0.0664491\ttest: 0.0779504\tbest: 0.0779504 (89)\ttotal: 34.3s\tremaining: 5m 46s\n",
      "90:\tlearn: 0.0663113\ttest: 0.0779547\tbest: 0.0779504 (89)\ttotal: 34.6s\tremaining: 5m 45s\n",
      "91:\tlearn: 0.0661894\ttest: 0.0779335\tbest: 0.0779335 (91)\ttotal: 34.9s\tremaining: 5m 44s\n",
      "92:\tlearn: 0.0660929\ttest: 0.0779032\tbest: 0.0779032 (92)\ttotal: 35.3s\tremaining: 5m 44s\n",
      "93:\tlearn: 0.0659791\ttest: 0.0778874\tbest: 0.0778874 (93)\ttotal: 35.7s\tremaining: 5m 44s\n",
      "94:\tlearn: 0.0658206\ttest: 0.0778288\tbest: 0.0778288 (94)\ttotal: 36s\tremaining: 5m 43s\n",
      "95:\tlearn: 0.0657137\ttest: 0.0777966\tbest: 0.0777966 (95)\ttotal: 36.4s\tremaining: 5m 43s\n",
      "96:\tlearn: 0.0656297\ttest: 0.0777745\tbest: 0.0777745 (96)\ttotal: 36.9s\tremaining: 5m 43s\n",
      "97:\tlearn: 0.0655157\ttest: 0.0777679\tbest: 0.0777679 (97)\ttotal: 37.1s\tremaining: 5m 41s\n",
      "98:\tlearn: 0.0653669\ttest: 0.0777153\tbest: 0.0777153 (98)\ttotal: 37.5s\tremaining: 5m 41s\n",
      "99:\tlearn: 0.0652612\ttest: 0.0777194\tbest: 0.0777153 (98)\ttotal: 37.9s\tremaining: 5m 40s\n",
      "100:\tlearn: 0.0651529\ttest: 0.0776919\tbest: 0.0776919 (100)\ttotal: 38.2s\tremaining: 5m 39s\n",
      "101:\tlearn: 0.0650835\ttest: 0.0776718\tbest: 0.0776718 (101)\ttotal: 38.5s\tremaining: 5m 39s\n",
      "102:\tlearn: 0.0649856\ttest: 0.0776453\tbest: 0.0776453 (102)\ttotal: 39s\tremaining: 5m 39s\n",
      "103:\tlearn: 0.0648603\ttest: 0.0775849\tbest: 0.0775849 (103)\ttotal: 39.4s\tremaining: 5m 39s\n",
      "104:\tlearn: 0.0647856\ttest: 0.0775750\tbest: 0.0775750 (104)\ttotal: 40s\tremaining: 5m 40s\n",
      "105:\tlearn: 0.0645866\ttest: 0.0775611\tbest: 0.0775611 (105)\ttotal: 40.3s\tremaining: 5m 39s\n",
      "106:\tlearn: 0.0644714\ttest: 0.0775355\tbest: 0.0775355 (106)\ttotal: 40.8s\tremaining: 5m 40s\n",
      "107:\tlearn: 0.0643851\ttest: 0.0775444\tbest: 0.0775355 (106)\ttotal: 41.1s\tremaining: 5m 39s\n",
      "108:\tlearn: 0.0642372\ttest: 0.0775265\tbest: 0.0775265 (108)\ttotal: 41.4s\tremaining: 5m 38s\n",
      "109:\tlearn: 0.0641290\ttest: 0.0775226\tbest: 0.0775226 (109)\ttotal: 41.7s\tremaining: 5m 37s\n",
      "110:\tlearn: 0.0639961\ttest: 0.0775223\tbest: 0.0775223 (110)\ttotal: 42s\tremaining: 5m 36s\n",
      "111:\tlearn: 0.0639048\ttest: 0.0774947\tbest: 0.0774947 (111)\ttotal: 42.3s\tremaining: 5m 35s\n",
      "112:\tlearn: 0.0638143\ttest: 0.0774569\tbest: 0.0774569 (112)\ttotal: 42.7s\tremaining: 5m 34s\n",
      "113:\tlearn: 0.0636584\ttest: 0.0774129\tbest: 0.0774129 (113)\ttotal: 43s\tremaining: 5m 34s\n",
      "114:\tlearn: 0.0635734\ttest: 0.0774305\tbest: 0.0774129 (113)\ttotal: 43.4s\tremaining: 5m 33s\n",
      "115:\tlearn: 0.0634323\ttest: 0.0773694\tbest: 0.0773694 (115)\ttotal: 43.8s\tremaining: 5m 33s\n",
      "116:\tlearn: 0.0633525\ttest: 0.0773352\tbest: 0.0773352 (116)\ttotal: 44.3s\tremaining: 5m 34s\n",
      "117:\tlearn: 0.0632372\ttest: 0.0773053\tbest: 0.0773053 (117)\ttotal: 44.6s\tremaining: 5m 33s\n",
      "118:\tlearn: 0.0631015\ttest: 0.0773164\tbest: 0.0773053 (117)\ttotal: 44.9s\tremaining: 5m 32s\n",
      "119:\tlearn: 0.0630120\ttest: 0.0773273\tbest: 0.0773053 (117)\ttotal: 45.3s\tremaining: 5m 32s\n",
      "120:\tlearn: 0.0628727\ttest: 0.0772979\tbest: 0.0772979 (120)\ttotal: 45.6s\tremaining: 5m 31s\n",
      "121:\tlearn: 0.0627983\ttest: 0.0772919\tbest: 0.0772919 (121)\ttotal: 46s\tremaining: 5m 30s\n",
      "122:\tlearn: 0.0626658\ttest: 0.0772813\tbest: 0.0772813 (122)\ttotal: 46.3s\tremaining: 5m 30s\n",
      "123:\tlearn: 0.0625685\ttest: 0.0772776\tbest: 0.0772776 (123)\ttotal: 46.7s\tremaining: 5m 29s\n",
      "124:\tlearn: 0.0624699\ttest: 0.0772944\tbest: 0.0772776 (123)\ttotal: 47s\tremaining: 5m 29s\n",
      "125:\tlearn: 0.0623755\ttest: 0.0772745\tbest: 0.0772745 (125)\ttotal: 47.4s\tremaining: 5m 29s\n",
      "126:\tlearn: 0.0622546\ttest: 0.0772614\tbest: 0.0772614 (126)\ttotal: 47.8s\tremaining: 5m 28s\n",
      "127:\tlearn: 0.0621055\ttest: 0.0772241\tbest: 0.0772241 (127)\ttotal: 48.1s\tremaining: 5m 27s\n",
      "128:\tlearn: 0.0619924\ttest: 0.0772347\tbest: 0.0772241 (127)\ttotal: 48.5s\tremaining: 5m 27s\n",
      "129:\tlearn: 0.0619014\ttest: 0.0772257\tbest: 0.0772241 (127)\ttotal: 48.8s\tremaining: 5m 26s\n",
      "130:\tlearn: 0.0617886\ttest: 0.0772323\tbest: 0.0772241 (127)\ttotal: 49.1s\tremaining: 5m 25s\n",
      "131:\tlearn: 0.0616697\ttest: 0.0772357\tbest: 0.0772241 (127)\ttotal: 49.4s\tremaining: 5m 24s\n",
      "132:\tlearn: 0.0616042\ttest: 0.0772296\tbest: 0.0772241 (127)\ttotal: 49.8s\tremaining: 5m 24s\n",
      "133:\tlearn: 0.0615345\ttest: 0.0772234\tbest: 0.0772234 (133)\ttotal: 50.2s\tremaining: 5m 24s\n",
      "134:\tlearn: 0.0614751\ttest: 0.0772194\tbest: 0.0772194 (134)\ttotal: 50.6s\tremaining: 5m 23s\n",
      "135:\tlearn: 0.0613856\ttest: 0.0772326\tbest: 0.0772194 (134)\ttotal: 50.9s\tremaining: 5m 23s\n",
      "136:\tlearn: 0.0612905\ttest: 0.0772384\tbest: 0.0772194 (134)\ttotal: 51.1s\tremaining: 5m 22s\n",
      "137:\tlearn: 0.0611973\ttest: 0.0772490\tbest: 0.0772194 (134)\ttotal: 51.5s\tremaining: 5m 21s\n",
      "138:\tlearn: 0.0610757\ttest: 0.0772404\tbest: 0.0772194 (134)\ttotal: 51.9s\tremaining: 5m 21s\n",
      "139:\tlearn: 0.0609913\ttest: 0.0772535\tbest: 0.0772194 (134)\ttotal: 52.2s\tremaining: 5m 20s\n",
      "140:\tlearn: 0.0608966\ttest: 0.0772610\tbest: 0.0772194 (134)\ttotal: 52.5s\tremaining: 5m 20s\n",
      "141:\tlearn: 0.0607935\ttest: 0.0772287\tbest: 0.0772194 (134)\ttotal: 53s\tremaining: 5m 20s\n",
      "142:\tlearn: 0.0606405\ttest: 0.0771842\tbest: 0.0771842 (142)\ttotal: 53.3s\tremaining: 5m 19s\n",
      "143:\tlearn: 0.0605629\ttest: 0.0771883\tbest: 0.0771842 (142)\ttotal: 53.7s\tremaining: 5m 19s\n",
      "144:\tlearn: 0.0604283\ttest: 0.0771846\tbest: 0.0771842 (142)\ttotal: 54.2s\tremaining: 5m 19s\n",
      "145:\tlearn: 0.0603558\ttest: 0.0771801\tbest: 0.0771801 (145)\ttotal: 54.6s\tremaining: 5m 19s\n",
      "146:\tlearn: 0.0602740\ttest: 0.0771783\tbest: 0.0771783 (146)\ttotal: 54.9s\tremaining: 5m 18s\n",
      "147:\tlearn: 0.0601897\ttest: 0.0771728\tbest: 0.0771728 (147)\ttotal: 55.3s\tremaining: 5m 18s\n",
      "148:\tlearn: 0.0601414\ttest: 0.0771786\tbest: 0.0771728 (147)\ttotal: 55.6s\tremaining: 5m 17s\n",
      "149:\tlearn: 0.0601032\ttest: 0.0771996\tbest: 0.0771728 (147)\ttotal: 56.1s\tremaining: 5m 17s\n",
      "150:\tlearn: 0.0599956\ttest: 0.0772141\tbest: 0.0771728 (147)\ttotal: 56.5s\tremaining: 5m 17s\n",
      "151:\tlearn: 0.0598932\ttest: 0.0772152\tbest: 0.0771728 (147)\ttotal: 56.8s\tremaining: 5m 16s\n",
      "152:\tlearn: 0.0598073\ttest: 0.0772258\tbest: 0.0771728 (147)\ttotal: 57.2s\tremaining: 5m 16s\n",
      "153:\tlearn: 0.0597397\ttest: 0.0772188\tbest: 0.0771728 (147)\ttotal: 57.6s\tremaining: 5m 16s\n",
      "154:\tlearn: 0.0596665\ttest: 0.0771840\tbest: 0.0771728 (147)\ttotal: 57.9s\tremaining: 5m 15s\n",
      "155:\tlearn: 0.0595564\ttest: 0.0772019\tbest: 0.0771728 (147)\ttotal: 58.2s\tremaining: 5m 15s\n",
      "156:\tlearn: 0.0594799\ttest: 0.0772183\tbest: 0.0771728 (147)\ttotal: 58.7s\tremaining: 5m 15s\n",
      "157:\tlearn: 0.0594089\ttest: 0.0772242\tbest: 0.0771728 (147)\ttotal: 59s\tremaining: 5m 14s\n",
      "158:\tlearn: 0.0593036\ttest: 0.0772114\tbest: 0.0771728 (147)\ttotal: 59.3s\tremaining: 5m 13s\n",
      "159:\tlearn: 0.0592086\ttest: 0.0771916\tbest: 0.0771728 (147)\ttotal: 59.6s\tremaining: 5m 12s\n",
      "160:\tlearn: 0.0591179\ttest: 0.0771543\tbest: 0.0771543 (160)\ttotal: 1m\tremaining: 5m 12s\n",
      "161:\tlearn: 0.0590208\ttest: 0.0771444\tbest: 0.0771444 (161)\ttotal: 1m\tremaining: 5m 11s\n",
      "162:\tlearn: 0.0589464\ttest: 0.0771624\tbest: 0.0771444 (161)\ttotal: 1m\tremaining: 5m 11s\n",
      "163:\tlearn: 0.0588695\ttest: 0.0771448\tbest: 0.0771444 (161)\ttotal: 1m 1s\tremaining: 5m 11s\n",
      "164:\tlearn: 0.0587844\ttest: 0.0771585\tbest: 0.0771444 (161)\ttotal: 1m 1s\tremaining: 5m 11s\n",
      "165:\tlearn: 0.0587020\ttest: 0.0771691\tbest: 0.0771444 (161)\ttotal: 1m 1s\tremaining: 5m 10s\n",
      "166:\tlearn: 0.0585874\ttest: 0.0771729\tbest: 0.0771444 (161)\ttotal: 1m 2s\tremaining: 5m 9s\n",
      "167:\tlearn: 0.0585394\ttest: 0.0771756\tbest: 0.0771444 (161)\ttotal: 1m 2s\tremaining: 5m 9s\n",
      "168:\tlearn: 0.0584458\ttest: 0.0771757\tbest: 0.0771444 (161)\ttotal: 1m 2s\tremaining: 5m 9s\n",
      "169:\tlearn: 0.0584455\ttest: 0.0771771\tbest: 0.0771444 (161)\ttotal: 1m 3s\tremaining: 5m 8s\n",
      "170:\tlearn: 0.0583486\ttest: 0.0771864\tbest: 0.0771444 (161)\ttotal: 1m 3s\tremaining: 5m 8s\n",
      "171:\tlearn: 0.0582430\ttest: 0.0771744\tbest: 0.0771444 (161)\ttotal: 1m 3s\tremaining: 5m 7s\n",
      "172:\tlearn: 0.0581631\ttest: 0.0771966\tbest: 0.0771444 (161)\ttotal: 1m 4s\tremaining: 5m 7s\n",
      "173:\tlearn: 0.0580508\ttest: 0.0771691\tbest: 0.0771444 (161)\ttotal: 1m 4s\tremaining: 5m 6s\n",
      "174:\tlearn: 0.0579794\ttest: 0.0771762\tbest: 0.0771444 (161)\ttotal: 1m 5s\tremaining: 5m 6s\n",
      "175:\tlearn: 0.0579214\ttest: 0.0771575\tbest: 0.0771444 (161)\ttotal: 1m 5s\tremaining: 5m 6s\n",
      "176:\tlearn: 0.0578610\ttest: 0.0771715\tbest: 0.0771444 (161)\ttotal: 1m 5s\tremaining: 5m 5s\n",
      "177:\tlearn: 0.0577753\ttest: 0.0772096\tbest: 0.0771444 (161)\ttotal: 1m 6s\tremaining: 5m 5s\n",
      "178:\tlearn: 0.0576785\ttest: 0.0772371\tbest: 0.0771444 (161)\ttotal: 1m 6s\tremaining: 5m 4s\n",
      "179:\tlearn: 0.0576030\ttest: 0.0772228\tbest: 0.0771444 (161)\ttotal: 1m 6s\tremaining: 5m 3s\n",
      "180:\tlearn: 0.0575230\ttest: 0.0772138\tbest: 0.0771444 (161)\ttotal: 1m 7s\tremaining: 5m 3s\n",
      "181:\tlearn: 0.0574738\ttest: 0.0772280\tbest: 0.0771444 (161)\ttotal: 1m 7s\tremaining: 5m 3s\n",
      "182:\tlearn: 0.0573884\ttest: 0.0772305\tbest: 0.0771444 (161)\ttotal: 1m 7s\tremaining: 5m 2s\n",
      "183:\tlearn: 0.0573208\ttest: 0.0772446\tbest: 0.0771444 (161)\ttotal: 1m 8s\tremaining: 5m 2s\n",
      "184:\tlearn: 0.0572908\ttest: 0.0772567\tbest: 0.0771444 (161)\ttotal: 1m 8s\tremaining: 5m 2s\n",
      "185:\tlearn: 0.0572116\ttest: 0.0772536\tbest: 0.0771444 (161)\ttotal: 1m 9s\tremaining: 5m 2s\n",
      "186:\tlearn: 0.0571193\ttest: 0.0772472\tbest: 0.0771444 (161)\ttotal: 1m 9s\tremaining: 5m 1s\n",
      "187:\tlearn: 0.0570394\ttest: 0.0772344\tbest: 0.0771444 (161)\ttotal: 1m 9s\tremaining: 5m\n",
      "188:\tlearn: 0.0569932\ttest: 0.0772366\tbest: 0.0771444 (161)\ttotal: 1m 10s\tremaining: 5m\n",
      "189:\tlearn: 0.0569402\ttest: 0.0772427\tbest: 0.0771444 (161)\ttotal: 1m 10s\tremaining: 5m\n",
      "190:\tlearn: 0.0568334\ttest: 0.0772355\tbest: 0.0771444 (161)\ttotal: 1m 10s\tremaining: 4m 59s\n",
      "191:\tlearn: 0.0567406\ttest: 0.0772332\tbest: 0.0771444 (161)\ttotal: 1m 11s\tremaining: 4m 59s\n",
      "192:\tlearn: 0.0566790\ttest: 0.0772351\tbest: 0.0771444 (161)\ttotal: 1m 11s\tremaining: 4m 59s\n",
      "193:\tlearn: 0.0565825\ttest: 0.0771362\tbest: 0.0771362 (193)\ttotal: 1m 11s\tremaining: 4m 58s\n",
      "194:\tlearn: 0.0565491\ttest: 0.0771500\tbest: 0.0771362 (193)\ttotal: 1m 12s\tremaining: 4m 57s\n",
      "195:\tlearn: 0.0564956\ttest: 0.0771509\tbest: 0.0771362 (193)\ttotal: 1m 12s\tremaining: 4m 57s\n",
      "196:\tlearn: 0.0563806\ttest: 0.0771516\tbest: 0.0771362 (193)\ttotal: 1m 12s\tremaining: 4m 57s\n",
      "197:\tlearn: 0.0562924\ttest: 0.0771012\tbest: 0.0771012 (197)\ttotal: 1m 13s\tremaining: 4m 57s\n",
      "198:\tlearn: 0.0562219\ttest: 0.0771370\tbest: 0.0771012 (197)\ttotal: 1m 13s\tremaining: 4m 56s\n",
      "199:\tlearn: 0.0561868\ttest: 0.0771362\tbest: 0.0771012 (197)\ttotal: 1m 14s\tremaining: 4m 56s\n",
      "200:\tlearn: 0.0561454\ttest: 0.0771375\tbest: 0.0771012 (197)\ttotal: 1m 14s\tremaining: 4m 56s\n",
      "201:\tlearn: 0.0560484\ttest: 0.0771609\tbest: 0.0771012 (197)\ttotal: 1m 14s\tremaining: 4m 55s\n",
      "202:\tlearn: 0.0559732\ttest: 0.0771672\tbest: 0.0771012 (197)\ttotal: 1m 15s\tremaining: 4m 55s\n",
      "203:\tlearn: 0.0558972\ttest: 0.0771592\tbest: 0.0771012 (197)\ttotal: 1m 15s\tremaining: 4m 54s\n",
      "204:\tlearn: 0.0558136\ttest: 0.0771640\tbest: 0.0771012 (197)\ttotal: 1m 15s\tremaining: 4m 54s\n",
      "205:\tlearn: 0.0557435\ttest: 0.0771686\tbest: 0.0771012 (197)\ttotal: 1m 16s\tremaining: 4m 54s\n",
      "206:\tlearn: 0.0556876\ttest: 0.0771681\tbest: 0.0771012 (197)\ttotal: 1m 16s\tremaining: 4m 53s\n",
      "207:\tlearn: 0.0555972\ttest: 0.0771778\tbest: 0.0771012 (197)\ttotal: 1m 17s\tremaining: 4m 53s\n",
      "208:\tlearn: 0.0554889\ttest: 0.0771649\tbest: 0.0771012 (197)\ttotal: 1m 17s\tremaining: 4m 53s\n",
      "209:\tlearn: 0.0554306\ttest: 0.0771485\tbest: 0.0771012 (197)\ttotal: 1m 17s\tremaining: 4m 52s\n",
      "210:\tlearn: 0.0553209\ttest: 0.0771481\tbest: 0.0771012 (197)\ttotal: 1m 18s\tremaining: 4m 52s\n",
      "211:\tlearn: 0.0552233\ttest: 0.0771611\tbest: 0.0771012 (197)\ttotal: 1m 18s\tremaining: 4m 51s\n",
      "212:\tlearn: 0.0551413\ttest: 0.0771712\tbest: 0.0771012 (197)\ttotal: 1m 18s\tremaining: 4m 50s\n",
      "213:\tlearn: 0.0550838\ttest: 0.0771840\tbest: 0.0771012 (197)\ttotal: 1m 19s\tremaining: 4m 50s\n",
      "214:\tlearn: 0.0550340\ttest: 0.0771981\tbest: 0.0771012 (197)\ttotal: 1m 19s\tremaining: 4m 49s\n",
      "215:\tlearn: 0.0550047\ttest: 0.0772092\tbest: 0.0771012 (197)\ttotal: 1m 19s\tremaining: 4m 49s\n",
      "216:\tlearn: 0.0549509\ttest: 0.0772357\tbest: 0.0771012 (197)\ttotal: 1m 20s\tremaining: 4m 49s\n",
      "217:\tlearn: 0.0548701\ttest: 0.0772780\tbest: 0.0771012 (197)\ttotal: 1m 20s\tremaining: 4m 48s\n",
      "218:\tlearn: 0.0547893\ttest: 0.0772509\tbest: 0.0771012 (197)\ttotal: 1m 20s\tremaining: 4m 48s\n",
      "219:\tlearn: 0.0547413\ttest: 0.0772429\tbest: 0.0771012 (197)\ttotal: 1m 21s\tremaining: 4m 48s\n",
      "220:\tlearn: 0.0546852\ttest: 0.0772543\tbest: 0.0771012 (197)\ttotal: 1m 21s\tremaining: 4m 47s\n",
      "221:\tlearn: 0.0546153\ttest: 0.0772650\tbest: 0.0771012 (197)\ttotal: 1m 22s\tremaining: 4m 47s\n",
      "222:\tlearn: 0.0545078\ttest: 0.0772482\tbest: 0.0771012 (197)\ttotal: 1m 22s\tremaining: 4m 46s\n",
      "223:\tlearn: 0.0544509\ttest: 0.0772587\tbest: 0.0771012 (197)\ttotal: 1m 22s\tremaining: 4m 46s\n",
      "224:\tlearn: 0.0543740\ttest: 0.0772673\tbest: 0.0771012 (197)\ttotal: 1m 22s\tremaining: 4m 45s\n",
      "225:\tlearn: 0.0542927\ttest: 0.0772564\tbest: 0.0771012 (197)\ttotal: 1m 23s\tremaining: 4m 45s\n",
      "226:\tlearn: 0.0541791\ttest: 0.0772478\tbest: 0.0771012 (197)\ttotal: 1m 23s\tremaining: 4m 45s\n",
      "227:\tlearn: 0.0541157\ttest: 0.0772595\tbest: 0.0771012 (197)\ttotal: 1m 24s\tremaining: 4m 45s\n",
      "228:\tlearn: 0.0540459\ttest: 0.0772648\tbest: 0.0771012 (197)\ttotal: 1m 24s\tremaining: 4m 44s\n",
      "229:\tlearn: 0.0539943\ttest: 0.0772725\tbest: 0.0771012 (197)\ttotal: 1m 25s\tremaining: 4m 44s\n",
      "230:\tlearn: 0.0539332\ttest: 0.0772724\tbest: 0.0771012 (197)\ttotal: 1m 25s\tremaining: 4m 44s\n",
      "231:\tlearn: 0.0538678\ttest: 0.0772954\tbest: 0.0771012 (197)\ttotal: 1m 25s\tremaining: 4m 44s\n",
      "232:\tlearn: 0.0538523\ttest: 0.0772967\tbest: 0.0771012 (197)\ttotal: 1m 26s\tremaining: 4m 44s\n",
      "233:\tlearn: 0.0537727\ttest: 0.0773085\tbest: 0.0771012 (197)\ttotal: 1m 26s\tremaining: 4m 43s\n",
      "234:\tlearn: 0.0537067\ttest: 0.0773142\tbest: 0.0771012 (197)\ttotal: 1m 27s\tremaining: 4m 43s\n",
      "235:\tlearn: 0.0536571\ttest: 0.0773098\tbest: 0.0771012 (197)\ttotal: 1m 27s\tremaining: 4m 42s\n",
      "236:\tlearn: 0.0535684\ttest: 0.0773242\tbest: 0.0771012 (197)\ttotal: 1m 27s\tremaining: 4m 42s\n",
      "237:\tlearn: 0.0535142\ttest: 0.0773292\tbest: 0.0771012 (197)\ttotal: 1m 28s\tremaining: 4m 42s\n",
      "238:\tlearn: 0.0534735\ttest: 0.0773252\tbest: 0.0771012 (197)\ttotal: 1m 28s\tremaining: 4m 41s\n",
      "239:\tlearn: 0.0534270\ttest: 0.0773255\tbest: 0.0771012 (197)\ttotal: 1m 28s\tremaining: 4m 41s\n",
      "240:\tlearn: 0.0533604\ttest: 0.0773180\tbest: 0.0771012 (197)\ttotal: 1m 29s\tremaining: 4m 41s\n",
      "241:\tlearn: 0.0532792\ttest: 0.0773352\tbest: 0.0771012 (197)\ttotal: 1m 29s\tremaining: 4m 40s\n",
      "242:\tlearn: 0.0532236\ttest: 0.0773496\tbest: 0.0771012 (197)\ttotal: 1m 29s\tremaining: 4m 40s\n",
      "243:\tlearn: 0.0531922\ttest: 0.0773649\tbest: 0.0771012 (197)\ttotal: 1m 30s\tremaining: 4m 39s\n",
      "244:\tlearn: 0.0531418\ttest: 0.0773615\tbest: 0.0771012 (197)\ttotal: 1m 30s\tremaining: 4m 39s\n",
      "245:\tlearn: 0.0531408\ttest: 0.0773656\tbest: 0.0771012 (197)\ttotal: 1m 31s\tremaining: 4m 39s\n",
      "246:\tlearn: 0.0530835\ttest: 0.0773806\tbest: 0.0771012 (197)\ttotal: 1m 31s\tremaining: 4m 38s\n",
      "247:\tlearn: 0.0530330\ttest: 0.0773794\tbest: 0.0771012 (197)\ttotal: 1m 31s\tremaining: 4m 38s\n",
      "248:\tlearn: 0.0529444\ttest: 0.0773680\tbest: 0.0771012 (197)\ttotal: 1m 32s\tremaining: 4m 38s\n",
      "249:\tlearn: 0.0528857\ttest: 0.0773824\tbest: 0.0771012 (197)\ttotal: 1m 32s\tremaining: 4m 37s\n",
      "250:\tlearn: 0.0528202\ttest: 0.0774086\tbest: 0.0771012 (197)\ttotal: 1m 32s\tremaining: 4m 37s\n",
      "251:\tlearn: 0.0527505\ttest: 0.0774282\tbest: 0.0771012 (197)\ttotal: 1m 33s\tremaining: 4m 37s\n",
      "252:\tlearn: 0.0526727\ttest: 0.0774412\tbest: 0.0771012 (197)\ttotal: 1m 33s\tremaining: 4m 36s\n",
      "253:\tlearn: 0.0526018\ttest: 0.0774414\tbest: 0.0771012 (197)\ttotal: 1m 34s\tremaining: 4m 36s\n",
      "254:\tlearn: 0.0525480\ttest: 0.0774477\tbest: 0.0771012 (197)\ttotal: 1m 34s\tremaining: 4m 36s\n",
      "255:\tlearn: 0.0525020\ttest: 0.0774616\tbest: 0.0771012 (197)\ttotal: 1m 34s\tremaining: 4m 35s\n",
      "256:\tlearn: 0.0524617\ttest: 0.0774463\tbest: 0.0771012 (197)\ttotal: 1m 35s\tremaining: 4m 35s\n",
      "257:\tlearn: 0.0524087\ttest: 0.0774492\tbest: 0.0771012 (197)\ttotal: 1m 35s\tremaining: 4m 34s\n",
      "258:\tlearn: 0.0523483\ttest: 0.0774436\tbest: 0.0771012 (197)\ttotal: 1m 35s\tremaining: 4m 34s\n",
      "259:\tlearn: 0.0523475\ttest: 0.0774462\tbest: 0.0771012 (197)\ttotal: 1m 36s\tremaining: 4m 33s\n",
      "260:\tlearn: 0.0522984\ttest: 0.0774701\tbest: 0.0771012 (197)\ttotal: 1m 36s\tremaining: 4m 33s\n",
      "261:\tlearn: 0.0522324\ttest: 0.0774833\tbest: 0.0771012 (197)\ttotal: 1m 36s\tremaining: 4m 33s\n",
      "262:\tlearn: 0.0522189\ttest: 0.0774878\tbest: 0.0771012 (197)\ttotal: 1m 37s\tremaining: 4m 33s\n",
      "263:\tlearn: 0.0521269\ttest: 0.0775124\tbest: 0.0771012 (197)\ttotal: 1m 37s\tremaining: 4m 32s\n",
      "264:\tlearn: 0.0520858\ttest: 0.0775030\tbest: 0.0771012 (197)\ttotal: 1m 38s\tremaining: 4m 32s\n",
      "265:\tlearn: 0.0520020\ttest: 0.0775086\tbest: 0.0771012 (197)\ttotal: 1m 38s\tremaining: 4m 31s\n",
      "266:\tlearn: 0.0519440\ttest: 0.0774922\tbest: 0.0771012 (197)\ttotal: 1m 38s\tremaining: 4m 31s\n",
      "267:\tlearn: 0.0519122\ttest: 0.0775091\tbest: 0.0771012 (197)\ttotal: 1m 39s\tremaining: 4m 31s\n",
      "268:\tlearn: 0.0518565\ttest: 0.0775142\tbest: 0.0771012 (197)\ttotal: 1m 39s\tremaining: 4m 31s\n",
      "269:\tlearn: 0.0518063\ttest: 0.0775356\tbest: 0.0771012 (197)\ttotal: 1m 40s\tremaining: 4m 30s\n",
      "270:\tlearn: 0.0517646\ttest: 0.0775359\tbest: 0.0771012 (197)\ttotal: 1m 40s\tremaining: 4m 30s\n",
      "271:\tlearn: 0.0516876\ttest: 0.0775605\tbest: 0.0771012 (197)\ttotal: 1m 40s\tremaining: 4m 29s\n",
      "272:\tlearn: 0.0516088\ttest: 0.0775702\tbest: 0.0771012 (197)\ttotal: 1m 41s\tremaining: 4m 29s\n",
      "273:\tlearn: 0.0515452\ttest: 0.0775800\tbest: 0.0771012 (197)\ttotal: 1m 41s\tremaining: 4m 29s\n",
      "274:\tlearn: 0.0515004\ttest: 0.0775835\tbest: 0.0771012 (197)\ttotal: 1m 41s\tremaining: 4m 28s\n",
      "275:\tlearn: 0.0514549\ttest: 0.0775826\tbest: 0.0771012 (197)\ttotal: 1m 42s\tremaining: 4m 28s\n",
      "276:\tlearn: 0.0513974\ttest: 0.0775971\tbest: 0.0771012 (197)\ttotal: 1m 42s\tremaining: 4m 28s\n",
      "277:\tlearn: 0.0513370\ttest: 0.0775999\tbest: 0.0771012 (197)\ttotal: 1m 43s\tremaining: 4m 28s\n",
      "278:\tlearn: 0.0512953\ttest: 0.0776219\tbest: 0.0771012 (197)\ttotal: 1m 43s\tremaining: 4m 27s\n",
      "279:\tlearn: 0.0512543\ttest: 0.0776326\tbest: 0.0771012 (197)\ttotal: 1m 43s\tremaining: 4m 27s\n",
      "280:\tlearn: 0.0512172\ttest: 0.0776170\tbest: 0.0771012 (197)\ttotal: 1m 44s\tremaining: 4m 27s\n",
      "281:\tlearn: 0.0511601\ttest: 0.0776171\tbest: 0.0771012 (197)\ttotal: 1m 44s\tremaining: 4m 26s\n",
      "282:\tlearn: 0.0511129\ttest: 0.0776282\tbest: 0.0771012 (197)\ttotal: 1m 45s\tremaining: 4m 26s\n",
      "283:\tlearn: 0.0510497\ttest: 0.0776253\tbest: 0.0771012 (197)\ttotal: 1m 45s\tremaining: 4m 25s\n",
      "284:\tlearn: 0.0510010\ttest: 0.0776213\tbest: 0.0771012 (197)\ttotal: 1m 45s\tremaining: 4m 25s\n",
      "285:\tlearn: 0.0509453\ttest: 0.0776253\tbest: 0.0771012 (197)\ttotal: 1m 46s\tremaining: 4m 24s\n",
      "286:\tlearn: 0.0509014\ttest: 0.0776323\tbest: 0.0771012 (197)\ttotal: 1m 46s\tremaining: 4m 24s\n",
      "287:\tlearn: 0.0508380\ttest: 0.0776209\tbest: 0.0771012 (197)\ttotal: 1m 47s\tremaining: 4m 24s\n",
      "288:\tlearn: 0.0507648\ttest: 0.0776280\tbest: 0.0771012 (197)\ttotal: 1m 47s\tremaining: 4m 23s\n",
      "289:\tlearn: 0.0506882\ttest: 0.0776401\tbest: 0.0771012 (197)\ttotal: 1m 47s\tremaining: 4m 23s\n",
      "290:\tlearn: 0.0506287\ttest: 0.0776427\tbest: 0.0771012 (197)\ttotal: 1m 47s\tremaining: 4m 23s\n",
      "291:\tlearn: 0.0505763\ttest: 0.0776453\tbest: 0.0771012 (197)\ttotal: 1m 48s\tremaining: 4m 22s\n",
      "292:\tlearn: 0.0504924\ttest: 0.0776388\tbest: 0.0771012 (197)\ttotal: 1m 48s\tremaining: 4m 22s\n",
      "293:\tlearn: 0.0504710\ttest: 0.0776411\tbest: 0.0771012 (197)\ttotal: 1m 49s\tremaining: 4m 21s\n",
      "294:\tlearn: 0.0504481\ttest: 0.0776453\tbest: 0.0771012 (197)\ttotal: 1m 49s\tremaining: 4m 21s\n",
      "295:\tlearn: 0.0504008\ttest: 0.0776530\tbest: 0.0771012 (197)\ttotal: 1m 49s\tremaining: 4m 20s\n",
      "296:\tlearn: 0.0503718\ttest: 0.0776570\tbest: 0.0771012 (197)\ttotal: 1m 49s\tremaining: 4m 20s\n",
      "297:\tlearn: 0.0503072\ttest: 0.0776460\tbest: 0.0771012 (197)\ttotal: 1m 50s\tremaining: 4m 19s\n",
      "Stopped by overfitting detector  (100 iterations wait)\n",
      "\n",
      "bestTest = 0.07710120913\n",
      "bestIteration = 197\n",
      "\n",
      "Shrink model to first 198 iterations.\n"
     ]
    },
    {
     "data": {
      "text/plain": [
       "<catboost.core.CatBoostClassifier at 0x29aacb190>"
      ]
     },
     "execution_count": 102,
     "metadata": {},
     "output_type": "execute_result"
    }
   ],
   "source": [
    "best_catboost = CatBoostClassifier(loss_function=\"MultiLogloss\", iterations=1000, **best_params)\n",
    "best_catboost.fit(\n",
    "    X_train_good_features,\n",
    "    y_train,\n",
    "    cat_features=cat_features_filtered,\n",
    "    eval_set=(X_val_good_features, y_val),\n",
    "    verbose=1,\n",
    "    early_stopping_rounds=100\n",
    ")"
   ]
  },
  {
   "cell_type": "code",
   "execution_count": 142,
   "id": "d7bd76df-3748-41a4-8bba-462476ce3868",
   "metadata": {},
   "outputs": [],
   "source": [
    "train_loss_history = best_catboost.get_evals_result()[\"learn\"][\"MultiLogloss\"]\n",
    "val_loss_history = best_catboost.get_evals_result()[\"validation\"][\"MultiLogloss\"]"
   ]
  },
  {
   "cell_type": "code",
   "execution_count": 161,
   "id": "3feb89fe-1f6a-4228-b95c-7e1fec9e11fa",
   "metadata": {},
   "outputs": [
    {
     "data": {
      "image/png": "[encoded data removed]",
      "text/plain": [
       "<Figure size 1600x900 with 1 Axes>"
      ]
     },
     "metadata": {},
     "output_type": "display_data"
    }
   ],
   "source": [
    "plt.figure(figsize=(16, 9))\n",
    "plt.title(\"Loss history of CatBoost\")\n",
    "sns.lineplot(train_loss_history, label=\"Train loss\")\n",
    "sns.lineplot(val_loss_history, label=\"Val loss\")\n",
    "plt.xlabel(\"Iteration\")\n",
    "plt.ylabel(\"MultiLogLoss\")\n",
    "plt.ylim(0.02, 0.15)\n",
    "plt.show()"
   ]
  },
  {
   "cell_type": "code",
   "execution_count": 214,
   "id": "16b3a596-c67c-4e3f-b46f-a27fda42af8e",
   "metadata": {},
   "outputs": [],
   "source": [
    "y_test = best_catboost.predict(X_test_good_features)"
   ]
  },
  {
   "cell_type": "code",
   "execution_count": 236,
   "id": "9ad7abe6-8774-4a5c-a537-82e51d33eaf2",
   "metadata": {},
   "outputs": [
    {
     "name": "stdout",
     "output_type": "stream",
     "text": [
      "VETER 0.698 0.998\n",
      "SHKVAL 0.531 0.998\n",
      "METEL 0.222 0.999\n",
      "DOZD 0.886 0.964\n",
      "SNEG 0.900 0.978\n",
      "GRAD 0.000 1.0\n",
      "TUMAN 0.823 0.996\n",
      "GOLOLED 0.338 0.998\n"
     ]
    }
   ],
   "source": [
    "for i in range(len(labels)):\n",
    "    print(labels[i], f\"{f1_score(y_test[:, i], y_pred[:, i]):.3f}\", f\"{accuracy_score(y_test[:, i], y_pred[:, i]):.3}\")"
   ]
  },
  {
   "cell_type": "code",
   "execution_count": 224,
   "id": "bff480bb-bed9-4dc2-ac49-4af98556b11e",
   "metadata": {},
   "outputs": [],
   "source": [
    "best_catboost.save_model(\"best_catboost.cbm\")"
   ]
  },
  {
   "cell_type": "code",
   "execution_count": 217,
   "id": "6b943e35-5888-4483-95fb-2353a40eee92",
   "metadata": {
    "tags": []
   },
   "outputs": [],
   "source": [
    "feature_importances = best_catboost.feature_importances_"
   ]
  },
  {
   "cell_type": "code",
   "execution_count": 228,
   "id": "72ac2ff2-54b7-46fb-a3d3-d7b13abc1a81",
   "metadata": {},
   "outputs": [],
   "source": [
    "X_test_good_features.to_csv(\"X_test_good_features.csv\", index=False)\n",
    "pd.DataFrame(y_test, columns=labels).to_csv(\"y_test.csv\", index=False)"
   ]
  },
  {
   "cell_type": "code",
   "execution_count": 221,
   "id": "67ee6f1a-8b7a-400e-b565-ed5030f66794",
   "metadata": {},
   "outputs": [
    {
     "name": "stdout",
     "output_type": "stream",
     "text": [
      "VV_median_window=8 0.0\n",
      "Tn_isnan_has_nan_window=8 0.0\n",
      "dd_changed_median_window=8 0.0\n",
      "dd_changed_min_window=8 6.231295659495902e-05\n",
      "VV_kurt_window=8 0.0006849400414092177\n",
      "Tn_val_kurt_window=8 0.0007540981477991118\n",
      "tR_std_window=8 0.004337824096468213\n",
      "tR_mad_window=8 0.0046592348156854905\n",
      "Tn_val_mean_window=8 0.005172206988420146\n",
      "tR_mean_window=8 0.006965110086965242\n",
      "Tx_val_mean_window=8 0.01467461345823363\n",
      "Tx_isnan_mean_window=8 0.017855352394600895\n",
      "Tx_isnan_median_window=8 0.020068151603227086\n",
      "sss_has_nan_window=8 0.020779031290403253\n",
      "Tn_isnan_min_window=8 0.026098387954460157\n",
      "Tg_val_skew_window=8 0.04753901899050906\n",
      "Ff_skew_window=8 0.04893203619797305\n",
      "dd_y_rad_min_window=8 0.06333063407988933\n",
      "dd_x_rad_mean_window=8 0.06414986196238963\n",
      "dd_isnan_has_nan_window=8 0.065126599830634\n",
      "T_skew_window=8 0.0658912588710009\n",
      "dd_y_rad_has_nan_window=8 0.0695120568691689\n",
      "VV_has_nan_window=8 0.07448991552547637\n",
      "tR_count_window=8 0.07920304771036762\n",
      "sss_count_window=8 0.08609522479975772\n",
      "P_min_window=8 0.09286553650338068\n",
      "dd_changed_mean_window=8 0.0972411130127913\n",
      "P_mean_window=8 0.09791128520193558\n",
      "dd_x_rad_max_window=8 0.09979594933912835\n",
      "Po_min_window=8 0.10167518334908243\n",
      "Td_has_nan_window=8 0.10414633715023523\n",
      "VV_mean_window=8 0.10443640772279952\n",
      "P_median_window=8 0.11589252865526019\n",
      "dd_isnan_max_window=8 0.11804597482557563\n",
      "Tg_val_max_window=8 0.1189828026748214\n",
      "Tn_val_mad_window=8 0.12508562922365943\n",
      "Pa_kurt_window=8 0.14352183554431097\n",
      "dd_x_rad_min_window=8 0.14537813979302025\n",
      "Td_max_window=8 0.15385790580435554\n",
      "tR_max_window=8 0.15491119187159716\n",
      "dd_isnan_count_window=8 0.1603067405286437\n",
      "sss_mean_window=8 0.16261753929483405\n",
      "dd_x_rad_has_nan_window=8 0.16366996606675335\n",
      "Tn_val_count_window=8 0.1661897114206483\n",
      "sss_skew_window=8 0.16677391203367373\n",
      "P_mad_window=8 0.1757483701677351\n",
      "Tg_val_min_window=8 0.1790008188037943\n",
      "dd_changed_count_window=8 0.17994207027205247\n",
      "tR_min_window=8 0.18116036020216014\n",
      "dd_isnan_std_window=8 0.18141494415644038\n",
      "Tn_val_median_window=8 0.18303731260532408\n",
      "Td_mad_window=8 0.18517372950631322\n",
      "tR_median_window=8 0.18804744323654815\n",
      "VV_count_window=8 0.18897895347252644\n",
      "P_has_nan_window=8 0.19216478387908778\n",
      "Tn_isnan_max_window=8 0.19562585752483988\n",
      "dd_changed_has_nan_window=8 0.1989511153684561\n",
      "Tg_val_kurt_window=8 0.19980412404152637\n",
      "Tn_isnan_kurt_window=8 0.20711503714932636\n",
      "VV_min_window=8 0.21658398128182518\n",
      "dd_changed_kurt_window=8 0.21689297250103357\n",
      "Tn_isnan_std_window=8 0.21820683042274674\n",
      "Pa_has_nan_window=8 0.22600920540209124\n",
      "Td_count_window=8 0.231610734701896\n",
      "Td_median_window=8 0.23184161525829103\n",
      "sss_median_window=8 0.23434588364570297\n",
      "VV_mad_window=8 0.24030096266265583\n",
      "dd_y_rad_std_window=8 0.24161501493715623\n",
      "VV_std_window=8 0.24179626557503103\n",
      "Td_kurt_window=8 0.2434469292869009\n",
      "dd_isnan_kurt_window=8 0.24364799517711844\n",
      "Tn_isnan_mean_window=8 0.2444331178922939\n",
      "T_std_window=8 0.2461453695234561\n",
      "Pa_std_window=8 0.2491137189794699\n",
      "dd_isnan_mad_window=8 0.24953176338391317\n",
      "dd_y_rad_mad_window=8 0.2521907320287917\n",
      "Td_min_window=8 0.2537873583533405\n",
      "Tn_val_has_nan_window=8 0.2568921502132614\n",
      "T_mean_window=8 0.2571317115463937\n",
      "P_std_window=8 0.25924630130539333\n",
      "sss_std_window=8 0.2654724977298657\n",
      "Td_skew_window=8 0.2658522336178023\n",
      "Td_mean_window=8 0.26658629685869184\n",
      "dd_x_rad_kurt_window=8 0.2742075465750657\n",
      "Tn_isnan_mad_window=8 0.2753250328614501\n",
      "sss_mad_window=8 0.2756005703006717\n",
      "dd_changed_std_window=8 0.27568505032628515\n",
      "dd_x_rad_std_window=8 0.2757085788129123\n",
      "Pa_min_window=8 0.2767085010159839\n",
      "P_max_window=8 0.27798197212722126\n",
      "Tn_isnan_skew_window=8 0.2799201102002373\n",
      "dd_changed_mad_window=8 0.28100300480251755\n",
      "Tn_isnan_count_window=8 0.2820448781827649\n",
      "Tg_isnan_skew_window=8 0.28306059596296423\n",
      "Tn_val_min_window=8 0.2840871610015859\n",
      "Tn_isnan_median_window=8 0.2863803938082235\n",
      "Tn_val_max_window=8 0.2865556545575203\n",
      "T_count_window=8 0.28854788672576986\n",
      "dd_y_rad_median_window=8 0.2904690148736383\n",
      "dd_changed_skew_window=8 0.2976070763833167\n",
      "Tg_isnan_mad_window=8 0.30124560263773237\n",
      "Ff_mean_window=8 0.3027270776408193\n",
      "U_min_window=8 0.30685539496636827\n",
      "dd_y_rad_max_window=8 0.31365912381077177\n",
      "dd_x_rad_count_window=8 0.31678435381617753\n",
      "Tg_isnan_count_window=8 0.3249971558817286\n",
      "VV_skew_window=8 0.32507739552590403\n",
      "Tx_val_kurt_window=8 0.33535988889678386\n",
      "VV_max_window=8 0.33704742906749624\n",
      "dd_x_rad_median_window=8 0.34070188222097053\n",
      "dd_changed_max_window=8 0.34354253067679846\n",
      "dd_isnan_median_window=8 0.34463736143044366\n",
      "Tn_val_std_window=8 0.3509587873742124\n",
      "T_median_window=8 0.3530012797577161\n",
      "Tn_val_skew_window=8 0.35505070006015516\n",
      "P_kurt_window=8 0.36557703872207475\n",
      "Ff_std_window=8 0.3669263818528472\n",
      "Tg_val_mad_window=8 0.36739487602275905\n",
      "Tg_val_count_window=8 0.37143335216965234\n",
      "dd_y_rad_skew_window=8 0.3744128306004372\n",
      "Tg_val_has_nan_window=8 0.381234512264262\n",
      "dd_isnan_skew_window=8 0.3894535854311678\n",
      "Po_skew_window=8 0.3911390893154802\n",
      "Tg_val_median_window=8 0.3918250045894559\n",
      "Ff_max_window=8 0.39318464628082495\n",
      "U_mean_window=8 0.39673036604544865\n",
      "P_count_window=8 0.39745550139877345\n",
      "Po_max_window=8 0.39889318616922576\n",
      "Po_kurt_window=8 0.40906598973349756\n",
      "sss_min_window=8 0.4200937215238525\n",
      "T_max_window=8 0.42519854546845187\n",
      "Pa_mad_window=8 0.42530049705336676\n",
      "U_max_window=8 0.4287459766960488\n",
      "Ff_has_nan_window=8 0.43022773653442903\n",
      "T_kurt_window=8 0.4359667756857714\n",
      "dd_isnan_mean_window=8 0.4518178649752626\n",
      "dd_x_rad_skew_window=8 0.48015453691477117\n",
      "T_mad_window=8 0.4809285602748937\n",
      "T_has_nan_window=8 0.4883548491585326\n",
      "Ff_median_window=8 0.49403289448959636\n",
      "Td_std_window=8 0.4953525103397998\n",
      "ff3_isnan_mean_window=8 0.5144846809443252\n",
      "Ff_mad_window=8 0.5224631255439\n",
      "tR_skew_window=8 0.5370656372176038\n",
      "tR_kurt_window=8 0.5378534009225093\n",
      "Pa_skew_window=8 0.5470127998434184\n",
      "U_skew_window=8 0.5477311803201099\n",
      "dd_y_rad_kurt_window=8 0.5484501990003977\n",
      "dd_y_rad_mean_window=8 0.5589515860647946\n",
      "Pa_median_window=8 0.5717356990459156\n",
      "sss_max_window=8 0.5880674535593798\n",
      "dd_isnan_min_window=8 0.5927599445847291\n",
      "Pa_count_window=8 0.5935236736030491\n",
      "sss_kurt_window=8 0.6047835598302514\n",
      "P_skew_window=8 0.6146392257192047\n",
      "Pa_mean_window=8 0.6164192065482735\n",
      "Tg_isnan_kurt_window=8 0.6348884180029256\n",
      "Pa_max_window=8 0.6435908204888373\n",
      "U_has_nan_window=8 0.6490206148754981\n",
      "U_std_window=8 0.6644238179808564\n",
      "U_median_window=8 0.6689129462837187\n",
      "Tg_val_std_window=8 0.6835307278488708\n",
      "Tx_isnan_mad_window=8 0.6849992068577804\n",
      "Po_median_window=8 0.6978894842367955\n",
      "Ff_min_window=8 0.7107159458446991\n",
      "U_kurt_window=8 0.7109425657895521\n",
      "dd_y_rad_count_window=8 0.7122053957353357\n",
      "Tg_isnan_median_window=8 0.7198860585921182\n",
      "dd_x_rad_mad_window=8 0.7313672001490451\n",
      "Po_std_window=8 0.7328086085276764\n",
      "U_mad_window=8 0.7551574303669488\n",
      "tR_has_nan_window=8 0.7647848055158938\n",
      "Po_mad_window=8 0.807794386073967\n",
      "Po_count_window=8 0.8399252146579727\n",
      "Ff_count_window=8 0.8571405544064844\n",
      "Po_has_nan_window=8 0.8634353363959543\n",
      "Tx_isnan_skew_window=8 0.9228653112238259\n",
      "U_count_window=8 0.9669647291290453\n",
      "Tx_isnan_max_window=8 0.9726801412539792\n",
      "T_min_window=8 0.9900399666599345\n",
      "Tg_isnan_std_window=8 0.9979039974860583\n",
      "Tx_val_mad_window=8 1.036057842567917\n",
      "Tg_isnan_has_nan_window=8 1.1254531685230826\n",
      "Po_mean_window=8 1.1442741433168515\n",
      "Tx_val_skew_window=8 1.1576386091655602\n",
      "Tx_isnan_has_nan_window=8 1.2440583295048615\n",
      "Tx_val_median_window=8 1.2500952346054772\n",
      "Tx_isnan_kurt_window=8 1.4775996782776342\n",
      "Tx_val_count_window=8 1.4850296225211586\n",
      "Tx_isnan_std_window=8 1.5677051374715019\n",
      "Tx_val_min_window=8 1.6679208155024485\n",
      "Tg_val_mean_window=8 1.7018042462594616\n",
      "Ff_kurt_window=8 1.7113684013612833\n",
      "Tx_val_max_window=8 1.71904930278307\n",
      "Tx_val_std_window=8 2.1956693442627127\n",
      "Tx_isnan_count_window=8 2.2137533588894622\n",
      "Tg_isnan_mean_window=8 2.3004017498401454\n",
      "Tg_isnan_max_window=8 3.0492568448232733\n",
      "Tg_isnan_min_window=8 3.4462900567511126\n",
      "Tx_isnan_min_window=8 3.494416773385127\n",
      "Tx_val_has_nan_window=8 4.670369289704111\n"
     ]
    }
   ],
   "source": [
    "np.argsort(-feature_importances)\n",
    "for i in np.argsort(feature_importances):\n",
    "    print(X_train.columns[i], feature_importances[i])"
   ]
  },
  {
   "cell_type": "markdown",
   "id": "00bbff5d",
   "metadata": {
    "cellId": "nhmibz6gsb7rps9jy1dj",
    "execution_id": "3fcf37c2-0fb4-4ad7-9061-d9638c162627",
    "tags": []
   },
   "source": [
    "# MLP"
   ]
  },
  {
   "cell_type": "code",
   "execution_count": 51,
   "id": "e1adc61a",
   "metadata": {
    "cellId": "7dk93uqdj1v73nb734mxfu"
   },
   "outputs": [],
   "source": [
    "class WeatherMLP(pl.LightningModule):\n",
    "    def __init__(self, d_in, d_layers, dropout, d_out):\n",
    "        super().__init__()\n",
    "        self.model = MLP.make_baseline(d_in, d_layers, dropout, d_out)\n",
    "        self.criterion = nn.CrossEntropyLoss()\n",
    "\n",
    "    def configure_optimizers(self):\n",
    "        return torch.optim.AdamW(self.model.parameters(), lr=1e-3)\n",
    "\n",
    "    def forward(self, x):\n",
    "        return self.model(x)\n",
    "\n",
    "    def training_step(self, batch):\n",
    "        x, y = batch\n",
    "        y_pred = self(x)\n",
    "\n",
    "        loss = self.criterion(y_pred, y)\n",
    "\n",
    "        self.log(\"train_loss\", loss)\n",
    "\n",
    "        return loss\n",
    "\n",
    "    def validation_step(self, batch, batch_idx):\n",
    "        x, y = batch\n",
    "        y_pred = self(x)\n",
    "\n",
    "        loss = self.criterion(y_pred, y)\n",
    "        # f1 = metric_f.f1_score(torch.argmax(y_pred, -1), y, task=\"binary\").item()\n",
    "\n",
    "        self.log(\"val_loss\", loss, prog_bar=True)"
   ]
  },
  {
   "cell_type": "code",
   "execution_count": 82,
   "id": "af2c178c",
   "metadata": {
    "cellId": "vfytj89vq58b4u385ancth"
   },
   "outputs": [
    {
     "name": "stderr",
     "output_type": "stream",
     "text": [
      "GPU available: True (mps), used: True\n",
      "TPU available: False, using: 0 TPU cores\n",
      "IPU available: False, using: 0 IPUs\n",
      "HPU available: False, using: 0 HPUs\n"
     ]
    }
   ],
   "source": [
    "callbacks = [\n",
    "    pl.callbacks.ModelCheckpoint(\"checkpoints/mlp\"),\n",
    "    pl.callbacks.EarlyStopping(\"val_loss\", mode=\"max\")\n",
    "]\n",
    "\n",
    "trainer = pl.Trainer(\n",
    "    callbacks=callbacks, \n",
    "    gradient_clip_val=1.0,\n",
    "    accelerator=\"mps\", \n",
    "    devices=1,\n",
    "    max_epochs=2\n",
    ")"
   ]
  },
  {
   "cell_type": "code",
   "execution_count": 249,
   "id": "b219d2dd-b782-4033-b552-00c3d65a7314",
   "metadata": {},
   "outputs": [
    {
     "data": {
      "text/html": [
       "<div>\n",
       "<style scoped>\n",
       "    .dataframe tbody tr th:only-of-type {\n",
       "        vertical-align: middle;\n",
       "    }\n",
       "\n",
       "    .dataframe tbody tr th {\n",
       "        vertical-align: top;\n",
       "    }\n",
       "\n",
       "    .dataframe thead th {\n",
       "        text-align: right;\n",
       "    }\n",
       "</style>\n",
       "<table border=\"1\" class=\"dataframe\">\n",
       "  <thead>\n",
       "    <tr style=\"text-align: right;\">\n",
       "      <th></th>\n",
       "      <th>T_median_window=8</th>\n",
       "      <th>T_max_window=8</th>\n",
       "      <th>Po_mean_window=8</th>\n",
       "      <th>Po_skew_window=8</th>\n",
       "      <th>Po_min_window=8</th>\n",
       "      <th>Po_max_window=8</th>\n",
       "      <th>P_mean_window=8</th>\n",
       "      <th>P_std_window=8</th>\n",
       "      <th>P_mad_window=8</th>\n",
       "      <th>P_skew_window=8</th>\n",
       "      <th>...</th>\n",
       "      <th>no_TUMAN_time</th>\n",
       "      <th>no_GOLOLED_time</th>\n",
       "      <th>P_year_ago</th>\n",
       "      <th>VV_year_ago</th>\n",
       "      <th>Td_year_ago</th>\n",
       "      <th>tR_year_ago</th>\n",
       "      <th>no_SHKVAL_time_year_ago</th>\n",
       "      <th>no_SNEG_time_year_ago</th>\n",
       "      <th>no_TUMAN_time_year_ago</th>\n",
       "      <th>no_GOLOLED_time_year_ago</th>\n",
       "    </tr>\n",
       "  </thead>\n",
       "  <tbody>\n",
       "    <tr>\n",
       "      <th>0</th>\n",
       "      <td>0.00</td>\n",
       "      <td>0.0</td>\n",
       "      <td>0.0000</td>\n",
       "      <td>0.000000</td>\n",
       "      <td>0.0</td>\n",
       "      <td>0.0</td>\n",
       "      <td>0.0000</td>\n",
       "      <td>0.000000</td>\n",
       "      <td>0.000000</td>\n",
       "      <td>0.000000</td>\n",
       "      <td>...</td>\n",
       "      <td>0</td>\n",
       "      <td>0</td>\n",
       "      <td>0.0</td>\n",
       "      <td>0.0</td>\n",
       "      <td>0.0</td>\n",
       "      <td>0.0</td>\n",
       "      <td>0.0</td>\n",
       "      <td>0.0</td>\n",
       "      <td>0.0</td>\n",
       "      <td>0.0</td>\n",
       "    </tr>\n",
       "    <tr>\n",
       "      <th>1</th>\n",
       "      <td>0.00</td>\n",
       "      <td>0.0</td>\n",
       "      <td>0.0000</td>\n",
       "      <td>0.000000</td>\n",
       "      <td>0.0</td>\n",
       "      <td>0.0</td>\n",
       "      <td>0.0000</td>\n",
       "      <td>0.000000</td>\n",
       "      <td>0.000000</td>\n",
       "      <td>0.000000</td>\n",
       "      <td>...</td>\n",
       "      <td>1</td>\n",
       "      <td>1</td>\n",
       "      <td>0.0</td>\n",
       "      <td>0.0</td>\n",
       "      <td>0.0</td>\n",
       "      <td>0.0</td>\n",
       "      <td>0.0</td>\n",
       "      <td>0.0</td>\n",
       "      <td>0.0</td>\n",
       "      <td>0.0</td>\n",
       "    </tr>\n",
       "    <tr>\n",
       "      <th>2</th>\n",
       "      <td>0.00</td>\n",
       "      <td>0.0</td>\n",
       "      <td>284.5000</td>\n",
       "      <td>0.516401</td>\n",
       "      <td>0.0</td>\n",
       "      <td>759.5</td>\n",
       "      <td>284.8125</td>\n",
       "      <td>393.078860</td>\n",
       "      <td>356.015625</td>\n",
       "      <td>0.516402</td>\n",
       "      <td>...</td>\n",
       "      <td>2</td>\n",
       "      <td>2</td>\n",
       "      <td>0.0</td>\n",
       "      <td>0.0</td>\n",
       "      <td>0.0</td>\n",
       "      <td>0.0</td>\n",
       "      <td>0.0</td>\n",
       "      <td>0.0</td>\n",
       "      <td>0.0</td>\n",
       "      <td>0.0</td>\n",
       "    </tr>\n",
       "    <tr>\n",
       "      <th>3</th>\n",
       "      <td>-3.95</td>\n",
       "      <td>0.0</td>\n",
       "      <td>379.6000</td>\n",
       "      <td>0.000012</td>\n",
       "      <td>0.0</td>\n",
       "      <td>760.8</td>\n",
       "      <td>380.0125</td>\n",
       "      <td>406.251289</td>\n",
       "      <td>380.012500</td>\n",
       "      <td>0.000012</td>\n",
       "      <td>...</td>\n",
       "      <td>3</td>\n",
       "      <td>3</td>\n",
       "      <td>0.0</td>\n",
       "      <td>0.0</td>\n",
       "      <td>0.0</td>\n",
       "      <td>0.0</td>\n",
       "      <td>0.0</td>\n",
       "      <td>0.0</td>\n",
       "      <td>0.0</td>\n",
       "      <td>0.0</td>\n",
       "    </tr>\n",
       "    <tr>\n",
       "      <th>4</th>\n",
       "      <td>-7.45</td>\n",
       "      <td>0.0</td>\n",
       "      <td>474.7625</td>\n",
       "      <td>-0.516374</td>\n",
       "      <td>0.0</td>\n",
       "      <td>761.3</td>\n",
       "      <td>475.2875</td>\n",
       "      <td>393.576994</td>\n",
       "      <td>356.465625</td>\n",
       "      <td>-0.516373</td>\n",
       "      <td>...</td>\n",
       "      <td>4</td>\n",
       "      <td>4</td>\n",
       "      <td>0.0</td>\n",
       "      <td>0.0</td>\n",
       "      <td>0.0</td>\n",
       "      <td>0.0</td>\n",
       "      <td>0.0</td>\n",
       "      <td>0.0</td>\n",
       "      <td>0.0</td>\n",
       "      <td>0.0</td>\n",
       "    </tr>\n",
       "    <tr>\n",
       "      <th>...</th>\n",
       "      <td>...</td>\n",
       "      <td>...</td>\n",
       "      <td>...</td>\n",
       "      <td>...</td>\n",
       "      <td>...</td>\n",
       "      <td>...</td>\n",
       "      <td>...</td>\n",
       "      <td>...</td>\n",
       "      <td>...</td>\n",
       "      <td>...</td>\n",
       "      <td>...</td>\n",
       "      <td>...</td>\n",
       "      <td>...</td>\n",
       "      <td>...</td>\n",
       "      <td>...</td>\n",
       "      <td>...</td>\n",
       "      <td>...</td>\n",
       "      <td>...</td>\n",
       "      <td>...</td>\n",
       "      <td>...</td>\n",
       "      <td>...</td>\n",
       "    </tr>\n",
       "    <tr>\n",
       "      <th>273863</th>\n",
       "      <td>25.60</td>\n",
       "      <td>31.3</td>\n",
       "      <td>746.2875</td>\n",
       "      <td>-0.038406</td>\n",
       "      <td>745.0</td>\n",
       "      <td>747.4</td>\n",
       "      <td>759.0500</td>\n",
       "      <td>1.171080</td>\n",
       "      <td>1.025000</td>\n",
       "      <td>0.127517</td>\n",
       "      <td>...</td>\n",
       "      <td>68</td>\n",
       "      <td>796</td>\n",
       "      <td>757.4</td>\n",
       "      <td>10.0</td>\n",
       "      <td>5.7</td>\n",
       "      <td>0.0</td>\n",
       "      <td>9.0</td>\n",
       "      <td>91.0</td>\n",
       "      <td>275.0</td>\n",
       "      <td>1097.0</td>\n",
       "    </tr>\n",
       "    <tr>\n",
       "      <th>273864</th>\n",
       "      <td>25.60</td>\n",
       "      <td>31.3</td>\n",
       "      <td>746.0625</td>\n",
       "      <td>0.420098</td>\n",
       "      <td>745.0</td>\n",
       "      <td>747.4</td>\n",
       "      <td>758.8000</td>\n",
       "      <td>1.021204</td>\n",
       "      <td>0.850000</td>\n",
       "      <td>0.534323</td>\n",
       "      <td>...</td>\n",
       "      <td>69</td>\n",
       "      <td>797</td>\n",
       "      <td>757.4</td>\n",
       "      <td>10.0</td>\n",
       "      <td>5.9</td>\n",
       "      <td>0.0</td>\n",
       "      <td>10.0</td>\n",
       "      <td>92.0</td>\n",
       "      <td>276.0</td>\n",
       "      <td>1098.0</td>\n",
       "    </tr>\n",
       "    <tr>\n",
       "      <th>273865</th>\n",
       "      <td>25.60</td>\n",
       "      <td>31.3</td>\n",
       "      <td>745.8625</td>\n",
       "      <td>0.800302</td>\n",
       "      <td>745.0</td>\n",
       "      <td>747.2</td>\n",
       "      <td>758.5750</td>\n",
       "      <td>0.757345</td>\n",
       "      <td>0.568750</td>\n",
       "      <td>0.567177</td>\n",
       "      <td>...</td>\n",
       "      <td>70</td>\n",
       "      <td>798</td>\n",
       "      <td>757.2</td>\n",
       "      <td>10.0</td>\n",
       "      <td>7.5</td>\n",
       "      <td>12.0</td>\n",
       "      <td>11.0</td>\n",
       "      <td>93.0</td>\n",
       "      <td>277.0</td>\n",
       "      <td>1099.0</td>\n",
       "    </tr>\n",
       "    <tr>\n",
       "      <th>273866</th>\n",
       "      <td>26.30</td>\n",
       "      <td>31.3</td>\n",
       "      <td>745.6750</td>\n",
       "      <td>1.066178</td>\n",
       "      <td>745.0</td>\n",
       "      <td>746.8</td>\n",
       "      <td>758.3875</td>\n",
       "      <td>0.535690</td>\n",
       "      <td>0.362500</td>\n",
       "      <td>0.461313</td>\n",
       "      <td>...</td>\n",
       "      <td>71</td>\n",
       "      <td>799</td>\n",
       "      <td>756.8</td>\n",
       "      <td>10.0</td>\n",
       "      <td>5.5</td>\n",
       "      <td>0.0</td>\n",
       "      <td>12.0</td>\n",
       "      <td>94.0</td>\n",
       "      <td>278.0</td>\n",
       "      <td>1100.0</td>\n",
       "    </tr>\n",
       "    <tr>\n",
       "      <th>273867</th>\n",
       "      <td>26.30</td>\n",
       "      <td>32.2</td>\n",
       "      <td>745.4500</td>\n",
       "      <td>-0.345788</td>\n",
       "      <td>745.0</td>\n",
       "      <td>745.8</td>\n",
       "      <td>758.1500</td>\n",
       "      <td>0.434248</td>\n",
       "      <td>0.362500</td>\n",
       "      <td>-0.419630</td>\n",
       "      <td>...</td>\n",
       "      <td>72</td>\n",
       "      <td>800</td>\n",
       "      <td>756.7</td>\n",
       "      <td>10.0</td>\n",
       "      <td>3.6</td>\n",
       "      <td>0.0</td>\n",
       "      <td>13.0</td>\n",
       "      <td>95.0</td>\n",
       "      <td>279.0</td>\n",
       "      <td>1101.0</td>\n",
       "    </tr>\n",
       "  </tbody>\n",
       "</table>\n",
       "<p>273868 rows × 201 columns</p>\n",
       "</div>"
      ],
      "text/plain": [
       "        T_median_window=8  T_max_window=8  Po_mean_window=8  Po_skew_window=8  \\\n",
       "0                    0.00             0.0            0.0000          0.000000   \n",
       "1                    0.00             0.0            0.0000          0.000000   \n",
       "2                    0.00             0.0          284.5000          0.516401   \n",
       "3                   -3.95             0.0          379.6000          0.000012   \n",
       "4                   -7.45             0.0          474.7625         -0.516374   \n",
       "...                   ...             ...               ...               ...   \n",
       "273863              25.60            31.3          746.2875         -0.038406   \n",
       "273864              25.60            31.3          746.0625          0.420098   \n",
       "273865              25.60            31.3          745.8625          0.800302   \n",
       "273866              26.30            31.3          745.6750          1.066178   \n",
       "273867              26.30            32.2          745.4500         -0.345788   \n",
       "\n",
       "        Po_min_window=8  Po_max_window=8  P_mean_window=8  P_std_window=8  \\\n",
       "0                   0.0              0.0           0.0000        0.000000   \n",
       "1                   0.0              0.0           0.0000        0.000000   \n",
       "2                   0.0            759.5         284.8125      393.078860   \n",
       "3                   0.0            760.8         380.0125      406.251289   \n",
       "4                   0.0            761.3         475.2875      393.576994   \n",
       "...                 ...              ...              ...             ...   \n",
       "273863            745.0            747.4         759.0500        1.171080   \n",
       "273864            745.0            747.4         758.8000        1.021204   \n",
       "273865            745.0            747.2         758.5750        0.757345   \n",
       "273866            745.0            746.8         758.3875        0.535690   \n",
       "273867            745.0            745.8         758.1500        0.434248   \n",
       "\n",
       "        P_mad_window=8  P_skew_window=8  ...  no_TUMAN_time  no_GOLOLED_time  \\\n",
       "0             0.000000         0.000000  ...              0                0   \n",
       "1             0.000000         0.000000  ...              1                1   \n",
       "2           356.015625         0.516402  ...              2                2   \n",
       "3           380.012500         0.000012  ...              3                3   \n",
       "4           356.465625        -0.516373  ...              4                4   \n",
       "...                ...              ...  ...            ...              ...   \n",
       "273863        1.025000         0.127517  ...             68              796   \n",
       "273864        0.850000         0.534323  ...             69              797   \n",
       "273865        0.568750         0.567177  ...             70              798   \n",
       "273866        0.362500         0.461313  ...             71              799   \n",
       "273867        0.362500        -0.419630  ...             72              800   \n",
       "\n",
       "        P_year_ago  VV_year_ago  Td_year_ago  tR_year_ago  \\\n",
       "0              0.0          0.0          0.0          0.0   \n",
       "1              0.0          0.0          0.0          0.0   \n",
       "2              0.0          0.0          0.0          0.0   \n",
       "3              0.0          0.0          0.0          0.0   \n",
       "4              0.0          0.0          0.0          0.0   \n",
       "...            ...          ...          ...          ...   \n",
       "273863       757.4         10.0          5.7          0.0   \n",
       "273864       757.4         10.0          5.9          0.0   \n",
       "273865       757.2         10.0          7.5         12.0   \n",
       "273866       756.8         10.0          5.5          0.0   \n",
       "273867       756.7         10.0          3.6          0.0   \n",
       "\n",
       "        no_SHKVAL_time_year_ago  no_SNEG_time_year_ago  \\\n",
       "0                           0.0                    0.0   \n",
       "1                           0.0                    0.0   \n",
       "2                           0.0                    0.0   \n",
       "3                           0.0                    0.0   \n",
       "4                           0.0                    0.0   \n",
       "...                         ...                    ...   \n",
       "273863                      9.0                   91.0   \n",
       "273864                     10.0                   92.0   \n",
       "273865                     11.0                   93.0   \n",
       "273866                     12.0                   94.0   \n",
       "273867                     13.0                   95.0   \n",
       "\n",
       "        no_TUMAN_time_year_ago  no_GOLOLED_time_year_ago  \n",
       "0                          0.0                       0.0  \n",
       "1                          0.0                       0.0  \n",
       "2                          0.0                       0.0  \n",
       "3                          0.0                       0.0  \n",
       "4                          0.0                       0.0  \n",
       "...                        ...                       ...  \n",
       "273863                   275.0                    1097.0  \n",
       "273864                   276.0                    1098.0  \n",
       "273865                   277.0                    1099.0  \n",
       "273866                   278.0                    1100.0  \n",
       "273867                   279.0                    1101.0  \n",
       "\n",
       "[273868 rows x 201 columns]"
      ]
     },
     "execution_count": 249,
     "metadata": {},
     "output_type": "execute_result"
    }
   ],
   "source": [
    "X_train_good_features"
   ]
  },
  {
   "cell_type": "code",
   "execution_count": 251,
   "id": "27a09bbb-35eb-4a65-bc36-ca94abb215fd",
   "metadata": {},
   "outputs": [
    {
     "data": {
      "text/plain": [
       "['Cm', 'Ch', \"E'\", 'RRR', 'Cl']"
      ]
     },
     "execution_count": 251,
     "metadata": {},
     "output_type": "execute_result"
    }
   ],
   "source": [
    "cat_features_filtered"
   ]
  },
  {
   "cell_type": "code",
   "execution_count": 23,
   "id": "f9fa16f5-7c3b-4949-b99b-4f1a2299bc56",
   "metadata": {},
   "outputs": [],
   "source": [
    "num_features_filtered = list(set(good_features) - set(cat_features_filtered))"
   ]
  },
  {
   "cell_type": "code",
   "execution_count": 19,
   "id": "b755421e-0f3c-47d7-b47d-cec41c93f667",
   "metadata": {},
   "outputs": [],
   "source": [
    "oh_encoder = OneHotEncoder(sparse_output=False, handle_unknown=\"ignore\")\n",
    "X_train_cat_oh = oh_encoder.fit_transform(X_train_good_features[cat_features_filtered])\n",
    "X_val_cat_oh = oh_encoder.transform(X_val_good_features[cat_features_filtered])\n",
    "X_test_cat_oh = oh_encoder.transform(X_test_good_features[cat_features_filtered])"
   ]
  },
  {
   "cell_type": "code",
   "execution_count": 28,
   "id": "2fd584f1-ee3f-45af-90bb-bbc45d8d6bc3",
   "metadata": {},
   "outputs": [],
   "source": [
    "X_train_merged = np.hstack([X_train_good_features[num_features_filtered].values, X_train_cat_oh])\n",
    "X_val_merged = np.hstack([X_val_good_features[num_features_filtered].values, X_val_cat_oh])\n",
    "X_test_merged = np.hstack([X_test_good_features[num_features_filtered].values, X_test_cat_oh])"
   ]
  },
  {
   "cell_type": "code",
   "execution_count": 30,
   "id": "72720035",
   "metadata": {
    "cellId": "25lt58wnnoei6yn0lmja3ab"
   },
   "outputs": [],
   "source": [
    "scaler = RobustScaler()\n",
    "X_train_scaled = scaler.fit_transform(X_train_merged)\n",
    "X_val_scaled = scaler.transform(X_val_merged)\n",
    "X_test_scaled = scaler.transform(X_test_merged)"
   ]
  },
  {
   "cell_type": "code",
   "execution_count": 61,
   "id": "03147420",
   "metadata": {
    "cellId": "gesz6ip6pvf4rle7wqb2jl"
   },
   "outputs": [],
   "source": [
    "def make_dataset(X, y, label_index, is_test=False):\n",
    "    X = X.astype(float)\n",
    "    dataset = []\n",
    "    for i in range(len(X)):\n",
    "        if is_test:\n",
    "            dataset.append(\n",
    "                torch.from_numpy(X[i]).float(),\n",
    "            )\n",
    "        else:\n",
    "            dataset.append((\n",
    "                torch.from_numpy(X[i]).float(),\n",
    "                y[i, label_index]\n",
    "            ))\n",
    "    return dataset"
   ]
  },
  {
   "cell_type": "code",
   "execution_count": 33,
   "id": "96cf61ee-dab6-445f-972f-23b093fecada",
   "metadata": {},
   "outputs": [
    {
     "data": {
      "text/plain": [
       "['VETER', 'SHKVAL', 'METEL', 'DOZD', 'SNEG', 'GRAD', 'TUMAN', 'GOLOLED']"
      ]
     },
     "execution_count": 33,
     "metadata": {},
     "output_type": "execute_result"
    }
   ],
   "source": [
    "labels"
   ]
  },
  {
   "cell_type": "code",
   "execution_count": 93,
   "id": "bd3ec4ac-b402-4fd6-98f2-8819b9cc87a2",
   "metadata": {},
   "outputs": [
    {
     "data": {
      "application/vnd.jupyter.widget-view+json": {
       "model_id": "3303c51c482246118f4f919cce1c8de7",
       "version_major": 2,
       "version_minor": 0
      },
      "text/plain": [
       "  0%|          | 0/8 [00:00<?, ?it/s]"
      ]
     },
     "metadata": {},
     "output_type": "display_data"
    },
    {
     "name": "stdout",
     "output_type": "stream",
     "text": [
      "Making model for VETER\n"
     ]
    },
    {
     "name": "stderr",
     "output_type": "stream",
     "text": [
      "GPU available: True (mps), used: True\n",
      "TPU available: False, using: 0 TPU cores\n",
      "IPU available: False, using: 0 IPUs\n",
      "HPU available: False, using: 0 HPUs\n",
      "\n",
      "  | Name      | Type             | Params\n",
      "-----------------------------------------------\n",
      "0 | model     | MLP              | 423 K \n",
      "1 | criterion | CrossEntropyLoss | 0     \n",
      "-----------------------------------------------\n",
      "423 K     Trainable params\n",
      "0         Non-trainable params\n",
      "423 K     Total params\n",
      "1.696     Total estimated model params size (MB)\n"
     ]
    },
    {
     "data": {
      "application/vnd.jupyter.widget-view+json": {
       "model_id": "",
       "version_major": 2,
       "version_minor": 0
      },
      "text/plain": [
       "Sanity Checking: 0it [00:00, ?it/s]"
      ]
     },
     "metadata": {},
     "output_type": "display_data"
    },
    {
     "data": {
      "application/vnd.jupyter.widget-view+json": {
       "model_id": "0a5fe4f1d44b4cd7b90ec2ded2a48db2",
       "version_major": 2,
       "version_minor": 0
      },
      "text/plain": [
       "Training: 0it [00:00, ?it/s]"
      ]
     },
     "metadata": {},
     "output_type": "display_data"
    },
    {
     "data": {
      "application/vnd.jupyter.widget-view+json": {
       "model_id": "",
       "version_major": 2,
       "version_minor": 0
      },
      "text/plain": [
       "Validation: 0it [00:00, ?it/s]"
      ]
     },
     "metadata": {},
     "output_type": "display_data"
    },
    {
     "data": {
      "application/vnd.jupyter.widget-view+json": {
       "model_id": "",
       "version_major": 2,
       "version_minor": 0
      },
      "text/plain": [
       "Validation: 0it [00:00, ?it/s]"
      ]
     },
     "metadata": {},
     "output_type": "display_data"
    },
    {
     "name": "stderr",
     "output_type": "stream",
     "text": [
      "`Trainer.fit` stopped: `max_epochs=2` reached.\n"
     ]
    },
    {
     "data": {
      "application/vnd.jupyter.widget-view+json": {
       "model_id": "2b13759c9418476b9f6681ab22f28489",
       "version_major": 2,
       "version_minor": 0
      },
      "text/plain": [
       "Predicting: 2140it [00:00, ?it/s]"
      ]
     },
     "metadata": {},
     "output_type": "display_data"
    },
    {
     "name": "stdout",
     "output_type": "stream",
     "text": [
      "Making model for SHKVAL\n"
     ]
    },
    {
     "name": "stderr",
     "output_type": "stream",
     "text": [
      "GPU available: True (mps), used: True\n",
      "TPU available: False, using: 0 TPU cores\n",
      "IPU available: False, using: 0 IPUs\n",
      "HPU available: False, using: 0 HPUs\n",
      "/Users/shelbulat/Work/ForecastingExtremeWeather/venv/lib/python3.9/site-packages/pytorch_lightning/callbacks/model_checkpoint.py:604: UserWarning: Checkpoint directory /Users/shelbulat/Work/ForecastingExtremeWeather/notebooks/checkpoints/mlp exists and is not empty.\n",
      "  rank_zero_warn(f\"Checkpoint directory {dirpath} exists and is not empty.\")\n",
      "\n",
      "  | Name      | Type             | Params\n",
      "-----------------------------------------------\n",
      "0 | model     | MLP              | 423 K \n",
      "1 | criterion | CrossEntropyLoss | 0     \n",
      "-----------------------------------------------\n",
      "423 K     Trainable params\n",
      "0         Non-trainable params\n",
      "423 K     Total params\n",
      "1.696     Total estimated model params size (MB)\n"
     ]
    },
    {
     "data": {
      "application/vnd.jupyter.widget-view+json": {
       "model_id": "",
       "version_major": 2,
       "version_minor": 0
      },
      "text/plain": [
       "Sanity Checking: 0it [00:00, ?it/s]"
      ]
     },
     "metadata": {},
     "output_type": "display_data"
    },
    {
     "name": "stderr",
     "output_type": "stream",
     "text": [
      "/Users/shelbulat/Work/ForecastingExtremeWeather/venv/lib/python3.9/site-packages/pytorch_lightning/trainer/connectors/data_connector.py:224: PossibleUserWarning: The dataloader, val_dataloader 0, does not have many workers which may be a bottleneck. Consider increasing the value of the `num_workers` argument` (try 10 which is the number of cpus on this machine) in the `DataLoader` init to improve performance.\n",
      "  rank_zero_warn(\n",
      "/Users/shelbulat/Work/ForecastingExtremeWeather/venv/lib/python3.9/site-packages/pytorch_lightning/trainer/connectors/data_connector.py:224: PossibleUserWarning: The dataloader, train_dataloader, does not have many workers which may be a bottleneck. Consider increasing the value of the `num_workers` argument` (try 10 which is the number of cpus on this machine) in the `DataLoader` init to improve performance.\n",
      "  rank_zero_warn(\n"
     ]
    },
    {
     "data": {
      "application/vnd.jupyter.widget-view+json": {
       "model_id": "fd9fc8fcf7eb439c95ed9b4298cdb790",
       "version_major": 2,
       "version_minor": 0
      },
      "text/plain": [
       "Training: 0it [00:00, ?it/s]"
      ]
     },
     "metadata": {},
     "output_type": "display_data"
    },
    {
     "data": {
      "application/vnd.jupyter.widget-view+json": {
       "model_id": "",
       "version_major": 2,
       "version_minor": 0
      },
      "text/plain": [
       "Validation: 0it [00:00, ?it/s]"
      ]
     },
     "metadata": {},
     "output_type": "display_data"
    },
    {
     "data": {
      "application/vnd.jupyter.widget-view+json": {
       "model_id": "",
       "version_major": 2,
       "version_minor": 0
      },
      "text/plain": [
       "Validation: 0it [00:00, ?it/s]"
      ]
     },
     "metadata": {},
     "output_type": "display_data"
    },
    {
     "name": "stderr",
     "output_type": "stream",
     "text": [
      "`Trainer.fit` stopped: `max_epochs=2` reached.\n",
      "/Users/shelbulat/Work/ForecastingExtremeWeather/venv/lib/python3.9/site-packages/pytorch_lightning/trainer/connectors/data_connector.py:224: PossibleUserWarning: The dataloader, predict_dataloader 0, does not have many workers which may be a bottleneck. Consider increasing the value of the `num_workers` argument` (try 10 which is the number of cpus on this machine) in the `DataLoader` init to improve performance.\n",
      "  rank_zero_warn(\n"
     ]
    },
    {
     "data": {
      "application/vnd.jupyter.widget-view+json": {
       "model_id": "c3e8a8dd4fd64520a43b572a9f3a7982",
       "version_major": 2,
       "version_minor": 0
      },
      "text/plain": [
       "Predicting: 2140it [00:00, ?it/s]"
      ]
     },
     "metadata": {},
     "output_type": "display_data"
    },
    {
     "name": "stderr",
     "output_type": "stream",
     "text": [
      "IOPub message rate exceeded.\n",
      "The Jupyter server will temporarily stop sending output\n",
      "to the client in order to avoid crashing it.\n",
      "To change this limit, set the config variable\n",
      "`--ServerApp.iopub_msg_rate_limit`.\n",
      "\n",
      "Current values:\n",
      "ServerApp.iopub_msg_rate_limit=1000.0 (msgs/sec)\n",
      "ServerApp.rate_limit_window=3.0 (secs)\n",
      "\n",
      "NaN or Inf found in input tensor.\n"
     ]
    },
    {
     "data": {
      "application/vnd.jupyter.widget-view+json": {
       "model_id": "",
       "version_major": 2,
       "version_minor": 0
      },
      "text/plain": [
       "Validation: 0it [00:00, ?it/s]"
      ]
     },
     "metadata": {},
     "output_type": "display_data"
    },
    {
     "data": {
      "application/vnd.jupyter.widget-view+json": {
       "model_id": "",
       "version_major": 2,
       "version_minor": 0
      },
      "text/plain": [
       "Validation: 0it [00:00, ?it/s]"
      ]
     },
     "metadata": {},
     "output_type": "display_data"
    },
    {
     "name": "stderr",
     "output_type": "stream",
     "text": [
      "`Trainer.fit` stopped: `max_epochs=2` reached.\n",
      "/Users/shelbulat/Work/ForecastingExtremeWeather/venv/lib/python3.9/site-packages/pytorch_lightning/trainer/connectors/data_connector.py:224: PossibleUserWarning: The dataloader, predict_dataloader 0, does not have many workers which may be a bottleneck. Consider increasing the value of the `num_workers` argument` (try 10 which is the number of cpus on this machine) in the `DataLoader` init to improve performance.\n",
      "  rank_zero_warn(\n"
     ]
    },
    {
     "data": {
      "application/vnd.jupyter.widget-view+json": {
       "model_id": "30bfe5a86af24c41b365a7eb3b486649",
       "version_major": 2,
       "version_minor": 0
      },
      "text/plain": [
       "Predicting: 2140it [00:00, ?it/s]"
      ]
     },
     "metadata": {},
     "output_type": "display_data"
    },
    {
     "name": "stderr",
     "output_type": "stream",
     "text": [
      "IOPub message rate exceeded.\n",
      "The Jupyter server will temporarily stop sending output\n",
      "to the client in order to avoid crashing it.\n",
      "To change this limit, set the config variable\n",
      "`--ServerApp.iopub_msg_rate_limit`.\n",
      "\n",
      "Current values:\n",
      "ServerApp.iopub_msg_rate_limit=1000.0 (msgs/sec)\n",
      "ServerApp.rate_limit_window=3.0 (secs)\n",
      "\n",
      "GPU available: True (mps), used: True\n",
      "TPU available: False, using: 0 TPU cores\n",
      "IPU available: False, using: 0 IPUs\n",
      "HPU available: False, using: 0 HPUs\n",
      "/Users/shelbulat/Work/ForecastingExtremeWeather/venv/lib/python3.9/site-packages/pytorch_lightning/callbacks/model_checkpoint.py:604: UserWarning: Checkpoint directory /Users/shelbulat/Work/ForecastingExtremeWeather/notebooks/checkpoints/mlp exists and is not empty.\n",
      "  rank_zero_warn(f\"Checkpoint directory {dirpath} exists and is not empty.\")\n",
      "\n",
      "  | Name      | Type             | Params\n",
      "-----------------------------------------------\n",
      "0 | model     | MLP              | 423 K \n",
      "1 | criterion | CrossEntropyLoss | 0     \n",
      "-----------------------------------------------\n",
      "423 K     Trainable params\n",
      "0         Non-trainable params\n",
      "423 K     Total params\n",
      "1.696     Total estimated model params size (MB)\n"
     ]
    },
    {
     "data": {
      "application/vnd.jupyter.widget-view+json": {
       "model_id": "",
       "version_major": 2,
       "version_minor": 0
      },
      "text/plain": [
       "Sanity Checking: 0it [00:00, ?it/s]"
      ]
     },
     "metadata": {},
     "output_type": "display_data"
    },
    {
     "name": "stderr",
     "output_type": "stream",
     "text": [
      "/Users/shelbulat/Work/ForecastingExtremeWeather/venv/lib/python3.9/site-packages/pytorch_lightning/trainer/connectors/data_connector.py:224: PossibleUserWarning: The dataloader, val_dataloader 0, does not have many workers which may be a bottleneck. Consider increasing the value of the `num_workers` argument` (try 10 which is the number of cpus on this machine) in the `DataLoader` init to improve performance.\n",
      "  rank_zero_warn(\n",
      "/Users/shelbulat/Work/ForecastingExtremeWeather/venv/lib/python3.9/site-packages/pytorch_lightning/trainer/connectors/data_connector.py:224: PossibleUserWarning: The dataloader, train_dataloader, does not have many workers which may be a bottleneck. Consider increasing the value of the `num_workers` argument` (try 10 which is the number of cpus on this machine) in the `DataLoader` init to improve performance.\n",
      "  rank_zero_warn(\n"
     ]
    },
    {
     "data": {
      "application/vnd.jupyter.widget-view+json": {
       "model_id": "03f60f4805ee4450850c1c6e781bbf16",
       "version_major": 2,
       "version_minor": 0
      },
      "text/plain": [
       "Training: 0it [00:00, ?it/s]"
      ]
     },
     "metadata": {},
     "output_type": "display_data"
    },
    {
     "data": {
      "application/vnd.jupyter.widget-view+json": {
       "model_id": "",
       "version_major": 2,
       "version_minor": 0
      },
      "text/plain": [
       "Validation: 0it [00:00, ?it/s]"
      ]
     },
     "metadata": {},
     "output_type": "display_data"
    },
    {
     "data": {
      "application/vnd.jupyter.widget-view+json": {
       "model_id": "",
       "version_major": 2,
       "version_minor": 0
      },
      "text/plain": [
       "Validation: 0it [00:00, ?it/s]"
      ]
     },
     "metadata": {},
     "output_type": "display_data"
    },
    {
     "name": "stderr",
     "output_type": "stream",
     "text": [
      "`Trainer.fit` stopped: `max_epochs=2` reached.\n",
      "/Users/shelbulat/Work/ForecastingExtremeWeather/venv/lib/python3.9/site-packages/pytorch_lightning/trainer/connectors/data_connector.py:224: PossibleUserWarning: The dataloader, predict_dataloader 0, does not have many workers which may be a bottleneck. Consider increasing the value of the `num_workers` argument` (try 10 which is the number of cpus on this machine) in the `DataLoader` init to improve performance.\n",
      "  rank_zero_warn(\n"
     ]
    },
    {
     "data": {
      "application/vnd.jupyter.widget-view+json": {
       "model_id": "864d8b5673c546879094c78accaa42f3",
       "version_major": 2,
       "version_minor": 0
      },
      "text/plain": [
       "Predicting: 2140it [00:00, ?it/s]"
      ]
     },
     "metadata": {},
     "output_type": "display_data"
    },
    {
     "name": "stdout",
     "output_type": "stream",
     "text": [
      "Making model for SNEG\n"
     ]
    },
    {
     "name": "stderr",
     "output_type": "stream",
     "text": [
      "GPU available: True (mps), used: True\n",
      "TPU available: False, using: 0 TPU cores\n",
      "IPU available: False, using: 0 IPUs\n",
      "HPU available: False, using: 0 HPUs\n",
      "/Users/shelbulat/Work/ForecastingExtremeWeather/venv/lib/python3.9/site-packages/pytorch_lightning/callbacks/model_checkpoint.py:604: UserWarning: Checkpoint directory /Users/shelbulat/Work/ForecastingExtremeWeather/notebooks/checkpoints/mlp exists and is not empty.\n",
      "  rank_zero_warn(f\"Checkpoint directory {dirpath} exists and is not empty.\")\n",
      "\n",
      "  | Name      | Type             | Params\n",
      "-----------------------------------------------\n",
      "0 | model     | MLP              | 423 K \n",
      "1 | criterion | CrossEntropyLoss | 0     \n",
      "-----------------------------------------------\n",
      "423 K     Trainable params\n",
      "0         Non-trainable params\n",
      "423 K     Total params\n",
      "1.696     Total estimated model params size (MB)\n"
     ]
    },
    {
     "data": {
      "application/vnd.jupyter.widget-view+json": {
       "model_id": "",
       "version_major": 2,
       "version_minor": 0
      },
      "text/plain": [
       "Sanity Checking: 0it [00:00, ?it/s]"
      ]
     },
     "metadata": {},
     "output_type": "display_data"
    },
    {
     "name": "stderr",
     "output_type": "stream",
     "text": [
      "/Users/shelbulat/Work/ForecastingExtremeWeather/venv/lib/python3.9/site-packages/pytorch_lightning/trainer/connectors/data_connector.py:224: PossibleUserWarning: The dataloader, val_dataloader 0, does not have many workers which may be a bottleneck. Consider increasing the value of the `num_workers` argument` (try 10 which is the number of cpus on this machine) in the `DataLoader` init to improve performance.\n",
      "  rank_zero_warn(\n",
      "/Users/shelbulat/Work/ForecastingExtremeWeather/venv/lib/python3.9/site-packages/pytorch_lightning/trainer/connectors/data_connector.py:224: PossibleUserWarning: The dataloader, train_dataloader, does not have many workers which may be a bottleneck. Consider increasing the value of the `num_workers` argument` (try 10 which is the number of cpus on this machine) in the `DataLoader` init to improve performance.\n",
      "  rank_zero_warn(\n"
     ]
    },
    {
     "data": {
      "application/vnd.jupyter.widget-view+json": {
       "model_id": "44e6a5204f4e452588d9b4e644d0d7f1",
       "version_major": 2,
       "version_minor": 0
      },
      "text/plain": [
       "Training: 0it [00:00, ?it/s]"
      ]
     },
     "metadata": {},
     "output_type": "display_data"
    },
    {
     "data": {
      "application/vnd.jupyter.widget-view+json": {
       "model_id": "",
       "version_major": 2,
       "version_minor": 0
      },
      "text/plain": [
       "Validation: 0it [00:00, ?it/s]"
      ]
     },
     "metadata": {},
     "output_type": "display_data"
    },
    {
     "data": {
      "application/vnd.jupyter.widget-view+json": {
       "model_id": "",
       "version_major": 2,
       "version_minor": 0
      },
      "text/plain": [
       "Validation: 0it [00:00, ?it/s]"
      ]
     },
     "metadata": {},
     "output_type": "display_data"
    },
    {
     "name": "stderr",
     "output_type": "stream",
     "text": [
      "`Trainer.fit` stopped: `max_epochs=2` reached.\n",
      "/Users/shelbulat/Work/ForecastingExtremeWeather/venv/lib/python3.9/site-packages/pytorch_lightning/trainer/connectors/data_connector.py:224: PossibleUserWarning: The dataloader, predict_dataloader 0, does not have many workers which may be a bottleneck. Consider increasing the value of the `num_workers` argument` (try 10 which is the number of cpus on this machine) in the `DataLoader` init to improve performance.\n",
      "  rank_zero_warn(\n"
     ]
    },
    {
     "data": {
      "application/vnd.jupyter.widget-view+json": {
       "model_id": "a4a64c21032143f0a2f400fceaef3521",
       "version_major": 2,
       "version_minor": 0
      },
      "text/plain": [
       "Predicting: 2140it [00:00, ?it/s]"
      ]
     },
     "metadata": {},
     "output_type": "display_data"
    },
    {
     "name": "stderr",
     "output_type": "stream",
     "text": [
      "IOPub message rate exceeded.\n",
      "The Jupyter server will temporarily stop sending output\n",
      "to the client in order to avoid crashing it.\n",
      "To change this limit, set the config variable\n",
      "`--ServerApp.iopub_msg_rate_limit`.\n",
      "\n",
      "Current values:\n",
      "ServerApp.iopub_msg_rate_limit=1000.0 (msgs/sec)\n",
      "ServerApp.rate_limit_window=3.0 (secs)\n",
      "\n"
     ]
    },
    {
     "data": {
      "application/vnd.jupyter.widget-view+json": {
       "model_id": "",
       "version_major": 2,
       "version_minor": 0
      },
      "text/plain": [
       "Validation: 0it [00:00, ?it/s]"
      ]
     },
     "metadata": {},
     "output_type": "display_data"
    },
    {
     "data": {
      "application/vnd.jupyter.widget-view+json": {
       "model_id": "",
       "version_major": 2,
       "version_minor": 0
      },
      "text/plain": [
       "Validation: 0it [00:00, ?it/s]"
      ]
     },
     "metadata": {},
     "output_type": "display_data"
    },
    {
     "name": "stderr",
     "output_type": "stream",
     "text": [
      "`Trainer.fit` stopped: `max_epochs=2` reached.\n",
      "/Users/shelbulat/Work/ForecastingExtremeWeather/venv/lib/python3.9/site-packages/pytorch_lightning/trainer/connectors/data_connector.py:224: PossibleUserWarning: The dataloader, predict_dataloader 0, does not have many workers which may be a bottleneck. Consider increasing the value of the `num_workers` argument` (try 10 which is the number of cpus on this machine) in the `DataLoader` init to improve performance.\n",
      "  rank_zero_warn(\n"
     ]
    },
    {
     "data": {
      "application/vnd.jupyter.widget-view+json": {
       "model_id": "e1fef1c5a4ad449d83c4f67ce3f72fa4",
       "version_major": 2,
       "version_minor": 0
      },
      "text/plain": [
       "Predicting: 2140it [00:00, ?it/s]"
      ]
     },
     "metadata": {},
     "output_type": "display_data"
    },
    {
     "name": "stdout",
     "output_type": "stream",
     "text": [
      "Making model for TUMAN\n"
     ]
    },
    {
     "name": "stderr",
     "output_type": "stream",
     "text": [
      "GPU available: True (mps), used: True\n",
      "TPU available: False, using: 0 TPU cores\n",
      "IPU available: False, using: 0 IPUs\n",
      "HPU available: False, using: 0 HPUs\n",
      "/Users/shelbulat/Work/ForecastingExtremeWeather/venv/lib/python3.9/site-packages/pytorch_lightning/callbacks/model_checkpoint.py:604: UserWarning: Checkpoint directory /Users/shelbulat/Work/ForecastingExtremeWeather/notebooks/checkpoints/mlp exists and is not empty.\n",
      "  rank_zero_warn(f\"Checkpoint directory {dirpath} exists and is not empty.\")\n",
      "\n",
      "  | Name      | Type             | Params\n",
      "-----------------------------------------------\n",
      "0 | model     | MLP              | 423 K \n",
      "1 | criterion | CrossEntropyLoss | 0     \n",
      "-----------------------------------------------\n",
      "423 K     Trainable params\n",
      "0         Non-trainable params\n",
      "423 K     Total params\n",
      "1.696     Total estimated model params size (MB)\n"
     ]
    },
    {
     "data": {
      "application/vnd.jupyter.widget-view+json": {
       "model_id": "",
       "version_major": 2,
       "version_minor": 0
      },
      "text/plain": [
       "Sanity Checking: 0it [00:00, ?it/s]"
      ]
     },
     "metadata": {},
     "output_type": "display_data"
    },
    {
     "name": "stderr",
     "output_type": "stream",
     "text": [
      "/Users/shelbulat/Work/ForecastingExtremeWeather/venv/lib/python3.9/site-packages/pytorch_lightning/trainer/connectors/data_connector.py:224: PossibleUserWarning: The dataloader, val_dataloader 0, does not have many workers which may be a bottleneck. Consider increasing the value of the `num_workers` argument` (try 10 which is the number of cpus on this machine) in the `DataLoader` init to improve performance.\n",
      "  rank_zero_warn(\n",
      "/Users/shelbulat/Work/ForecastingExtremeWeather/venv/lib/python3.9/site-packages/pytorch_lightning/trainer/connectors/data_connector.py:224: PossibleUserWarning: The dataloader, train_dataloader, does not have many workers which may be a bottleneck. Consider increasing the value of the `num_workers` argument` (try 10 which is the number of cpus on this machine) in the `DataLoader` init to improve performance.\n",
      "  rank_zero_warn(\n"
     ]
    },
    {
     "data": {
      "application/vnd.jupyter.widget-view+json": {
       "model_id": "6fd31227989948f1a5546db21ca38334",
       "version_major": 2,
       "version_minor": 0
      },
      "text/plain": [
       "Training: 0it [00:00, ?it/s]"
      ]
     },
     "metadata": {},
     "output_type": "display_data"
    },
    {
     "data": {
      "application/vnd.jupyter.widget-view+json": {
       "model_id": "9704bfc817cb4c37a3a05d50feb44aad",
       "version_major": 2,
       "version_minor": 0
      },
      "text/plain": [
       "Validation: 0it [00:00, ?it/s]"
      ]
     },
     "metadata": {},
     "output_type": "display_data"
    },
    {
     "data": {
      "application/vnd.jupyter.widget-view+json": {
       "model_id": "cee22eabad024ce19be460db7e31ee4e",
       "version_major": 2,
       "version_minor": 0
      },
      "text/plain": [
       "Validation: 0it [00:00, ?it/s]"
      ]
     },
     "metadata": {},
     "output_type": "display_data"
    },
    {
     "name": "stderr",
     "output_type": "stream",
     "text": [
      "`Trainer.fit` stopped: `max_epochs=2` reached.\n",
      "/Users/shelbulat/Work/ForecastingExtremeWeather/venv/lib/python3.9/site-packages/pytorch_lightning/trainer/connectors/data_connector.py:224: PossibleUserWarning: The dataloader, predict_dataloader 0, does not have many workers which may be a bottleneck. Consider increasing the value of the `num_workers` argument` (try 10 which is the number of cpus on this machine) in the `DataLoader` init to improve performance.\n",
      "  rank_zero_warn(\n"
     ]
    },
    {
     "data": {
      "application/vnd.jupyter.widget-view+json": {
       "model_id": "3e87a6c1168d4f129bc80ed40338bb6c",
       "version_major": 2,
       "version_minor": 0
      },
      "text/plain": [
       "Predicting: 2140it [00:00, ?it/s]"
      ]
     },
     "metadata": {},
     "output_type": "display_data"
    },
    {
     "name": "stderr",
     "output_type": "stream",
     "text": [
      "IOPub message rate exceeded.\n",
      "The Jupyter server will temporarily stop sending output\n",
      "to the client in order to avoid crashing it.\n",
      "To change this limit, set the config variable\n",
      "`--ServerApp.iopub_msg_rate_limit`.\n",
      "\n",
      "Current values:\n",
      "ServerApp.iopub_msg_rate_limit=1000.0 (msgs/sec)\n",
      "ServerApp.rate_limit_window=3.0 (secs)\n",
      "\n",
      "GPU available: True (mps), used: True\n",
      "TPU available: False, using: 0 TPU cores\n",
      "IPU available: False, using: 0 IPUs\n",
      "HPU available: False, using: 0 HPUs\n",
      "/Users/shelbulat/Work/ForecastingExtremeWeather/venv/lib/python3.9/site-packages/pytorch_lightning/callbacks/model_checkpoint.py:604: UserWarning: Checkpoint directory /Users/shelbulat/Work/ForecastingExtremeWeather/notebooks/checkpoints/mlp exists and is not empty.\n",
      "  rank_zero_warn(f\"Checkpoint directory {dirpath} exists and is not empty.\")\n",
      "\n",
      "  | Name      | Type             | Params\n",
      "-----------------------------------------------\n",
      "0 | model     | MLP              | 423 K \n",
      "1 | criterion | CrossEntropyLoss | 0     \n",
      "-----------------------------------------------\n",
      "423 K     Trainable params\n",
      "0         Non-trainable params\n",
      "423 K     Total params\n",
      "1.696     Total estimated model params size (MB)\n"
     ]
    },
    {
     "data": {
      "application/vnd.jupyter.widget-view+json": {
       "model_id": "1b4f05838e6f48d89d379eb02323c682",
       "version_major": 2,
       "version_minor": 0
      },
      "text/plain": [
       "Sanity Checking: 0it [00:00, ?it/s]"
      ]
     },
     "metadata": {},
     "output_type": "display_data"
    },
    {
     "name": "stderr",
     "output_type": "stream",
     "text": [
      "/Users/shelbulat/Work/ForecastingExtremeWeather/venv/lib/python3.9/site-packages/pytorch_lightning/trainer/connectors/data_connector.py:224: PossibleUserWarning: The dataloader, val_dataloader 0, does not have many workers which may be a bottleneck. Consider increasing the value of the `num_workers` argument` (try 10 which is the number of cpus on this machine) in the `DataLoader` init to improve performance.\n",
      "  rank_zero_warn(\n",
      "/Users/shelbulat/Work/ForecastingExtremeWeather/venv/lib/python3.9/site-packages/pytorch_lightning/trainer/connectors/data_connector.py:224: PossibleUserWarning: The dataloader, train_dataloader, does not have many workers which may be a bottleneck. Consider increasing the value of the `num_workers` argument` (try 10 which is the number of cpus on this machine) in the `DataLoader` init to improve performance.\n",
      "  rank_zero_warn(\n"
     ]
    },
    {
     "data": {
      "application/vnd.jupyter.widget-view+json": {
       "model_id": "00ea697853204dc596e7140fdd9fa648",
       "version_major": 2,
       "version_minor": 0
      },
      "text/plain": [
       "Training: 0it [00:00, ?it/s]"
      ]
     },
     "metadata": {},
     "output_type": "display_data"
    },
    {
     "data": {
      "application/vnd.jupyter.widget-view+json": {
       "model_id": "",
       "version_major": 2,
       "version_minor": 0
      },
      "text/plain": [
       "Validation: 0it [00:00, ?it/s]"
      ]
     },
     "metadata": {},
     "output_type": "display_data"
    },
    {
     "data": {
      "application/vnd.jupyter.widget-view+json": {
       "model_id": "",
       "version_major": 2,
       "version_minor": 0
      },
      "text/plain": [
       "Validation: 0it [00:00, ?it/s]"
      ]
     },
     "metadata": {},
     "output_type": "display_data"
    },
    {
     "name": "stderr",
     "output_type": "stream",
     "text": [
      "`Trainer.fit` stopped: `max_epochs=2` reached.\n",
      "/Users/shelbulat/Work/ForecastingExtremeWeather/venv/lib/python3.9/site-packages/pytorch_lightning/trainer/connectors/data_connector.py:224: PossibleUserWarning: The dataloader, predict_dataloader 0, does not have many workers which may be a bottleneck. Consider increasing the value of the `num_workers` argument` (try 10 which is the number of cpus on this machine) in the `DataLoader` init to improve performance.\n",
      "  rank_zero_warn(\n"
     ]
    },
    {
     "data": {
      "application/vnd.jupyter.widget-view+json": {
       "model_id": "9a4092d727954b308d4d3784e8502a86",
       "version_major": 2,
       "version_minor": 0
      },
      "text/plain": [
       "Predicting: 2140it [00:00, ?it/s]"
      ]
     },
     "metadata": {},
     "output_type": "display_data"
    },
    {
     "name": "stderr",
     "output_type": "stream",
     "text": [
      "IOPub message rate exceeded.\n",
      "The Jupyter server will temporarily stop sending output\n",
      "to the client in order to avoid crashing it.\n",
      "To change this limit, set the config variable\n",
      "`--ServerApp.iopub_msg_rate_limit`.\n",
      "\n",
      "Current values:\n",
      "ServerApp.iopub_msg_rate_limit=1000.0 (msgs/sec)\n",
      "ServerApp.rate_limit_window=3.0 (secs)\n",
      "\n"
     ]
    }
   ],
   "source": [
    "results = []\n",
    "\n",
    "for index, label in tqdm(enumerate(labels), total=len(labels)):\n",
    "    print(\"Making model for\", label)\n",
    "\n",
    "    train_dataset = make_dataset(X_train_scaled, y_train, index)\n",
    "    val_dataset = make_dataset(X_val_scaled, y_val, index)\n",
    "    test_dataset = make_dataset(X_test_scaled, y_test, index, True)\n",
    "\n",
    "    train_loader = DataLoader(train_dataset, batch_size=128, shuffle=True)\n",
    "    val_loader = DataLoader(val_dataset, batch_size=128, shuffle=False)\n",
    "    test_loader = DataLoader(test_dataset, batch_size=128, shuffle=False)\n",
    "    \n",
    "    mlp_model = WeatherMLP(X_train_scaled.shape[1], [512, 512], 0.2, 2)    \n",
    "    \n",
    "    callbacks = [\n",
    "        pl.callbacks.ModelCheckpoint(\"checkpoints/mlp\"),\n",
    "        pl.callbacks.EarlyStopping(\"val_loss\", mode=\"max\")\n",
    "    ]\n",
    "\n",
    "    trainer = pl.Trainer(\n",
    "        callbacks=callbacks, \n",
    "        gradient_clip_val=1.0,\n",
    "        accelerator=\"mps\", \n",
    "        devices=1,\n",
    "        max_epochs=2\n",
    "    )\n",
    "\n",
    "    trainer.fit(mlp_model, train_loader, val_loader)\n",
    "    y_pred = trainer.predict(mlp_model, test_loader)\n",
    "    y_pred_labels = torch.argmax(torch.cat(y_pred), -1).numpy()\n",
    "\n",
    "    results.append({\n",
    "        \"label\": label,\n",
    "        \"f1_score\": f1_score(y_test[:, index], y_pred_labels),\n",
    "        \"accuracy_score\": accuracy_score(y_test[:, index], y_pred_labels)\n",
    "    })"
   ]
  },
  {
   "cell_type": "code",
   "execution_count": 99,
   "id": "4dbc93a0-385a-4df0-b44e-9d829c2e894c",
   "metadata": {},
   "outputs": [],
   "source": [
    "pd.DataFrame(results).round(3).to_csv(\"mlp_results.csv\", index=False)"
   ]
  },
  {
   "cell_type": "code",
   "execution_count": 97,
   "id": "bca87e49-df28-419f-93f6-e8871fb86225",
   "metadata": {},
   "outputs": [
    {
     "name": "stdout",
     "output_type": "stream",
     "text": [
      "VETER 0.105 0.992\n",
      "SHKVAL 0.011 0.990\n",
      "METEL 0.046 0.997\n",
      "DOZD 0.611 0.855\n",
      "SNEG 0.532 0.903\n",
      "GRAD 0.000 0.997\n",
      "TUMAN 0.394 0.984\n",
      "GOLOLED 0.000 0.994\n"
     ]
    }
   ],
   "source": [
    "for result in results:\n",
    "    print(result[\"label\"], f\"{result['f1_score']:.3f}\", f\"{result['accuracy_score']:.3f}\")"
   ]
  },
  {
   "cell_type": "markdown",
   "id": "5514f9e1-e0dd-411b-8fcc-6f094c7c7c25",
   "metadata": {},
   "source": [
    "Посмотрим loss history"
   ]
  },
  {
   "cell_type": "code",
   "execution_count": 128,
   "id": "eca5337b-d10b-447d-b84e-eac3abb2e8e2",
   "metadata": {},
   "outputs": [],
   "source": [
    "class MetricsCallback(pl.Callback):\n",
    "    \"\"\"PyTorch Lightning metric callback.\"\"\"\n",
    "\n",
    "    def __init__(self):\n",
    "        super().__init__()\n",
    "        self.metrics = []\n",
    "\n",
    "    def on_validation_epoch_end(self, trainer, pl_module):\n",
    "        result = {key: val.item() for key, val in trainer.callback_metrics.items()}\n",
    "        self.metrics.append(result)"
   ]
  },
  {
   "cell_type": "code",
   "execution_count": 130,
   "id": "fa27b6ff-45d2-45f4-8c3f-f6209af4710d",
   "metadata": {},
   "outputs": [
    {
     "name": "stderr",
     "output_type": "stream",
     "text": [
      "GPU available: True (mps), used: True\n",
      "TPU available: False, using: 0 TPU cores\n",
      "IPU available: False, using: 0 IPUs\n",
      "HPU available: False, using: 0 HPUs\n",
      "\n",
      "  | Name      | Type             | Params\n",
      "-----------------------------------------------\n",
      "0 | model     | MLP              | 423 K \n",
      "1 | criterion | CrossEntropyLoss | 0     \n",
      "-----------------------------------------------\n",
      "423 K     Trainable params\n",
      "0         Non-trainable params\n",
      "423 K     Total params\n",
      "1.696     Total estimated model params size (MB)\n"
     ]
    },
    {
     "data": {
      "application/vnd.jupyter.widget-view+json": {
       "model_id": "",
       "version_major": 2,
       "version_minor": 0
      },
      "text/plain": [
       "Sanity Checking: 0it [00:00, ?it/s]"
      ]
     },
     "metadata": {},
     "output_type": "display_data"
    },
    {
     "data": {
      "application/vnd.jupyter.widget-view+json": {
       "model_id": "b699600a276c46efae9d1bbacd3f8cb4",
       "version_major": 2,
       "version_minor": 0
      },
      "text/plain": [
       "Training: 0it [00:00, ?it/s]"
      ]
     },
     "metadata": {},
     "output_type": "display_data"
    },
    {
     "data": {
      "application/vnd.jupyter.widget-view+json": {
       "model_id": "",
       "version_major": 2,
       "version_minor": 0
      },
      "text/plain": [
       "Validation: 0it [00:00, ?it/s]"
      ]
     },
     "metadata": {},
     "output_type": "display_data"
    },
    {
     "data": {
      "application/vnd.jupyter.widget-view+json": {
       "model_id": "",
       "version_major": 2,
       "version_minor": 0
      },
      "text/plain": [
       "Validation: 0it [00:00, ?it/s]"
      ]
     },
     "metadata": {},
     "output_type": "display_data"
    },
    {
     "data": {
      "application/vnd.jupyter.widget-view+json": {
       "model_id": "",
       "version_major": 2,
       "version_minor": 0
      },
      "text/plain": [
       "Validation: 0it [00:00, ?it/s]"
      ]
     },
     "metadata": {},
     "output_type": "display_data"
    },
    {
     "data": {
      "application/vnd.jupyter.widget-view+json": {
       "model_id": "",
       "version_major": 2,
       "version_minor": 0
      },
      "text/plain": [
       "Validation: 0it [00:00, ?it/s]"
      ]
     },
     "metadata": {},
     "output_type": "display_data"
    },
    {
     "data": {
      "application/vnd.jupyter.widget-view+json": {
       "model_id": "",
       "version_major": 2,
       "version_minor": 0
      },
      "text/plain": [
       "Validation: 0it [00:00, ?it/s]"
      ]
     },
     "metadata": {},
     "output_type": "display_data"
    },
    {
     "data": {
      "application/vnd.jupyter.widget-view+json": {
       "model_id": "",
       "version_major": 2,
       "version_minor": 0
      },
      "text/plain": [
       "Validation: 0it [00:00, ?it/s]"
      ]
     },
     "metadata": {},
     "output_type": "display_data"
    },
    {
     "data": {
      "application/vnd.jupyter.widget-view+json": {
       "model_id": "",
       "version_major": 2,
       "version_minor": 0
      },
      "text/plain": [
       "Validation: 0it [00:00, ?it/s]"
      ]
     },
     "metadata": {},
     "output_type": "display_data"
    },
    {
     "data": {
      "application/vnd.jupyter.widget-view+json": {
       "model_id": "",
       "version_major": 2,
       "version_minor": 0
      },
      "text/plain": [
       "Validation: 0it [00:00, ?it/s]"
      ]
     },
     "metadata": {},
     "output_type": "display_data"
    },
    {
     "data": {
      "application/vnd.jupyter.widget-view+json": {
       "model_id": "",
       "version_major": 2,
       "version_minor": 0
      },
      "text/plain": [
       "Validation: 0it [00:00, ?it/s]"
      ]
     },
     "metadata": {},
     "output_type": "display_data"
    },
    {
     "data": {
      "application/vnd.jupyter.widget-view+json": {
       "model_id": "",
       "version_major": 2,
       "version_minor": 0
      },
      "text/plain": [
       "Validation: 0it [00:00, ?it/s]"
      ]
     },
     "metadata": {},
     "output_type": "display_data"
    },
    {
     "name": "stderr",
     "output_type": "stream",
     "text": [
      "`Trainer.fit` stopped: `max_epochs=10` reached.\n"
     ]
    },
    {
     "data": {
      "application/vnd.jupyter.widget-view+json": {
       "model_id": "e06c465418734b93b7d1f7351909d0ed",
       "version_major": 2,
       "version_minor": 0
      },
      "text/plain": [
       "Predicting: 2140it [00:00, ?it/s]"
      ]
     },
     "metadata": {},
     "output_type": "display_data"
    }
   ],
   "source": [
    "train_dataset = make_dataset(X_train_scaled, y_train, 3)\n",
    "val_dataset = make_dataset(X_val_scaled, y_val, 3)\n",
    "test_dataset = make_dataset(X_test_scaled, y_test, 3, True)\n",
    "\n",
    "train_loader = DataLoader(train_dataset, batch_size=128, shuffle=True)\n",
    "val_loader = DataLoader(val_dataset, batch_size=128, shuffle=False)\n",
    "test_loader = DataLoader(test_dataset, batch_size=128, shuffle=False)\n",
    "\n",
    "mlp_model = WeatherMLP(X_train_scaled.shape[1], [512, 512], 0.2, 2)    \n",
    "\n",
    "callbacks = [\n",
    "    pl.callbacks.ModelCheckpoint(\"checkpoints/mlp\"),\n",
    "    MetricsCallback()\n",
    "]\n",
    "\n",
    "trainer = pl.Trainer(\n",
    "    callbacks=callbacks, \n",
    "    gradient_clip_val=1.0,\n",
    "    accelerator=\"mps\", \n",
    "    devices=1,\n",
    "    max_epochs=10\n",
    ")\n",
    "\n",
    "trainer.fit(mlp_model, train_loader, val_loader)\n",
    "y_pred = trainer.predict(mlp_model, test_loader)\n",
    "y_pred_labels = torch.argmax(torch.cat(y_pred), -1).numpy()"
   ]
  },
  {
   "cell_type": "code",
   "execution_count": 136,
   "id": "1e0384c4-cd27-4d28-a46e-19eda152357e",
   "metadata": {},
   "outputs": [
    {
     "data": {
      "text/plain": [
       "[{'val_loss': 0.6565025448799133},\n",
       " {'train_loss': 0.34856298565864563, 'val_loss': 0.34848552942276},\n",
       " {'train_loss': 0.37793928384780884, 'val_loss': 0.34228846430778503},\n",
       " {'train_loss': 0.2789948880672455, 'val_loss': 0.3373417854309082},\n",
       " {'train_loss': 0.39125964045524597, 'val_loss': 0.33566218614578247},\n",
       " {'train_loss': 0.29311686754226685, 'val_loss': 0.3373487591743469},\n",
       " {'train_loss': 0.3251182734966278, 'val_loss': 0.3368564546108246},\n",
       " {'train_loss': 0.42446157336235046, 'val_loss': 0.3407706022262573},\n",
       " {'train_loss': 0.2265898585319519, 'val_loss': 0.3415967524051666},\n",
       " {'train_loss': 0.22905892133712769, 'val_loss': 0.33943337202072144},\n",
       " {'train_loss': 0.50113445520401, 'val_loss': 0.34295448660850525}]"
      ]
     },
     "execution_count": 136,
     "metadata": {},
     "output_type": "execute_result"
    }
   ],
   "source": [
    "callbacks[1].metrics"
   ]
  },
  {
   "cell_type": "code",
   "execution_count": 163,
   "id": "dfa2192e-8571-45af-ae3e-3731dee75fdc",
   "metadata": {},
   "outputs": [],
   "source": [
    "data_plots = pd.DataFrame(callbacks[1].metrics)\n",
    "train_loss_history = data_plots.train_loss\n",
    "val_loss_history = data_plots.val_loss"
   ]
  },
  {
   "cell_type": "code",
   "execution_count": 164,
   "id": "f17ec201-0646-4d6c-88aa-d5f5b6f448a5",
   "metadata": {},
   "outputs": [
    {
     "data": {
      "image/png": "[encoded data removed]",
      "text/plain": [
       "<Figure size 1600x900 with 1 Axes>"
      ]
     },
     "metadata": {},
     "output_type": "display_data"
    }
   ],
   "source": [
    "plt.figure(figsize=(16, 9))\n",
    "plt.title(\"Loss history of MLP\")\n",
    "sns.lineplot(train_loss_history, label=\"Train loss\")\n",
    "sns.lineplot(val_loss_history, label=\"Val loss\")\n",
    "plt.xlabel(\"Epoch\")\n",
    "plt.ylabel(\"CrossEntropyLoss\")\n",
    "plt.show()"
   ]
  },
  {
   "cell_type": "code",
   "execution_count": null,
   "id": "fe42aea1-c99e-4767-960c-7a679b045e4e",
   "metadata": {},
   "outputs": [],
   "source": []
  }
 ],
 "metadata": {
  "kernelspec": {
   "display_name": "Python 3 (ipykernel)",
   "language": "python",
   "name": "python3"
  },
  "language_info": {
   "codemirror_mode": {
    "name": "ipython",
    "version": 3
   },
   "file_extension": ".py",
   "mimetype": "text/x-python",
   "name": "python",
   "nbconvert_exporter": "python",
   "pygments_lexer": "ipython3",
   "version": "3.9.6"
  },
  "notebookId": "0eeeaf85-4775-49af-9513-11b95ee72392",
  "notebookPath": "ForecastingExtremeWeather/notebooks/models_bulat.ipynb"
 },
 "nbformat": 4,
 "nbformat_minor": 5
}
