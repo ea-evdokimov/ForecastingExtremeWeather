{
 "cells": [
  {
   "cell_type": "code",
   "execution_count": 1,
   "id": "b862f078",
   "metadata": {
    "cellId": "82pml9baa14gscvur9gu9h"
   },
   "outputs": [],
   "source": [
    "%load_ext autoreload\n",
    "%autoreload 2\n",
    "    \n",
    "import sys\n",
    "import copy\n",
    "\n",
    "sys.path.append(\"../lib/\")\n",
    "\n",
    "# from etna.experimental.classification.feature_extraction import TSFreshFeatureExtractor\n",
    "import numpy as np\n",
    "import matplotlib.pyplot as plt\n",
    "import seaborn as sns\n",
    "from tqdm.auto import tqdm\n",
    "import pandas as pd\n",
    "from sklearn.model_selection import TimeSeriesSplit\n",
    "from sklearn.metrics import classification_report\n",
    "from catboost import CatBoostClassifier, Pool\n",
    "from skimage.util.shape import view_as_windows\n",
    "import scipy.linalg\n",
    "from IPython.display import clear_output\n",
    "\n",
    "tqdm.pandas()\n",
    "\n",
    "import prepare_dataset\n",
    "import feature_preparation"
   ]
  },
  {
   "cell_type": "code",
   "execution_count": 2,
   "id": "f912ed53",
   "metadata": {
    "cellId": "i5xpxloqdxc3budnol9uun"
   },
   "outputs": [],
   "source": [
    "weather_train_path = \"../data/weather_dataset.csv\""
   ]
  },
  {
   "cell_type": "code",
   "execution_count": 3,
   "id": "2f33e620",
   "metadata": {
    "cellId": "pbq2jpgc4yh1npq2s2ic7"
   },
   "outputs": [
    {
     "name": "stderr",
     "output_type": "stream",
     "text": [
      "/var/folders/n5/zftt7r7n09j715hq4n1wqyjmmqxvb8/T/ipykernel_87971/907385527.py:1: DtypeWarning: Columns (22,29) have mixed types. Specify dtype option on import or set low_memory=False.\n",
      "  weather_train = pd.read_csv(weather_train_path, sep=\";\", index_col=0)\n"
     ]
    }
   ],
   "source": [
    "weather_train = pd.read_csv(weather_train_path, sep=\";\", index_col=0)"
   ]
  },
  {
   "cell_type": "code",
   "execution_count": 4,
   "id": "854e17dc",
   "metadata": {
    "cellId": "krup29fe4dsmdfewm99qg"
   },
   "outputs": [
    {
     "data": {
      "text/plain": [
       "array([22550, 26063, 22820, 34009, 34123, 27947, 26898])"
      ]
     },
     "execution_count": 4,
     "metadata": {},
     "output_type": "execute_result"
    }
   ],
   "source": [
    "weather_train.station_id.unique()"
   ]
  },
  {
   "cell_type": "code",
   "execution_count": 5,
   "id": "d8e37611",
   "metadata": {
    "cellId": "d9njsf5scmqbevevo52mu"
   },
   "outputs": [
    {
     "data": {
      "application/vnd.jupyter.widget-view+json": {
       "model_id": "fa7471da1b4f4a4cab83b882836b10c8",
       "version_major": 2,
       "version_minor": 0
      },
      "text/plain": [
       "  0%|          | 0/7 [00:00<?, ?it/s]"
      ]
     },
     "metadata": {},
     "output_type": "display_data"
    },
    {
     "name": "stderr",
     "output_type": "stream",
     "text": [
      "2022-12-12 00:00:26.794 | INFO     | prepare_dataset:prepare_dataset:96 - Current mode of preparation is processed.\n"
     ]
    },
    {
     "data": {
      "application/vnd.jupyter.widget-view+json": {
       "model_id": "c83e00380f5845daa17f4a87a17c5099",
       "version_major": 2,
       "version_minor": 0
      },
      "text/plain": [
       "  0%|          | 0/52167 [00:00<?, ?it/s]"
      ]
     },
     "metadata": {},
     "output_type": "display_data"
    },
    {
     "data": {
      "application/vnd.jupyter.widget-view+json": {
       "model_id": "b4bf6dee9e864d1096c379f6825e8d8a",
       "version_major": 2,
       "version_minor": 0
      },
      "text/plain": [
       "  0%|          | 0/6 [00:00<?, ?it/s]"
      ]
     },
     "metadata": {},
     "output_type": "display_data"
    },
    {
     "name": "stderr",
     "output_type": "stream",
     "text": [
      "2022-12-12 00:00:29.664 | INFO     | prepare_dataset:prepare_dataset:111 - Step: local_time_pipeline\n",
      "2022-12-12 00:00:29.676 | INFO     | prepare_dataset:prepare_dataset:111 - Step: dd_pipeline\n"
     ]
    },
    {
     "data": {
      "application/vnd.jupyter.widget-view+json": {
       "model_id": "eb782ec6c0ee432995a3e19781ea8aae",
       "version_major": 2,
       "version_minor": 0
      },
      "text/plain": [
       "  0%|          | 0/52167 [00:00<?, ?it/s]"
      ]
     },
     "metadata": {},
     "output_type": "display_data"
    },
    {
     "name": "stderr",
     "output_type": "stream",
     "text": [
      "2022-12-12 00:00:30.410 | INFO     | prepare_dataset:prepare_dataset:111 - Step: ch_pipeline\n"
     ]
    },
    {
     "data": {
      "application/vnd.jupyter.widget-view+json": {
       "model_id": "2ae9824241534992a6edc41ce50ed19b",
       "version_major": 2,
       "version_minor": 0
      },
      "text/plain": [
       "  0%|          | 0/52167 [00:00<?, ?it/s]"
      ]
     },
     "metadata": {},
     "output_type": "display_data"
    },
    {
     "name": "stderr",
     "output_type": "stream",
     "text": [
      "2022-12-12 00:00:30.460 | INFO     | prepare_dataset:prepare_dataset:111 - Step: cm_pipeline\n"
     ]
    },
    {
     "data": {
      "application/vnd.jupyter.widget-view+json": {
       "model_id": "9eb592e3be354e63a96660c5208b844a",
       "version_major": 2,
       "version_minor": 0
      },
      "text/plain": [
       "  0%|          | 0/52167 [00:00<?, ?it/s]"
      ]
     },
     "metadata": {},
     "output_type": "display_data"
    },
    {
     "name": "stderr",
     "output_type": "stream",
     "text": [
      "2022-12-12 00:00:30.509 | INFO     | prepare_dataset:prepare_dataset:111 - Step: cl_pipeline\n"
     ]
    },
    {
     "data": {
      "application/vnd.jupyter.widget-view+json": {
       "model_id": "c1cde9c8828c4c48834044ee38bfdc1d",
       "version_major": 2,
       "version_minor": 0
      },
      "text/plain": [
       "  0%|          | 0/52167 [00:00<?, ?it/s]"
      ]
     },
     "metadata": {},
     "output_type": "display_data"
    },
    {
     "name": "stderr",
     "output_type": "stream",
     "text": [
      "2022-12-12 00:00:30.559 | INFO     | prepare_dataset:prepare_dataset:111 - Step: vv_pipeline\n"
     ]
    },
    {
     "data": {
      "application/vnd.jupyter.widget-view+json": {
       "model_id": "92d3184d3a594f99bec059ba5dc2b4d1",
       "version_major": 2,
       "version_minor": 0
      },
      "text/plain": [
       "  0%|          | 0/52167 [00:00<?, ?it/s]"
      ]
     },
     "metadata": {},
     "output_type": "display_data"
    },
    {
     "name": "stderr",
     "output_type": "stream",
     "text": [
      "2022-12-12 00:00:30.629 | INFO     | prepare_dataset:prepare_dataset:114 - Filling nans!\n"
     ]
    },
    {
     "data": {
      "application/vnd.jupyter.widget-view+json": {
       "model_id": "61e41e1fefff40fc8973443dab3e347b",
       "version_major": 2,
       "version_minor": 0
      },
      "text/plain": [
       "  0%|          | 0/52167 [00:00<?, ?it/s]"
      ]
     },
     "metadata": {},
     "output_type": "display_data"
    },
    {
     "data": {
      "application/vnd.jupyter.widget-view+json": {
       "model_id": "ede7dfa034ed4d85bccc847f6e2004b2",
       "version_major": 2,
       "version_minor": 0
      },
      "text/plain": [
       "  0%|          | 0/52167 [00:00<?, ?it/s]"
      ]
     },
     "metadata": {},
     "output_type": "display_data"
    },
    {
     "data": {
      "application/vnd.jupyter.widget-view+json": {
       "model_id": "79bedaf2811a48e88f67d970d5e64dbf",
       "version_major": 2,
       "version_minor": 0
      },
      "text/plain": [
       "  0%|          | 0/52167 [00:00<?, ?it/s]"
      ]
     },
     "metadata": {},
     "output_type": "display_data"
    },
    {
     "name": "stderr",
     "output_type": "stream",
     "text": [
      "2022-12-12 00:00:35.629 | INFO     | prepare_dataset:prepare_dataset:117 - Done (processed)!\n",
      "2022-12-12 00:00:35.634 | INFO     | prepare_dataset:prepare_dataset:96 - Current mode of preparation is processed.\n"
     ]
    },
    {
     "data": {
      "application/vnd.jupyter.widget-view+json": {
       "model_id": "ab64b2addbb8477f89e2e3d311dac8c9",
       "version_major": 2,
       "version_minor": 0
      },
      "text/plain": [
       "  0%|          | 0/52167 [00:00<?, ?it/s]"
      ]
     },
     "metadata": {},
     "output_type": "display_data"
    },
    {
     "data": {
      "application/vnd.jupyter.widget-view+json": {
       "model_id": "44570c9a4ca744bc8bb68119d70285c1",
       "version_major": 2,
       "version_minor": 0
      },
      "text/plain": [
       "  0%|          | 0/6 [00:00<?, ?it/s]"
      ]
     },
     "metadata": {},
     "output_type": "display_data"
    },
    {
     "name": "stderr",
     "output_type": "stream",
     "text": [
      "2022-12-12 00:00:38.477 | INFO     | prepare_dataset:prepare_dataset:111 - Step: local_time_pipeline\n",
      "2022-12-12 00:00:38.488 | INFO     | prepare_dataset:prepare_dataset:111 - Step: dd_pipeline\n"
     ]
    },
    {
     "data": {
      "application/vnd.jupyter.widget-view+json": {
       "model_id": "b5e82a3475e04e31b37cfa427c1d5db6",
       "version_major": 2,
       "version_minor": 0
      },
      "text/plain": [
       "  0%|          | 0/52167 [00:00<?, ?it/s]"
      ]
     },
     "metadata": {},
     "output_type": "display_data"
    },
    {
     "name": "stderr",
     "output_type": "stream",
     "text": [
      "2022-12-12 00:00:39.212 | INFO     | prepare_dataset:prepare_dataset:111 - Step: ch_pipeline\n"
     ]
    },
    {
     "data": {
      "application/vnd.jupyter.widget-view+json": {
       "model_id": "35c6d6a23d9c4edd8c3a0d51f6f8986f",
       "version_major": 2,
       "version_minor": 0
      },
      "text/plain": [
       "  0%|          | 0/52167 [00:00<?, ?it/s]"
      ]
     },
     "metadata": {},
     "output_type": "display_data"
    },
    {
     "name": "stderr",
     "output_type": "stream",
     "text": [
      "2022-12-12 00:00:39.261 | INFO     | prepare_dataset:prepare_dataset:111 - Step: cm_pipeline\n"
     ]
    },
    {
     "data": {
      "application/vnd.jupyter.widget-view+json": {
       "model_id": "6ada89580e1b43fd9ddbe0ec57e8c812",
       "version_major": 2,
       "version_minor": 0
      },
      "text/plain": [
       "  0%|          | 0/52167 [00:00<?, ?it/s]"
      ]
     },
     "metadata": {},
     "output_type": "display_data"
    },
    {
     "name": "stderr",
     "output_type": "stream",
     "text": [
      "2022-12-12 00:00:39.310 | INFO     | prepare_dataset:prepare_dataset:111 - Step: cl_pipeline\n"
     ]
    },
    {
     "data": {
      "application/vnd.jupyter.widget-view+json": {
       "model_id": "0dbf00b6b37b4943876db8dbf3620150",
       "version_major": 2,
       "version_minor": 0
      },
      "text/plain": [
       "  0%|          | 0/52167 [00:00<?, ?it/s]"
      ]
     },
     "metadata": {},
     "output_type": "display_data"
    },
    {
     "name": "stderr",
     "output_type": "stream",
     "text": [
      "2022-12-12 00:00:39.361 | INFO     | prepare_dataset:prepare_dataset:111 - Step: vv_pipeline\n"
     ]
    },
    {
     "data": {
      "application/vnd.jupyter.widget-view+json": {
       "model_id": "f2b5246d36244284aad7549bd4175498",
       "version_major": 2,
       "version_minor": 0
      },
      "text/plain": [
       "  0%|          | 0/52167 [00:00<?, ?it/s]"
      ]
     },
     "metadata": {},
     "output_type": "display_data"
    },
    {
     "name": "stderr",
     "output_type": "stream",
     "text": [
      "2022-12-12 00:00:39.422 | INFO     | prepare_dataset:prepare_dataset:114 - Filling nans!\n"
     ]
    },
    {
     "data": {
      "application/vnd.jupyter.widget-view+json": {
       "model_id": "30370ac17c264f38b415931a5e83b920",
       "version_major": 2,
       "version_minor": 0
      },
      "text/plain": [
       "  0%|          | 0/52167 [00:00<?, ?it/s]"
      ]
     },
     "metadata": {},
     "output_type": "display_data"
    },
    {
     "data": {
      "application/vnd.jupyter.widget-view+json": {
       "model_id": "87bcbe4b0ef34288ab99aa99161094d7",
       "version_major": 2,
       "version_minor": 0
      },
      "text/plain": [
       "  0%|          | 0/52167 [00:00<?, ?it/s]"
      ]
     },
     "metadata": {},
     "output_type": "display_data"
    },
    {
     "data": {
      "application/vnd.jupyter.widget-view+json": {
       "model_id": "0012aa28ee6e4cacb8eab4a8b9a3c619",
       "version_major": 2,
       "version_minor": 0
      },
      "text/plain": [
       "  0%|          | 0/52167 [00:00<?, ?it/s]"
      ]
     },
     "metadata": {},
     "output_type": "display_data"
    },
    {
     "name": "stderr",
     "output_type": "stream",
     "text": [
      "2022-12-12 00:00:44.413 | INFO     | prepare_dataset:prepare_dataset:117 - Done (processed)!\n",
      "2022-12-12 00:00:44.418 | INFO     | prepare_dataset:prepare_dataset:96 - Current mode of preparation is processed.\n"
     ]
    },
    {
     "data": {
      "application/vnd.jupyter.widget-view+json": {
       "model_id": "b86d9d9dab934fef92ebacde693d1746",
       "version_major": 2,
       "version_minor": 0
      },
      "text/plain": [
       "  0%|          | 0/52167 [00:00<?, ?it/s]"
      ]
     },
     "metadata": {},
     "output_type": "display_data"
    },
    {
     "data": {
      "application/vnd.jupyter.widget-view+json": {
       "model_id": "3532f0bfbd7847109a3c950123528d9b",
       "version_major": 2,
       "version_minor": 0
      },
      "text/plain": [
       "  0%|          | 0/6 [00:00<?, ?it/s]"
      ]
     },
     "metadata": {},
     "output_type": "display_data"
    },
    {
     "name": "stderr",
     "output_type": "stream",
     "text": [
      "2022-12-12 00:00:47.263 | INFO     | prepare_dataset:prepare_dataset:111 - Step: local_time_pipeline\n",
      "2022-12-12 00:00:47.274 | INFO     | prepare_dataset:prepare_dataset:111 - Step: dd_pipeline\n"
     ]
    },
    {
     "data": {
      "application/vnd.jupyter.widget-view+json": {
       "model_id": "76a147fb1faf40a79fc44c8877fe9a94",
       "version_major": 2,
       "version_minor": 0
      },
      "text/plain": [
       "  0%|          | 0/52167 [00:00<?, ?it/s]"
      ]
     },
     "metadata": {},
     "output_type": "display_data"
    },
    {
     "name": "stderr",
     "output_type": "stream",
     "text": [
      "2022-12-12 00:00:48.011 | INFO     | prepare_dataset:prepare_dataset:111 - Step: ch_pipeline\n"
     ]
    },
    {
     "data": {
      "application/vnd.jupyter.widget-view+json": {
       "model_id": "cdd89cb4a28c4a7ca2626265742c3b7b",
       "version_major": 2,
       "version_minor": 0
      },
      "text/plain": [
       "  0%|          | 0/52167 [00:00<?, ?it/s]"
      ]
     },
     "metadata": {},
     "output_type": "display_data"
    },
    {
     "name": "stderr",
     "output_type": "stream",
     "text": [
      "2022-12-12 00:00:48.061 | INFO     | prepare_dataset:prepare_dataset:111 - Step: cm_pipeline\n"
     ]
    },
    {
     "data": {
      "application/vnd.jupyter.widget-view+json": {
       "model_id": "0d1b729ae7a6411b97d24e2aceaf331c",
       "version_major": 2,
       "version_minor": 0
      },
      "text/plain": [
       "  0%|          | 0/52167 [00:00<?, ?it/s]"
      ]
     },
     "metadata": {},
     "output_type": "display_data"
    },
    {
     "name": "stderr",
     "output_type": "stream",
     "text": [
      "2022-12-12 00:00:48.109 | INFO     | prepare_dataset:prepare_dataset:111 - Step: cl_pipeline\n"
     ]
    },
    {
     "data": {
      "application/vnd.jupyter.widget-view+json": {
       "model_id": "726b838927e340eb9934ffe216c053db",
       "version_major": 2,
       "version_minor": 0
      },
      "text/plain": [
       "  0%|          | 0/52167 [00:00<?, ?it/s]"
      ]
     },
     "metadata": {},
     "output_type": "display_data"
    },
    {
     "name": "stderr",
     "output_type": "stream",
     "text": [
      "2022-12-12 00:00:48.158 | INFO     | prepare_dataset:prepare_dataset:111 - Step: vv_pipeline\n"
     ]
    },
    {
     "data": {
      "application/vnd.jupyter.widget-view+json": {
       "model_id": "f5117f3d96354e63a0d9fff39d2d0aad",
       "version_major": 2,
       "version_minor": 0
      },
      "text/plain": [
       "  0%|          | 0/52167 [00:00<?, ?it/s]"
      ]
     },
     "metadata": {},
     "output_type": "display_data"
    },
    {
     "name": "stderr",
     "output_type": "stream",
     "text": [
      "2022-12-12 00:00:48.214 | INFO     | prepare_dataset:prepare_dataset:114 - Filling nans!\n"
     ]
    },
    {
     "data": {
      "application/vnd.jupyter.widget-view+json": {
       "model_id": "50a72b8e17e64a508429e1043b43f37e",
       "version_major": 2,
       "version_minor": 0
      },
      "text/plain": [
       "  0%|          | 0/52167 [00:00<?, ?it/s]"
      ]
     },
     "metadata": {},
     "output_type": "display_data"
    },
    {
     "data": {
      "application/vnd.jupyter.widget-view+json": {
       "model_id": "9448d7f46540442b95602cd8a62a5e55",
       "version_major": 2,
       "version_minor": 0
      },
      "text/plain": [
       "  0%|          | 0/52167 [00:00<?, ?it/s]"
      ]
     },
     "metadata": {},
     "output_type": "display_data"
    },
    {
     "data": {
      "application/vnd.jupyter.widget-view+json": {
       "model_id": "c2847cc11289493db3465a34c1ecf0be",
       "version_major": 2,
       "version_minor": 0
      },
      "text/plain": [
       "  0%|          | 0/52167 [00:00<?, ?it/s]"
      ]
     },
     "metadata": {},
     "output_type": "display_data"
    },
    {
     "name": "stderr",
     "output_type": "stream",
     "text": [
      "2022-12-12 00:00:53.161 | INFO     | prepare_dataset:prepare_dataset:117 - Done (processed)!\n",
      "2022-12-12 00:00:53.166 | INFO     | prepare_dataset:prepare_dataset:96 - Current mode of preparation is processed.\n"
     ]
    },
    {
     "data": {
      "application/vnd.jupyter.widget-view+json": {
       "model_id": "be190aff2f304b27adf5b4ba0f6ea378",
       "version_major": 2,
       "version_minor": 0
      },
      "text/plain": [
       "  0%|          | 0/52167 [00:00<?, ?it/s]"
      ]
     },
     "metadata": {},
     "output_type": "display_data"
    },
    {
     "data": {
      "application/vnd.jupyter.widget-view+json": {
       "model_id": "eeeb59bfd5f6444b909466a53db9c3c0",
       "version_major": 2,
       "version_minor": 0
      },
      "text/plain": [
       "  0%|          | 0/6 [00:00<?, ?it/s]"
      ]
     },
     "metadata": {},
     "output_type": "display_data"
    },
    {
     "name": "stderr",
     "output_type": "stream",
     "text": [
      "2022-12-12 00:00:56.231 | INFO     | prepare_dataset:prepare_dataset:111 - Step: local_time_pipeline\n",
      "2022-12-12 00:00:56.241 | INFO     | prepare_dataset:prepare_dataset:111 - Step: dd_pipeline\n"
     ]
    },
    {
     "data": {
      "application/vnd.jupyter.widget-view+json": {
       "model_id": "51960841fe7b4b54a225b49d955027cf",
       "version_major": 2,
       "version_minor": 0
      },
      "text/plain": [
       "  0%|          | 0/52167 [00:00<?, ?it/s]"
      ]
     },
     "metadata": {},
     "output_type": "display_data"
    },
    {
     "name": "stderr",
     "output_type": "stream",
     "text": [
      "2022-12-12 00:00:56.955 | INFO     | prepare_dataset:prepare_dataset:111 - Step: ch_pipeline\n"
     ]
    },
    {
     "data": {
      "application/vnd.jupyter.widget-view+json": {
       "model_id": "27ba3e5d699d4ec6bb3824c43e35a0aa",
       "version_major": 2,
       "version_minor": 0
      },
      "text/plain": [
       "  0%|          | 0/52167 [00:00<?, ?it/s]"
      ]
     },
     "metadata": {},
     "output_type": "display_data"
    },
    {
     "name": "stderr",
     "output_type": "stream",
     "text": [
      "2022-12-12 00:00:57.002 | INFO     | prepare_dataset:prepare_dataset:111 - Step: cm_pipeline\n"
     ]
    },
    {
     "data": {
      "application/vnd.jupyter.widget-view+json": {
       "model_id": "ef48463aeb0f4921b20b0c0fb403035f",
       "version_major": 2,
       "version_minor": 0
      },
      "text/plain": [
       "  0%|          | 0/52167 [00:00<?, ?it/s]"
      ]
     },
     "metadata": {},
     "output_type": "display_data"
    },
    {
     "name": "stderr",
     "output_type": "stream",
     "text": [
      "2022-12-12 00:00:57.051 | INFO     | prepare_dataset:prepare_dataset:111 - Step: cl_pipeline\n"
     ]
    },
    {
     "data": {
      "application/vnd.jupyter.widget-view+json": {
       "model_id": "b296ee1c19494e82ad826eb68610d00d",
       "version_major": 2,
       "version_minor": 0
      },
      "text/plain": [
       "  0%|          | 0/52167 [00:00<?, ?it/s]"
      ]
     },
     "metadata": {},
     "output_type": "display_data"
    },
    {
     "name": "stderr",
     "output_type": "stream",
     "text": [
      "2022-12-12 00:00:57.098 | INFO     | prepare_dataset:prepare_dataset:111 - Step: vv_pipeline\n"
     ]
    },
    {
     "data": {
      "application/vnd.jupyter.widget-view+json": {
       "model_id": "f854555b7c4041f1b8f0523b9e7deeb1",
       "version_major": 2,
       "version_minor": 0
      },
      "text/plain": [
       "  0%|          | 0/52167 [00:00<?, ?it/s]"
      ]
     },
     "metadata": {},
     "output_type": "display_data"
    },
    {
     "name": "stderr",
     "output_type": "stream",
     "text": [
      "2022-12-12 00:00:57.151 | INFO     | prepare_dataset:prepare_dataset:114 - Filling nans!\n"
     ]
    },
    {
     "data": {
      "application/vnd.jupyter.widget-view+json": {
       "model_id": "d14a024824854bc2acf854563876caa3",
       "version_major": 2,
       "version_minor": 0
      },
      "text/plain": [
       "  0%|          | 0/52167 [00:00<?, ?it/s]"
      ]
     },
     "metadata": {},
     "output_type": "display_data"
    },
    {
     "data": {
      "application/vnd.jupyter.widget-view+json": {
       "model_id": "9e828c0a2989406d80f2963e26824d39",
       "version_major": 2,
       "version_minor": 0
      },
      "text/plain": [
       "  0%|          | 0/52167 [00:00<?, ?it/s]"
      ]
     },
     "metadata": {},
     "output_type": "display_data"
    },
    {
     "data": {
      "application/vnd.jupyter.widget-view+json": {
       "model_id": "88eaf11b083b4faa8c7c64dce964b74d",
       "version_major": 2,
       "version_minor": 0
      },
      "text/plain": [
       "  0%|          | 0/52167 [00:00<?, ?it/s]"
      ]
     },
     "metadata": {},
     "output_type": "display_data"
    },
    {
     "name": "stderr",
     "output_type": "stream",
     "text": [
      "2022-12-12 00:01:02.064 | INFO     | prepare_dataset:prepare_dataset:117 - Done (processed)!\n",
      "2022-12-12 00:01:02.069 | INFO     | prepare_dataset:prepare_dataset:96 - Current mode of preparation is processed.\n"
     ]
    },
    {
     "data": {
      "application/vnd.jupyter.widget-view+json": {
       "model_id": "252dd848148c472ba9d145087bffd364",
       "version_major": 2,
       "version_minor": 0
      },
      "text/plain": [
       "  0%|          | 0/52167 [00:00<?, ?it/s]"
      ]
     },
     "metadata": {},
     "output_type": "display_data"
    },
    {
     "data": {
      "application/vnd.jupyter.widget-view+json": {
       "model_id": "89c39a8b98574fd8bd7d6f09f0c85f1a",
       "version_major": 2,
       "version_minor": 0
      },
      "text/plain": [
       "  0%|          | 0/6 [00:00<?, ?it/s]"
      ]
     },
     "metadata": {},
     "output_type": "display_data"
    },
    {
     "name": "stderr",
     "output_type": "stream",
     "text": [
      "2022-12-12 00:01:04.975 | INFO     | prepare_dataset:prepare_dataset:111 - Step: local_time_pipeline\n",
      "2022-12-12 00:01:04.986 | INFO     | prepare_dataset:prepare_dataset:111 - Step: dd_pipeline\n"
     ]
    },
    {
     "data": {
      "application/vnd.jupyter.widget-view+json": {
       "model_id": "e1013ac04995450cb9082ff57ccaca48",
       "version_major": 2,
       "version_minor": 0
      },
      "text/plain": [
       "  0%|          | 0/52167 [00:00<?, ?it/s]"
      ]
     },
     "metadata": {},
     "output_type": "display_data"
    },
    {
     "name": "stderr",
     "output_type": "stream",
     "text": [
      "2022-12-12 00:01:05.708 | INFO     | prepare_dataset:prepare_dataset:111 - Step: ch_pipeline\n"
     ]
    },
    {
     "data": {
      "application/vnd.jupyter.widget-view+json": {
       "model_id": "1134d3f639914891aab048600d57d29d",
       "version_major": 2,
       "version_minor": 0
      },
      "text/plain": [
       "  0%|          | 0/52167 [00:00<?, ?it/s]"
      ]
     },
     "metadata": {},
     "output_type": "display_data"
    },
    {
     "name": "stderr",
     "output_type": "stream",
     "text": [
      "2022-12-12 00:01:05.758 | INFO     | prepare_dataset:prepare_dataset:111 - Step: cm_pipeline\n"
     ]
    },
    {
     "data": {
      "application/vnd.jupyter.widget-view+json": {
       "model_id": "b8adf931fa604162bce0adbbf4c5dde9",
       "version_major": 2,
       "version_minor": 0
      },
      "text/plain": [
       "  0%|          | 0/52167 [00:00<?, ?it/s]"
      ]
     },
     "metadata": {},
     "output_type": "display_data"
    },
    {
     "name": "stderr",
     "output_type": "stream",
     "text": [
      "2022-12-12 00:01:05.808 | INFO     | prepare_dataset:prepare_dataset:111 - Step: cl_pipeline\n"
     ]
    },
    {
     "data": {
      "application/vnd.jupyter.widget-view+json": {
       "model_id": "4800b0fa9d8f4a5da6ccf48859a30f12",
       "version_major": 2,
       "version_minor": 0
      },
      "text/plain": [
       "  0%|          | 0/52167 [00:00<?, ?it/s]"
      ]
     },
     "metadata": {},
     "output_type": "display_data"
    },
    {
     "name": "stderr",
     "output_type": "stream",
     "text": [
      "2022-12-12 00:01:05.856 | INFO     | prepare_dataset:prepare_dataset:111 - Step: vv_pipeline\n"
     ]
    },
    {
     "data": {
      "application/vnd.jupyter.widget-view+json": {
       "model_id": "332c9f1b69604a07a3c4529e0784c162",
       "version_major": 2,
       "version_minor": 0
      },
      "text/plain": [
       "  0%|          | 0/52167 [00:00<?, ?it/s]"
      ]
     },
     "metadata": {},
     "output_type": "display_data"
    },
    {
     "name": "stderr",
     "output_type": "stream",
     "text": [
      "2022-12-12 00:01:05.909 | INFO     | prepare_dataset:prepare_dataset:114 - Filling nans!\n"
     ]
    },
    {
     "data": {
      "application/vnd.jupyter.widget-view+json": {
       "model_id": "6d2ae5245d404cd9b3650c766350cf4d",
       "version_major": 2,
       "version_minor": 0
      },
      "text/plain": [
       "  0%|          | 0/52167 [00:00<?, ?it/s]"
      ]
     },
     "metadata": {},
     "output_type": "display_data"
    },
    {
     "data": {
      "application/vnd.jupyter.widget-view+json": {
       "model_id": "1d855813c0084c0e9c5e63086eacc5c4",
       "version_major": 2,
       "version_minor": 0
      },
      "text/plain": [
       "  0%|          | 0/52167 [00:00<?, ?it/s]"
      ]
     },
     "metadata": {},
     "output_type": "display_data"
    },
    {
     "data": {
      "application/vnd.jupyter.widget-view+json": {
       "model_id": "4d4dbac5eb8b4b10850612095627dadc",
       "version_major": 2,
       "version_minor": 0
      },
      "text/plain": [
       "  0%|          | 0/52167 [00:00<?, ?it/s]"
      ]
     },
     "metadata": {},
     "output_type": "display_data"
    },
    {
     "name": "stderr",
     "output_type": "stream",
     "text": [
      "2022-12-12 00:01:10.864 | INFO     | prepare_dataset:prepare_dataset:117 - Done (processed)!\n",
      "2022-12-12 00:01:10.869 | INFO     | prepare_dataset:prepare_dataset:96 - Current mode of preparation is processed.\n"
     ]
    },
    {
     "data": {
      "application/vnd.jupyter.widget-view+json": {
       "model_id": "6d44bebd88684aeb9dcaee0568ca7301",
       "version_major": 2,
       "version_minor": 0
      },
      "text/plain": [
       "  0%|          | 0/52167 [00:00<?, ?it/s]"
      ]
     },
     "metadata": {},
     "output_type": "display_data"
    },
    {
     "data": {
      "application/vnd.jupyter.widget-view+json": {
       "model_id": "c4648ea6d0f34549ace6f7f208ea59f0",
       "version_major": 2,
       "version_minor": 0
      },
      "text/plain": [
       "  0%|          | 0/6 [00:00<?, ?it/s]"
      ]
     },
     "metadata": {},
     "output_type": "display_data"
    },
    {
     "name": "stderr",
     "output_type": "stream",
     "text": [
      "2022-12-12 00:01:13.803 | INFO     | prepare_dataset:prepare_dataset:111 - Step: local_time_pipeline\n",
      "2022-12-12 00:01:13.813 | INFO     | prepare_dataset:prepare_dataset:111 - Step: dd_pipeline\n"
     ]
    },
    {
     "data": {
      "application/vnd.jupyter.widget-view+json": {
       "model_id": "6730105da63048348500523a82d59cac",
       "version_major": 2,
       "version_minor": 0
      },
      "text/plain": [
       "  0%|          | 0/52167 [00:00<?, ?it/s]"
      ]
     },
     "metadata": {},
     "output_type": "display_data"
    },
    {
     "name": "stderr",
     "output_type": "stream",
     "text": [
      "2022-12-12 00:01:14.540 | INFO     | prepare_dataset:prepare_dataset:111 - Step: ch_pipeline\n"
     ]
    },
    {
     "data": {
      "application/vnd.jupyter.widget-view+json": {
       "model_id": "8f3fea2e1e36401fbc54bc2653eee489",
       "version_major": 2,
       "version_minor": 0
      },
      "text/plain": [
       "  0%|          | 0/52167 [00:00<?, ?it/s]"
      ]
     },
     "metadata": {},
     "output_type": "display_data"
    },
    {
     "name": "stderr",
     "output_type": "stream",
     "text": [
      "2022-12-12 00:01:14.588 | INFO     | prepare_dataset:prepare_dataset:111 - Step: cm_pipeline\n"
     ]
    },
    {
     "data": {
      "application/vnd.jupyter.widget-view+json": {
       "model_id": "9c8b9e11204d43b4832f7554499bed24",
       "version_major": 2,
       "version_minor": 0
      },
      "text/plain": [
       "  0%|          | 0/52167 [00:00<?, ?it/s]"
      ]
     },
     "metadata": {},
     "output_type": "display_data"
    },
    {
     "name": "stderr",
     "output_type": "stream",
     "text": [
      "2022-12-12 00:01:14.636 | INFO     | prepare_dataset:prepare_dataset:111 - Step: cl_pipeline\n"
     ]
    },
    {
     "data": {
      "application/vnd.jupyter.widget-view+json": {
       "model_id": "88400868b1fe4ec3bf2f36a7b0beed8a",
       "version_major": 2,
       "version_minor": 0
      },
      "text/plain": [
       "  0%|          | 0/52167 [00:00<?, ?it/s]"
      ]
     },
     "metadata": {},
     "output_type": "display_data"
    },
    {
     "name": "stderr",
     "output_type": "stream",
     "text": [
      "2022-12-12 00:01:14.685 | INFO     | prepare_dataset:prepare_dataset:111 - Step: vv_pipeline\n"
     ]
    },
    {
     "data": {
      "application/vnd.jupyter.widget-view+json": {
       "model_id": "4777e1563c1f4f808138a326e1e0418e",
       "version_major": 2,
       "version_minor": 0
      },
      "text/plain": [
       "  0%|          | 0/52167 [00:00<?, ?it/s]"
      ]
     },
     "metadata": {},
     "output_type": "display_data"
    },
    {
     "name": "stderr",
     "output_type": "stream",
     "text": [
      "2022-12-12 00:01:14.738 | INFO     | prepare_dataset:prepare_dataset:114 - Filling nans!\n"
     ]
    },
    {
     "data": {
      "application/vnd.jupyter.widget-view+json": {
       "model_id": "c71288e0288a47f09708b42a3c4e2901",
       "version_major": 2,
       "version_minor": 0
      },
      "text/plain": [
       "  0%|          | 0/52167 [00:00<?, ?it/s]"
      ]
     },
     "metadata": {},
     "output_type": "display_data"
    },
    {
     "data": {
      "application/vnd.jupyter.widget-view+json": {
       "model_id": "fc5bc4ea685d4aa8bf2a134348144b45",
       "version_major": 2,
       "version_minor": 0
      },
      "text/plain": [
       "  0%|          | 0/52167 [00:00<?, ?it/s]"
      ]
     },
     "metadata": {},
     "output_type": "display_data"
    },
    {
     "data": {
      "application/vnd.jupyter.widget-view+json": {
       "model_id": "08f76b7054e34169bcbfb59a1e695820",
       "version_major": 2,
       "version_minor": 0
      },
      "text/plain": [
       "  0%|          | 0/52167 [00:00<?, ?it/s]"
      ]
     },
     "metadata": {},
     "output_type": "display_data"
    },
    {
     "name": "stderr",
     "output_type": "stream",
     "text": [
      "2022-12-12 00:01:19.658 | INFO     | prepare_dataset:prepare_dataset:117 - Done (processed)!\n",
      "2022-12-12 00:01:19.663 | INFO     | prepare_dataset:prepare_dataset:96 - Current mode of preparation is processed.\n"
     ]
    },
    {
     "data": {
      "application/vnd.jupyter.widget-view+json": {
       "model_id": "75e93545851c4ccb9cd24ef3b7093498",
       "version_major": 2,
       "version_minor": 0
      },
      "text/plain": [
       "  0%|          | 0/52167 [00:00<?, ?it/s]"
      ]
     },
     "metadata": {},
     "output_type": "display_data"
    },
    {
     "data": {
      "application/vnd.jupyter.widget-view+json": {
       "model_id": "d2e998deff3442f4b2a9a253ec3e7a84",
       "version_major": 2,
       "version_minor": 0
      },
      "text/plain": [
       "  0%|          | 0/6 [00:00<?, ?it/s]"
      ]
     },
     "metadata": {},
     "output_type": "display_data"
    },
    {
     "name": "stderr",
     "output_type": "stream",
     "text": [
      "2022-12-12 00:01:22.549 | INFO     | prepare_dataset:prepare_dataset:111 - Step: local_time_pipeline\n",
      "2022-12-12 00:01:22.560 | INFO     | prepare_dataset:prepare_dataset:111 - Step: dd_pipeline\n"
     ]
    },
    {
     "data": {
      "application/vnd.jupyter.widget-view+json": {
       "model_id": "9851a5af73c642219c58e728e4e3612e",
       "version_major": 2,
       "version_minor": 0
      },
      "text/plain": [
       "  0%|          | 0/52167 [00:00<?, ?it/s]"
      ]
     },
     "metadata": {},
     "output_type": "display_data"
    },
    {
     "name": "stderr",
     "output_type": "stream",
     "text": [
      "2022-12-12 00:01:23.280 | INFO     | prepare_dataset:prepare_dataset:111 - Step: ch_pipeline\n"
     ]
    },
    {
     "data": {
      "application/vnd.jupyter.widget-view+json": {
       "model_id": "6beebced7eea4d3289480ba5a9beab33",
       "version_major": 2,
       "version_minor": 0
      },
      "text/plain": [
       "  0%|          | 0/52167 [00:00<?, ?it/s]"
      ]
     },
     "metadata": {},
     "output_type": "display_data"
    },
    {
     "name": "stderr",
     "output_type": "stream",
     "text": [
      "2022-12-12 00:01:23.330 | INFO     | prepare_dataset:prepare_dataset:111 - Step: cm_pipeline\n"
     ]
    },
    {
     "data": {
      "application/vnd.jupyter.widget-view+json": {
       "model_id": "f15fe0a4297b457c84651e32811e6185",
       "version_major": 2,
       "version_minor": 0
      },
      "text/plain": [
       "  0%|          | 0/52167 [00:00<?, ?it/s]"
      ]
     },
     "metadata": {},
     "output_type": "display_data"
    },
    {
     "name": "stderr",
     "output_type": "stream",
     "text": [
      "2022-12-12 00:01:23.378 | INFO     | prepare_dataset:prepare_dataset:111 - Step: cl_pipeline\n"
     ]
    },
    {
     "data": {
      "application/vnd.jupyter.widget-view+json": {
       "model_id": "bbf44f8bc44c449a958f53db1b7be26d",
       "version_major": 2,
       "version_minor": 0
      },
      "text/plain": [
       "  0%|          | 0/52167 [00:00<?, ?it/s]"
      ]
     },
     "metadata": {},
     "output_type": "display_data"
    },
    {
     "name": "stderr",
     "output_type": "stream",
     "text": [
      "2022-12-12 00:01:23.428 | INFO     | prepare_dataset:prepare_dataset:111 - Step: vv_pipeline\n"
     ]
    },
    {
     "data": {
      "application/vnd.jupyter.widget-view+json": {
       "model_id": "f3aba0baad8d42948db048ddc3950063",
       "version_major": 2,
       "version_minor": 0
      },
      "text/plain": [
       "  0%|          | 0/52167 [00:00<?, ?it/s]"
      ]
     },
     "metadata": {},
     "output_type": "display_data"
    },
    {
     "name": "stderr",
     "output_type": "stream",
     "text": [
      "2022-12-12 00:01:23.480 | INFO     | prepare_dataset:prepare_dataset:114 - Filling nans!\n"
     ]
    },
    {
     "data": {
      "application/vnd.jupyter.widget-view+json": {
       "model_id": "629a479636ba4ed5937e125167d12244",
       "version_major": 2,
       "version_minor": 0
      },
      "text/plain": [
       "  0%|          | 0/52167 [00:00<?, ?it/s]"
      ]
     },
     "metadata": {},
     "output_type": "display_data"
    },
    {
     "data": {
      "application/vnd.jupyter.widget-view+json": {
       "model_id": "161b3d1c64e94ed69754472f02723102",
       "version_major": 2,
       "version_minor": 0
      },
      "text/plain": [
       "  0%|          | 0/52167 [00:00<?, ?it/s]"
      ]
     },
     "metadata": {},
     "output_type": "display_data"
    },
    {
     "data": {
      "application/vnd.jupyter.widget-view+json": {
       "model_id": "6c8c171c0f8544088003941a836e67df",
       "version_major": 2,
       "version_minor": 0
      },
      "text/plain": [
       "  0%|          | 0/52167 [00:00<?, ?it/s]"
      ]
     },
     "metadata": {},
     "output_type": "display_data"
    },
    {
     "name": "stderr",
     "output_type": "stream",
     "text": [
      "2022-12-12 00:01:28.457 | INFO     | prepare_dataset:prepare_dataset:117 - Done (processed)!\n"
     ]
    }
   ],
   "source": [
    "data_list = []\n",
    "target_list = []\n",
    "\n",
    "for key, data in tqdm(weather_train.groupby(\"station_id\")):\n",
    "    data_x, data_y = prepare_dataset.prepare_dataset(data)\n",
    "    data_y[\"station_id\"] = key\n",
    "    data_y[\"local_time\"] = data_x.local_time\n",
    "\n",
    "    data_list.append(data_x)\n",
    "    target_list.append(data_y)"
   ]
  },
  {
   "cell_type": "code",
   "execution_count": 6,
   "id": "f57c9946",
   "metadata": {
    "cellId": "xgm148s1fyfwgu4nswitx"
   },
   "outputs": [],
   "source": [
    "weather_train_x = pd.concat(data_list, ignore_index=True)\n",
    "weather_train_y = pd.concat(target_list, ignore_index=True)"
   ]
  },
  {
   "cell_type": "code",
   "execution_count": 678,
   "id": "f1bc2591",
   "metadata": {
    "cellId": "v3yk7etsgz0sz2whrx2udj"
   },
   "outputs": [],
   "source": [
    "weather_train_y[\"local_time\"] = weather_train_x.local_time"
   ]
  },
  {
   "cell_type": "code",
   "execution_count": 652,
   "id": "3b8bb98a",
   "metadata": {
    "cellId": "o1u2nyd9d3bjmd5q14ff"
   },
   "outputs": [
    {
     "data": {
      "text/html": [
       "<div>\n",
       "<style scoped>\n",
       "    .dataframe tbody tr th:only-of-type {\n",
       "        vertical-align: middle;\n",
       "    }\n",
       "\n",
       "    .dataframe tbody tr th {\n",
       "        vertical-align: top;\n",
       "    }\n",
       "\n",
       "    .dataframe thead th {\n",
       "        text-align: right;\n",
       "    }\n",
       "</style>\n",
       "<table border=\"1\" class=\"dataframe\">\n",
       "  <thead>\n",
       "    <tr style=\"text-align: right;\">\n",
       "      <th></th>\n",
       "      <th>VETER</th>\n",
       "      <th>SHKVAL</th>\n",
       "      <th>METEL</th>\n",
       "      <th>DOZD</th>\n",
       "      <th>SNEG</th>\n",
       "      <th>GRAD</th>\n",
       "      <th>TUMAN</th>\n",
       "      <th>GOLOLED</th>\n",
       "    </tr>\n",
       "  </thead>\n",
       "  <tbody>\n",
       "    <tr>\n",
       "      <th>0</th>\n",
       "      <td>False</td>\n",
       "      <td>False</td>\n",
       "      <td>False</td>\n",
       "      <td>True</td>\n",
       "      <td>True</td>\n",
       "      <td>False</td>\n",
       "      <td>False</td>\n",
       "      <td>False</td>\n",
       "    </tr>\n",
       "    <tr>\n",
       "      <th>1</th>\n",
       "      <td>False</td>\n",
       "      <td>False</td>\n",
       "      <td>False</td>\n",
       "      <td>True</td>\n",
       "      <td>True</td>\n",
       "      <td>False</td>\n",
       "      <td>False</td>\n",
       "      <td>False</td>\n",
       "    </tr>\n",
       "    <tr>\n",
       "      <th>2</th>\n",
       "      <td>False</td>\n",
       "      <td>False</td>\n",
       "      <td>False</td>\n",
       "      <td>True</td>\n",
       "      <td>True</td>\n",
       "      <td>False</td>\n",
       "      <td>False</td>\n",
       "      <td>False</td>\n",
       "    </tr>\n",
       "    <tr>\n",
       "      <th>3</th>\n",
       "      <td>False</td>\n",
       "      <td>False</td>\n",
       "      <td>False</td>\n",
       "      <td>True</td>\n",
       "      <td>True</td>\n",
       "      <td>False</td>\n",
       "      <td>False</td>\n",
       "      <td>False</td>\n",
       "    </tr>\n",
       "    <tr>\n",
       "      <th>4</th>\n",
       "      <td>False</td>\n",
       "      <td>False</td>\n",
       "      <td>False</td>\n",
       "      <td>False</td>\n",
       "      <td>True</td>\n",
       "      <td>False</td>\n",
       "      <td>False</td>\n",
       "      <td>False</td>\n",
       "    </tr>\n",
       "    <tr>\n",
       "      <th>...</th>\n",
       "      <td>...</td>\n",
       "      <td>...</td>\n",
       "      <td>...</td>\n",
       "      <td>...</td>\n",
       "      <td>...</td>\n",
       "      <td>...</td>\n",
       "      <td>...</td>\n",
       "      <td>...</td>\n",
       "    </tr>\n",
       "    <tr>\n",
       "      <th>365164</th>\n",
       "      <td>False</td>\n",
       "      <td>False</td>\n",
       "      <td>False</td>\n",
       "      <td>False</td>\n",
       "      <td>True</td>\n",
       "      <td>False</td>\n",
       "      <td>False</td>\n",
       "      <td>False</td>\n",
       "    </tr>\n",
       "    <tr>\n",
       "      <th>365165</th>\n",
       "      <td>False</td>\n",
       "      <td>False</td>\n",
       "      <td>False</td>\n",
       "      <td>False</td>\n",
       "      <td>True</td>\n",
       "      <td>False</td>\n",
       "      <td>False</td>\n",
       "      <td>False</td>\n",
       "    </tr>\n",
       "    <tr>\n",
       "      <th>365166</th>\n",
       "      <td>False</td>\n",
       "      <td>False</td>\n",
       "      <td>False</td>\n",
       "      <td>False</td>\n",
       "      <td>True</td>\n",
       "      <td>False</td>\n",
       "      <td>False</td>\n",
       "      <td>False</td>\n",
       "    </tr>\n",
       "    <tr>\n",
       "      <th>365167</th>\n",
       "      <td>False</td>\n",
       "      <td>False</td>\n",
       "      <td>False</td>\n",
       "      <td>False</td>\n",
       "      <td>True</td>\n",
       "      <td>False</td>\n",
       "      <td>False</td>\n",
       "      <td>False</td>\n",
       "    </tr>\n",
       "    <tr>\n",
       "      <th>365168</th>\n",
       "      <td>False</td>\n",
       "      <td>False</td>\n",
       "      <td>False</td>\n",
       "      <td>False</td>\n",
       "      <td>True</td>\n",
       "      <td>False</td>\n",
       "      <td>False</td>\n",
       "      <td>False</td>\n",
       "    </tr>\n",
       "  </tbody>\n",
       "</table>\n",
       "<p>365169 rows × 8 columns</p>\n",
       "</div>"
      ],
      "text/plain": [
       "        VETER  SHKVAL  METEL   DOZD  SNEG   GRAD  TUMAN  GOLOLED\n",
       "0       False   False  False   True  True  False  False    False\n",
       "1       False   False  False   True  True  False  False    False\n",
       "2       False   False  False   True  True  False  False    False\n",
       "3       False   False  False   True  True  False  False    False\n",
       "4       False   False  False  False  True  False  False    False\n",
       "...       ...     ...    ...    ...   ...    ...    ...      ...\n",
       "365164  False   False  False  False  True  False  False    False\n",
       "365165  False   False  False  False  True  False  False    False\n",
       "365166  False   False  False  False  True  False  False    False\n",
       "365167  False   False  False  False  True  False  False    False\n",
       "365168  False   False  False  False  True  False  False    False\n",
       "\n",
       "[365169 rows x 8 columns]"
      ]
     },
     "execution_count": 652,
     "metadata": {},
     "output_type": "execute_result"
    }
   ],
   "source": [
    "weather_train_y"
   ]
  },
  {
   "cell_type": "code",
   "execution_count": 7,
   "id": "aa4ea0bc",
   "metadata": {
    "cellId": "5kmuqk3r1nygbjgavy9jcr"
   },
   "outputs": [],
   "source": [
    "def fast_rolling_window(s, window):\n",
    "    s = s.values\n",
    "    rolling = view_as_windows(s, window)\n",
    "    first_row = rolling[0].astype(float)\n",
    "    temp = np.triu(scipy.linalg.toeplitz(first_row)).T\n",
    "    temp[np.triu_indices(3, 1)] = np.nan\n",
    "    temp = np.fliplr(temp)[:-1]\n",
    "\n",
    "    return np.vstack([temp, rolling])"
   ]
  },
  {
   "cell_type": "code",
   "execution_count": 8,
   "id": "18e3431b",
   "metadata": {
    "cellId": "z9hjkk4jhyks38t186e1j"
   },
   "outputs": [
    {
     "data": {
      "application/vnd.jupyter.widget-view+json": {
       "model_id": "a795f4782e3e4b088ba7db84286ef1f7",
       "version_major": 2,
       "version_minor": 0
      },
      "text/plain": [
       "  0%|          | 0/38 [00:00<?, ?it/s]"
      ]
     },
     "metadata": {},
     "output_type": "display_data"
    }
   ],
   "source": [
    "numeric_features = []\n",
    "categorial_features = []\n",
    "\n",
    "truncated = weather_train_x.iloc[:10]\n",
    "\n",
    "\n",
    "for col in tqdm(truncated.columns):\n",
    "    if col in [\"local_time\", \"station_id\"]:\n",
    "        continue\n",
    "    try:\n",
    "        truncated[col].mean()\n",
    "        numeric_features.append(col)\n",
    "    except:\n",
    "        categorial_features.append(col)"
   ]
  },
  {
   "cell_type": "code",
   "execution_count": 17,
   "id": "9b3e3efd-7014-4fa5-99f7-a48b1334b3a3",
   "metadata": {},
   "outputs": [
    {
     "data": {
      "text/plain": [
       "['T',\n",
       " 'Po',\n",
       " 'P',\n",
       " 'Pa',\n",
       " 'U',\n",
       " 'Ff',\n",
       " 'VV',\n",
       " 'Td',\n",
       " 'tR',\n",
       " 'sss',\n",
       " 'dd_isnan',\n",
       " 'dd_changed',\n",
       " 'dd_x_rad',\n",
       " 'dd_y_rad',\n",
       " 'Tn_isnan',\n",
       " 'Tn_val',\n",
       " 'Tx_isnan',\n",
       " 'Tx_val',\n",
       " 'Tg_isnan',\n",
       " 'Tg_val',\n",
       " 'ff3_isnan',\n",
       " 'ff3_val',\n",
       " 'ff10_isnan',\n",
       " 'ff10_val',\n",
       " 'N_isnan',\n",
       " 'N_val',\n",
       " 'Nh_isnan',\n",
       " 'Nh_val',\n",
       " 'H_isnan',\n",
       " 'H_val']"
      ]
     },
     "execution_count": 17,
     "metadata": {},
     "output_type": "execute_result"
    }
   ],
   "source": [
    "numeric_features"
   ]
  },
  {
   "cell_type": "code",
   "execution_count": 19,
   "id": "39a9ebca-b8b5-472b-9d53-3eaaa3490f16",
   "metadata": {},
   "outputs": [
    {
     "data": {
      "text/plain": [
       "Index(['local_time', 'T', 'Po', 'P', 'Pa', 'U', 'Ff', 'Cl', 'Cm', 'Ch', 'VV',\n",
       "       'Td', 'RRR', 'tR', 'E', 'E'', 'sss', 'station_id', 'dd_isnan',\n",
       "       'dd_changed', 'dd_x_rad', 'dd_y_rad', 'Tn_isnan', 'Tn_val', 'Tx_isnan',\n",
       "       'Tx_val', 'Tg_isnan', 'Tg_val', 'ff3_isnan', 'ff3_val', 'ff10_isnan',\n",
       "       'ff10_val', 'N_isnan', 'N_val', 'Nh_isnan', 'Nh_val', 'H_isnan',\n",
       "       'H_val'],\n",
       "      dtype='object')"
      ]
     },
     "execution_count": 19,
     "metadata": {},
     "output_type": "execute_result"
    }
   ],
   "source": [
    "weather_train_x.columns"
   ]
  },
  {
   "cell_type": "code",
   "execution_count": null,
   "id": "5cd9671c-c35a-401b-a698-35dd2e3adbc8",
   "metadata": {},
   "outputs": [],
   "source": []
  },
  {
   "cell_type": "code",
   "execution_count": 46,
   "id": "fa3606eb",
   "metadata": {
    "cellId": "bcytlpdcal5vyihv6usi5q"
   },
   "outputs": [],
   "source": [
    "from loguru import logger\n",
    "\n",
    "\n",
    "import scipy.stats as sps\n",
    "\n",
    "\n",
    "def mad(data, axis=None):\n",
    "    return np.mean(np.abs(data - np.mean(data, axis, keepdims=True)), axis)\n",
    "\n",
    "\n",
    "def count_time_no_event(observation: pd.Series):\n",
    "    observation = ~observation\n",
    "    tmp = observation.cumsum() - observation.cumsum().where(~observation).ffill().fillna(0).astype(int)\n",
    "    return tmp.shift(1, fill_value=0)\n",
    "\n",
    "\n",
    "def get_window_features(df, features, window=8):\n",
    "    info_rolling = {}\n",
    "    for feature in features:\n",
    "        rolling_window = fast_rolling_window(df[feature], window=window)\n",
    "        info_rolling.update({\n",
    "            f\"{feature}_mean_window={window}\": np.mean(rolling_window, axis=-1),\n",
    "            f\"{feature}_median_window={window}\": np.median(rolling_window, axis=-1),\n",
    "            f\"{feature}_std_window={window}\": np.std(rolling_window, axis=-1, ddof=1),\n",
    "            f\"{feature}_mad_window={window}\": mad(rolling_window, axis=-1),\n",
    "            f\"{feature}_skew_window={window}\": sps.skew(rolling_window, axis=-1),\n",
    "            f\"{feature}_kurt_window={window}\": sps.kurtosis(rolling_window, axis=-1),\n",
    "            f\"{feature}_min_window={window}\": np.min(rolling_window, axis=-1),\n",
    "            f\"{feature}_max_window={window}\": np.max(rolling_window, axis=-1),\n",
    "            f\"{feature}_count_window={window}\": np.count_nonzero(~np.isnan(rolling_window), axis=-1),\n",
    "            f\"{feature}_has_nan_window={window}\": np.any(np.isnan(rolling_window), axis=-1).astype(int)\n",
    "        })\n",
    "\n",
    "    return pd.DataFrame(info_rolling, index=df.index).fillna(0)\n",
    "\n",
    "\n",
    "def get_window_features_with_offset(df, target, features, offset):\n",
    "    target = target.astype(int)\n",
    "    index = df.index\n",
    "    index_year_ago = index.intersection(index - offset)\n",
    "\n",
    "    target_year_ago = target.loc[index_year_ago]\n",
    "    target.index += offset\n",
    "    df_new = df.merge(target_year_ago, how=\"left\", left_index=True, right_index=True, suffixes=(None, \"_year_ago\"))\n",
    "\n",
    "    df_year_ago = df.loc[index_year_ago, features]\n",
    "    df_year_ago.index += offset\n",
    "\n",
    "    df_new = df.merge(df_year_ago, how=\"left\", left_index=True, right_index=True, suffixes=(None, \"_year_ago\"))\n",
    "\n",
    "    return df_new.fillna(0)\n",
    "\n",
    "\n",
    "def make_features_for_station(df, targets, numeric_features, categorial_columns, windows=None):\n",
    "    df.sort_values(\"local_time\", inplace=True)\n",
    "    df.reset_index(drop=True, inplace=True)\n",
    "    targets.sort_values(\"local_time\", inplace=True)\n",
    "    targets.reset_index(drop=True, inplace=True)\n",
    "\n",
    "    windows = windows or [8, 80, 360]\n",
    "    numeric_features = copy.copy(numeric_features)\n",
    "\n",
    "    new_df = df[numeric_features + categorial_columns + [\"station_id\", \"local_time\"]]\n",
    "\n",
    "    # представим дату как синус и косинус\n",
    "    logger.info(\"Coding date as (sin, cos)\")\n",
    "    new_df[\"sin_day_of_year\"] = new_df.local_time.map(lambda x: np.sin(2 * np.pi * x.timetuple().tm_yday / 365))\n",
    "    new_df[\"cos_day_of_year\"] = new_df.local_time.map(lambda x: np.cos(2 * np.pi * x.timetuple().tm_yday / 365))\n",
    "    new_df[\"sin_time_of_day\"] = new_df.local_time.map(lambda x: np.sin(2 * np.pi * x.timetuple().tm_hour / 24))\n",
    "    new_df[\"cos_time_of_day\"] = new_df.local_time.map(lambda x: np.cos(2 * np.pi * x.timetuple().tm_hour / 24))\n",
    "\n",
    "    # считаем кол-во дней без дождя, снега и тд\n",
    "    logger.info(\"Counting time without events\")\n",
    "    for col in tqdm(targets.columns):\n",
    "        if col in [\"station_id\", \"local_time\"]:\n",
    "            continue\n",
    "        new_feature_name = f\"no_{col}_time\"\n",
    "        new_df[new_feature_name] = count_time_no_event(targets[col].shift().fillna(False))\n",
    "        numeric_features.append(new_feature_name)\n",
    "\n",
    "    new_numeric_df = []\n",
    "    logger.info(\"Window features\")\n",
    "    for window in tqdm(windows):\n",
    "        new_numeric_df.append(\n",
    "            get_window_features(\n",
    "                new_df, numeric_features, window\n",
    "            )\n",
    "        )\n",
    "    new_df = pd.concat(new_numeric_df + [new_df], axis=1)\n",
    "\n",
    "    new_df = get_window_features_with_offset(new_df, targets, numeric_features, 2920)\n",
    "    \n",
    "    return new_df.iloc[:-1], targets.iloc[1:]"
   ]
  },
  {
   "cell_type": "code",
   "execution_count": 54,
   "id": "5d7cef77",
   "metadata": {
    "cellId": "38m3zwue4zj4e4394l5u0f"
   },
   "outputs": [
    {
     "data": {
      "application/vnd.jupyter.widget-view+json": {
       "model_id": "984fb9ce5c5b43118e860b4375f7b2ed",
       "version_major": 2,
       "version_minor": 0
      },
      "text/plain": [
       "  0%|          | 0/7 [00:00<?, ?it/s]"
      ]
     },
     "metadata": {},
     "output_type": "display_data"
    },
    {
     "name": "stderr",
     "output_type": "stream",
     "text": [
      "/var/folders/n5/zftt7r7n09j715hq4n1wqyjmmqxvb8/T/ipykernel_87971/1174737086.py:57: SettingWithCopyWarning: \n",
      "A value is trying to be set on a copy of a slice from a DataFrame\n",
      "\n",
      "See the caveats in the documentation: https://pandas.pydata.org/pandas-docs/stable/user_guide/indexing.html#returning-a-view-versus-a-copy\n",
      "  targets.sort_values(\"local_time\", inplace=True)\n",
      "2022-12-12 02:27:14.671 | INFO     | __main__:make_features_for_station:66 - Coding date as (sin, cos)\n",
      "/var/folders/n5/zftt7r7n09j715hq4n1wqyjmmqxvb8/T/ipykernel_87971/1174737086.py:67: SettingWithCopyWarning: \n",
      "A value is trying to be set on a copy of a slice from a DataFrame.\n",
      "Try using .loc[row_indexer,col_indexer] = value instead\n",
      "\n",
      "See the caveats in the documentation: https://pandas.pydata.org/pandas-docs/stable/user_guide/indexing.html#returning-a-view-versus-a-copy\n",
      "  new_df[\"sin_day_of_year\"] = new_df.local_time.map(lambda x: np.sin(2 * np.pi * x.timetuple().tm_yday / 365))\n",
      "/var/folders/n5/zftt7r7n09j715hq4n1wqyjmmqxvb8/T/ipykernel_87971/1174737086.py:68: SettingWithCopyWarning: \n",
      "A value is trying to be set on a copy of a slice from a DataFrame.\n",
      "Try using .loc[row_indexer,col_indexer] = value instead\n",
      "\n",
      "See the caveats in the documentation: https://pandas.pydata.org/pandas-docs/stable/user_guide/indexing.html#returning-a-view-versus-a-copy\n",
      "  new_df[\"cos_day_of_year\"] = new_df.local_time.map(lambda x: np.cos(2 * np.pi * x.timetuple().tm_yday / 365))\n",
      "/var/folders/n5/zftt7r7n09j715hq4n1wqyjmmqxvb8/T/ipykernel_87971/1174737086.py:69: SettingWithCopyWarning: \n",
      "A value is trying to be set on a copy of a slice from a DataFrame.\n",
      "Try using .loc[row_indexer,col_indexer] = value instead\n",
      "\n",
      "See the caveats in the documentation: https://pandas.pydata.org/pandas-docs/stable/user_guide/indexing.html#returning-a-view-versus-a-copy\n",
      "  new_df[\"sin_time_of_day\"] = new_df.local_time.map(lambda x: np.sin(2 * np.pi * x.timetuple().tm_hour / 24))\n",
      "/var/folders/n5/zftt7r7n09j715hq4n1wqyjmmqxvb8/T/ipykernel_87971/1174737086.py:70: SettingWithCopyWarning: \n",
      "A value is trying to be set on a copy of a slice from a DataFrame.\n",
      "Try using .loc[row_indexer,col_indexer] = value instead\n",
      "\n",
      "See the caveats in the documentation: https://pandas.pydata.org/pandas-docs/stable/user_guide/indexing.html#returning-a-view-versus-a-copy\n",
      "  new_df[\"cos_time_of_day\"] = new_df.local_time.map(lambda x: np.cos(2 * np.pi * x.timetuple().tm_hour / 24))\n",
      "2022-12-12 02:27:15.204 | INFO     | __main__:make_features_for_station:73 - Counting time without events\n"
     ]
    },
    {
     "data": {
      "application/vnd.jupyter.widget-view+json": {
       "model_id": "47ab678304b246ae8ca513b33edb88f0",
       "version_major": 2,
       "version_minor": 0
      },
      "text/plain": [
       "  0%|          | 0/10 [00:00<?, ?it/s]"
      ]
     },
     "metadata": {},
     "output_type": "display_data"
    },
    {
     "name": "stderr",
     "output_type": "stream",
     "text": [
      "/var/folders/n5/zftt7r7n09j715hq4n1wqyjmmqxvb8/T/ipykernel_87971/1174737086.py:78: SettingWithCopyWarning: \n",
      "A value is trying to be set on a copy of a slice from a DataFrame.\n",
      "Try using .loc[row_indexer,col_indexer] = value instead\n",
      "\n",
      "See the caveats in the documentation: https://pandas.pydata.org/pandas-docs/stable/user_guide/indexing.html#returning-a-view-versus-a-copy\n",
      "  new_df[new_feature_name] = count_time_no_event(targets[col].shift().fillna(False))\n",
      "/var/folders/n5/zftt7r7n09j715hq4n1wqyjmmqxvb8/T/ipykernel_87971/1174737086.py:78: SettingWithCopyWarning: \n",
      "A value is trying to be set on a copy of a slice from a DataFrame.\n",
      "Try using .loc[row_indexer,col_indexer] = value instead\n",
      "\n",
      "See the caveats in the documentation: https://pandas.pydata.org/pandas-docs/stable/user_guide/indexing.html#returning-a-view-versus-a-copy\n",
      "  new_df[new_feature_name] = count_time_no_event(targets[col].shift().fillna(False))\n",
      "/var/folders/n5/zftt7r7n09j715hq4n1wqyjmmqxvb8/T/ipykernel_87971/1174737086.py:78: SettingWithCopyWarning: \n",
      "A value is trying to be set on a copy of a slice from a DataFrame.\n",
      "Try using .loc[row_indexer,col_indexer] = value instead\n",
      "\n",
      "See the caveats in the documentation: https://pandas.pydata.org/pandas-docs/stable/user_guide/indexing.html#returning-a-view-versus-a-copy\n",
      "  new_df[new_feature_name] = count_time_no_event(targets[col].shift().fillna(False))\n",
      "/var/folders/n5/zftt7r7n09j715hq4n1wqyjmmqxvb8/T/ipykernel_87971/1174737086.py:78: SettingWithCopyWarning: \n",
      "A value is trying to be set on a copy of a slice from a DataFrame.\n",
      "Try using .loc[row_indexer,col_indexer] = value instead\n",
      "\n",
      "See the caveats in the documentation: https://pandas.pydata.org/pandas-docs/stable/user_guide/indexing.html#returning-a-view-versus-a-copy\n",
      "  new_df[new_feature_name] = count_time_no_event(targets[col].shift().fillna(False))\n",
      "/var/folders/n5/zftt7r7n09j715hq4n1wqyjmmqxvb8/T/ipykernel_87971/1174737086.py:78: SettingWithCopyWarning: \n",
      "A value is trying to be set on a copy of a slice from a DataFrame.\n",
      "Try using .loc[row_indexer,col_indexer] = value instead\n",
      "\n",
      "See the caveats in the documentation: https://pandas.pydata.org/pandas-docs/stable/user_guide/indexing.html#returning-a-view-versus-a-copy\n",
      "  new_df[new_feature_name] = count_time_no_event(targets[col].shift().fillna(False))\n",
      "/var/folders/n5/zftt7r7n09j715hq4n1wqyjmmqxvb8/T/ipykernel_87971/1174737086.py:78: SettingWithCopyWarning: \n",
      "A value is trying to be set on a copy of a slice from a DataFrame.\n",
      "Try using .loc[row_indexer,col_indexer] = value instead\n",
      "\n",
      "See the caveats in the documentation: https://pandas.pydata.org/pandas-docs/stable/user_guide/indexing.html#returning-a-view-versus-a-copy\n",
      "  new_df[new_feature_name] = count_time_no_event(targets[col].shift().fillna(False))\n",
      "/var/folders/n5/zftt7r7n09j715hq4n1wqyjmmqxvb8/T/ipykernel_87971/1174737086.py:78: SettingWithCopyWarning: \n",
      "A value is trying to be set on a copy of a slice from a DataFrame.\n",
      "Try using .loc[row_indexer,col_indexer] = value instead\n",
      "\n",
      "See the caveats in the documentation: https://pandas.pydata.org/pandas-docs/stable/user_guide/indexing.html#returning-a-view-versus-a-copy\n",
      "  new_df[new_feature_name] = count_time_no_event(targets[col].shift().fillna(False))\n",
      "/var/folders/n5/zftt7r7n09j715hq4n1wqyjmmqxvb8/T/ipykernel_87971/1174737086.py:78: SettingWithCopyWarning: \n",
      "A value is trying to be set on a copy of a slice from a DataFrame.\n",
      "Try using .loc[row_indexer,col_indexer] = value instead\n",
      "\n",
      "See the caveats in the documentation: https://pandas.pydata.org/pandas-docs/stable/user_guide/indexing.html#returning-a-view-versus-a-copy\n",
      "  new_df[new_feature_name] = count_time_no_event(targets[col].shift().fillna(False))\n",
      "2022-12-12 02:27:15.248 | INFO     | __main__:make_features_for_station:82 - Window features\n"
     ]
    },
    {
     "data": {
      "application/vnd.jupyter.widget-view+json": {
       "model_id": "231c7b077410416c9dc44f461701632f",
       "version_major": 2,
       "version_minor": 0
      },
      "text/plain": [
       "  0%|          | 0/3 [00:00<?, ?it/s]"
      ]
     },
     "metadata": {},
     "output_type": "display_data"
    },
    {
     "name": "stderr",
     "output_type": "stream",
     "text": [
      "/var/folders/n5/zftt7r7n09j715hq4n1wqyjmmqxvb8/T/ipykernel_87971/1174737086.py:57: SettingWithCopyWarning: \n",
      "A value is trying to be set on a copy of a slice from a DataFrame\n",
      "\n",
      "See the caveats in the documentation: https://pandas.pydata.org/pandas-docs/stable/user_guide/indexing.html#returning-a-view-versus-a-copy\n",
      "  targets.sort_values(\"local_time\", inplace=True)\n",
      "2022-12-12 02:27:42.438 | INFO     | __main__:make_features_for_station:66 - Coding date as (sin, cos)\n",
      "/var/folders/n5/zftt7r7n09j715hq4n1wqyjmmqxvb8/T/ipykernel_87971/1174737086.py:67: SettingWithCopyWarning: \n",
      "A value is trying to be set on a copy of a slice from a DataFrame.\n",
      "Try using .loc[row_indexer,col_indexer] = value instead\n",
      "\n",
      "See the caveats in the documentation: https://pandas.pydata.org/pandas-docs/stable/user_guide/indexing.html#returning-a-view-versus-a-copy\n",
      "  new_df[\"sin_day_of_year\"] = new_df.local_time.map(lambda x: np.sin(2 * np.pi * x.timetuple().tm_yday / 365))\n",
      "/var/folders/n5/zftt7r7n09j715hq4n1wqyjmmqxvb8/T/ipykernel_87971/1174737086.py:68: SettingWithCopyWarning: \n",
      "A value is trying to be set on a copy of a slice from a DataFrame.\n",
      "Try using .loc[row_indexer,col_indexer] = value instead\n",
      "\n",
      "See the caveats in the documentation: https://pandas.pydata.org/pandas-docs/stable/user_guide/indexing.html#returning-a-view-versus-a-copy\n",
      "  new_df[\"cos_day_of_year\"] = new_df.local_time.map(lambda x: np.cos(2 * np.pi * x.timetuple().tm_yday / 365))\n",
      "/var/folders/n5/zftt7r7n09j715hq4n1wqyjmmqxvb8/T/ipykernel_87971/1174737086.py:69: SettingWithCopyWarning: \n",
      "A value is trying to be set on a copy of a slice from a DataFrame.\n",
      "Try using .loc[row_indexer,col_indexer] = value instead\n",
      "\n",
      "See the caveats in the documentation: https://pandas.pydata.org/pandas-docs/stable/user_guide/indexing.html#returning-a-view-versus-a-copy\n",
      "  new_df[\"sin_time_of_day\"] = new_df.local_time.map(lambda x: np.sin(2 * np.pi * x.timetuple().tm_hour / 24))\n",
      "/var/folders/n5/zftt7r7n09j715hq4n1wqyjmmqxvb8/T/ipykernel_87971/1174737086.py:70: SettingWithCopyWarning: \n",
      "A value is trying to be set on a copy of a slice from a DataFrame.\n",
      "Try using .loc[row_indexer,col_indexer] = value instead\n",
      "\n",
      "See the caveats in the documentation: https://pandas.pydata.org/pandas-docs/stable/user_guide/indexing.html#returning-a-view-versus-a-copy\n",
      "  new_df[\"cos_time_of_day\"] = new_df.local_time.map(lambda x: np.cos(2 * np.pi * x.timetuple().tm_hour / 24))\n",
      "2022-12-12 02:27:42.864 | INFO     | __main__:make_features_for_station:73 - Counting time without events\n"
     ]
    },
    {
     "data": {
      "application/vnd.jupyter.widget-view+json": {
       "model_id": "0465bfc67729470b8549f07ba906aae3",
       "version_major": 2,
       "version_minor": 0
      },
      "text/plain": [
       "  0%|          | 0/10 [00:00<?, ?it/s]"
      ]
     },
     "metadata": {},
     "output_type": "display_data"
    },
    {
     "name": "stderr",
     "output_type": "stream",
     "text": [
      "/var/folders/n5/zftt7r7n09j715hq4n1wqyjmmqxvb8/T/ipykernel_87971/1174737086.py:78: SettingWithCopyWarning: \n",
      "A value is trying to be set on a copy of a slice from a DataFrame.\n",
      "Try using .loc[row_indexer,col_indexer] = value instead\n",
      "\n",
      "See the caveats in the documentation: https://pandas.pydata.org/pandas-docs/stable/user_guide/indexing.html#returning-a-view-versus-a-copy\n",
      "  new_df[new_feature_name] = count_time_no_event(targets[col].shift().fillna(False))\n",
      "/var/folders/n5/zftt7r7n09j715hq4n1wqyjmmqxvb8/T/ipykernel_87971/1174737086.py:78: SettingWithCopyWarning: \n",
      "A value is trying to be set on a copy of a slice from a DataFrame.\n",
      "Try using .loc[row_indexer,col_indexer] = value instead\n",
      "\n",
      "See the caveats in the documentation: https://pandas.pydata.org/pandas-docs/stable/user_guide/indexing.html#returning-a-view-versus-a-copy\n",
      "  new_df[new_feature_name] = count_time_no_event(targets[col].shift().fillna(False))\n",
      "/var/folders/n5/zftt7r7n09j715hq4n1wqyjmmqxvb8/T/ipykernel_87971/1174737086.py:78: SettingWithCopyWarning: \n",
      "A value is trying to be set on a copy of a slice from a DataFrame.\n",
      "Try using .loc[row_indexer,col_indexer] = value instead\n",
      "\n",
      "See the caveats in the documentation: https://pandas.pydata.org/pandas-docs/stable/user_guide/indexing.html#returning-a-view-versus-a-copy\n",
      "  new_df[new_feature_name] = count_time_no_event(targets[col].shift().fillna(False))\n",
      "/var/folders/n5/zftt7r7n09j715hq4n1wqyjmmqxvb8/T/ipykernel_87971/1174737086.py:78: SettingWithCopyWarning: \n",
      "A value is trying to be set on a copy of a slice from a DataFrame.\n",
      "Try using .loc[row_indexer,col_indexer] = value instead\n",
      "\n",
      "See the caveats in the documentation: https://pandas.pydata.org/pandas-docs/stable/user_guide/indexing.html#returning-a-view-versus-a-copy\n",
      "  new_df[new_feature_name] = count_time_no_event(targets[col].shift().fillna(False))\n",
      "/var/folders/n5/zftt7r7n09j715hq4n1wqyjmmqxvb8/T/ipykernel_87971/1174737086.py:78: SettingWithCopyWarning: \n",
      "A value is trying to be set on a copy of a slice from a DataFrame.\n",
      "Try using .loc[row_indexer,col_indexer] = value instead\n",
      "\n",
      "See the caveats in the documentation: https://pandas.pydata.org/pandas-docs/stable/user_guide/indexing.html#returning-a-view-versus-a-copy\n",
      "  new_df[new_feature_name] = count_time_no_event(targets[col].shift().fillna(False))\n",
      "/var/folders/n5/zftt7r7n09j715hq4n1wqyjmmqxvb8/T/ipykernel_87971/1174737086.py:78: SettingWithCopyWarning: \n",
      "A value is trying to be set on a copy of a slice from a DataFrame.\n",
      "Try using .loc[row_indexer,col_indexer] = value instead\n",
      "\n",
      "See the caveats in the documentation: https://pandas.pydata.org/pandas-docs/stable/user_guide/indexing.html#returning-a-view-versus-a-copy\n",
      "  new_df[new_feature_name] = count_time_no_event(targets[col].shift().fillna(False))\n",
      "/var/folders/n5/zftt7r7n09j715hq4n1wqyjmmqxvb8/T/ipykernel_87971/1174737086.py:78: SettingWithCopyWarning: \n",
      "A value is trying to be set on a copy of a slice from a DataFrame.\n",
      "Try using .loc[row_indexer,col_indexer] = value instead\n",
      "\n",
      "See the caveats in the documentation: https://pandas.pydata.org/pandas-docs/stable/user_guide/indexing.html#returning-a-view-versus-a-copy\n",
      "  new_df[new_feature_name] = count_time_no_event(targets[col].shift().fillna(False))\n",
      "/var/folders/n5/zftt7r7n09j715hq4n1wqyjmmqxvb8/T/ipykernel_87971/1174737086.py:78: SettingWithCopyWarning: \n",
      "A value is trying to be set on a copy of a slice from a DataFrame.\n",
      "Try using .loc[row_indexer,col_indexer] = value instead\n",
      "\n",
      "See the caveats in the documentation: https://pandas.pydata.org/pandas-docs/stable/user_guide/indexing.html#returning-a-view-versus-a-copy\n",
      "  new_df[new_feature_name] = count_time_no_event(targets[col].shift().fillna(False))\n",
      "2022-12-12 02:27:42.908 | INFO     | __main__:make_features_for_station:82 - Window features\n"
     ]
    },
    {
     "data": {
      "application/vnd.jupyter.widget-view+json": {
       "model_id": "f072b1e0f63e4b3d9a59291e3f8df33b",
       "version_major": 2,
       "version_minor": 0
      },
      "text/plain": [
       "  0%|          | 0/3 [00:00<?, ?it/s]"
      ]
     },
     "metadata": {},
     "output_type": "display_data"
    },
    {
     "name": "stderr",
     "output_type": "stream",
     "text": [
      "/var/folders/n5/zftt7r7n09j715hq4n1wqyjmmqxvb8/T/ipykernel_87971/1174737086.py:57: SettingWithCopyWarning: \n",
      "A value is trying to be set on a copy of a slice from a DataFrame\n",
      "\n",
      "See the caveats in the documentation: https://pandas.pydata.org/pandas-docs/stable/user_guide/indexing.html#returning-a-view-versus-a-copy\n",
      "  targets.sort_values(\"local_time\", inplace=True)\n",
      "2022-12-12 02:28:09.681 | INFO     | __main__:make_features_for_station:66 - Coding date as (sin, cos)\n",
      "/var/folders/n5/zftt7r7n09j715hq4n1wqyjmmqxvb8/T/ipykernel_87971/1174737086.py:67: SettingWithCopyWarning: \n",
      "A value is trying to be set on a copy of a slice from a DataFrame.\n",
      "Try using .loc[row_indexer,col_indexer] = value instead\n",
      "\n",
      "See the caveats in the documentation: https://pandas.pydata.org/pandas-docs/stable/user_guide/indexing.html#returning-a-view-versus-a-copy\n",
      "  new_df[\"sin_day_of_year\"] = new_df.local_time.map(lambda x: np.sin(2 * np.pi * x.timetuple().tm_yday / 365))\n",
      "/var/folders/n5/zftt7r7n09j715hq4n1wqyjmmqxvb8/T/ipykernel_87971/1174737086.py:68: SettingWithCopyWarning: \n",
      "A value is trying to be set on a copy of a slice from a DataFrame.\n",
      "Try using .loc[row_indexer,col_indexer] = value instead\n",
      "\n",
      "See the caveats in the documentation: https://pandas.pydata.org/pandas-docs/stable/user_guide/indexing.html#returning-a-view-versus-a-copy\n",
      "  new_df[\"cos_day_of_year\"] = new_df.local_time.map(lambda x: np.cos(2 * np.pi * x.timetuple().tm_yday / 365))\n",
      "/var/folders/n5/zftt7r7n09j715hq4n1wqyjmmqxvb8/T/ipykernel_87971/1174737086.py:69: SettingWithCopyWarning: \n",
      "A value is trying to be set on a copy of a slice from a DataFrame.\n",
      "Try using .loc[row_indexer,col_indexer] = value instead\n",
      "\n",
      "See the caveats in the documentation: https://pandas.pydata.org/pandas-docs/stable/user_guide/indexing.html#returning-a-view-versus-a-copy\n",
      "  new_df[\"sin_time_of_day\"] = new_df.local_time.map(lambda x: np.sin(2 * np.pi * x.timetuple().tm_hour / 24))\n",
      "/var/folders/n5/zftt7r7n09j715hq4n1wqyjmmqxvb8/T/ipykernel_87971/1174737086.py:70: SettingWithCopyWarning: \n",
      "A value is trying to be set on a copy of a slice from a DataFrame.\n",
      "Try using .loc[row_indexer,col_indexer] = value instead\n",
      "\n",
      "See the caveats in the documentation: https://pandas.pydata.org/pandas-docs/stable/user_guide/indexing.html#returning-a-view-versus-a-copy\n",
      "  new_df[\"cos_time_of_day\"] = new_df.local_time.map(lambda x: np.cos(2 * np.pi * x.timetuple().tm_hour / 24))\n",
      "2022-12-12 02:28:10.202 | INFO     | __main__:make_features_for_station:73 - Counting time without events\n"
     ]
    },
    {
     "data": {
      "application/vnd.jupyter.widget-view+json": {
       "model_id": "012351d0bb414819b65a58b28e45a008",
       "version_major": 2,
       "version_minor": 0
      },
      "text/plain": [
       "  0%|          | 0/10 [00:00<?, ?it/s]"
      ]
     },
     "metadata": {},
     "output_type": "display_data"
    },
    {
     "name": "stderr",
     "output_type": "stream",
     "text": [
      "/var/folders/n5/zftt7r7n09j715hq4n1wqyjmmqxvb8/T/ipykernel_87971/1174737086.py:78: SettingWithCopyWarning: \n",
      "A value is trying to be set on a copy of a slice from a DataFrame.\n",
      "Try using .loc[row_indexer,col_indexer] = value instead\n",
      "\n",
      "See the caveats in the documentation: https://pandas.pydata.org/pandas-docs/stable/user_guide/indexing.html#returning-a-view-versus-a-copy\n",
      "  new_df[new_feature_name] = count_time_no_event(targets[col].shift().fillna(False))\n",
      "/var/folders/n5/zftt7r7n09j715hq4n1wqyjmmqxvb8/T/ipykernel_87971/1174737086.py:78: SettingWithCopyWarning: \n",
      "A value is trying to be set on a copy of a slice from a DataFrame.\n",
      "Try using .loc[row_indexer,col_indexer] = value instead\n",
      "\n",
      "See the caveats in the documentation: https://pandas.pydata.org/pandas-docs/stable/user_guide/indexing.html#returning-a-view-versus-a-copy\n",
      "  new_df[new_feature_name] = count_time_no_event(targets[col].shift().fillna(False))\n",
      "/var/folders/n5/zftt7r7n09j715hq4n1wqyjmmqxvb8/T/ipykernel_87971/1174737086.py:78: SettingWithCopyWarning: \n",
      "A value is trying to be set on a copy of a slice from a DataFrame.\n",
      "Try using .loc[row_indexer,col_indexer] = value instead\n",
      "\n",
      "See the caveats in the documentation: https://pandas.pydata.org/pandas-docs/stable/user_guide/indexing.html#returning-a-view-versus-a-copy\n",
      "  new_df[new_feature_name] = count_time_no_event(targets[col].shift().fillna(False))\n",
      "/var/folders/n5/zftt7r7n09j715hq4n1wqyjmmqxvb8/T/ipykernel_87971/1174737086.py:78: SettingWithCopyWarning: \n",
      "A value is trying to be set on a copy of a slice from a DataFrame.\n",
      "Try using .loc[row_indexer,col_indexer] = value instead\n",
      "\n",
      "See the caveats in the documentation: https://pandas.pydata.org/pandas-docs/stable/user_guide/indexing.html#returning-a-view-versus-a-copy\n",
      "  new_df[new_feature_name] = count_time_no_event(targets[col].shift().fillna(False))\n",
      "/var/folders/n5/zftt7r7n09j715hq4n1wqyjmmqxvb8/T/ipykernel_87971/1174737086.py:78: SettingWithCopyWarning: \n",
      "A value is trying to be set on a copy of a slice from a DataFrame.\n",
      "Try using .loc[row_indexer,col_indexer] = value instead\n",
      "\n",
      "See the caveats in the documentation: https://pandas.pydata.org/pandas-docs/stable/user_guide/indexing.html#returning-a-view-versus-a-copy\n",
      "  new_df[new_feature_name] = count_time_no_event(targets[col].shift().fillna(False))\n",
      "/var/folders/n5/zftt7r7n09j715hq4n1wqyjmmqxvb8/T/ipykernel_87971/1174737086.py:78: SettingWithCopyWarning: \n",
      "A value is trying to be set on a copy of a slice from a DataFrame.\n",
      "Try using .loc[row_indexer,col_indexer] = value instead\n",
      "\n",
      "See the caveats in the documentation: https://pandas.pydata.org/pandas-docs/stable/user_guide/indexing.html#returning-a-view-versus-a-copy\n",
      "  new_df[new_feature_name] = count_time_no_event(targets[col].shift().fillna(False))\n",
      "/var/folders/n5/zftt7r7n09j715hq4n1wqyjmmqxvb8/T/ipykernel_87971/1174737086.py:78: SettingWithCopyWarning: \n",
      "A value is trying to be set on a copy of a slice from a DataFrame.\n",
      "Try using .loc[row_indexer,col_indexer] = value instead\n",
      "\n",
      "See the caveats in the documentation: https://pandas.pydata.org/pandas-docs/stable/user_guide/indexing.html#returning-a-view-versus-a-copy\n",
      "  new_df[new_feature_name] = count_time_no_event(targets[col].shift().fillna(False))\n",
      "/var/folders/n5/zftt7r7n09j715hq4n1wqyjmmqxvb8/T/ipykernel_87971/1174737086.py:78: SettingWithCopyWarning: \n",
      "A value is trying to be set on a copy of a slice from a DataFrame.\n",
      "Try using .loc[row_indexer,col_indexer] = value instead\n",
      "\n",
      "See the caveats in the documentation: https://pandas.pydata.org/pandas-docs/stable/user_guide/indexing.html#returning-a-view-versus-a-copy\n",
      "  new_df[new_feature_name] = count_time_no_event(targets[col].shift().fillna(False))\n",
      "2022-12-12 02:28:10.247 | INFO     | __main__:make_features_for_station:82 - Window features\n"
     ]
    },
    {
     "data": {
      "application/vnd.jupyter.widget-view+json": {
       "model_id": "01c9ac5de434443b9322329f1b3a2886",
       "version_major": 2,
       "version_minor": 0
      },
      "text/plain": [
       "  0%|          | 0/3 [00:00<?, ?it/s]"
      ]
     },
     "metadata": {},
     "output_type": "display_data"
    },
    {
     "name": "stderr",
     "output_type": "stream",
     "text": [
      "/var/folders/n5/zftt7r7n09j715hq4n1wqyjmmqxvb8/T/ipykernel_87971/1174737086.py:57: SettingWithCopyWarning: \n",
      "A value is trying to be set on a copy of a slice from a DataFrame\n",
      "\n",
      "See the caveats in the documentation: https://pandas.pydata.org/pandas-docs/stable/user_guide/indexing.html#returning-a-view-versus-a-copy\n",
      "  targets.sort_values(\"local_time\", inplace=True)\n",
      "2022-12-12 02:28:36.966 | INFO     | __main__:make_features_for_station:66 - Coding date as (sin, cos)\n",
      "/var/folders/n5/zftt7r7n09j715hq4n1wqyjmmqxvb8/T/ipykernel_87971/1174737086.py:67: SettingWithCopyWarning: \n",
      "A value is trying to be set on a copy of a slice from a DataFrame.\n",
      "Try using .loc[row_indexer,col_indexer] = value instead\n",
      "\n",
      "See the caveats in the documentation: https://pandas.pydata.org/pandas-docs/stable/user_guide/indexing.html#returning-a-view-versus-a-copy\n",
      "  new_df[\"sin_day_of_year\"] = new_df.local_time.map(lambda x: np.sin(2 * np.pi * x.timetuple().tm_yday / 365))\n",
      "/var/folders/n5/zftt7r7n09j715hq4n1wqyjmmqxvb8/T/ipykernel_87971/1174737086.py:68: SettingWithCopyWarning: \n",
      "A value is trying to be set on a copy of a slice from a DataFrame.\n",
      "Try using .loc[row_indexer,col_indexer] = value instead\n",
      "\n",
      "See the caveats in the documentation: https://pandas.pydata.org/pandas-docs/stable/user_guide/indexing.html#returning-a-view-versus-a-copy\n",
      "  new_df[\"cos_day_of_year\"] = new_df.local_time.map(lambda x: np.cos(2 * np.pi * x.timetuple().tm_yday / 365))\n",
      "/var/folders/n5/zftt7r7n09j715hq4n1wqyjmmqxvb8/T/ipykernel_87971/1174737086.py:69: SettingWithCopyWarning: \n",
      "A value is trying to be set on a copy of a slice from a DataFrame.\n",
      "Try using .loc[row_indexer,col_indexer] = value instead\n",
      "\n",
      "See the caveats in the documentation: https://pandas.pydata.org/pandas-docs/stable/user_guide/indexing.html#returning-a-view-versus-a-copy\n",
      "  new_df[\"sin_time_of_day\"] = new_df.local_time.map(lambda x: np.sin(2 * np.pi * x.timetuple().tm_hour / 24))\n",
      "/var/folders/n5/zftt7r7n09j715hq4n1wqyjmmqxvb8/T/ipykernel_87971/1174737086.py:70: SettingWithCopyWarning: \n",
      "A value is trying to be set on a copy of a slice from a DataFrame.\n",
      "Try using .loc[row_indexer,col_indexer] = value instead\n",
      "\n",
      "See the caveats in the documentation: https://pandas.pydata.org/pandas-docs/stable/user_guide/indexing.html#returning-a-view-versus-a-copy\n",
      "  new_df[\"cos_time_of_day\"] = new_df.local_time.map(lambda x: np.cos(2 * np.pi * x.timetuple().tm_hour / 24))\n",
      "2022-12-12 02:28:37.386 | INFO     | __main__:make_features_for_station:73 - Counting time without events\n"
     ]
    },
    {
     "data": {
      "application/vnd.jupyter.widget-view+json": {
       "model_id": "0dd4a0b345734f028f536b737b844a3e",
       "version_major": 2,
       "version_minor": 0
      },
      "text/plain": [
       "  0%|          | 0/10 [00:00<?, ?it/s]"
      ]
     },
     "metadata": {},
     "output_type": "display_data"
    },
    {
     "name": "stderr",
     "output_type": "stream",
     "text": [
      "/var/folders/n5/zftt7r7n09j715hq4n1wqyjmmqxvb8/T/ipykernel_87971/1174737086.py:78: SettingWithCopyWarning: \n",
      "A value is trying to be set on a copy of a slice from a DataFrame.\n",
      "Try using .loc[row_indexer,col_indexer] = value instead\n",
      "\n",
      "See the caveats in the documentation: https://pandas.pydata.org/pandas-docs/stable/user_guide/indexing.html#returning-a-view-versus-a-copy\n",
      "  new_df[new_feature_name] = count_time_no_event(targets[col].shift().fillna(False))\n",
      "/var/folders/n5/zftt7r7n09j715hq4n1wqyjmmqxvb8/T/ipykernel_87971/1174737086.py:78: SettingWithCopyWarning: \n",
      "A value is trying to be set on a copy of a slice from a DataFrame.\n",
      "Try using .loc[row_indexer,col_indexer] = value instead\n",
      "\n",
      "See the caveats in the documentation: https://pandas.pydata.org/pandas-docs/stable/user_guide/indexing.html#returning-a-view-versus-a-copy\n",
      "  new_df[new_feature_name] = count_time_no_event(targets[col].shift().fillna(False))\n",
      "/var/folders/n5/zftt7r7n09j715hq4n1wqyjmmqxvb8/T/ipykernel_87971/1174737086.py:78: SettingWithCopyWarning: \n",
      "A value is trying to be set on a copy of a slice from a DataFrame.\n",
      "Try using .loc[row_indexer,col_indexer] = value instead\n",
      "\n",
      "See the caveats in the documentation: https://pandas.pydata.org/pandas-docs/stable/user_guide/indexing.html#returning-a-view-versus-a-copy\n",
      "  new_df[new_feature_name] = count_time_no_event(targets[col].shift().fillna(False))\n",
      "/var/folders/n5/zftt7r7n09j715hq4n1wqyjmmqxvb8/T/ipykernel_87971/1174737086.py:78: SettingWithCopyWarning: \n",
      "A value is trying to be set on a copy of a slice from a DataFrame.\n",
      "Try using .loc[row_indexer,col_indexer] = value instead\n",
      "\n",
      "See the caveats in the documentation: https://pandas.pydata.org/pandas-docs/stable/user_guide/indexing.html#returning-a-view-versus-a-copy\n",
      "  new_df[new_feature_name] = count_time_no_event(targets[col].shift().fillna(False))\n",
      "/var/folders/n5/zftt7r7n09j715hq4n1wqyjmmqxvb8/T/ipykernel_87971/1174737086.py:78: SettingWithCopyWarning: \n",
      "A value is trying to be set on a copy of a slice from a DataFrame.\n",
      "Try using .loc[row_indexer,col_indexer] = value instead\n",
      "\n",
      "See the caveats in the documentation: https://pandas.pydata.org/pandas-docs/stable/user_guide/indexing.html#returning-a-view-versus-a-copy\n",
      "  new_df[new_feature_name] = count_time_no_event(targets[col].shift().fillna(False))\n",
      "/var/folders/n5/zftt7r7n09j715hq4n1wqyjmmqxvb8/T/ipykernel_87971/1174737086.py:78: SettingWithCopyWarning: \n",
      "A value is trying to be set on a copy of a slice from a DataFrame.\n",
      "Try using .loc[row_indexer,col_indexer] = value instead\n",
      "\n",
      "See the caveats in the documentation: https://pandas.pydata.org/pandas-docs/stable/user_guide/indexing.html#returning-a-view-versus-a-copy\n",
      "  new_df[new_feature_name] = count_time_no_event(targets[col].shift().fillna(False))\n",
      "/var/folders/n5/zftt7r7n09j715hq4n1wqyjmmqxvb8/T/ipykernel_87971/1174737086.py:78: SettingWithCopyWarning: \n",
      "A value is trying to be set on a copy of a slice from a DataFrame.\n",
      "Try using .loc[row_indexer,col_indexer] = value instead\n",
      "\n",
      "See the caveats in the documentation: https://pandas.pydata.org/pandas-docs/stable/user_guide/indexing.html#returning-a-view-versus-a-copy\n",
      "  new_df[new_feature_name] = count_time_no_event(targets[col].shift().fillna(False))\n",
      "/var/folders/n5/zftt7r7n09j715hq4n1wqyjmmqxvb8/T/ipykernel_87971/1174737086.py:78: SettingWithCopyWarning: \n",
      "A value is trying to be set on a copy of a slice from a DataFrame.\n",
      "Try using .loc[row_indexer,col_indexer] = value instead\n",
      "\n",
      "See the caveats in the documentation: https://pandas.pydata.org/pandas-docs/stable/user_guide/indexing.html#returning-a-view-versus-a-copy\n",
      "  new_df[new_feature_name] = count_time_no_event(targets[col].shift().fillna(False))\n",
      "2022-12-12 02:28:37.428 | INFO     | __main__:make_features_for_station:82 - Window features\n"
     ]
    },
    {
     "data": {
      "application/vnd.jupyter.widget-view+json": {
       "model_id": "266286272a6d49b685e469680a2af8f3",
       "version_major": 2,
       "version_minor": 0
      },
      "text/plain": [
       "  0%|          | 0/3 [00:00<?, ?it/s]"
      ]
     },
     "metadata": {},
     "output_type": "display_data"
    },
    {
     "name": "stderr",
     "output_type": "stream",
     "text": [
      "/var/folders/n5/zftt7r7n09j715hq4n1wqyjmmqxvb8/T/ipykernel_87971/1174737086.py:57: SettingWithCopyWarning: \n",
      "A value is trying to be set on a copy of a slice from a DataFrame\n",
      "\n",
      "See the caveats in the documentation: https://pandas.pydata.org/pandas-docs/stable/user_guide/indexing.html#returning-a-view-versus-a-copy\n",
      "  targets.sort_values(\"local_time\", inplace=True)\n",
      "2022-12-12 02:29:04.310 | INFO     | __main__:make_features_for_station:66 - Coding date as (sin, cos)\n",
      "/var/folders/n5/zftt7r7n09j715hq4n1wqyjmmqxvb8/T/ipykernel_87971/1174737086.py:67: SettingWithCopyWarning: \n",
      "A value is trying to be set on a copy of a slice from a DataFrame.\n",
      "Try using .loc[row_indexer,col_indexer] = value instead\n",
      "\n",
      "See the caveats in the documentation: https://pandas.pydata.org/pandas-docs/stable/user_guide/indexing.html#returning-a-view-versus-a-copy\n",
      "  new_df[\"sin_day_of_year\"] = new_df.local_time.map(lambda x: np.sin(2 * np.pi * x.timetuple().tm_yday / 365))\n",
      "/var/folders/n5/zftt7r7n09j715hq4n1wqyjmmqxvb8/T/ipykernel_87971/1174737086.py:68: SettingWithCopyWarning: \n",
      "A value is trying to be set on a copy of a slice from a DataFrame.\n",
      "Try using .loc[row_indexer,col_indexer] = value instead\n",
      "\n",
      "See the caveats in the documentation: https://pandas.pydata.org/pandas-docs/stable/user_guide/indexing.html#returning-a-view-versus-a-copy\n",
      "  new_df[\"cos_day_of_year\"] = new_df.local_time.map(lambda x: np.cos(2 * np.pi * x.timetuple().tm_yday / 365))\n",
      "/var/folders/n5/zftt7r7n09j715hq4n1wqyjmmqxvb8/T/ipykernel_87971/1174737086.py:69: SettingWithCopyWarning: \n",
      "A value is trying to be set on a copy of a slice from a DataFrame.\n",
      "Try using .loc[row_indexer,col_indexer] = value instead\n",
      "\n",
      "See the caveats in the documentation: https://pandas.pydata.org/pandas-docs/stable/user_guide/indexing.html#returning-a-view-versus-a-copy\n",
      "  new_df[\"sin_time_of_day\"] = new_df.local_time.map(lambda x: np.sin(2 * np.pi * x.timetuple().tm_hour / 24))\n",
      "/var/folders/n5/zftt7r7n09j715hq4n1wqyjmmqxvb8/T/ipykernel_87971/1174737086.py:70: SettingWithCopyWarning: \n",
      "A value is trying to be set on a copy of a slice from a DataFrame.\n",
      "Try using .loc[row_indexer,col_indexer] = value instead\n",
      "\n",
      "See the caveats in the documentation: https://pandas.pydata.org/pandas-docs/stable/user_guide/indexing.html#returning-a-view-versus-a-copy\n",
      "  new_df[\"cos_time_of_day\"] = new_df.local_time.map(lambda x: np.cos(2 * np.pi * x.timetuple().tm_hour / 24))\n",
      "2022-12-12 02:29:04.712 | INFO     | __main__:make_features_for_station:73 - Counting time without events\n"
     ]
    },
    {
     "data": {
      "application/vnd.jupyter.widget-view+json": {
       "model_id": "f4fd14429c5d430cbd445e1d29e229a9",
       "version_major": 2,
       "version_minor": 0
      },
      "text/plain": [
       "  0%|          | 0/10 [00:00<?, ?it/s]"
      ]
     },
     "metadata": {},
     "output_type": "display_data"
    },
    {
     "name": "stderr",
     "output_type": "stream",
     "text": [
      "/var/folders/n5/zftt7r7n09j715hq4n1wqyjmmqxvb8/T/ipykernel_87971/1174737086.py:78: SettingWithCopyWarning: \n",
      "A value is trying to be set on a copy of a slice from a DataFrame.\n",
      "Try using .loc[row_indexer,col_indexer] = value instead\n",
      "\n",
      "See the caveats in the documentation: https://pandas.pydata.org/pandas-docs/stable/user_guide/indexing.html#returning-a-view-versus-a-copy\n",
      "  new_df[new_feature_name] = count_time_no_event(targets[col].shift().fillna(False))\n",
      "/var/folders/n5/zftt7r7n09j715hq4n1wqyjmmqxvb8/T/ipykernel_87971/1174737086.py:78: SettingWithCopyWarning: \n",
      "A value is trying to be set on a copy of a slice from a DataFrame.\n",
      "Try using .loc[row_indexer,col_indexer] = value instead\n",
      "\n",
      "See the caveats in the documentation: https://pandas.pydata.org/pandas-docs/stable/user_guide/indexing.html#returning-a-view-versus-a-copy\n",
      "  new_df[new_feature_name] = count_time_no_event(targets[col].shift().fillna(False))\n",
      "/var/folders/n5/zftt7r7n09j715hq4n1wqyjmmqxvb8/T/ipykernel_87971/1174737086.py:78: SettingWithCopyWarning: \n",
      "A value is trying to be set on a copy of a slice from a DataFrame.\n",
      "Try using .loc[row_indexer,col_indexer] = value instead\n",
      "\n",
      "See the caveats in the documentation: https://pandas.pydata.org/pandas-docs/stable/user_guide/indexing.html#returning-a-view-versus-a-copy\n",
      "  new_df[new_feature_name] = count_time_no_event(targets[col].shift().fillna(False))\n",
      "/var/folders/n5/zftt7r7n09j715hq4n1wqyjmmqxvb8/T/ipykernel_87971/1174737086.py:78: SettingWithCopyWarning: \n",
      "A value is trying to be set on a copy of a slice from a DataFrame.\n",
      "Try using .loc[row_indexer,col_indexer] = value instead\n",
      "\n",
      "See the caveats in the documentation: https://pandas.pydata.org/pandas-docs/stable/user_guide/indexing.html#returning-a-view-versus-a-copy\n",
      "  new_df[new_feature_name] = count_time_no_event(targets[col].shift().fillna(False))\n",
      "/var/folders/n5/zftt7r7n09j715hq4n1wqyjmmqxvb8/T/ipykernel_87971/1174737086.py:78: SettingWithCopyWarning: \n",
      "A value is trying to be set on a copy of a slice from a DataFrame.\n",
      "Try using .loc[row_indexer,col_indexer] = value instead\n",
      "\n",
      "See the caveats in the documentation: https://pandas.pydata.org/pandas-docs/stable/user_guide/indexing.html#returning-a-view-versus-a-copy\n",
      "  new_df[new_feature_name] = count_time_no_event(targets[col].shift().fillna(False))\n",
      "/var/folders/n5/zftt7r7n09j715hq4n1wqyjmmqxvb8/T/ipykernel_87971/1174737086.py:78: SettingWithCopyWarning: \n",
      "A value is trying to be set on a copy of a slice from a DataFrame.\n",
      "Try using .loc[row_indexer,col_indexer] = value instead\n",
      "\n",
      "See the caveats in the documentation: https://pandas.pydata.org/pandas-docs/stable/user_guide/indexing.html#returning-a-view-versus-a-copy\n",
      "  new_df[new_feature_name] = count_time_no_event(targets[col].shift().fillna(False))\n",
      "/var/folders/n5/zftt7r7n09j715hq4n1wqyjmmqxvb8/T/ipykernel_87971/1174737086.py:78: SettingWithCopyWarning: \n",
      "A value is trying to be set on a copy of a slice from a DataFrame.\n",
      "Try using .loc[row_indexer,col_indexer] = value instead\n",
      "\n",
      "See the caveats in the documentation: https://pandas.pydata.org/pandas-docs/stable/user_guide/indexing.html#returning-a-view-versus-a-copy\n",
      "  new_df[new_feature_name] = count_time_no_event(targets[col].shift().fillna(False))\n",
      "/var/folders/n5/zftt7r7n09j715hq4n1wqyjmmqxvb8/T/ipykernel_87971/1174737086.py:78: SettingWithCopyWarning: \n",
      "A value is trying to be set on a copy of a slice from a DataFrame.\n",
      "Try using .loc[row_indexer,col_indexer] = value instead\n",
      "\n",
      "See the caveats in the documentation: https://pandas.pydata.org/pandas-docs/stable/user_guide/indexing.html#returning-a-view-versus-a-copy\n",
      "  new_df[new_feature_name] = count_time_no_event(targets[col].shift().fillna(False))\n",
      "2022-12-12 02:29:04.755 | INFO     | __main__:make_features_for_station:82 - Window features\n"
     ]
    },
    {
     "data": {
      "application/vnd.jupyter.widget-view+json": {
       "model_id": "fc325a8e620f4384934fdb4b94cc1769",
       "version_major": 2,
       "version_minor": 0
      },
      "text/plain": [
       "  0%|          | 0/3 [00:00<?, ?it/s]"
      ]
     },
     "metadata": {},
     "output_type": "display_data"
    },
    {
     "name": "stderr",
     "output_type": "stream",
     "text": [
      "/var/folders/n5/zftt7r7n09j715hq4n1wqyjmmqxvb8/T/ipykernel_87971/1174737086.py:57: SettingWithCopyWarning: \n",
      "A value is trying to be set on a copy of a slice from a DataFrame\n",
      "\n",
      "See the caveats in the documentation: https://pandas.pydata.org/pandas-docs/stable/user_guide/indexing.html#returning-a-view-versus-a-copy\n",
      "  targets.sort_values(\"local_time\", inplace=True)\n",
      "2022-12-12 02:29:31.515 | INFO     | __main__:make_features_for_station:66 - Coding date as (sin, cos)\n",
      "/var/folders/n5/zftt7r7n09j715hq4n1wqyjmmqxvb8/T/ipykernel_87971/1174737086.py:67: SettingWithCopyWarning: \n",
      "A value is trying to be set on a copy of a slice from a DataFrame.\n",
      "Try using .loc[row_indexer,col_indexer] = value instead\n",
      "\n",
      "See the caveats in the documentation: https://pandas.pydata.org/pandas-docs/stable/user_guide/indexing.html#returning-a-view-versus-a-copy\n",
      "  new_df[\"sin_day_of_year\"] = new_df.local_time.map(lambda x: np.sin(2 * np.pi * x.timetuple().tm_yday / 365))\n",
      "/var/folders/n5/zftt7r7n09j715hq4n1wqyjmmqxvb8/T/ipykernel_87971/1174737086.py:68: SettingWithCopyWarning: \n",
      "A value is trying to be set on a copy of a slice from a DataFrame.\n",
      "Try using .loc[row_indexer,col_indexer] = value instead\n",
      "\n",
      "See the caveats in the documentation: https://pandas.pydata.org/pandas-docs/stable/user_guide/indexing.html#returning-a-view-versus-a-copy\n",
      "  new_df[\"cos_day_of_year\"] = new_df.local_time.map(lambda x: np.cos(2 * np.pi * x.timetuple().tm_yday / 365))\n",
      "/var/folders/n5/zftt7r7n09j715hq4n1wqyjmmqxvb8/T/ipykernel_87971/1174737086.py:69: SettingWithCopyWarning: \n",
      "A value is trying to be set on a copy of a slice from a DataFrame.\n",
      "Try using .loc[row_indexer,col_indexer] = value instead\n",
      "\n",
      "See the caveats in the documentation: https://pandas.pydata.org/pandas-docs/stable/user_guide/indexing.html#returning-a-view-versus-a-copy\n",
      "  new_df[\"sin_time_of_day\"] = new_df.local_time.map(lambda x: np.sin(2 * np.pi * x.timetuple().tm_hour / 24))\n",
      "/var/folders/n5/zftt7r7n09j715hq4n1wqyjmmqxvb8/T/ipykernel_87971/1174737086.py:70: SettingWithCopyWarning: \n",
      "A value is trying to be set on a copy of a slice from a DataFrame.\n",
      "Try using .loc[row_indexer,col_indexer] = value instead\n",
      "\n",
      "See the caveats in the documentation: https://pandas.pydata.org/pandas-docs/stable/user_guide/indexing.html#returning-a-view-versus-a-copy\n",
      "  new_df[\"cos_time_of_day\"] = new_df.local_time.map(lambda x: np.cos(2 * np.pi * x.timetuple().tm_hour / 24))\n",
      "2022-12-12 02:29:31.941 | INFO     | __main__:make_features_for_station:73 - Counting time without events\n"
     ]
    },
    {
     "data": {
      "application/vnd.jupyter.widget-view+json": {
       "model_id": "e3aeb57b80d24278badeda47be6e2d21",
       "version_major": 2,
       "version_minor": 0
      },
      "text/plain": [
       "  0%|          | 0/10 [00:00<?, ?it/s]"
      ]
     },
     "metadata": {},
     "output_type": "display_data"
    },
    {
     "name": "stderr",
     "output_type": "stream",
     "text": [
      "/var/folders/n5/zftt7r7n09j715hq4n1wqyjmmqxvb8/T/ipykernel_87971/1174737086.py:78: SettingWithCopyWarning: \n",
      "A value is trying to be set on a copy of a slice from a DataFrame.\n",
      "Try using .loc[row_indexer,col_indexer] = value instead\n",
      "\n",
      "See the caveats in the documentation: https://pandas.pydata.org/pandas-docs/stable/user_guide/indexing.html#returning-a-view-versus-a-copy\n",
      "  new_df[new_feature_name] = count_time_no_event(targets[col].shift().fillna(False))\n",
      "/var/folders/n5/zftt7r7n09j715hq4n1wqyjmmqxvb8/T/ipykernel_87971/1174737086.py:78: SettingWithCopyWarning: \n",
      "A value is trying to be set on a copy of a slice from a DataFrame.\n",
      "Try using .loc[row_indexer,col_indexer] = value instead\n",
      "\n",
      "See the caveats in the documentation: https://pandas.pydata.org/pandas-docs/stable/user_guide/indexing.html#returning-a-view-versus-a-copy\n",
      "  new_df[new_feature_name] = count_time_no_event(targets[col].shift().fillna(False))\n",
      "/var/folders/n5/zftt7r7n09j715hq4n1wqyjmmqxvb8/T/ipykernel_87971/1174737086.py:78: SettingWithCopyWarning: \n",
      "A value is trying to be set on a copy of a slice from a DataFrame.\n",
      "Try using .loc[row_indexer,col_indexer] = value instead\n",
      "\n",
      "See the caveats in the documentation: https://pandas.pydata.org/pandas-docs/stable/user_guide/indexing.html#returning-a-view-versus-a-copy\n",
      "  new_df[new_feature_name] = count_time_no_event(targets[col].shift().fillna(False))\n",
      "/var/folders/n5/zftt7r7n09j715hq4n1wqyjmmqxvb8/T/ipykernel_87971/1174737086.py:78: SettingWithCopyWarning: \n",
      "A value is trying to be set on a copy of a slice from a DataFrame.\n",
      "Try using .loc[row_indexer,col_indexer] = value instead\n",
      "\n",
      "See the caveats in the documentation: https://pandas.pydata.org/pandas-docs/stable/user_guide/indexing.html#returning-a-view-versus-a-copy\n",
      "  new_df[new_feature_name] = count_time_no_event(targets[col].shift().fillna(False))\n",
      "/var/folders/n5/zftt7r7n09j715hq4n1wqyjmmqxvb8/T/ipykernel_87971/1174737086.py:78: SettingWithCopyWarning: \n",
      "A value is trying to be set on a copy of a slice from a DataFrame.\n",
      "Try using .loc[row_indexer,col_indexer] = value instead\n",
      "\n",
      "See the caveats in the documentation: https://pandas.pydata.org/pandas-docs/stable/user_guide/indexing.html#returning-a-view-versus-a-copy\n",
      "  new_df[new_feature_name] = count_time_no_event(targets[col].shift().fillna(False))\n",
      "/var/folders/n5/zftt7r7n09j715hq4n1wqyjmmqxvb8/T/ipykernel_87971/1174737086.py:78: SettingWithCopyWarning: \n",
      "A value is trying to be set on a copy of a slice from a DataFrame.\n",
      "Try using .loc[row_indexer,col_indexer] = value instead\n",
      "\n",
      "See the caveats in the documentation: https://pandas.pydata.org/pandas-docs/stable/user_guide/indexing.html#returning-a-view-versus-a-copy\n",
      "  new_df[new_feature_name] = count_time_no_event(targets[col].shift().fillna(False))\n",
      "/var/folders/n5/zftt7r7n09j715hq4n1wqyjmmqxvb8/T/ipykernel_87971/1174737086.py:78: SettingWithCopyWarning: \n",
      "A value is trying to be set on a copy of a slice from a DataFrame.\n",
      "Try using .loc[row_indexer,col_indexer] = value instead\n",
      "\n",
      "See the caveats in the documentation: https://pandas.pydata.org/pandas-docs/stable/user_guide/indexing.html#returning-a-view-versus-a-copy\n",
      "  new_df[new_feature_name] = count_time_no_event(targets[col].shift().fillna(False))\n",
      "/var/folders/n5/zftt7r7n09j715hq4n1wqyjmmqxvb8/T/ipykernel_87971/1174737086.py:78: SettingWithCopyWarning: \n",
      "A value is trying to be set on a copy of a slice from a DataFrame.\n",
      "Try using .loc[row_indexer,col_indexer] = value instead\n",
      "\n",
      "See the caveats in the documentation: https://pandas.pydata.org/pandas-docs/stable/user_guide/indexing.html#returning-a-view-versus-a-copy\n",
      "  new_df[new_feature_name] = count_time_no_event(targets[col].shift().fillna(False))\n",
      "2022-12-12 02:29:31.983 | INFO     | __main__:make_features_for_station:82 - Window features\n"
     ]
    },
    {
     "data": {
      "application/vnd.jupyter.widget-view+json": {
       "model_id": "4fc36b37908f47b980d925dc89eba92e",
       "version_major": 2,
       "version_minor": 0
      },
      "text/plain": [
       "  0%|          | 0/3 [00:00<?, ?it/s]"
      ]
     },
     "metadata": {},
     "output_type": "display_data"
    },
    {
     "name": "stderr",
     "output_type": "stream",
     "text": [
      "/var/folders/n5/zftt7r7n09j715hq4n1wqyjmmqxvb8/T/ipykernel_87971/1174737086.py:57: SettingWithCopyWarning: \n",
      "A value is trying to be set on a copy of a slice from a DataFrame\n",
      "\n",
      "See the caveats in the documentation: https://pandas.pydata.org/pandas-docs/stable/user_guide/indexing.html#returning-a-view-versus-a-copy\n",
      "  targets.sort_values(\"local_time\", inplace=True)\n",
      "2022-12-12 02:29:58.720 | INFO     | __main__:make_features_for_station:66 - Coding date as (sin, cos)\n",
      "/var/folders/n5/zftt7r7n09j715hq4n1wqyjmmqxvb8/T/ipykernel_87971/1174737086.py:67: SettingWithCopyWarning: \n",
      "A value is trying to be set on a copy of a slice from a DataFrame.\n",
      "Try using .loc[row_indexer,col_indexer] = value instead\n",
      "\n",
      "See the caveats in the documentation: https://pandas.pydata.org/pandas-docs/stable/user_guide/indexing.html#returning-a-view-versus-a-copy\n",
      "  new_df[\"sin_day_of_year\"] = new_df.local_time.map(lambda x: np.sin(2 * np.pi * x.timetuple().tm_yday / 365))\n",
      "/var/folders/n5/zftt7r7n09j715hq4n1wqyjmmqxvb8/T/ipykernel_87971/1174737086.py:68: SettingWithCopyWarning: \n",
      "A value is trying to be set on a copy of a slice from a DataFrame.\n",
      "Try using .loc[row_indexer,col_indexer] = value instead\n",
      "\n",
      "See the caveats in the documentation: https://pandas.pydata.org/pandas-docs/stable/user_guide/indexing.html#returning-a-view-versus-a-copy\n",
      "  new_df[\"cos_day_of_year\"] = new_df.local_time.map(lambda x: np.cos(2 * np.pi * x.timetuple().tm_yday / 365))\n",
      "/var/folders/n5/zftt7r7n09j715hq4n1wqyjmmqxvb8/T/ipykernel_87971/1174737086.py:69: SettingWithCopyWarning: \n",
      "A value is trying to be set on a copy of a slice from a DataFrame.\n",
      "Try using .loc[row_indexer,col_indexer] = value instead\n",
      "\n",
      "See the caveats in the documentation: https://pandas.pydata.org/pandas-docs/stable/user_guide/indexing.html#returning-a-view-versus-a-copy\n",
      "  new_df[\"sin_time_of_day\"] = new_df.local_time.map(lambda x: np.sin(2 * np.pi * x.timetuple().tm_hour / 24))\n",
      "/var/folders/n5/zftt7r7n09j715hq4n1wqyjmmqxvb8/T/ipykernel_87971/1174737086.py:70: SettingWithCopyWarning: \n",
      "A value is trying to be set on a copy of a slice from a DataFrame.\n",
      "Try using .loc[row_indexer,col_indexer] = value instead\n",
      "\n",
      "See the caveats in the documentation: https://pandas.pydata.org/pandas-docs/stable/user_guide/indexing.html#returning-a-view-versus-a-copy\n",
      "  new_df[\"cos_time_of_day\"] = new_df.local_time.map(lambda x: np.cos(2 * np.pi * x.timetuple().tm_hour / 24))\n",
      "2022-12-12 02:29:59.147 | INFO     | __main__:make_features_for_station:73 - Counting time without events\n"
     ]
    },
    {
     "data": {
      "application/vnd.jupyter.widget-view+json": {
       "model_id": "bca41c3d5a8f4fa3bc6fe32b40d4e180",
       "version_major": 2,
       "version_minor": 0
      },
      "text/plain": [
       "  0%|          | 0/10 [00:00<?, ?it/s]"
      ]
     },
     "metadata": {},
     "output_type": "display_data"
    },
    {
     "name": "stderr",
     "output_type": "stream",
     "text": [
      "/var/folders/n5/zftt7r7n09j715hq4n1wqyjmmqxvb8/T/ipykernel_87971/1174737086.py:78: SettingWithCopyWarning: \n",
      "A value is trying to be set on a copy of a slice from a DataFrame.\n",
      "Try using .loc[row_indexer,col_indexer] = value instead\n",
      "\n",
      "See the caveats in the documentation: https://pandas.pydata.org/pandas-docs/stable/user_guide/indexing.html#returning-a-view-versus-a-copy\n",
      "  new_df[new_feature_name] = count_time_no_event(targets[col].shift().fillna(False))\n",
      "/var/folders/n5/zftt7r7n09j715hq4n1wqyjmmqxvb8/T/ipykernel_87971/1174737086.py:78: SettingWithCopyWarning: \n",
      "A value is trying to be set on a copy of a slice from a DataFrame.\n",
      "Try using .loc[row_indexer,col_indexer] = value instead\n",
      "\n",
      "See the caveats in the documentation: https://pandas.pydata.org/pandas-docs/stable/user_guide/indexing.html#returning-a-view-versus-a-copy\n",
      "  new_df[new_feature_name] = count_time_no_event(targets[col].shift().fillna(False))\n",
      "/var/folders/n5/zftt7r7n09j715hq4n1wqyjmmqxvb8/T/ipykernel_87971/1174737086.py:78: SettingWithCopyWarning: \n",
      "A value is trying to be set on a copy of a slice from a DataFrame.\n",
      "Try using .loc[row_indexer,col_indexer] = value instead\n",
      "\n",
      "See the caveats in the documentation: https://pandas.pydata.org/pandas-docs/stable/user_guide/indexing.html#returning-a-view-versus-a-copy\n",
      "  new_df[new_feature_name] = count_time_no_event(targets[col].shift().fillna(False))\n",
      "/var/folders/n5/zftt7r7n09j715hq4n1wqyjmmqxvb8/T/ipykernel_87971/1174737086.py:78: SettingWithCopyWarning: \n",
      "A value is trying to be set on a copy of a slice from a DataFrame.\n",
      "Try using .loc[row_indexer,col_indexer] = value instead\n",
      "\n",
      "See the caveats in the documentation: https://pandas.pydata.org/pandas-docs/stable/user_guide/indexing.html#returning-a-view-versus-a-copy\n",
      "  new_df[new_feature_name] = count_time_no_event(targets[col].shift().fillna(False))\n",
      "/var/folders/n5/zftt7r7n09j715hq4n1wqyjmmqxvb8/T/ipykernel_87971/1174737086.py:78: SettingWithCopyWarning: \n",
      "A value is trying to be set on a copy of a slice from a DataFrame.\n",
      "Try using .loc[row_indexer,col_indexer] = value instead\n",
      "\n",
      "See the caveats in the documentation: https://pandas.pydata.org/pandas-docs/stable/user_guide/indexing.html#returning-a-view-versus-a-copy\n",
      "  new_df[new_feature_name] = count_time_no_event(targets[col].shift().fillna(False))\n",
      "/var/folders/n5/zftt7r7n09j715hq4n1wqyjmmqxvb8/T/ipykernel_87971/1174737086.py:78: SettingWithCopyWarning: \n",
      "A value is trying to be set on a copy of a slice from a DataFrame.\n",
      "Try using .loc[row_indexer,col_indexer] = value instead\n",
      "\n",
      "See the caveats in the documentation: https://pandas.pydata.org/pandas-docs/stable/user_guide/indexing.html#returning-a-view-versus-a-copy\n",
      "  new_df[new_feature_name] = count_time_no_event(targets[col].shift().fillna(False))\n",
      "/var/folders/n5/zftt7r7n09j715hq4n1wqyjmmqxvb8/T/ipykernel_87971/1174737086.py:78: SettingWithCopyWarning: \n",
      "A value is trying to be set on a copy of a slice from a DataFrame.\n",
      "Try using .loc[row_indexer,col_indexer] = value instead\n",
      "\n",
      "See the caveats in the documentation: https://pandas.pydata.org/pandas-docs/stable/user_guide/indexing.html#returning-a-view-versus-a-copy\n",
      "  new_df[new_feature_name] = count_time_no_event(targets[col].shift().fillna(False))\n",
      "/var/folders/n5/zftt7r7n09j715hq4n1wqyjmmqxvb8/T/ipykernel_87971/1174737086.py:78: SettingWithCopyWarning: \n",
      "A value is trying to be set on a copy of a slice from a DataFrame.\n",
      "Try using .loc[row_indexer,col_indexer] = value instead\n",
      "\n",
      "See the caveats in the documentation: https://pandas.pydata.org/pandas-docs/stable/user_guide/indexing.html#returning-a-view-versus-a-copy\n",
      "  new_df[new_feature_name] = count_time_no_event(targets[col].shift().fillna(False))\n",
      "2022-12-12 02:29:59.199 | INFO     | __main__:make_features_for_station:82 - Window features\n"
     ]
    },
    {
     "data": {
      "application/vnd.jupyter.widget-view+json": {
       "model_id": "5c4e7f78a4114ebb9247201e727f6bbe",
       "version_major": 2,
       "version_minor": 0
      },
      "text/plain": [
       "  0%|          | 0/3 [00:00<?, ?it/s]"
      ]
     },
     "metadata": {},
     "output_type": "display_data"
    }
   ],
   "source": [
    "prepared_data_list = []\n",
    "prepared_target_list = []\n",
    "\n",
    "\n",
    "weather_train_x[numeric_features] = weather_train_x[numeric_features].astype(float)\n",
    "\n",
    "\n",
    "for key, data in tqdm(weather_train_x.groupby(\"station_id\")):\n",
    "    one_station_y = weather_train_y[weather_train_y.station_id == key] \n",
    "\n",
    "    data_x, data_y = make_features_for_station(data, one_station_y, numeric_features, categorial_features, [8, 80, 360])\n",
    "\n",
    "    prepared_data_list.append(data_x)\n",
    "    prepared_target_list.append(data_y)"
   ]
  },
  {
   "cell_type": "code",
   "execution_count": 55,
   "id": "d5f9e385",
   "metadata": {
    "cellId": "c5sj0fctujvpg1nw5mbdfd"
   },
   "outputs": [],
   "source": [
    "all_train = pd.concat(prepared_data_list, ignore_index=True)\n",
    "all_target = pd.concat(prepared_target_list, ignore_index=True)"
   ]
  },
  {
   "cell_type": "code",
   "execution_count": 56,
   "id": "3c00b50d",
   "metadata": {
    "cellId": "ur3g0a6xsw0b5ohc1auun"
   },
   "outputs": [],
   "source": [
    "all_train.to_csv(\"../data/my_ready_dataset.csv\", index=False)"
   ]
  },
  {
   "cell_type": "code",
   "execution_count": 57,
   "id": "066d4d72",
   "metadata": {
    "cellId": "eclb20q467gpvi7neskicj"
   },
   "outputs": [],
   "source": [
    "all_target.to_csv(\"../data/my_ready_targets.csv\", index=False)"
   ]
  }
 ],
 "metadata": {
  "kernelspec": {
   "display_name": "Python 3 (ipykernel)",
   "language": "python",
   "name": "python3"
  },
  "language_info": {
   "codemirror_mode": {
    "name": "ipython",
    "version": 3
   },
   "file_extension": ".py",
   "mimetype": "text/x-python",
   "name": "python",
   "nbconvert_exporter": "python",
   "pygments_lexer": "ipython3",
   "version": "3.9.6"
  },
  "notebookId": "65cbe5e9-7b37-415a-9f46-adecb7c54eb4",
  "notebookPath": "ForecastingExtremeWeather/notebooks/bulat_work.ipynb"
 },
 "nbformat": 4,
 "nbformat_minor": 5
}
